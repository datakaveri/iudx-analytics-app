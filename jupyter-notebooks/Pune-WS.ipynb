{
 "cells": [
  {
   "cell_type": "markdown",
   "metadata": {},
   "source": [
    "# Pune Weather Stations"
   ]
  },
  {
   "cell_type": "markdown",
   "metadata": {},
   "source": [
    "## Import necessary packages"
   ]
  },
  {
   "cell_type": "code",
   "execution_count": 148,
   "metadata": {},
   "outputs": [],
   "source": [
    "from iudx.entity.Entity import Entity\n",
    "\n",
    "import pandas as pd\n",
    "import numpy as np\n",
    "import json\n",
    "from datetime import date, datetime, timedelta\n",
    "\n",
    "import matplotlib.pyplot as plt\n",
    "import plotly.express as px\n",
    "import plotly.graph_objects as go\n",
    "import folium\n",
    "from folium import plugins\n",
    "from scipy.interpolate import griddata\n",
    "import geojsoncontour\n",
    "\n",
    "import ipywidgets as widgets\n",
    "from ipywidgets import Layout\n",
    "\n",
    "import warnings"
   ]
  },
  {
   "cell_type": "code",
   "execution_count": 149,
   "metadata": {},
   "outputs": [],
   "source": [
    "aqm_id=\"datakaveri.org/04a15c9960ffda227e9546f3f46e629e1fe4132b/rs.iudx.org.in/pune-env-aqm\"\n",
    "ws_id=\"datakaveri.org/04a15c9960ffda227e9546f3f46e629e1fe4132b/rs.iudx.org.in/pune-env-weather\"\n",
    "ndays=3"
   ]
  },
  {
   "cell_type": "markdown",
   "metadata": {},
   "source": [
    "### Fetch and prepare weather Stations data"
   ]
  },
  {
   "cell_type": "code",
   "execution_count": 150,
   "metadata": {},
   "outputs": [],
   "source": [
    "entity=Entity(entity_id=ws_id)\n",
    "latest_measures=entity.latest().reset_index(drop=True)\n",
    "end_time = latest_measures['observationDateTime'].sort_values(ascending=False).reset_index(drop=True)[0]\n",
    "start_time = (end_time - timedelta(days=ndays,hours=6))\n",
    "measures = entity.during_search(\n",
    "    start_time=start_time.strftime(\"%Y-%m-%dT%H:%M:%SZ\"),\n",
    "    end_time=end_time.strftime(\"%Y-%m-%dT%H:%M:%SZ\"),\n",
    ")\n",
    "measures['observationDateTime']=measures['observationDateTime'].apply(lambda x:x.tz_localize(None))\n",
    "latest_measures['observationDateTime']=latest_measures['observationDateTime'].apply(lambda x:x.tz_localize(None))\n",
    "rs_coordinates={}\n",
    "rs_label={}\n",
    "for res in entity.resources:\n",
    "    rs_coordinates[res['id']]=res['location']['geometry']['coordinates']\n",
    "    rs_label[res['id']]=res['name']\n",
    "latest_measures['x_co']=latest_measures['id'].apply(lambda id:rs_coordinates[id][0])\n",
    "latest_measures['y_co']=latest_measures['id'].apply(lambda id:rs_coordinates[id][1])\n",
    "measures['x_co']=measures['id'].apply(lambda id:rs_coordinates[id][0])\n",
    "measures['y_co']=measures['id'].apply(lambda id:rs_coordinates[id][1])\n",
    "measures['label']=measures['id'].apply(lambda id:rs_label[id])\n",
    "latest_measures['label']=measures['id'].apply(lambda id:rs_label[id])"
   ]
  },
  {
   "cell_type": "code",
   "execution_count": 151,
   "metadata": {
    "scrolled": false
   },
   "outputs": [
    {
     "data": {
      "text/plain": [
       "airQualityIndex                   0\n",
       "id                                0\n",
       "uv                              710\n",
       "aqiMajorPollutant                 0\n",
       "relativeHumidityForecast        142\n",
       "deviceName                        0\n",
       "airQualityIndexForecast           0\n",
       "airTemperature                  710\n",
       "relativeHumidity                710\n",
       "observationDateTime               0\n",
       "precipitation                   281\n",
       "airTemperatureForecast          142\n",
       "aqiMajorPollutantForecast         0\n",
       "precipitationForecast           142\n",
       "airTemperature.avgOverTime      349\n",
       "relativeHumidity.avgOverTime    349\n",
       "uv.avgOverTime                  568\n",
       "x_co                              0\n",
       "y_co                              0\n",
       "label                             0\n",
       "dtype: int64"
      ]
     },
     "execution_count": 151,
     "metadata": {},
     "output_type": "execute_result"
    }
   ],
   "source": [
    "measures.isnull().sum()"
   ]
  },
  {
   "cell_type": "markdown",
   "metadata": {},
   "source": [
    "## Visualizations"
   ]
  },
  {
   "cell_type": "code",
   "execution_count": 152,
   "metadata": {},
   "outputs": [
    {
     "data": {
      "application/vnd.jupyter.widget-view+json": {
       "model_id": "e9ef333449c24968a6143976b3104da5",
       "version_major": 2,
       "version_minor": 0
      },
      "text/plain": [
       "HTML(value='<center style=\"font-size:14px\">Temporal sensor reading for \\n AIRQUALITYINDEX from 2021-03-26 to 2…"
      ]
     },
     "metadata": {},
     "output_type": "display_data"
    },
    {
     "data": {
      "application/vnd.plotly.v1+json": {
       "config": {
        "plotlyServerURL": "https://plot.ly"
       },
       "data": [
        {
         "alignmentgroup": "True",
         "boxpoints": "all",
         "hovertemplate": "day=%{x}<br>airQualityIndex=%{y}<extra></extra>",
         "legendgroup": "",
         "marker": {
          "color": "#636efa"
         },
         "name": "",
         "notched": false,
         "offsetgroup": "",
         "orientation": "v",
         "showlegend": false,
         "type": "box",
         "x": [
          "Friday",
          "Friday",
          "Friday",
          "Friday",
          "Friday",
          "Friday",
          "Friday",
          "Friday",
          "Friday",
          "Friday",
          "Friday",
          "Saturday",
          "Saturday",
          "Saturday",
          "Saturday",
          "Saturday",
          "Saturday",
          "Saturday",
          "Saturday",
          "Saturday",
          "Saturday",
          "Saturday",
          "Saturday",
          "Saturday",
          "Saturday",
          "Saturday",
          "Saturday",
          "Saturday",
          "Saturday",
          "Saturday",
          "Saturday",
          "Saturday",
          "Saturday",
          "Saturday",
          "Sunday",
          "Sunday",
          "Sunday",
          "Sunday",
          "Sunday",
          "Sunday",
          "Sunday",
          "Sunday",
          "Sunday",
          "Sunday",
          "Sunday",
          "Sunday",
          "Sunday",
          "Sunday",
          "Sunday",
          "Sunday",
          "Sunday",
          "Sunday",
          "Sunday",
          "Sunday",
          "Sunday",
          "Sunday",
          "Sunday",
          "Monday",
          "Monday",
          "Monday",
          "Monday",
          "Monday",
          "Monday",
          "Monday",
          "Monday",
          "Monday",
          "Monday",
          "Monday",
          "Monday",
          "Monday",
          "Monday"
         ],
         "x0": " ",
         "xaxis": "x",
         "y": [
          106,
          106,
          106,
          107,
          108,
          108,
          109,
          109,
          110,
          116,
          124,
          131,
          146,
          154,
          162,
          167,
          172,
          175,
          174,
          175,
          175,
          176,
          176,
          175,
          175,
          177,
          176,
          176,
          175,
          174,
          179,
          180,
          177,
          173,
          167,
          155,
          144,
          133,
          125,
          125,
          125,
          125,
          125,
          125,
          125,
          125,
          125,
          125,
          125,
          125,
          125,
          125,
          125,
          125,
          125,
          125,
          125,
          125,
          125,
          125,
          125,
          125,
          125,
          125,
          125,
          125,
          125,
          201,
          203,
          201,
          201
         ],
         "y0": " ",
         "yaxis": "y"
        }
       ],
       "layout": {
        "boxmode": "group",
        "font": {
         "size": 12
        },
        "legend": {
         "tracegroupgap": 0
        },
        "margin": {
         "t": 60
        },
        "template": {
         "data": {
          "bar": [
           {
            "error_x": {
             "color": "#2a3f5f"
            },
            "error_y": {
             "color": "#2a3f5f"
            },
            "marker": {
             "line": {
              "color": "#E5ECF6",
              "width": 0.5
             }
            },
            "type": "bar"
           }
          ],
          "barpolar": [
           {
            "marker": {
             "line": {
              "color": "#E5ECF6",
              "width": 0.5
             }
            },
            "type": "barpolar"
           }
          ],
          "carpet": [
           {
            "aaxis": {
             "endlinecolor": "#2a3f5f",
             "gridcolor": "white",
             "linecolor": "white",
             "minorgridcolor": "white",
             "startlinecolor": "#2a3f5f"
            },
            "baxis": {
             "endlinecolor": "#2a3f5f",
             "gridcolor": "white",
             "linecolor": "white",
             "minorgridcolor": "white",
             "startlinecolor": "#2a3f5f"
            },
            "type": "carpet"
           }
          ],
          "choropleth": [
           {
            "colorbar": {
             "outlinewidth": 0,
             "ticks": ""
            },
            "type": "choropleth"
           }
          ],
          "contour": [
           {
            "colorbar": {
             "outlinewidth": 0,
             "ticks": ""
            },
            "colorscale": [
             [
              0,
              "#0d0887"
             ],
             [
              0.1111111111111111,
              "#46039f"
             ],
             [
              0.2222222222222222,
              "#7201a8"
             ],
             [
              0.3333333333333333,
              "#9c179e"
             ],
             [
              0.4444444444444444,
              "#bd3786"
             ],
             [
              0.5555555555555556,
              "#d8576b"
             ],
             [
              0.6666666666666666,
              "#ed7953"
             ],
             [
              0.7777777777777778,
              "#fb9f3a"
             ],
             [
              0.8888888888888888,
              "#fdca26"
             ],
             [
              1,
              "#f0f921"
             ]
            ],
            "type": "contour"
           }
          ],
          "contourcarpet": [
           {
            "colorbar": {
             "outlinewidth": 0,
             "ticks": ""
            },
            "type": "contourcarpet"
           }
          ],
          "heatmap": [
           {
            "colorbar": {
             "outlinewidth": 0,
             "ticks": ""
            },
            "colorscale": [
             [
              0,
              "#0d0887"
             ],
             [
              0.1111111111111111,
              "#46039f"
             ],
             [
              0.2222222222222222,
              "#7201a8"
             ],
             [
              0.3333333333333333,
              "#9c179e"
             ],
             [
              0.4444444444444444,
              "#bd3786"
             ],
             [
              0.5555555555555556,
              "#d8576b"
             ],
             [
              0.6666666666666666,
              "#ed7953"
             ],
             [
              0.7777777777777778,
              "#fb9f3a"
             ],
             [
              0.8888888888888888,
              "#fdca26"
             ],
             [
              1,
              "#f0f921"
             ]
            ],
            "type": "heatmap"
           }
          ],
          "heatmapgl": [
           {
            "colorbar": {
             "outlinewidth": 0,
             "ticks": ""
            },
            "colorscale": [
             [
              0,
              "#0d0887"
             ],
             [
              0.1111111111111111,
              "#46039f"
             ],
             [
              0.2222222222222222,
              "#7201a8"
             ],
             [
              0.3333333333333333,
              "#9c179e"
             ],
             [
              0.4444444444444444,
              "#bd3786"
             ],
             [
              0.5555555555555556,
              "#d8576b"
             ],
             [
              0.6666666666666666,
              "#ed7953"
             ],
             [
              0.7777777777777778,
              "#fb9f3a"
             ],
             [
              0.8888888888888888,
              "#fdca26"
             ],
             [
              1,
              "#f0f921"
             ]
            ],
            "type": "heatmapgl"
           }
          ],
          "histogram": [
           {
            "marker": {
             "colorbar": {
              "outlinewidth": 0,
              "ticks": ""
             }
            },
            "type": "histogram"
           }
          ],
          "histogram2d": [
           {
            "colorbar": {
             "outlinewidth": 0,
             "ticks": ""
            },
            "colorscale": [
             [
              0,
              "#0d0887"
             ],
             [
              0.1111111111111111,
              "#46039f"
             ],
             [
              0.2222222222222222,
              "#7201a8"
             ],
             [
              0.3333333333333333,
              "#9c179e"
             ],
             [
              0.4444444444444444,
              "#bd3786"
             ],
             [
              0.5555555555555556,
              "#d8576b"
             ],
             [
              0.6666666666666666,
              "#ed7953"
             ],
             [
              0.7777777777777778,
              "#fb9f3a"
             ],
             [
              0.8888888888888888,
              "#fdca26"
             ],
             [
              1,
              "#f0f921"
             ]
            ],
            "type": "histogram2d"
           }
          ],
          "histogram2dcontour": [
           {
            "colorbar": {
             "outlinewidth": 0,
             "ticks": ""
            },
            "colorscale": [
             [
              0,
              "#0d0887"
             ],
             [
              0.1111111111111111,
              "#46039f"
             ],
             [
              0.2222222222222222,
              "#7201a8"
             ],
             [
              0.3333333333333333,
              "#9c179e"
             ],
             [
              0.4444444444444444,
              "#bd3786"
             ],
             [
              0.5555555555555556,
              "#d8576b"
             ],
             [
              0.6666666666666666,
              "#ed7953"
             ],
             [
              0.7777777777777778,
              "#fb9f3a"
             ],
             [
              0.8888888888888888,
              "#fdca26"
             ],
             [
              1,
              "#f0f921"
             ]
            ],
            "type": "histogram2dcontour"
           }
          ],
          "mesh3d": [
           {
            "colorbar": {
             "outlinewidth": 0,
             "ticks": ""
            },
            "type": "mesh3d"
           }
          ],
          "parcoords": [
           {
            "line": {
             "colorbar": {
              "outlinewidth": 0,
              "ticks": ""
             }
            },
            "type": "parcoords"
           }
          ],
          "pie": [
           {
            "automargin": true,
            "type": "pie"
           }
          ],
          "scatter": [
           {
            "marker": {
             "colorbar": {
              "outlinewidth": 0,
              "ticks": ""
             }
            },
            "type": "scatter"
           }
          ],
          "scatter3d": [
           {
            "line": {
             "colorbar": {
              "outlinewidth": 0,
              "ticks": ""
             }
            },
            "marker": {
             "colorbar": {
              "outlinewidth": 0,
              "ticks": ""
             }
            },
            "type": "scatter3d"
           }
          ],
          "scattercarpet": [
           {
            "marker": {
             "colorbar": {
              "outlinewidth": 0,
              "ticks": ""
             }
            },
            "type": "scattercarpet"
           }
          ],
          "scattergeo": [
           {
            "marker": {
             "colorbar": {
              "outlinewidth": 0,
              "ticks": ""
             }
            },
            "type": "scattergeo"
           }
          ],
          "scattergl": [
           {
            "marker": {
             "colorbar": {
              "outlinewidth": 0,
              "ticks": ""
             }
            },
            "type": "scattergl"
           }
          ],
          "scattermapbox": [
           {
            "marker": {
             "colorbar": {
              "outlinewidth": 0,
              "ticks": ""
             }
            },
            "type": "scattermapbox"
           }
          ],
          "scatterpolar": [
           {
            "marker": {
             "colorbar": {
              "outlinewidth": 0,
              "ticks": ""
             }
            },
            "type": "scatterpolar"
           }
          ],
          "scatterpolargl": [
           {
            "marker": {
             "colorbar": {
              "outlinewidth": 0,
              "ticks": ""
             }
            },
            "type": "scatterpolargl"
           }
          ],
          "scatterternary": [
           {
            "marker": {
             "colorbar": {
              "outlinewidth": 0,
              "ticks": ""
             }
            },
            "type": "scatterternary"
           }
          ],
          "surface": [
           {
            "colorbar": {
             "outlinewidth": 0,
             "ticks": ""
            },
            "colorscale": [
             [
              0,
              "#0d0887"
             ],
             [
              0.1111111111111111,
              "#46039f"
             ],
             [
              0.2222222222222222,
              "#7201a8"
             ],
             [
              0.3333333333333333,
              "#9c179e"
             ],
             [
              0.4444444444444444,
              "#bd3786"
             ],
             [
              0.5555555555555556,
              "#d8576b"
             ],
             [
              0.6666666666666666,
              "#ed7953"
             ],
             [
              0.7777777777777778,
              "#fb9f3a"
             ],
             [
              0.8888888888888888,
              "#fdca26"
             ],
             [
              1,
              "#f0f921"
             ]
            ],
            "type": "surface"
           }
          ],
          "table": [
           {
            "cells": {
             "fill": {
              "color": "#EBF0F8"
             },
             "line": {
              "color": "white"
             }
            },
            "header": {
             "fill": {
              "color": "#C8D4E3"
             },
             "line": {
              "color": "white"
             }
            },
            "type": "table"
           }
          ]
         },
         "layout": {
          "annotationdefaults": {
           "arrowcolor": "#2a3f5f",
           "arrowhead": 0,
           "arrowwidth": 1
          },
          "autotypenumbers": "strict",
          "coloraxis": {
           "colorbar": {
            "outlinewidth": 0,
            "ticks": ""
           }
          },
          "colorscale": {
           "diverging": [
            [
             0,
             "#8e0152"
            ],
            [
             0.1,
             "#c51b7d"
            ],
            [
             0.2,
             "#de77ae"
            ],
            [
             0.3,
             "#f1b6da"
            ],
            [
             0.4,
             "#fde0ef"
            ],
            [
             0.5,
             "#f7f7f7"
            ],
            [
             0.6,
             "#e6f5d0"
            ],
            [
             0.7,
             "#b8e186"
            ],
            [
             0.8,
             "#7fbc41"
            ],
            [
             0.9,
             "#4d9221"
            ],
            [
             1,
             "#276419"
            ]
           ],
           "sequential": [
            [
             0,
             "#0d0887"
            ],
            [
             0.1111111111111111,
             "#46039f"
            ],
            [
             0.2222222222222222,
             "#7201a8"
            ],
            [
             0.3333333333333333,
             "#9c179e"
            ],
            [
             0.4444444444444444,
             "#bd3786"
            ],
            [
             0.5555555555555556,
             "#d8576b"
            ],
            [
             0.6666666666666666,
             "#ed7953"
            ],
            [
             0.7777777777777778,
             "#fb9f3a"
            ],
            [
             0.8888888888888888,
             "#fdca26"
            ],
            [
             1,
             "#f0f921"
            ]
           ],
           "sequentialminus": [
            [
             0,
             "#0d0887"
            ],
            [
             0.1111111111111111,
             "#46039f"
            ],
            [
             0.2222222222222222,
             "#7201a8"
            ],
            [
             0.3333333333333333,
             "#9c179e"
            ],
            [
             0.4444444444444444,
             "#bd3786"
            ],
            [
             0.5555555555555556,
             "#d8576b"
            ],
            [
             0.6666666666666666,
             "#ed7953"
            ],
            [
             0.7777777777777778,
             "#fb9f3a"
            ],
            [
             0.8888888888888888,
             "#fdca26"
            ],
            [
             1,
             "#f0f921"
            ]
           ]
          },
          "colorway": [
           "#636efa",
           "#EF553B",
           "#00cc96",
           "#ab63fa",
           "#FFA15A",
           "#19d3f3",
           "#FF6692",
           "#B6E880",
           "#FF97FF",
           "#FECB52"
          ],
          "font": {
           "color": "#2a3f5f"
          },
          "geo": {
           "bgcolor": "white",
           "lakecolor": "white",
           "landcolor": "#E5ECF6",
           "showlakes": true,
           "showland": true,
           "subunitcolor": "white"
          },
          "hoverlabel": {
           "align": "left"
          },
          "hovermode": "closest",
          "mapbox": {
           "style": "light"
          },
          "paper_bgcolor": "white",
          "plot_bgcolor": "#E5ECF6",
          "polar": {
           "angularaxis": {
            "gridcolor": "white",
            "linecolor": "white",
            "ticks": ""
           },
           "bgcolor": "#E5ECF6",
           "radialaxis": {
            "gridcolor": "white",
            "linecolor": "white",
            "ticks": ""
           }
          },
          "scene": {
           "xaxis": {
            "backgroundcolor": "#E5ECF6",
            "gridcolor": "white",
            "gridwidth": 2,
            "linecolor": "white",
            "showbackground": true,
            "ticks": "",
            "zerolinecolor": "white"
           },
           "yaxis": {
            "backgroundcolor": "#E5ECF6",
            "gridcolor": "white",
            "gridwidth": 2,
            "linecolor": "white",
            "showbackground": true,
            "ticks": "",
            "zerolinecolor": "white"
           },
           "zaxis": {
            "backgroundcolor": "#E5ECF6",
            "gridcolor": "white",
            "gridwidth": 2,
            "linecolor": "white",
            "showbackground": true,
            "ticks": "",
            "zerolinecolor": "white"
           }
          },
          "shapedefaults": {
           "line": {
            "color": "#2a3f5f"
           }
          },
          "ternary": {
           "aaxis": {
            "gridcolor": "white",
            "linecolor": "white",
            "ticks": ""
           },
           "baxis": {
            "gridcolor": "white",
            "linecolor": "white",
            "ticks": ""
           },
           "bgcolor": "#E5ECF6",
           "caxis": {
            "gridcolor": "white",
            "linecolor": "white",
            "ticks": ""
           }
          },
          "title": {
           "x": 0.05
          },
          "xaxis": {
           "automargin": true,
           "gridcolor": "white",
           "linecolor": "white",
           "ticks": "",
           "title": {
            "standoff": 15
           },
           "zerolinecolor": "white",
           "zerolinewidth": 2
          },
          "yaxis": {
           "automargin": true,
           "gridcolor": "white",
           "linecolor": "white",
           "ticks": "",
           "title": {
            "standoff": 15
           },
           "zerolinecolor": "white",
           "zerolinewidth": 2
          }
         }
        },
        "xaxis": {
         "anchor": "y",
         "domain": [
          0,
          1
         ],
         "title": {
          "text": "Observed Timestamp"
         }
        },
        "yaxis": {
         "anchor": "x",
         "domain": [
          0,
          1
         ],
         "title": {
          "text": "Sensor reading for AIRQUALITYINDEX"
         }
        }
       }
      },
      "text/html": [
       "<div>                            <div id=\"f668c2a9-13bc-448b-80d0-e57448b6eb7b\" class=\"plotly-graph-div\" style=\"height:525px; width:100%;\"></div>            <script type=\"text/javascript\">                require([\"plotly\"], function(Plotly) {                    window.PLOTLYENV=window.PLOTLYENV || {};                                    if (document.getElementById(\"f668c2a9-13bc-448b-80d0-e57448b6eb7b\")) {                    Plotly.newPlot(                        \"f668c2a9-13bc-448b-80d0-e57448b6eb7b\",                        [{\"alignmentgroup\": \"True\", \"boxpoints\": \"all\", \"hovertemplate\": \"day=%{x}<br>airQualityIndex=%{y}<extra></extra>\", \"legendgroup\": \"\", \"marker\": {\"color\": \"#636efa\"}, \"name\": \"\", \"notched\": false, \"offsetgroup\": \"\", \"orientation\": \"v\", \"showlegend\": false, \"type\": \"box\", \"x\": [\"Friday\", \"Friday\", \"Friday\", \"Friday\", \"Friday\", \"Friday\", \"Friday\", \"Friday\", \"Friday\", \"Friday\", \"Friday\", \"Saturday\", \"Saturday\", \"Saturday\", \"Saturday\", \"Saturday\", \"Saturday\", \"Saturday\", \"Saturday\", \"Saturday\", \"Saturday\", \"Saturday\", \"Saturday\", \"Saturday\", \"Saturday\", \"Saturday\", \"Saturday\", \"Saturday\", \"Saturday\", \"Saturday\", \"Saturday\", \"Saturday\", \"Saturday\", \"Saturday\", \"Sunday\", \"Sunday\", \"Sunday\", \"Sunday\", \"Sunday\", \"Sunday\", \"Sunday\", \"Sunday\", \"Sunday\", \"Sunday\", \"Sunday\", \"Sunday\", \"Sunday\", \"Sunday\", \"Sunday\", \"Sunday\", \"Sunday\", \"Sunday\", \"Sunday\", \"Sunday\", \"Sunday\", \"Sunday\", \"Sunday\", \"Monday\", \"Monday\", \"Monday\", \"Monday\", \"Monday\", \"Monday\", \"Monday\", \"Monday\", \"Monday\", \"Monday\", \"Monday\", \"Monday\", \"Monday\", \"Monday\"], \"x0\": \" \", \"xaxis\": \"x\", \"y\": [106, 106, 106, 107, 108, 108, 109, 109, 110, 116, 124, 131, 146, 154, 162, 167, 172, 175, 174, 175, 175, 176, 176, 175, 175, 177, 176, 176, 175, 174, 179, 180, 177, 173, 167, 155, 144, 133, 125, 125, 125, 125, 125, 125, 125, 125, 125, 125, 125, 125, 125, 125, 125, 125, 125, 125, 125, 125, 125, 125, 125, 125, 125, 125, 125, 125, 125, 201, 203, 201, 201], \"y0\": \" \", \"yaxis\": \"y\"}],                        {\"boxmode\": \"group\", \"font\": {\"size\": 12}, \"legend\": {\"tracegroupgap\": 0}, \"margin\": {\"t\": 60}, \"template\": {\"data\": {\"bar\": [{\"error_x\": {\"color\": \"#2a3f5f\"}, \"error_y\": {\"color\": \"#2a3f5f\"}, \"marker\": {\"line\": {\"color\": \"#E5ECF6\", \"width\": 0.5}}, \"type\": \"bar\"}], \"barpolar\": [{\"marker\": {\"line\": {\"color\": \"#E5ECF6\", \"width\": 0.5}}, \"type\": \"barpolar\"}], \"carpet\": [{\"aaxis\": {\"endlinecolor\": \"#2a3f5f\", \"gridcolor\": \"white\", \"linecolor\": \"white\", \"minorgridcolor\": \"white\", \"startlinecolor\": \"#2a3f5f\"}, \"baxis\": {\"endlinecolor\": \"#2a3f5f\", \"gridcolor\": \"white\", \"linecolor\": \"white\", \"minorgridcolor\": \"white\", \"startlinecolor\": \"#2a3f5f\"}, \"type\": \"carpet\"}], \"choropleth\": [{\"colorbar\": {\"outlinewidth\": 0, \"ticks\": \"\"}, \"type\": \"choropleth\"}], \"contour\": [{\"colorbar\": {\"outlinewidth\": 0, \"ticks\": \"\"}, \"colorscale\": [[0.0, \"#0d0887\"], [0.1111111111111111, \"#46039f\"], [0.2222222222222222, \"#7201a8\"], [0.3333333333333333, \"#9c179e\"], [0.4444444444444444, \"#bd3786\"], [0.5555555555555556, \"#d8576b\"], [0.6666666666666666, \"#ed7953\"], [0.7777777777777778, \"#fb9f3a\"], [0.8888888888888888, \"#fdca26\"], [1.0, \"#f0f921\"]], \"type\": \"contour\"}], \"contourcarpet\": [{\"colorbar\": {\"outlinewidth\": 0, \"ticks\": \"\"}, \"type\": \"contourcarpet\"}], \"heatmap\": [{\"colorbar\": {\"outlinewidth\": 0, \"ticks\": \"\"}, \"colorscale\": [[0.0, \"#0d0887\"], [0.1111111111111111, \"#46039f\"], [0.2222222222222222, \"#7201a8\"], [0.3333333333333333, \"#9c179e\"], [0.4444444444444444, \"#bd3786\"], [0.5555555555555556, \"#d8576b\"], [0.6666666666666666, \"#ed7953\"], [0.7777777777777778, \"#fb9f3a\"], [0.8888888888888888, \"#fdca26\"], [1.0, \"#f0f921\"]], \"type\": \"heatmap\"}], \"heatmapgl\": [{\"colorbar\": {\"outlinewidth\": 0, \"ticks\": \"\"}, \"colorscale\": [[0.0, \"#0d0887\"], [0.1111111111111111, \"#46039f\"], [0.2222222222222222, \"#7201a8\"], [0.3333333333333333, \"#9c179e\"], [0.4444444444444444, \"#bd3786\"], [0.5555555555555556, \"#d8576b\"], [0.6666666666666666, \"#ed7953\"], [0.7777777777777778, \"#fb9f3a\"], [0.8888888888888888, \"#fdca26\"], [1.0, \"#f0f921\"]], \"type\": \"heatmapgl\"}], \"histogram\": [{\"marker\": {\"colorbar\": {\"outlinewidth\": 0, \"ticks\": \"\"}}, \"type\": \"histogram\"}], \"histogram2d\": [{\"colorbar\": {\"outlinewidth\": 0, \"ticks\": \"\"}, \"colorscale\": [[0.0, \"#0d0887\"], [0.1111111111111111, \"#46039f\"], [0.2222222222222222, \"#7201a8\"], [0.3333333333333333, \"#9c179e\"], [0.4444444444444444, \"#bd3786\"], [0.5555555555555556, \"#d8576b\"], [0.6666666666666666, \"#ed7953\"], [0.7777777777777778, \"#fb9f3a\"], [0.8888888888888888, \"#fdca26\"], [1.0, \"#f0f921\"]], \"type\": \"histogram2d\"}], \"histogram2dcontour\": [{\"colorbar\": {\"outlinewidth\": 0, \"ticks\": \"\"}, \"colorscale\": [[0.0, \"#0d0887\"], [0.1111111111111111, \"#46039f\"], [0.2222222222222222, \"#7201a8\"], [0.3333333333333333, \"#9c179e\"], [0.4444444444444444, \"#bd3786\"], [0.5555555555555556, \"#d8576b\"], [0.6666666666666666, \"#ed7953\"], [0.7777777777777778, \"#fb9f3a\"], [0.8888888888888888, \"#fdca26\"], [1.0, \"#f0f921\"]], \"type\": \"histogram2dcontour\"}], \"mesh3d\": [{\"colorbar\": {\"outlinewidth\": 0, \"ticks\": \"\"}, \"type\": \"mesh3d\"}], \"parcoords\": [{\"line\": {\"colorbar\": {\"outlinewidth\": 0, \"ticks\": \"\"}}, \"type\": \"parcoords\"}], \"pie\": [{\"automargin\": true, \"type\": \"pie\"}], \"scatter\": [{\"marker\": {\"colorbar\": {\"outlinewidth\": 0, \"ticks\": \"\"}}, \"type\": \"scatter\"}], \"scatter3d\": [{\"line\": {\"colorbar\": {\"outlinewidth\": 0, \"ticks\": \"\"}}, \"marker\": {\"colorbar\": {\"outlinewidth\": 0, \"ticks\": \"\"}}, \"type\": \"scatter3d\"}], \"scattercarpet\": [{\"marker\": {\"colorbar\": {\"outlinewidth\": 0, \"ticks\": \"\"}}, \"type\": \"scattercarpet\"}], \"scattergeo\": [{\"marker\": {\"colorbar\": {\"outlinewidth\": 0, \"ticks\": \"\"}}, \"type\": \"scattergeo\"}], \"scattergl\": [{\"marker\": {\"colorbar\": {\"outlinewidth\": 0, \"ticks\": \"\"}}, \"type\": \"scattergl\"}], \"scattermapbox\": [{\"marker\": {\"colorbar\": {\"outlinewidth\": 0, \"ticks\": \"\"}}, \"type\": \"scattermapbox\"}], \"scatterpolar\": [{\"marker\": {\"colorbar\": {\"outlinewidth\": 0, \"ticks\": \"\"}}, \"type\": \"scatterpolar\"}], \"scatterpolargl\": [{\"marker\": {\"colorbar\": {\"outlinewidth\": 0, \"ticks\": \"\"}}, \"type\": \"scatterpolargl\"}], \"scatterternary\": [{\"marker\": {\"colorbar\": {\"outlinewidth\": 0, \"ticks\": \"\"}}, \"type\": \"scatterternary\"}], \"surface\": [{\"colorbar\": {\"outlinewidth\": 0, \"ticks\": \"\"}, \"colorscale\": [[0.0, \"#0d0887\"], [0.1111111111111111, \"#46039f\"], [0.2222222222222222, \"#7201a8\"], [0.3333333333333333, \"#9c179e\"], [0.4444444444444444, \"#bd3786\"], [0.5555555555555556, \"#d8576b\"], [0.6666666666666666, \"#ed7953\"], [0.7777777777777778, \"#fb9f3a\"], [0.8888888888888888, \"#fdca26\"], [1.0, \"#f0f921\"]], \"type\": \"surface\"}], \"table\": [{\"cells\": {\"fill\": {\"color\": \"#EBF0F8\"}, \"line\": {\"color\": \"white\"}}, \"header\": {\"fill\": {\"color\": \"#C8D4E3\"}, \"line\": {\"color\": \"white\"}}, \"type\": \"table\"}]}, \"layout\": {\"annotationdefaults\": {\"arrowcolor\": \"#2a3f5f\", \"arrowhead\": 0, \"arrowwidth\": 1}, \"autotypenumbers\": \"strict\", \"coloraxis\": {\"colorbar\": {\"outlinewidth\": 0, \"ticks\": \"\"}}, \"colorscale\": {\"diverging\": [[0, \"#8e0152\"], [0.1, \"#c51b7d\"], [0.2, \"#de77ae\"], [0.3, \"#f1b6da\"], [0.4, \"#fde0ef\"], [0.5, \"#f7f7f7\"], [0.6, \"#e6f5d0\"], [0.7, \"#b8e186\"], [0.8, \"#7fbc41\"], [0.9, \"#4d9221\"], [1, \"#276419\"]], \"sequential\": [[0.0, \"#0d0887\"], [0.1111111111111111, \"#46039f\"], [0.2222222222222222, \"#7201a8\"], [0.3333333333333333, \"#9c179e\"], [0.4444444444444444, \"#bd3786\"], [0.5555555555555556, \"#d8576b\"], [0.6666666666666666, \"#ed7953\"], [0.7777777777777778, \"#fb9f3a\"], [0.8888888888888888, \"#fdca26\"], [1.0, \"#f0f921\"]], \"sequentialminus\": [[0.0, \"#0d0887\"], [0.1111111111111111, \"#46039f\"], [0.2222222222222222, \"#7201a8\"], [0.3333333333333333, \"#9c179e\"], [0.4444444444444444, \"#bd3786\"], [0.5555555555555556, \"#d8576b\"], [0.6666666666666666, \"#ed7953\"], [0.7777777777777778, \"#fb9f3a\"], [0.8888888888888888, \"#fdca26\"], [1.0, \"#f0f921\"]]}, \"colorway\": [\"#636efa\", \"#EF553B\", \"#00cc96\", \"#ab63fa\", \"#FFA15A\", \"#19d3f3\", \"#FF6692\", \"#B6E880\", \"#FF97FF\", \"#FECB52\"], \"font\": {\"color\": \"#2a3f5f\"}, \"geo\": {\"bgcolor\": \"white\", \"lakecolor\": \"white\", \"landcolor\": \"#E5ECF6\", \"showlakes\": true, \"showland\": true, \"subunitcolor\": \"white\"}, \"hoverlabel\": {\"align\": \"left\"}, \"hovermode\": \"closest\", \"mapbox\": {\"style\": \"light\"}, \"paper_bgcolor\": \"white\", \"plot_bgcolor\": \"#E5ECF6\", \"polar\": {\"angularaxis\": {\"gridcolor\": \"white\", \"linecolor\": \"white\", \"ticks\": \"\"}, \"bgcolor\": \"#E5ECF6\", \"radialaxis\": {\"gridcolor\": \"white\", \"linecolor\": \"white\", \"ticks\": \"\"}}, \"scene\": {\"xaxis\": {\"backgroundcolor\": \"#E5ECF6\", \"gridcolor\": \"white\", \"gridwidth\": 2, \"linecolor\": \"white\", \"showbackground\": true, \"ticks\": \"\", \"zerolinecolor\": \"white\"}, \"yaxis\": {\"backgroundcolor\": \"#E5ECF6\", \"gridcolor\": \"white\", \"gridwidth\": 2, \"linecolor\": \"white\", \"showbackground\": true, \"ticks\": \"\", \"zerolinecolor\": \"white\"}, \"zaxis\": {\"backgroundcolor\": \"#E5ECF6\", \"gridcolor\": \"white\", \"gridwidth\": 2, \"linecolor\": \"white\", \"showbackground\": true, \"ticks\": \"\", \"zerolinecolor\": \"white\"}}, \"shapedefaults\": {\"line\": {\"color\": \"#2a3f5f\"}}, \"ternary\": {\"aaxis\": {\"gridcolor\": \"white\", \"linecolor\": \"white\", \"ticks\": \"\"}, \"baxis\": {\"gridcolor\": \"white\", \"linecolor\": \"white\", \"ticks\": \"\"}, \"bgcolor\": \"#E5ECF6\", \"caxis\": {\"gridcolor\": \"white\", \"linecolor\": \"white\", \"ticks\": \"\"}}, \"title\": {\"x\": 0.05}, \"xaxis\": {\"automargin\": true, \"gridcolor\": \"white\", \"linecolor\": \"white\", \"ticks\": \"\", \"title\": {\"standoff\": 15}, \"zerolinecolor\": \"white\", \"zerolinewidth\": 2}, \"yaxis\": {\"automargin\": true, \"gridcolor\": \"white\", \"linecolor\": \"white\", \"ticks\": \"\", \"title\": {\"standoff\": 15}, \"zerolinecolor\": \"white\", \"zerolinewidth\": 2}}}, \"xaxis\": {\"anchor\": \"y\", \"domain\": [0.0, 1.0], \"title\": {\"text\": \"Observed Timestamp\"}}, \"yaxis\": {\"anchor\": \"x\", \"domain\": [0.0, 1.0], \"title\": {\"text\": \"Sensor reading for AIRQUALITYINDEX\"}}},                        {\"responsive\": true}                    ).then(function(){\n",
       "                            \n",
       "var gd = document.getElementById('f668c2a9-13bc-448b-80d0-e57448b6eb7b');\n",
       "var x = new MutationObserver(function (mutations, observer) {{\n",
       "        var display = window.getComputedStyle(gd).display;\n",
       "        if (!display || display === 'none') {{\n",
       "            console.log([gd, 'removed!']);\n",
       "            Plotly.purge(gd);\n",
       "            observer.disconnect();\n",
       "        }}\n",
       "}});\n",
       "\n",
       "// Listen for the removal of the full notebook cells\n",
       "var notebookContainer = gd.closest('#notebook-container');\n",
       "if (notebookContainer) {{\n",
       "    x.observe(notebookContainer, {childList: true});\n",
       "}}\n",
       "\n",
       "// Listen for the clearing of the current output cell\n",
       "var outputEl = gd.closest('.output');\n",
       "if (outputEl) {{\n",
       "    x.observe(outputEl, {childList: true});\n",
       "}}\n",
       "\n",
       "                        })                };                });            </script>        </div>"
      ]
     },
     "metadata": {},
     "output_type": "display_data"
    }
   ],
   "source": [
    "# plot the measures of a proprty over ndays for the resource with the latest recording\n",
    "def timeSeriesVis1(column_name, ndays):\n",
    "    sensor_id = measures.sort_values(by='observationDateTime',ascending=False).reset_index(drop=True)['id'][0]\n",
    "    single_resource_data = measures.query(f\"id == '{sensor_id}'\")\n",
    "    sensor_coordinates=[]\n",
    "    warnings.filterwarnings('ignore')\n",
    "    for res in entity.resources:\n",
    "        if res['id']==sensor_id:\n",
    "            sensor_coordinates=res['location']['geometry']['coordinates']\n",
    "    single_resource_data['day']=single_resource_data['observationDateTime'].apply(lambda x:x.strftime('%A'))\n",
    "    \n",
    "    fig = px.box(\n",
    "        single_resource_data, \n",
    "        x=\"day\", \n",
    "        y=column_name,\n",
    "        points='all'\n",
    "    )\n",
    "    display(widgets.HTML(f'<center style=\"font-size:14px\">Temporal sensor reading for \\n {column_name.upper()} from {start_time.date()} to {end_time.date()} for resource at {sensor_coordinates}<center>'))\n",
    "    fig.update_layout(\n",
    "        xaxis_title=\"Observed Timestamp\",\n",
    "        yaxis_title=\"Sensor reading for \"+column_name.upper(),\n",
    "        font=dict(\n",
    "            size=12\n",
    "        )\n",
    "    )\n",
    "    fig.show()\n",
    "timeSeriesVis1('airQualityIndex',ndays)\n"
   ]
  },
  {
   "cell_type": "code",
   "execution_count": 153,
   "metadata": {
    "scrolled": false
   },
   "outputs": [
    {
     "data": {
      "application/vnd.jupyter.widget-view+json": {
       "model_id": "0a4295c2f11246f7a94a4999abcd5384",
       "version_major": 2,
       "version_minor": 0
      },
      "text/plain": [
       "HTML(value='<center style=\"font-size:14px\">Temporal sensor reading for AIRTEMPERATURE.AVGOVERTIME from 2021-03…"
      ]
     },
     "metadata": {},
     "output_type": "display_data"
    },
    {
     "data": {
      "application/vnd.plotly.v1+json": {
       "config": {
        "plotlyServerURL": "https://plot.ly"
       },
       "data": [
        {
         "hovertemplate": "deviceName=Nigadi<br>observationDateTime=%{x}<br>airTemperature.avgOverTime=%{y}<extra></extra>",
         "legendgroup": "Nigadi",
         "line": {
          "color": "#636efa",
          "dash": "solid"
         },
         "mode": "lines",
         "name": "Nigadi",
         "orientation": "v",
         "showlegend": true,
         "type": "scatter",
         "x": [
          "2021-03-26T13:10:00",
          "2021-03-26T14:10:00",
          "2021-03-26T15:10:00",
          "2021-03-26T16:10:00",
          "2021-03-26T17:10:00",
          "2021-03-26T18:10:00",
          "2021-03-26T19:10:00",
          "2021-03-26T20:10:00",
          "2021-03-26T21:10:00",
          "2021-03-26T22:10:00",
          "2021-03-26T23:10:00",
          "2021-03-27T00:10:00",
          "2021-03-27T02:10:00",
          "2021-03-27T03:10:00",
          "2021-03-27T04:10:00",
          "2021-03-27T05:10:00",
          "2021-03-27T06:10:00",
          "2021-03-27T07:10:00",
          "2021-03-27T08:10:00",
          "2021-03-27T09:10:00",
          "2021-03-27T10:10:00",
          "2021-03-27T11:10:00",
          "2021-03-27T12:10:00",
          "2021-03-27T13:10:00",
          "2021-03-27T14:10:00",
          "2021-03-27T15:10:00",
          "2021-03-27T16:10:00",
          "2021-03-27T17:10:00",
          "2021-03-27T18:10:00",
          "2021-03-27T19:10:00",
          "2021-03-27T20:10:00",
          "2021-03-27T21:10:00",
          "2021-03-27T22:10:00",
          "2021-03-27T23:10:00",
          "2021-03-28T00:10:00",
          "2021-03-28T02:10:00",
          "2021-03-28T03:10:00",
          "2021-03-28T04:10:00",
          "2021-03-28T05:10:00",
          "2021-03-28T06:10:00",
          "2021-03-28T07:10:00",
          "2021-03-28T08:10:00",
          "2021-03-28T09:10:00",
          "2021-03-28T10:10:00",
          "2021-03-28T11:10:00",
          "2021-03-28T12:10:00",
          "2021-03-28T13:10:00",
          "2021-03-28T14:10:00",
          "2021-03-28T15:10:00",
          "2021-03-28T16:10:00",
          "2021-03-28T17:10:00",
          "2021-03-28T18:10:00",
          "2021-03-28T19:10:00",
          "2021-03-28T20:10:00",
          "2021-03-28T21:10:00",
          "2021-03-28T22:10:00",
          "2021-03-28T23:10:00",
          "2021-03-29T00:10:00",
          "2021-03-29T01:10:00",
          "2021-03-29T02:10:00",
          "2021-03-29T03:10:00",
          "2021-03-29T04:10:00",
          "2021-03-29T05:10:00",
          "2021-03-29T06:10:00",
          "2021-03-29T07:10:00",
          "2021-03-29T08:10:00",
          "2021-03-29T09:10:00",
          "2021-03-29T10:10:00",
          "2021-03-29T11:10:00",
          "2021-03-29T12:10:00",
          "2021-03-29T13:10:00"
         ],
         "xaxis": "x",
         "y": [
          null,
          null,
          null,
          null,
          null,
          null,
          null,
          null,
          null,
          null,
          null,
          null,
          null,
          null,
          null,
          null,
          null,
          null,
          null,
          null,
          null,
          null,
          null,
          null,
          null,
          null,
          null,
          null,
          null,
          null,
          null,
          null,
          null,
          null,
          null,
          null,
          null,
          null,
          null,
          null,
          null,
          null,
          null,
          null,
          null,
          null,
          null,
          null,
          null,
          null,
          null,
          null,
          null,
          null,
          null,
          null,
          null,
          null,
          null,
          null,
          null,
          null,
          null,
          null,
          null,
          null,
          null,
          null,
          null,
          null,
          null
         ],
         "yaxis": "y"
        },
        {
         "hovertemplate": "deviceName=Shivajinagar<br>observationDateTime=%{x}<br>airTemperature.avgOverTime=%{y}<extra></extra>",
         "legendgroup": "Shivajinagar",
         "line": {
          "color": "#EF553B",
          "dash": "solid"
         },
         "mode": "lines",
         "name": "Shivajinagar",
         "orientation": "v",
         "showlegend": true,
         "type": "scatter",
         "x": [
          "2021-03-26T13:10:00",
          "2021-03-26T14:10:00",
          "2021-03-26T15:10:00",
          "2021-03-26T16:10:00",
          "2021-03-26T17:10:00",
          "2021-03-26T18:10:00",
          "2021-03-26T19:10:00",
          "2021-03-26T20:10:00",
          "2021-03-26T21:10:00",
          "2021-03-26T22:10:00",
          "2021-03-26T23:10:00",
          "2021-03-27T00:10:00",
          "2021-03-27T02:10:00",
          "2021-03-27T03:10:00",
          "2021-03-27T04:10:00",
          "2021-03-27T05:10:00",
          "2021-03-27T06:10:00",
          "2021-03-27T07:10:00",
          "2021-03-27T08:10:00",
          "2021-03-27T09:10:00",
          "2021-03-27T10:10:00",
          "2021-03-27T11:10:00",
          "2021-03-27T12:10:00",
          "2021-03-27T13:10:00",
          "2021-03-27T14:10:00",
          "2021-03-27T15:10:00",
          "2021-03-27T16:10:00",
          "2021-03-27T17:10:00",
          "2021-03-27T18:10:00",
          "2021-03-27T19:10:00",
          "2021-03-27T20:10:00",
          "2021-03-27T21:10:00",
          "2021-03-27T22:10:00",
          "2021-03-27T23:10:00",
          "2021-03-28T00:10:00",
          "2021-03-28T02:10:00",
          "2021-03-28T03:10:00",
          "2021-03-28T04:10:00",
          "2021-03-28T05:10:00",
          "2021-03-28T06:10:00",
          "2021-03-28T07:10:00",
          "2021-03-28T08:10:00",
          "2021-03-28T09:10:00",
          "2021-03-28T10:10:00",
          "2021-03-28T11:10:00",
          "2021-03-28T12:10:00",
          "2021-03-28T13:10:00",
          "2021-03-28T14:10:00",
          "2021-03-28T15:10:00",
          "2021-03-28T16:10:00",
          "2021-03-28T17:10:00",
          "2021-03-28T18:10:00",
          "2021-03-28T19:10:00",
          "2021-03-28T20:10:00",
          "2021-03-28T21:10:00",
          "2021-03-28T22:10:00",
          "2021-03-28T23:10:00",
          "2021-03-29T00:10:00",
          "2021-03-29T01:10:00",
          "2021-03-29T02:10:00",
          "2021-03-29T03:10:00",
          "2021-03-29T04:10:00",
          "2021-03-29T05:10:00",
          "2021-03-29T06:10:00",
          "2021-03-29T07:10:00",
          "2021-03-29T08:10:00",
          "2021-03-29T09:10:00",
          "2021-03-29T10:10:00",
          "2021-03-29T11:10:00",
          "2021-03-29T12:10:00",
          "2021-03-29T13:10:00"
         ],
         "xaxis": "x",
         "y": [
          null,
          null,
          null,
          null,
          null,
          null,
          null,
          null,
          null,
          null,
          null,
          null,
          null,
          null,
          null,
          null,
          null,
          null,
          null,
          null,
          null,
          null,
          null,
          null,
          null,
          null,
          null,
          null,
          null,
          null,
          null,
          null,
          null,
          null,
          null,
          null,
          null,
          null,
          null,
          null,
          null,
          null,
          null,
          null,
          null,
          null,
          null,
          null,
          null,
          null,
          null,
          null,
          null,
          null,
          null,
          null,
          null,
          null,
          null,
          null,
          null,
          null,
          null,
          null,
          null,
          null,
          null,
          null,
          null,
          null,
          null
         ],
         "yaxis": "y"
        },
        {
         "hovertemplate": "deviceName=Manjari<br>observationDateTime=%{x}<br>airTemperature.avgOverTime=%{y}<extra></extra>",
         "legendgroup": "Manjari",
         "line": {
          "color": "#00cc96",
          "dash": "solid"
         },
         "mode": "lines",
         "name": "Manjari",
         "orientation": "v",
         "showlegend": true,
         "type": "scatter",
         "x": [
          "2021-03-26T13:10:00",
          "2021-03-26T14:10:00",
          "2021-03-26T15:10:00",
          "2021-03-26T16:10:00",
          "2021-03-26T17:10:00",
          "2021-03-26T18:10:00",
          "2021-03-26T19:10:00",
          "2021-03-26T20:10:00",
          "2021-03-26T21:10:00",
          "2021-03-26T22:10:00",
          "2021-03-26T23:10:00",
          "2021-03-27T00:10:00",
          "2021-03-27T02:10:00",
          "2021-03-27T03:10:00",
          "2021-03-27T04:10:00",
          "2021-03-27T05:10:00",
          "2021-03-27T06:10:00",
          "2021-03-27T07:10:00",
          "2021-03-27T08:10:00",
          "2021-03-27T09:10:00",
          "2021-03-27T10:10:00",
          "2021-03-27T11:10:00",
          "2021-03-27T12:10:00",
          "2021-03-27T13:10:00",
          "2021-03-27T14:10:00",
          "2021-03-27T15:10:00",
          "2021-03-27T16:10:00",
          "2021-03-27T17:10:00",
          "2021-03-27T18:10:00",
          "2021-03-27T19:10:00",
          "2021-03-27T20:10:00",
          "2021-03-27T21:10:00",
          "2021-03-27T22:10:00",
          "2021-03-27T23:10:00",
          "2021-03-28T00:10:00",
          "2021-03-28T02:10:00",
          "2021-03-28T03:10:00",
          "2021-03-28T04:10:00",
          "2021-03-28T05:10:00",
          "2021-03-28T06:10:00",
          "2021-03-28T07:10:00",
          "2021-03-28T08:10:00",
          "2021-03-28T09:10:00",
          "2021-03-28T10:10:00",
          "2021-03-28T11:10:00",
          "2021-03-28T12:10:00",
          "2021-03-28T13:10:00",
          "2021-03-28T14:10:00",
          "2021-03-28T15:10:00",
          "2021-03-28T16:10:00",
          "2021-03-28T17:10:00",
          "2021-03-28T18:10:00",
          "2021-03-28T19:10:00",
          "2021-03-28T20:10:00",
          "2021-03-28T21:10:00",
          "2021-03-28T22:10:00",
          "2021-03-28T23:10:00",
          "2021-03-29T00:10:00",
          "2021-03-29T01:10:00",
          "2021-03-29T02:10:00",
          "2021-03-29T03:10:00",
          "2021-03-29T04:10:00",
          "2021-03-29T05:10:00",
          "2021-03-29T06:10:00",
          "2021-03-29T07:10:00",
          "2021-03-29T08:10:00",
          "2021-03-29T09:10:00",
          "2021-03-29T10:10:00",
          "2021-03-29T11:10:00",
          "2021-03-29T12:10:00",
          "2021-03-29T13:10:00"
         ],
         "xaxis": "x",
         "y": [
          null,
          null,
          null,
          null,
          null,
          null,
          null,
          null,
          null,
          null,
          null,
          null,
          null,
          null,
          null,
          null,
          null,
          null,
          null,
          null,
          null,
          null,
          null,
          null,
          null,
          null,
          null,
          null,
          null,
          null,
          null,
          null,
          null,
          null,
          null,
          null,
          null,
          null,
          null,
          null,
          null,
          null,
          null,
          null,
          null,
          null,
          null,
          null,
          null,
          null,
          null,
          null,
          null,
          null,
          null,
          null,
          null,
          null,
          null,
          null,
          null,
          null,
          null,
          null,
          null,
          null,
          null,
          null,
          null,
          null,
          null
         ],
         "yaxis": "y"
        },
        {
         "hovertemplate": "deviceName=Hadapsar<br>observationDateTime=%{x}<br>airTemperature.avgOverTime=%{y}<extra></extra>",
         "legendgroup": "Hadapsar",
         "line": {
          "color": "#ab63fa",
          "dash": "solid"
         },
         "mode": "lines",
         "name": "Hadapsar",
         "orientation": "v",
         "showlegend": true,
         "type": "scatter",
         "x": [
          "2021-03-26T13:10:00",
          "2021-03-26T14:10:00",
          "2021-03-26T15:10:00",
          "2021-03-26T16:10:00",
          "2021-03-26T17:10:00",
          "2021-03-26T18:10:00",
          "2021-03-26T19:10:00",
          "2021-03-26T20:10:00",
          "2021-03-26T21:10:00",
          "2021-03-26T22:10:00",
          "2021-03-26T23:10:00",
          "2021-03-27T00:10:00",
          "2021-03-27T02:10:00",
          "2021-03-27T03:10:00",
          "2021-03-27T04:10:00",
          "2021-03-27T05:10:00",
          "2021-03-27T06:10:00",
          "2021-03-27T07:10:00",
          "2021-03-27T08:10:00",
          "2021-03-27T09:10:00",
          "2021-03-27T10:10:00",
          "2021-03-27T11:10:00",
          "2021-03-27T12:10:00",
          "2021-03-27T13:10:00",
          "2021-03-27T14:10:00",
          "2021-03-27T15:10:00",
          "2021-03-27T16:10:00",
          "2021-03-27T17:10:00",
          "2021-03-27T18:10:00",
          "2021-03-27T19:10:00",
          "2021-03-27T20:10:00",
          "2021-03-27T21:10:00",
          "2021-03-27T22:10:00",
          "2021-03-27T23:10:00",
          "2021-03-28T00:10:00",
          "2021-03-28T02:10:00",
          "2021-03-28T03:10:00",
          "2021-03-28T04:10:00",
          "2021-03-28T05:10:00",
          "2021-03-28T06:10:00",
          "2021-03-28T07:10:00",
          "2021-03-28T08:10:00",
          "2021-03-28T09:10:00",
          "2021-03-28T10:10:00",
          "2021-03-28T11:10:00",
          "2021-03-28T12:10:00",
          "2021-03-28T13:10:00",
          "2021-03-28T14:10:00",
          "2021-03-28T15:10:00",
          "2021-03-28T16:10:00",
          "2021-03-28T17:10:00",
          "2021-03-28T18:10:00",
          "2021-03-28T19:10:00",
          "2021-03-28T20:10:00",
          "2021-03-28T21:10:00",
          "2021-03-28T22:10:00",
          "2021-03-28T23:10:00",
          "2021-03-29T00:10:00",
          "2021-03-29T01:10:00",
          "2021-03-29T02:10:00",
          "2021-03-29T03:10:00",
          "2021-03-29T04:10:00",
          "2021-03-29T05:10:00",
          "2021-03-29T06:10:00",
          "2021-03-29T07:10:00",
          "2021-03-29T08:10:00",
          "2021-03-29T09:10:00",
          "2021-03-29T10:10:00",
          "2021-03-29T11:10:00",
          "2021-03-29T12:10:00",
          "2021-03-29T13:10:00"
         ],
         "xaxis": "x",
         "y": [
          33.89,
          34.53,
          35.35,
          35.82,
          null,
          null,
          34.44,
          null,
          null,
          null,
          null,
          null,
          null,
          25.61,
          25.18,
          null,
          null,
          null,
          null,
          null,
          null,
          null,
          null,
          34.16,
          35.32,
          null,
          36.78,
          null,
          36.23,
          35.43,
          null,
          null,
          null,
          30.7,
          null,
          null,
          null,
          null,
          25.03,
          25.03,
          25.03,
          25.03,
          25.03,
          25.03,
          25.03,
          25.03,
          25.03,
          25.03,
          25.03,
          25.03,
          25.03,
          25.03,
          25.03,
          25.03,
          25.03,
          25.03,
          25.03,
          25.03,
          25.03,
          25.03,
          25.03,
          25.03,
          25.03,
          25.03,
          25.03,
          25.03,
          25.03,
          27.52,
          30.47,
          32.88,
          35.61
         ],
         "yaxis": "y"
        },
        {
         "hovertemplate": "deviceName=Bhosari<br>observationDateTime=%{x}<br>airTemperature.avgOverTime=%{y}<extra></extra>",
         "legendgroup": "Bhosari",
         "line": {
          "color": "#FFA15A",
          "dash": "solid"
         },
         "mode": "lines",
         "name": "Bhosari",
         "orientation": "v",
         "showlegend": true,
         "type": "scatter",
         "x": [
          "2021-03-26T13:10:00",
          "2021-03-26T14:10:00",
          "2021-03-26T15:10:00",
          "2021-03-26T16:10:00",
          "2021-03-26T17:10:00",
          "2021-03-26T18:10:00",
          "2021-03-26T19:10:00",
          "2021-03-26T20:10:00",
          "2021-03-26T21:10:00",
          "2021-03-26T22:10:00",
          "2021-03-26T23:10:00",
          "2021-03-27T00:10:00",
          "2021-03-27T02:10:00",
          "2021-03-27T03:10:00",
          "2021-03-27T04:10:00",
          "2021-03-27T05:10:00",
          "2021-03-27T06:10:00",
          "2021-03-27T07:10:00",
          "2021-03-27T08:10:00",
          "2021-03-27T09:10:00",
          "2021-03-27T10:10:00",
          "2021-03-27T11:10:00",
          "2021-03-27T12:10:00",
          "2021-03-27T13:10:00",
          "2021-03-27T14:10:00",
          "2021-03-27T15:10:00",
          "2021-03-27T16:10:00",
          "2021-03-27T17:10:00",
          "2021-03-27T18:10:00",
          "2021-03-27T19:10:00",
          "2021-03-27T20:10:00",
          "2021-03-27T21:10:00",
          "2021-03-27T22:10:00",
          "2021-03-27T23:10:00",
          "2021-03-28T00:10:00",
          "2021-03-28T02:10:00",
          "2021-03-28T03:10:00",
          "2021-03-28T04:10:00",
          "2021-03-28T05:10:00",
          "2021-03-28T06:10:00",
          "2021-03-28T07:10:00",
          "2021-03-28T08:10:00",
          "2021-03-28T09:10:00",
          "2021-03-28T10:10:00",
          "2021-03-28T11:10:00",
          "2021-03-28T12:10:00",
          "2021-03-28T13:10:00",
          "2021-03-28T14:10:00",
          "2021-03-28T15:10:00",
          "2021-03-28T16:10:00",
          "2021-03-28T17:10:00",
          "2021-03-28T18:10:00",
          "2021-03-28T19:10:00",
          "2021-03-28T20:10:00",
          "2021-03-28T21:10:00",
          "2021-03-28T22:10:00",
          "2021-03-28T23:10:00",
          "2021-03-29T00:10:00",
          "2021-03-29T01:10:00",
          "2021-03-29T02:10:00",
          "2021-03-29T03:10:00",
          "2021-03-29T04:10:00",
          "2021-03-29T05:10:00",
          "2021-03-29T06:10:00",
          "2021-03-29T07:10:00",
          "2021-03-29T08:10:00",
          "2021-03-29T09:10:00",
          "2021-03-29T10:10:00",
          "2021-03-29T11:10:00",
          "2021-03-29T12:10:00",
          "2021-03-29T13:10:00"
         ],
         "xaxis": "x",
         "y": [
          13.43,
          12.44,
          11.91,
          12.15,
          12.48,
          12.8,
          13.42,
          15.53,
          17.91,
          20.82,
          23.36,
          25.28,
          30.88,
          33.75,
          35.21,
          37.33,
          41.16,
          43.13,
          43.39,
          41.95,
          41.95,
          17.95,
          14.37,
          12.16,
          12.18,
          12.14,
          11.38,
          10.2,
          10.31,
          11.09,
          14.17,
          19.14,
          17.88,
          19.63,
          24.29,
          30.47,
          32.27,
          34.35,
          37.01,
          37.01,
          37.01,
          37.01,
          37.01,
          37.01,
          37.01,
          37.01,
          37.01,
          37.01,
          37.01,
          37.01,
          37.01,
          37.01,
          37.01,
          37.01,
          37.01,
          37.01,
          37.01,
          37.01,
          37.01,
          37.01,
          37.01,
          37.01,
          37.01,
          37.01,
          37.01,
          37.01,
          37.01,
          45.31,
          28.58,
          17.78,
          12.26
         ],
         "yaxis": "y"
        },
        {
         "hovertemplate": "deviceName=Lohgaon<br>observationDateTime=%{x}<br>airTemperature.avgOverTime=%{y}<extra></extra>",
         "legendgroup": "Lohgaon",
         "line": {
          "color": "#19d3f3",
          "dash": "solid"
         },
         "mode": "lines",
         "name": "Lohgaon",
         "orientation": "v",
         "showlegend": true,
         "type": "scatter",
         "x": [
          "2021-03-26T13:10:00",
          "2021-03-26T14:10:00",
          "2021-03-26T15:10:00",
          "2021-03-26T16:10:00",
          "2021-03-26T17:10:00",
          "2021-03-26T18:10:00",
          "2021-03-26T19:10:00",
          "2021-03-26T20:10:00",
          "2021-03-26T21:10:00",
          "2021-03-26T22:10:00",
          "2021-03-26T23:10:00",
          "2021-03-27T00:10:00",
          "2021-03-27T02:10:00",
          "2021-03-27T03:10:00",
          "2021-03-27T04:10:00",
          "2021-03-27T05:10:00",
          "2021-03-27T06:10:00",
          "2021-03-27T07:10:00",
          "2021-03-27T08:10:00",
          "2021-03-27T09:10:00",
          "2021-03-27T10:10:00",
          "2021-03-27T11:10:00",
          "2021-03-27T12:10:00",
          "2021-03-27T13:10:00",
          "2021-03-27T14:10:00",
          "2021-03-27T15:10:00",
          "2021-03-27T16:10:00",
          "2021-03-27T17:10:00",
          "2021-03-27T18:10:00",
          "2021-03-27T19:10:00",
          "2021-03-27T20:10:00",
          "2021-03-27T21:10:00",
          "2021-03-27T22:10:00",
          "2021-03-27T23:10:00",
          "2021-03-28T00:10:00",
          "2021-03-28T02:10:00",
          "2021-03-28T03:10:00",
          "2021-03-28T04:10:00",
          "2021-03-28T05:10:00",
          "2021-03-28T06:10:00",
          "2021-03-28T07:10:00",
          "2021-03-28T08:10:00",
          "2021-03-28T09:10:00",
          "2021-03-28T10:10:00",
          "2021-03-28T11:10:00",
          "2021-03-28T12:10:00",
          "2021-03-28T13:10:00",
          "2021-03-28T14:10:00",
          "2021-03-28T15:10:00",
          "2021-03-28T16:10:00",
          "2021-03-28T17:10:00",
          "2021-03-28T18:10:00",
          "2021-03-28T19:10:00",
          "2021-03-28T20:10:00",
          "2021-03-28T21:10:00",
          "2021-03-28T22:10:00",
          "2021-03-28T23:10:00",
          "2021-03-29T00:10:00",
          "2021-03-29T01:10:00",
          "2021-03-29T02:10:00",
          "2021-03-29T03:10:00",
          "2021-03-29T04:10:00",
          "2021-03-29T05:10:00",
          "2021-03-29T06:10:00",
          "2021-03-29T07:10:00",
          "2021-03-29T08:10:00",
          "2021-03-29T09:10:00",
          "2021-03-29T10:10:00",
          "2021-03-29T11:10:00",
          "2021-03-29T12:10:00",
          "2021-03-29T13:10:00"
         ],
         "xaxis": "x",
         "y": [
          34.31,
          35.72,
          36.52,
          36.48,
          36.98,
          36.95,
          36.46,
          34.64,
          32.69,
          31.14,
          29.92,
          28.65,
          26.59,
          25.54,
          25,
          24.43,
          23.83,
          23.53,
          23.21,
          24.36,
          24.36,
          31.57,
          33.51,
          35.19,
          36.02,
          36.9,
          37.61,
          38.02,
          37.91,
          36.88,
          34.83,
          32.46,
          31.44,
          30.44,
          29.47,
          26.78,
          25.86,
          25.23,
          24.8,
          24.8,
          24.8,
          24.8,
          24.8,
          24.8,
          24.8,
          24.8,
          24.8,
          24.8,
          24.8,
          24.8,
          24.8,
          24.8,
          24.8,
          24.8,
          24.8,
          24.8,
          24.8,
          24.8,
          24.8,
          24.8,
          24.8,
          24.8,
          24.8,
          24.8,
          24.8,
          24.8,
          24.8,
          28.5,
          31.88,
          35.09,
          37.72
         ],
         "yaxis": "y"
        },
        {
         "hovertemplate": "deviceName=Alandi<br>observationDateTime=%{x}<br>airTemperature.avgOverTime=%{y}<extra></extra>",
         "legendgroup": "Alandi",
         "line": {
          "color": "#FF6692",
          "dash": "solid"
         },
         "mode": "lines",
         "name": "Alandi",
         "orientation": "v",
         "showlegend": true,
         "type": "scatter",
         "x": [
          "2021-03-26T13:10:00",
          "2021-03-26T14:10:00",
          "2021-03-26T15:10:00",
          "2021-03-26T16:10:00",
          "2021-03-26T17:10:00",
          "2021-03-26T18:10:00",
          "2021-03-26T19:10:00",
          "2021-03-26T20:10:00",
          "2021-03-26T21:10:00",
          "2021-03-26T22:10:00",
          "2021-03-26T23:10:00",
          "2021-03-27T00:10:00",
          "2021-03-27T02:10:00",
          "2021-03-27T03:10:00",
          "2021-03-27T04:10:00",
          "2021-03-27T05:10:00",
          "2021-03-27T06:10:00",
          "2021-03-27T07:10:00",
          "2021-03-27T08:10:00",
          "2021-03-27T09:10:00",
          "2021-03-27T10:10:00",
          "2021-03-27T11:10:00",
          "2021-03-27T12:10:00",
          "2021-03-27T13:10:00",
          "2021-03-27T14:10:00",
          "2021-03-27T15:10:00",
          "2021-03-27T16:10:00",
          "2021-03-27T17:10:00",
          "2021-03-27T18:10:00",
          "2021-03-27T19:10:00",
          "2021-03-27T20:10:00",
          "2021-03-27T21:10:00",
          "2021-03-27T22:10:00",
          "2021-03-27T23:10:00",
          "2021-03-28T00:10:00",
          "2021-03-28T02:10:00",
          "2021-03-28T03:10:00",
          "2021-03-28T04:10:00",
          "2021-03-28T05:10:00",
          "2021-03-28T06:10:00",
          "2021-03-28T07:10:00",
          "2021-03-28T08:10:00",
          "2021-03-28T09:10:00",
          "2021-03-28T10:10:00",
          "2021-03-28T11:10:00",
          "2021-03-28T12:10:00",
          "2021-03-28T13:10:00",
          "2021-03-28T14:10:00",
          "2021-03-28T15:10:00",
          "2021-03-28T16:10:00",
          "2021-03-28T17:10:00",
          "2021-03-28T18:10:00",
          "2021-03-28T19:10:00",
          "2021-03-28T20:10:00",
          "2021-03-28T21:10:00",
          "2021-03-28T22:10:00",
          "2021-03-28T23:10:00",
          "2021-03-29T00:10:00",
          "2021-03-29T01:10:00",
          "2021-03-29T02:10:00",
          "2021-03-29T03:10:00",
          "2021-03-29T04:10:00",
          "2021-03-29T05:10:00",
          "2021-03-29T06:10:00",
          "2021-03-29T07:10:00",
          "2021-03-29T08:10:00",
          "2021-03-29T09:10:00",
          "2021-03-29T10:10:00",
          "2021-03-29T11:10:00",
          "2021-03-29T12:10:00",
          "2021-03-29T13:10:00"
         ],
         "xaxis": "x",
         "y": [
          null,
          null,
          null,
          null,
          null,
          null,
          null,
          null,
          null,
          null,
          null,
          null,
          null,
          null,
          null,
          null,
          null,
          null,
          null,
          null,
          null,
          null,
          null,
          null,
          null,
          null,
          null,
          null,
          null,
          null,
          null,
          null,
          null,
          null,
          null,
          null,
          null,
          null,
          null,
          null,
          null,
          null,
          null,
          null,
          null,
          null,
          null,
          null,
          null,
          null,
          null,
          null,
          null,
          null,
          null,
          null,
          null,
          null,
          null,
          null,
          null,
          null,
          null,
          null,
          null,
          null,
          null,
          null,
          null,
          null,
          null
         ],
         "yaxis": "y"
        },
        {
         "hovertemplate": "deviceName=Katraj<br>observationDateTime=%{x}<br>airTemperature.avgOverTime=%{y}<extra></extra>",
         "legendgroup": "Katraj",
         "line": {
          "color": "#B6E880",
          "dash": "solid"
         },
         "mode": "lines",
         "name": "Katraj",
         "orientation": "v",
         "showlegend": true,
         "type": "scatter",
         "x": [
          "2021-03-26T13:10:00",
          "2021-03-26T14:10:00",
          "2021-03-26T15:10:00",
          "2021-03-26T16:10:00",
          "2021-03-26T17:10:00",
          "2021-03-26T18:10:00",
          "2021-03-26T19:10:00",
          "2021-03-26T20:10:00",
          "2021-03-26T21:10:00",
          "2021-03-26T22:10:00",
          "2021-03-26T23:10:00",
          "2021-03-27T00:10:00",
          "2021-03-27T02:10:00",
          "2021-03-27T03:10:00",
          "2021-03-27T04:10:00",
          "2021-03-27T05:10:00",
          "2021-03-27T06:10:00",
          "2021-03-27T07:10:00",
          "2021-03-27T08:10:00",
          "2021-03-27T09:10:00",
          "2021-03-27T10:10:00",
          "2021-03-27T11:10:00",
          "2021-03-27T12:10:00",
          "2021-03-27T13:10:00",
          "2021-03-27T14:10:00",
          "2021-03-27T15:10:00",
          "2021-03-27T16:10:00",
          "2021-03-27T17:10:00",
          "2021-03-27T18:10:00",
          "2021-03-27T19:10:00",
          "2021-03-27T20:10:00",
          "2021-03-27T21:10:00",
          "2021-03-27T22:10:00",
          "2021-03-27T23:10:00",
          "2021-03-28T00:10:00",
          "2021-03-28T02:10:00",
          "2021-03-28T03:10:00",
          "2021-03-28T04:10:00",
          "2021-03-28T05:10:00",
          "2021-03-28T06:10:00",
          "2021-03-28T07:10:00",
          "2021-03-28T08:10:00",
          "2021-03-28T09:10:00",
          "2021-03-28T10:10:00",
          "2021-03-28T11:10:00",
          "2021-03-28T12:10:00",
          "2021-03-28T13:10:00",
          "2021-03-28T14:10:00",
          "2021-03-28T15:10:00",
          "2021-03-28T16:10:00",
          "2021-03-28T17:10:00",
          "2021-03-28T18:10:00",
          "2021-03-28T19:10:00",
          "2021-03-28T20:10:00",
          "2021-03-28T21:10:00",
          "2021-03-28T22:10:00",
          "2021-03-28T23:10:00",
          "2021-03-29T00:10:00",
          "2021-03-29T01:10:00",
          "2021-03-29T02:10:00",
          "2021-03-29T03:10:00",
          "2021-03-29T04:10:00",
          "2021-03-29T05:10:00",
          "2021-03-29T06:10:00",
          "2021-03-29T07:10:00",
          "2021-03-29T08:10:00",
          "2021-03-29T09:10:00",
          "2021-03-29T10:10:00",
          "2021-03-29T11:10:00",
          "2021-03-29T12:10:00",
          "2021-03-29T13:10:00"
         ],
         "xaxis": "x",
         "y": [
          34.81,
          35.88,
          36.76,
          37.12,
          36.79,
          36.6,
          35.84,
          33.58,
          31.42,
          30.5,
          29.29,
          28.34,
          26.91,
          26.09,
          26.01,
          25.45,
          24.71,
          24.21,
          24.5,
          25.48,
          25.48,
          32.1,
          34.46,
          35.77,
          37.15,
          37.98,
          38.33,
          38.05,
          37.52,
          36.41,
          35.14,
          null,
          null,
          null,
          null,
          null,
          null,
          null,
          null,
          null,
          null,
          null,
          null,
          null,
          null,
          null,
          null,
          null,
          null,
          null,
          null,
          null,
          null,
          null,
          null,
          null,
          null,
          null,
          null,
          null,
          null,
          null,
          null,
          null,
          null,
          null,
          null,
          null,
          null,
          null,
          null
         ],
         "yaxis": "y"
        },
        {
         "hovertemplate": "deviceName=Pashan<br>observationDateTime=%{x}<br>airTemperature.avgOverTime=%{y}<extra></extra>",
         "legendgroup": "Pashan",
         "line": {
          "color": "#FF97FF",
          "dash": "solid"
         },
         "mode": "lines",
         "name": "Pashan",
         "orientation": "v",
         "showlegend": true,
         "type": "scatter",
         "x": [
          "2021-03-26T13:10:00",
          "2021-03-26T14:10:00",
          "2021-03-26T15:10:00",
          "2021-03-26T16:10:00",
          "2021-03-26T17:10:00",
          "2021-03-26T18:10:00",
          "2021-03-26T19:10:00",
          "2021-03-26T20:10:00",
          "2021-03-26T21:10:00",
          "2021-03-26T22:10:00",
          "2021-03-26T23:10:00",
          "2021-03-27T00:10:00",
          "2021-03-27T02:10:00",
          "2021-03-27T03:10:00",
          "2021-03-27T04:10:00",
          "2021-03-27T05:10:00",
          "2021-03-27T06:10:00",
          "2021-03-27T07:10:00",
          "2021-03-27T08:10:00",
          "2021-03-27T09:10:00",
          "2021-03-27T10:10:00",
          "2021-03-27T11:10:00",
          "2021-03-27T12:10:00",
          "2021-03-27T13:10:00",
          "2021-03-27T14:10:00",
          "2021-03-27T15:10:00",
          "2021-03-27T16:10:00",
          "2021-03-27T17:10:00",
          "2021-03-27T18:10:00",
          "2021-03-27T19:10:00",
          "2021-03-27T20:10:00",
          "2021-03-27T21:10:00",
          "2021-03-27T22:10:00",
          "2021-03-27T23:10:00",
          "2021-03-28T00:10:00",
          "2021-03-28T02:10:00",
          "2021-03-28T03:10:00",
          "2021-03-28T04:10:00",
          "2021-03-28T05:10:00",
          "2021-03-28T06:10:00",
          "2021-03-28T07:10:00",
          "2021-03-28T08:10:00",
          "2021-03-28T09:10:00",
          "2021-03-28T10:10:00",
          "2021-03-28T11:10:00",
          "2021-03-28T12:10:00",
          "2021-03-28T13:10:00",
          "2021-03-28T14:10:00",
          "2021-03-28T15:10:00",
          "2021-03-28T16:10:00",
          "2021-03-28T17:10:00",
          "2021-03-28T18:10:00",
          "2021-03-28T19:10:00",
          "2021-03-28T20:10:00",
          "2021-03-28T21:10:00",
          "2021-03-28T22:10:00",
          "2021-03-28T23:10:00",
          "2021-03-29T00:10:00",
          "2021-03-29T01:10:00",
          "2021-03-29T02:10:00",
          "2021-03-29T03:10:00",
          "2021-03-29T04:10:00",
          "2021-03-29T05:10:00",
          "2021-03-29T06:10:00",
          "2021-03-29T07:10:00",
          "2021-03-29T08:10:00",
          "2021-03-29T09:10:00",
          "2021-03-29T10:10:00",
          "2021-03-29T11:10:00",
          "2021-03-29T12:10:00",
          "2021-03-29T13:10:00"
         ],
         "xaxis": "x",
         "y": [
          33.21,
          34.07,
          34.82,
          35.05,
          35.41,
          34.7,
          33.44,
          30.52,
          28.02,
          26.6,
          25.62,
          24.84,
          23.67,
          22.73,
          22.43,
          21.86,
          21.15,
          20.72,
          20.55,
          21.59,
          21.59,
          30.43,
          32.55,
          33.64,
          34.68,
          35.34,
          35.96,
          35.97,
          35.29,
          33.96,
          30.8,
          28.81,
          28.48,
          26.53,
          25.36,
          23.62,
          23.48,
          23.09,
          22.06,
          22.06,
          22.06,
          22.06,
          22.06,
          22.06,
          22.06,
          22.06,
          22.06,
          22.06,
          22.06,
          22.06,
          22.06,
          22.06,
          22.06,
          22.06,
          22.06,
          22.06,
          22.06,
          22.06,
          22.06,
          22.06,
          22.06,
          22.06,
          22.06,
          22.06,
          22.06,
          22.06,
          22.06,
          26.93,
          31.06,
          33.18,
          35.04
         ],
         "yaxis": "y"
        },
        {
         "hovertemplate": "deviceName=Bhumkar Chowk<br>observationDateTime=%{x}<br>airTemperature.avgOverTime=%{y}<extra></extra>",
         "legendgroup": "Bhumkar Chowk",
         "line": {
          "color": "#FECB52",
          "dash": "solid"
         },
         "mode": "lines",
         "name": "Bhumkar Chowk",
         "orientation": "v",
         "showlegend": true,
         "type": "scatter",
         "x": [
          "2021-03-26T13:10:00",
          "2021-03-26T14:10:00",
          "2021-03-26T15:10:00",
          "2021-03-26T16:10:00",
          "2021-03-26T17:10:00",
          "2021-03-26T18:10:00",
          "2021-03-26T19:10:00",
          "2021-03-26T20:10:00",
          "2021-03-26T21:10:00",
          "2021-03-26T22:10:00",
          "2021-03-26T23:10:00",
          "2021-03-27T00:10:00",
          "2021-03-27T02:10:00",
          "2021-03-27T03:10:00",
          "2021-03-27T04:10:00",
          "2021-03-27T05:10:00",
          "2021-03-27T06:10:00",
          "2021-03-27T07:10:00",
          "2021-03-27T08:10:00",
          "2021-03-27T09:10:00",
          "2021-03-27T10:10:00",
          "2021-03-27T11:10:00",
          "2021-03-27T12:10:00",
          "2021-03-27T13:10:00",
          "2021-03-27T14:10:00",
          "2021-03-27T15:10:00",
          "2021-03-27T16:10:00",
          "2021-03-27T17:10:00",
          "2021-03-27T18:10:00",
          "2021-03-27T19:10:00",
          "2021-03-27T20:10:00",
          "2021-03-27T21:10:00",
          "2021-03-27T22:10:00",
          "2021-03-27T23:10:00",
          "2021-03-28T00:10:00",
          "2021-03-28T02:10:00",
          "2021-03-28T03:10:00",
          "2021-03-28T04:10:00",
          "2021-03-28T05:10:00",
          "2021-03-28T06:10:00",
          "2021-03-28T07:10:00",
          "2021-03-28T08:10:00",
          "2021-03-28T09:10:00",
          "2021-03-28T10:10:00",
          "2021-03-28T11:10:00",
          "2021-03-28T12:10:00",
          "2021-03-28T13:10:00",
          "2021-03-28T14:10:00",
          "2021-03-28T15:10:00",
          "2021-03-28T16:10:00",
          "2021-03-28T17:10:00",
          "2021-03-28T18:10:00",
          "2021-03-28T19:10:00",
          "2021-03-28T20:10:00",
          "2021-03-28T21:10:00",
          "2021-03-28T22:10:00",
          "2021-03-28T23:10:00",
          "2021-03-29T00:10:00",
          "2021-03-29T01:10:00",
          "2021-03-29T02:10:00",
          "2021-03-29T03:10:00",
          "2021-03-29T04:10:00",
          "2021-03-29T05:10:00",
          "2021-03-29T06:10:00",
          "2021-03-29T07:10:00",
          "2021-03-29T08:10:00",
          "2021-03-29T09:10:00",
          "2021-03-29T10:10:00",
          "2021-03-29T11:10:00",
          "2021-03-29T12:10:00",
          "2021-03-29T13:10:00"
         ],
         "xaxis": "x",
         "y": [
          31.36,
          32.17,
          32.81,
          33.48,
          33.35,
          33.6,
          33.14,
          31.96,
          30.6,
          29.75,
          28.81,
          28.1,
          26.33,
          25.64,
          25.02,
          24.35,
          23.9,
          23.4,
          23.35,
          23.74,
          23.74,
          28.14,
          30.4,
          32.14,
          32.87,
          33.52,
          33.96,
          34.15,
          34.03,
          33.57,
          32.35,
          30.56,
          30.01,
          29.44,
          28.28,
          26.56,
          25.54,
          25.14,
          24.44,
          24.44,
          24.44,
          24.44,
          24.44,
          24.44,
          24.44,
          24.44,
          24.44,
          24.44,
          24.44,
          24.44,
          24.44,
          24.44,
          24.44,
          24.44,
          24.44,
          24.44,
          24.44,
          24.44,
          24.44,
          24.44,
          24.44,
          24.44,
          24.44,
          24.44,
          24.44,
          24.44,
          24.44,
          24.94,
          27.49,
          31.01,
          33.06
         ],
         "yaxis": "y"
        }
       ],
       "layout": {
        "font": {
         "size": 12
        },
        "legend": {
         "title": {
          "text": "deviceName"
         },
         "tracegroupgap": 0
        },
        "margin": {
         "t": 60
        },
        "template": {
         "data": {
          "bar": [
           {
            "error_x": {
             "color": "#2a3f5f"
            },
            "error_y": {
             "color": "#2a3f5f"
            },
            "marker": {
             "line": {
              "color": "#E5ECF6",
              "width": 0.5
             }
            },
            "type": "bar"
           }
          ],
          "barpolar": [
           {
            "marker": {
             "line": {
              "color": "#E5ECF6",
              "width": 0.5
             }
            },
            "type": "barpolar"
           }
          ],
          "carpet": [
           {
            "aaxis": {
             "endlinecolor": "#2a3f5f",
             "gridcolor": "white",
             "linecolor": "white",
             "minorgridcolor": "white",
             "startlinecolor": "#2a3f5f"
            },
            "baxis": {
             "endlinecolor": "#2a3f5f",
             "gridcolor": "white",
             "linecolor": "white",
             "minorgridcolor": "white",
             "startlinecolor": "#2a3f5f"
            },
            "type": "carpet"
           }
          ],
          "choropleth": [
           {
            "colorbar": {
             "outlinewidth": 0,
             "ticks": ""
            },
            "type": "choropleth"
           }
          ],
          "contour": [
           {
            "colorbar": {
             "outlinewidth": 0,
             "ticks": ""
            },
            "colorscale": [
             [
              0,
              "#0d0887"
             ],
             [
              0.1111111111111111,
              "#46039f"
             ],
             [
              0.2222222222222222,
              "#7201a8"
             ],
             [
              0.3333333333333333,
              "#9c179e"
             ],
             [
              0.4444444444444444,
              "#bd3786"
             ],
             [
              0.5555555555555556,
              "#d8576b"
             ],
             [
              0.6666666666666666,
              "#ed7953"
             ],
             [
              0.7777777777777778,
              "#fb9f3a"
             ],
             [
              0.8888888888888888,
              "#fdca26"
             ],
             [
              1,
              "#f0f921"
             ]
            ],
            "type": "contour"
           }
          ],
          "contourcarpet": [
           {
            "colorbar": {
             "outlinewidth": 0,
             "ticks": ""
            },
            "type": "contourcarpet"
           }
          ],
          "heatmap": [
           {
            "colorbar": {
             "outlinewidth": 0,
             "ticks": ""
            },
            "colorscale": [
             [
              0,
              "#0d0887"
             ],
             [
              0.1111111111111111,
              "#46039f"
             ],
             [
              0.2222222222222222,
              "#7201a8"
             ],
             [
              0.3333333333333333,
              "#9c179e"
             ],
             [
              0.4444444444444444,
              "#bd3786"
             ],
             [
              0.5555555555555556,
              "#d8576b"
             ],
             [
              0.6666666666666666,
              "#ed7953"
             ],
             [
              0.7777777777777778,
              "#fb9f3a"
             ],
             [
              0.8888888888888888,
              "#fdca26"
             ],
             [
              1,
              "#f0f921"
             ]
            ],
            "type": "heatmap"
           }
          ],
          "heatmapgl": [
           {
            "colorbar": {
             "outlinewidth": 0,
             "ticks": ""
            },
            "colorscale": [
             [
              0,
              "#0d0887"
             ],
             [
              0.1111111111111111,
              "#46039f"
             ],
             [
              0.2222222222222222,
              "#7201a8"
             ],
             [
              0.3333333333333333,
              "#9c179e"
             ],
             [
              0.4444444444444444,
              "#bd3786"
             ],
             [
              0.5555555555555556,
              "#d8576b"
             ],
             [
              0.6666666666666666,
              "#ed7953"
             ],
             [
              0.7777777777777778,
              "#fb9f3a"
             ],
             [
              0.8888888888888888,
              "#fdca26"
             ],
             [
              1,
              "#f0f921"
             ]
            ],
            "type": "heatmapgl"
           }
          ],
          "histogram": [
           {
            "marker": {
             "colorbar": {
              "outlinewidth": 0,
              "ticks": ""
             }
            },
            "type": "histogram"
           }
          ],
          "histogram2d": [
           {
            "colorbar": {
             "outlinewidth": 0,
             "ticks": ""
            },
            "colorscale": [
             [
              0,
              "#0d0887"
             ],
             [
              0.1111111111111111,
              "#46039f"
             ],
             [
              0.2222222222222222,
              "#7201a8"
             ],
             [
              0.3333333333333333,
              "#9c179e"
             ],
             [
              0.4444444444444444,
              "#bd3786"
             ],
             [
              0.5555555555555556,
              "#d8576b"
             ],
             [
              0.6666666666666666,
              "#ed7953"
             ],
             [
              0.7777777777777778,
              "#fb9f3a"
             ],
             [
              0.8888888888888888,
              "#fdca26"
             ],
             [
              1,
              "#f0f921"
             ]
            ],
            "type": "histogram2d"
           }
          ],
          "histogram2dcontour": [
           {
            "colorbar": {
             "outlinewidth": 0,
             "ticks": ""
            },
            "colorscale": [
             [
              0,
              "#0d0887"
             ],
             [
              0.1111111111111111,
              "#46039f"
             ],
             [
              0.2222222222222222,
              "#7201a8"
             ],
             [
              0.3333333333333333,
              "#9c179e"
             ],
             [
              0.4444444444444444,
              "#bd3786"
             ],
             [
              0.5555555555555556,
              "#d8576b"
             ],
             [
              0.6666666666666666,
              "#ed7953"
             ],
             [
              0.7777777777777778,
              "#fb9f3a"
             ],
             [
              0.8888888888888888,
              "#fdca26"
             ],
             [
              1,
              "#f0f921"
             ]
            ],
            "type": "histogram2dcontour"
           }
          ],
          "mesh3d": [
           {
            "colorbar": {
             "outlinewidth": 0,
             "ticks": ""
            },
            "type": "mesh3d"
           }
          ],
          "parcoords": [
           {
            "line": {
             "colorbar": {
              "outlinewidth": 0,
              "ticks": ""
             }
            },
            "type": "parcoords"
           }
          ],
          "pie": [
           {
            "automargin": true,
            "type": "pie"
           }
          ],
          "scatter": [
           {
            "marker": {
             "colorbar": {
              "outlinewidth": 0,
              "ticks": ""
             }
            },
            "type": "scatter"
           }
          ],
          "scatter3d": [
           {
            "line": {
             "colorbar": {
              "outlinewidth": 0,
              "ticks": ""
             }
            },
            "marker": {
             "colorbar": {
              "outlinewidth": 0,
              "ticks": ""
             }
            },
            "type": "scatter3d"
           }
          ],
          "scattercarpet": [
           {
            "marker": {
             "colorbar": {
              "outlinewidth": 0,
              "ticks": ""
             }
            },
            "type": "scattercarpet"
           }
          ],
          "scattergeo": [
           {
            "marker": {
             "colorbar": {
              "outlinewidth": 0,
              "ticks": ""
             }
            },
            "type": "scattergeo"
           }
          ],
          "scattergl": [
           {
            "marker": {
             "colorbar": {
              "outlinewidth": 0,
              "ticks": ""
             }
            },
            "type": "scattergl"
           }
          ],
          "scattermapbox": [
           {
            "marker": {
             "colorbar": {
              "outlinewidth": 0,
              "ticks": ""
             }
            },
            "type": "scattermapbox"
           }
          ],
          "scatterpolar": [
           {
            "marker": {
             "colorbar": {
              "outlinewidth": 0,
              "ticks": ""
             }
            },
            "type": "scatterpolar"
           }
          ],
          "scatterpolargl": [
           {
            "marker": {
             "colorbar": {
              "outlinewidth": 0,
              "ticks": ""
             }
            },
            "type": "scatterpolargl"
           }
          ],
          "scatterternary": [
           {
            "marker": {
             "colorbar": {
              "outlinewidth": 0,
              "ticks": ""
             }
            },
            "type": "scatterternary"
           }
          ],
          "surface": [
           {
            "colorbar": {
             "outlinewidth": 0,
             "ticks": ""
            },
            "colorscale": [
             [
              0,
              "#0d0887"
             ],
             [
              0.1111111111111111,
              "#46039f"
             ],
             [
              0.2222222222222222,
              "#7201a8"
             ],
             [
              0.3333333333333333,
              "#9c179e"
             ],
             [
              0.4444444444444444,
              "#bd3786"
             ],
             [
              0.5555555555555556,
              "#d8576b"
             ],
             [
              0.6666666666666666,
              "#ed7953"
             ],
             [
              0.7777777777777778,
              "#fb9f3a"
             ],
             [
              0.8888888888888888,
              "#fdca26"
             ],
             [
              1,
              "#f0f921"
             ]
            ],
            "type": "surface"
           }
          ],
          "table": [
           {
            "cells": {
             "fill": {
              "color": "#EBF0F8"
             },
             "line": {
              "color": "white"
             }
            },
            "header": {
             "fill": {
              "color": "#C8D4E3"
             },
             "line": {
              "color": "white"
             }
            },
            "type": "table"
           }
          ]
         },
         "layout": {
          "annotationdefaults": {
           "arrowcolor": "#2a3f5f",
           "arrowhead": 0,
           "arrowwidth": 1
          },
          "autotypenumbers": "strict",
          "coloraxis": {
           "colorbar": {
            "outlinewidth": 0,
            "ticks": ""
           }
          },
          "colorscale": {
           "diverging": [
            [
             0,
             "#8e0152"
            ],
            [
             0.1,
             "#c51b7d"
            ],
            [
             0.2,
             "#de77ae"
            ],
            [
             0.3,
             "#f1b6da"
            ],
            [
             0.4,
             "#fde0ef"
            ],
            [
             0.5,
             "#f7f7f7"
            ],
            [
             0.6,
             "#e6f5d0"
            ],
            [
             0.7,
             "#b8e186"
            ],
            [
             0.8,
             "#7fbc41"
            ],
            [
             0.9,
             "#4d9221"
            ],
            [
             1,
             "#276419"
            ]
           ],
           "sequential": [
            [
             0,
             "#0d0887"
            ],
            [
             0.1111111111111111,
             "#46039f"
            ],
            [
             0.2222222222222222,
             "#7201a8"
            ],
            [
             0.3333333333333333,
             "#9c179e"
            ],
            [
             0.4444444444444444,
             "#bd3786"
            ],
            [
             0.5555555555555556,
             "#d8576b"
            ],
            [
             0.6666666666666666,
             "#ed7953"
            ],
            [
             0.7777777777777778,
             "#fb9f3a"
            ],
            [
             0.8888888888888888,
             "#fdca26"
            ],
            [
             1,
             "#f0f921"
            ]
           ],
           "sequentialminus": [
            [
             0,
             "#0d0887"
            ],
            [
             0.1111111111111111,
             "#46039f"
            ],
            [
             0.2222222222222222,
             "#7201a8"
            ],
            [
             0.3333333333333333,
             "#9c179e"
            ],
            [
             0.4444444444444444,
             "#bd3786"
            ],
            [
             0.5555555555555556,
             "#d8576b"
            ],
            [
             0.6666666666666666,
             "#ed7953"
            ],
            [
             0.7777777777777778,
             "#fb9f3a"
            ],
            [
             0.8888888888888888,
             "#fdca26"
            ],
            [
             1,
             "#f0f921"
            ]
           ]
          },
          "colorway": [
           "#636efa",
           "#EF553B",
           "#00cc96",
           "#ab63fa",
           "#FFA15A",
           "#19d3f3",
           "#FF6692",
           "#B6E880",
           "#FF97FF",
           "#FECB52"
          ],
          "font": {
           "color": "#2a3f5f"
          },
          "geo": {
           "bgcolor": "white",
           "lakecolor": "white",
           "landcolor": "#E5ECF6",
           "showlakes": true,
           "showland": true,
           "subunitcolor": "white"
          },
          "hoverlabel": {
           "align": "left"
          },
          "hovermode": "closest",
          "mapbox": {
           "style": "light"
          },
          "paper_bgcolor": "white",
          "plot_bgcolor": "#E5ECF6",
          "polar": {
           "angularaxis": {
            "gridcolor": "white",
            "linecolor": "white",
            "ticks": ""
           },
           "bgcolor": "#E5ECF6",
           "radialaxis": {
            "gridcolor": "white",
            "linecolor": "white",
            "ticks": ""
           }
          },
          "scene": {
           "xaxis": {
            "backgroundcolor": "#E5ECF6",
            "gridcolor": "white",
            "gridwidth": 2,
            "linecolor": "white",
            "showbackground": true,
            "ticks": "",
            "zerolinecolor": "white"
           },
           "yaxis": {
            "backgroundcolor": "#E5ECF6",
            "gridcolor": "white",
            "gridwidth": 2,
            "linecolor": "white",
            "showbackground": true,
            "ticks": "",
            "zerolinecolor": "white"
           },
           "zaxis": {
            "backgroundcolor": "#E5ECF6",
            "gridcolor": "white",
            "gridwidth": 2,
            "linecolor": "white",
            "showbackground": true,
            "ticks": "",
            "zerolinecolor": "white"
           }
          },
          "shapedefaults": {
           "line": {
            "color": "#2a3f5f"
           }
          },
          "ternary": {
           "aaxis": {
            "gridcolor": "white",
            "linecolor": "white",
            "ticks": ""
           },
           "baxis": {
            "gridcolor": "white",
            "linecolor": "white",
            "ticks": ""
           },
           "bgcolor": "#E5ECF6",
           "caxis": {
            "gridcolor": "white",
            "linecolor": "white",
            "ticks": ""
           }
          },
          "title": {
           "x": 0.05
          },
          "xaxis": {
           "automargin": true,
           "gridcolor": "white",
           "linecolor": "white",
           "ticks": "",
           "title": {
            "standoff": 15
           },
           "zerolinecolor": "white",
           "zerolinewidth": 2
          },
          "yaxis": {
           "automargin": true,
           "gridcolor": "white",
           "linecolor": "white",
           "ticks": "",
           "title": {
            "standoff": 15
           },
           "zerolinecolor": "white",
           "zerolinewidth": 2
          }
         }
        },
        "xaxis": {
         "anchor": "y",
         "domain": [
          0,
          1
         ],
         "rangeslider": {
          "visible": true
         },
         "title": {
          "text": "Observed Timestamp"
         }
        },
        "yaxis": {
         "anchor": "x",
         "domain": [
          0,
          1
         ],
         "title": {
          "text": "Sensor reading for AIRTEMPERATURE.AVGOVERTIME"
         }
        }
       }
      },
      "text/html": [
       "<div>                            <div id=\"717a073c-edad-4a2c-8d9e-0f29b44bd66d\" class=\"plotly-graph-div\" style=\"height:525px; width:100%;\"></div>            <script type=\"text/javascript\">                require([\"plotly\"], function(Plotly) {                    window.PLOTLYENV=window.PLOTLYENV || {};                                    if (document.getElementById(\"717a073c-edad-4a2c-8d9e-0f29b44bd66d\")) {                    Plotly.newPlot(                        \"717a073c-edad-4a2c-8d9e-0f29b44bd66d\",                        [{\"hovertemplate\": \"deviceName=Nigadi<br>observationDateTime=%{x}<br>airTemperature.avgOverTime=%{y}<extra></extra>\", \"legendgroup\": \"Nigadi\", \"line\": {\"color\": \"#636efa\", \"dash\": \"solid\"}, \"mode\": \"lines\", \"name\": \"Nigadi\", \"orientation\": \"v\", \"showlegend\": true, \"type\": \"scatter\", \"x\": [\"2021-03-26T13:10:00\", \"2021-03-26T14:10:00\", \"2021-03-26T15:10:00\", \"2021-03-26T16:10:00\", \"2021-03-26T17:10:00\", \"2021-03-26T18:10:00\", \"2021-03-26T19:10:00\", \"2021-03-26T20:10:00\", \"2021-03-26T21:10:00\", \"2021-03-26T22:10:00\", \"2021-03-26T23:10:00\", \"2021-03-27T00:10:00\", \"2021-03-27T02:10:00\", \"2021-03-27T03:10:00\", \"2021-03-27T04:10:00\", \"2021-03-27T05:10:00\", \"2021-03-27T06:10:00\", \"2021-03-27T07:10:00\", \"2021-03-27T08:10:00\", \"2021-03-27T09:10:00\", \"2021-03-27T10:10:00\", \"2021-03-27T11:10:00\", \"2021-03-27T12:10:00\", \"2021-03-27T13:10:00\", \"2021-03-27T14:10:00\", \"2021-03-27T15:10:00\", \"2021-03-27T16:10:00\", \"2021-03-27T17:10:00\", \"2021-03-27T18:10:00\", \"2021-03-27T19:10:00\", \"2021-03-27T20:10:00\", \"2021-03-27T21:10:00\", \"2021-03-27T22:10:00\", \"2021-03-27T23:10:00\", \"2021-03-28T00:10:00\", \"2021-03-28T02:10:00\", \"2021-03-28T03:10:00\", \"2021-03-28T04:10:00\", \"2021-03-28T05:10:00\", \"2021-03-28T06:10:00\", \"2021-03-28T07:10:00\", \"2021-03-28T08:10:00\", \"2021-03-28T09:10:00\", \"2021-03-28T10:10:00\", \"2021-03-28T11:10:00\", \"2021-03-28T12:10:00\", \"2021-03-28T13:10:00\", \"2021-03-28T14:10:00\", \"2021-03-28T15:10:00\", \"2021-03-28T16:10:00\", \"2021-03-28T17:10:00\", \"2021-03-28T18:10:00\", \"2021-03-28T19:10:00\", \"2021-03-28T20:10:00\", \"2021-03-28T21:10:00\", \"2021-03-28T22:10:00\", \"2021-03-28T23:10:00\", \"2021-03-29T00:10:00\", \"2021-03-29T01:10:00\", \"2021-03-29T02:10:00\", \"2021-03-29T03:10:00\", \"2021-03-29T04:10:00\", \"2021-03-29T05:10:00\", \"2021-03-29T06:10:00\", \"2021-03-29T07:10:00\", \"2021-03-29T08:10:00\", \"2021-03-29T09:10:00\", \"2021-03-29T10:10:00\", \"2021-03-29T11:10:00\", \"2021-03-29T12:10:00\", \"2021-03-29T13:10:00\"], \"xaxis\": \"x\", \"y\": [null, null, null, null, null, null, null, null, null, null, null, null, null, null, null, null, null, null, null, null, null, null, null, null, null, null, null, null, null, null, null, null, null, null, null, null, null, null, null, null, null, null, null, null, null, null, null, null, null, null, null, null, null, null, null, null, null, null, null, null, null, null, null, null, null, null, null, null, null, null, null], \"yaxis\": \"y\"}, {\"hovertemplate\": \"deviceName=Shivajinagar<br>observationDateTime=%{x}<br>airTemperature.avgOverTime=%{y}<extra></extra>\", \"legendgroup\": \"Shivajinagar\", \"line\": {\"color\": \"#EF553B\", \"dash\": \"solid\"}, \"mode\": \"lines\", \"name\": \"Shivajinagar\", \"orientation\": \"v\", \"showlegend\": true, \"type\": \"scatter\", \"x\": [\"2021-03-26T13:10:00\", \"2021-03-26T14:10:00\", \"2021-03-26T15:10:00\", \"2021-03-26T16:10:00\", \"2021-03-26T17:10:00\", \"2021-03-26T18:10:00\", \"2021-03-26T19:10:00\", \"2021-03-26T20:10:00\", \"2021-03-26T21:10:00\", \"2021-03-26T22:10:00\", \"2021-03-26T23:10:00\", \"2021-03-27T00:10:00\", \"2021-03-27T02:10:00\", \"2021-03-27T03:10:00\", \"2021-03-27T04:10:00\", \"2021-03-27T05:10:00\", \"2021-03-27T06:10:00\", \"2021-03-27T07:10:00\", \"2021-03-27T08:10:00\", \"2021-03-27T09:10:00\", \"2021-03-27T10:10:00\", \"2021-03-27T11:10:00\", \"2021-03-27T12:10:00\", \"2021-03-27T13:10:00\", \"2021-03-27T14:10:00\", \"2021-03-27T15:10:00\", \"2021-03-27T16:10:00\", \"2021-03-27T17:10:00\", \"2021-03-27T18:10:00\", \"2021-03-27T19:10:00\", \"2021-03-27T20:10:00\", \"2021-03-27T21:10:00\", \"2021-03-27T22:10:00\", \"2021-03-27T23:10:00\", \"2021-03-28T00:10:00\", \"2021-03-28T02:10:00\", \"2021-03-28T03:10:00\", \"2021-03-28T04:10:00\", \"2021-03-28T05:10:00\", \"2021-03-28T06:10:00\", \"2021-03-28T07:10:00\", \"2021-03-28T08:10:00\", \"2021-03-28T09:10:00\", \"2021-03-28T10:10:00\", \"2021-03-28T11:10:00\", \"2021-03-28T12:10:00\", \"2021-03-28T13:10:00\", \"2021-03-28T14:10:00\", \"2021-03-28T15:10:00\", \"2021-03-28T16:10:00\", \"2021-03-28T17:10:00\", \"2021-03-28T18:10:00\", \"2021-03-28T19:10:00\", \"2021-03-28T20:10:00\", \"2021-03-28T21:10:00\", \"2021-03-28T22:10:00\", \"2021-03-28T23:10:00\", \"2021-03-29T00:10:00\", \"2021-03-29T01:10:00\", \"2021-03-29T02:10:00\", \"2021-03-29T03:10:00\", \"2021-03-29T04:10:00\", \"2021-03-29T05:10:00\", \"2021-03-29T06:10:00\", \"2021-03-29T07:10:00\", \"2021-03-29T08:10:00\", \"2021-03-29T09:10:00\", \"2021-03-29T10:10:00\", \"2021-03-29T11:10:00\", \"2021-03-29T12:10:00\", \"2021-03-29T13:10:00\"], \"xaxis\": \"x\", \"y\": [null, null, null, null, null, null, null, null, null, null, null, null, null, null, null, null, null, null, null, null, null, null, null, null, null, null, null, null, null, null, null, null, null, null, null, null, null, null, null, null, null, null, null, null, null, null, null, null, null, null, null, null, null, null, null, null, null, null, null, null, null, null, null, null, null, null, null, null, null, null, null], \"yaxis\": \"y\"}, {\"hovertemplate\": \"deviceName=Manjari<br>observationDateTime=%{x}<br>airTemperature.avgOverTime=%{y}<extra></extra>\", \"legendgroup\": \"Manjari\", \"line\": {\"color\": \"#00cc96\", \"dash\": \"solid\"}, \"mode\": \"lines\", \"name\": \"Manjari\", \"orientation\": \"v\", \"showlegend\": true, \"type\": \"scatter\", \"x\": [\"2021-03-26T13:10:00\", \"2021-03-26T14:10:00\", \"2021-03-26T15:10:00\", \"2021-03-26T16:10:00\", \"2021-03-26T17:10:00\", \"2021-03-26T18:10:00\", \"2021-03-26T19:10:00\", \"2021-03-26T20:10:00\", \"2021-03-26T21:10:00\", \"2021-03-26T22:10:00\", \"2021-03-26T23:10:00\", \"2021-03-27T00:10:00\", \"2021-03-27T02:10:00\", \"2021-03-27T03:10:00\", \"2021-03-27T04:10:00\", \"2021-03-27T05:10:00\", \"2021-03-27T06:10:00\", \"2021-03-27T07:10:00\", \"2021-03-27T08:10:00\", \"2021-03-27T09:10:00\", \"2021-03-27T10:10:00\", \"2021-03-27T11:10:00\", \"2021-03-27T12:10:00\", \"2021-03-27T13:10:00\", \"2021-03-27T14:10:00\", \"2021-03-27T15:10:00\", \"2021-03-27T16:10:00\", \"2021-03-27T17:10:00\", \"2021-03-27T18:10:00\", \"2021-03-27T19:10:00\", \"2021-03-27T20:10:00\", \"2021-03-27T21:10:00\", \"2021-03-27T22:10:00\", \"2021-03-27T23:10:00\", \"2021-03-28T00:10:00\", \"2021-03-28T02:10:00\", \"2021-03-28T03:10:00\", \"2021-03-28T04:10:00\", \"2021-03-28T05:10:00\", \"2021-03-28T06:10:00\", \"2021-03-28T07:10:00\", \"2021-03-28T08:10:00\", \"2021-03-28T09:10:00\", \"2021-03-28T10:10:00\", \"2021-03-28T11:10:00\", \"2021-03-28T12:10:00\", \"2021-03-28T13:10:00\", \"2021-03-28T14:10:00\", \"2021-03-28T15:10:00\", \"2021-03-28T16:10:00\", \"2021-03-28T17:10:00\", \"2021-03-28T18:10:00\", \"2021-03-28T19:10:00\", \"2021-03-28T20:10:00\", \"2021-03-28T21:10:00\", \"2021-03-28T22:10:00\", \"2021-03-28T23:10:00\", \"2021-03-29T00:10:00\", \"2021-03-29T01:10:00\", \"2021-03-29T02:10:00\", \"2021-03-29T03:10:00\", \"2021-03-29T04:10:00\", \"2021-03-29T05:10:00\", \"2021-03-29T06:10:00\", \"2021-03-29T07:10:00\", \"2021-03-29T08:10:00\", \"2021-03-29T09:10:00\", \"2021-03-29T10:10:00\", \"2021-03-29T11:10:00\", \"2021-03-29T12:10:00\", \"2021-03-29T13:10:00\"], \"xaxis\": \"x\", \"y\": [null, null, null, null, null, null, null, null, null, null, null, null, null, null, null, null, null, null, null, null, null, null, null, null, null, null, null, null, null, null, null, null, null, null, null, null, null, null, null, null, null, null, null, null, null, null, null, null, null, null, null, null, null, null, null, null, null, null, null, null, null, null, null, null, null, null, null, null, null, null, null], \"yaxis\": \"y\"}, {\"hovertemplate\": \"deviceName=Hadapsar<br>observationDateTime=%{x}<br>airTemperature.avgOverTime=%{y}<extra></extra>\", \"legendgroup\": \"Hadapsar\", \"line\": {\"color\": \"#ab63fa\", \"dash\": \"solid\"}, \"mode\": \"lines\", \"name\": \"Hadapsar\", \"orientation\": \"v\", \"showlegend\": true, \"type\": \"scatter\", \"x\": [\"2021-03-26T13:10:00\", \"2021-03-26T14:10:00\", \"2021-03-26T15:10:00\", \"2021-03-26T16:10:00\", \"2021-03-26T17:10:00\", \"2021-03-26T18:10:00\", \"2021-03-26T19:10:00\", \"2021-03-26T20:10:00\", \"2021-03-26T21:10:00\", \"2021-03-26T22:10:00\", \"2021-03-26T23:10:00\", \"2021-03-27T00:10:00\", \"2021-03-27T02:10:00\", \"2021-03-27T03:10:00\", \"2021-03-27T04:10:00\", \"2021-03-27T05:10:00\", \"2021-03-27T06:10:00\", \"2021-03-27T07:10:00\", \"2021-03-27T08:10:00\", \"2021-03-27T09:10:00\", \"2021-03-27T10:10:00\", \"2021-03-27T11:10:00\", \"2021-03-27T12:10:00\", \"2021-03-27T13:10:00\", \"2021-03-27T14:10:00\", \"2021-03-27T15:10:00\", \"2021-03-27T16:10:00\", \"2021-03-27T17:10:00\", \"2021-03-27T18:10:00\", \"2021-03-27T19:10:00\", \"2021-03-27T20:10:00\", \"2021-03-27T21:10:00\", \"2021-03-27T22:10:00\", \"2021-03-27T23:10:00\", \"2021-03-28T00:10:00\", \"2021-03-28T02:10:00\", \"2021-03-28T03:10:00\", \"2021-03-28T04:10:00\", \"2021-03-28T05:10:00\", \"2021-03-28T06:10:00\", \"2021-03-28T07:10:00\", \"2021-03-28T08:10:00\", \"2021-03-28T09:10:00\", \"2021-03-28T10:10:00\", \"2021-03-28T11:10:00\", \"2021-03-28T12:10:00\", \"2021-03-28T13:10:00\", \"2021-03-28T14:10:00\", \"2021-03-28T15:10:00\", \"2021-03-28T16:10:00\", \"2021-03-28T17:10:00\", \"2021-03-28T18:10:00\", \"2021-03-28T19:10:00\", \"2021-03-28T20:10:00\", \"2021-03-28T21:10:00\", \"2021-03-28T22:10:00\", \"2021-03-28T23:10:00\", \"2021-03-29T00:10:00\", \"2021-03-29T01:10:00\", \"2021-03-29T02:10:00\", \"2021-03-29T03:10:00\", \"2021-03-29T04:10:00\", \"2021-03-29T05:10:00\", \"2021-03-29T06:10:00\", \"2021-03-29T07:10:00\", \"2021-03-29T08:10:00\", \"2021-03-29T09:10:00\", \"2021-03-29T10:10:00\", \"2021-03-29T11:10:00\", \"2021-03-29T12:10:00\", \"2021-03-29T13:10:00\"], \"xaxis\": \"x\", \"y\": [33.89, 34.53, 35.35, 35.82, null, null, 34.44, null, null, null, null, null, null, 25.61, 25.18, null, null, null, null, null, null, null, null, 34.16, 35.32, null, 36.78, null, 36.23, 35.43, null, null, null, 30.7, null, null, null, null, 25.03, 25.03, 25.03, 25.03, 25.03, 25.03, 25.03, 25.03, 25.03, 25.03, 25.03, 25.03, 25.03, 25.03, 25.03, 25.03, 25.03, 25.03, 25.03, 25.03, 25.03, 25.03, 25.03, 25.03, 25.03, 25.03, 25.03, 25.03, 25.03, 27.52, 30.47, 32.88, 35.61], \"yaxis\": \"y\"}, {\"hovertemplate\": \"deviceName=Bhosari<br>observationDateTime=%{x}<br>airTemperature.avgOverTime=%{y}<extra></extra>\", \"legendgroup\": \"Bhosari\", \"line\": {\"color\": \"#FFA15A\", \"dash\": \"solid\"}, \"mode\": \"lines\", \"name\": \"Bhosari\", \"orientation\": \"v\", \"showlegend\": true, \"type\": \"scatter\", \"x\": [\"2021-03-26T13:10:00\", \"2021-03-26T14:10:00\", \"2021-03-26T15:10:00\", \"2021-03-26T16:10:00\", \"2021-03-26T17:10:00\", \"2021-03-26T18:10:00\", \"2021-03-26T19:10:00\", \"2021-03-26T20:10:00\", \"2021-03-26T21:10:00\", \"2021-03-26T22:10:00\", \"2021-03-26T23:10:00\", \"2021-03-27T00:10:00\", \"2021-03-27T02:10:00\", \"2021-03-27T03:10:00\", \"2021-03-27T04:10:00\", \"2021-03-27T05:10:00\", \"2021-03-27T06:10:00\", \"2021-03-27T07:10:00\", \"2021-03-27T08:10:00\", \"2021-03-27T09:10:00\", \"2021-03-27T10:10:00\", \"2021-03-27T11:10:00\", \"2021-03-27T12:10:00\", \"2021-03-27T13:10:00\", \"2021-03-27T14:10:00\", \"2021-03-27T15:10:00\", \"2021-03-27T16:10:00\", \"2021-03-27T17:10:00\", \"2021-03-27T18:10:00\", \"2021-03-27T19:10:00\", \"2021-03-27T20:10:00\", \"2021-03-27T21:10:00\", \"2021-03-27T22:10:00\", \"2021-03-27T23:10:00\", \"2021-03-28T00:10:00\", \"2021-03-28T02:10:00\", \"2021-03-28T03:10:00\", \"2021-03-28T04:10:00\", \"2021-03-28T05:10:00\", \"2021-03-28T06:10:00\", \"2021-03-28T07:10:00\", \"2021-03-28T08:10:00\", \"2021-03-28T09:10:00\", \"2021-03-28T10:10:00\", \"2021-03-28T11:10:00\", \"2021-03-28T12:10:00\", \"2021-03-28T13:10:00\", \"2021-03-28T14:10:00\", \"2021-03-28T15:10:00\", \"2021-03-28T16:10:00\", \"2021-03-28T17:10:00\", \"2021-03-28T18:10:00\", \"2021-03-28T19:10:00\", \"2021-03-28T20:10:00\", \"2021-03-28T21:10:00\", \"2021-03-28T22:10:00\", \"2021-03-28T23:10:00\", \"2021-03-29T00:10:00\", \"2021-03-29T01:10:00\", \"2021-03-29T02:10:00\", \"2021-03-29T03:10:00\", \"2021-03-29T04:10:00\", \"2021-03-29T05:10:00\", \"2021-03-29T06:10:00\", \"2021-03-29T07:10:00\", \"2021-03-29T08:10:00\", \"2021-03-29T09:10:00\", \"2021-03-29T10:10:00\", \"2021-03-29T11:10:00\", \"2021-03-29T12:10:00\", \"2021-03-29T13:10:00\"], \"xaxis\": \"x\", \"y\": [13.43, 12.44, 11.91, 12.15, 12.48, 12.8, 13.42, 15.53, 17.91, 20.82, 23.36, 25.28, 30.88, 33.75, 35.21, 37.33, 41.16, 43.13, 43.39, 41.95, 41.95, 17.95, 14.37, 12.16, 12.18, 12.14, 11.38, 10.2, 10.31, 11.09, 14.17, 19.14, 17.88, 19.63, 24.29, 30.47, 32.27, 34.35, 37.01, 37.01, 37.01, 37.01, 37.01, 37.01, 37.01, 37.01, 37.01, 37.01, 37.01, 37.01, 37.01, 37.01, 37.01, 37.01, 37.01, 37.01, 37.01, 37.01, 37.01, 37.01, 37.01, 37.01, 37.01, 37.01, 37.01, 37.01, 37.01, 45.31, 28.58, 17.78, 12.26], \"yaxis\": \"y\"}, {\"hovertemplate\": \"deviceName=Lohgaon<br>observationDateTime=%{x}<br>airTemperature.avgOverTime=%{y}<extra></extra>\", \"legendgroup\": \"Lohgaon\", \"line\": {\"color\": \"#19d3f3\", \"dash\": \"solid\"}, \"mode\": \"lines\", \"name\": \"Lohgaon\", \"orientation\": \"v\", \"showlegend\": true, \"type\": \"scatter\", \"x\": [\"2021-03-26T13:10:00\", \"2021-03-26T14:10:00\", \"2021-03-26T15:10:00\", \"2021-03-26T16:10:00\", \"2021-03-26T17:10:00\", \"2021-03-26T18:10:00\", \"2021-03-26T19:10:00\", \"2021-03-26T20:10:00\", \"2021-03-26T21:10:00\", \"2021-03-26T22:10:00\", \"2021-03-26T23:10:00\", \"2021-03-27T00:10:00\", \"2021-03-27T02:10:00\", \"2021-03-27T03:10:00\", \"2021-03-27T04:10:00\", \"2021-03-27T05:10:00\", \"2021-03-27T06:10:00\", \"2021-03-27T07:10:00\", \"2021-03-27T08:10:00\", \"2021-03-27T09:10:00\", \"2021-03-27T10:10:00\", \"2021-03-27T11:10:00\", \"2021-03-27T12:10:00\", \"2021-03-27T13:10:00\", \"2021-03-27T14:10:00\", \"2021-03-27T15:10:00\", \"2021-03-27T16:10:00\", \"2021-03-27T17:10:00\", \"2021-03-27T18:10:00\", \"2021-03-27T19:10:00\", \"2021-03-27T20:10:00\", \"2021-03-27T21:10:00\", \"2021-03-27T22:10:00\", \"2021-03-27T23:10:00\", \"2021-03-28T00:10:00\", \"2021-03-28T02:10:00\", \"2021-03-28T03:10:00\", \"2021-03-28T04:10:00\", \"2021-03-28T05:10:00\", \"2021-03-28T06:10:00\", \"2021-03-28T07:10:00\", \"2021-03-28T08:10:00\", \"2021-03-28T09:10:00\", \"2021-03-28T10:10:00\", \"2021-03-28T11:10:00\", \"2021-03-28T12:10:00\", \"2021-03-28T13:10:00\", \"2021-03-28T14:10:00\", \"2021-03-28T15:10:00\", \"2021-03-28T16:10:00\", \"2021-03-28T17:10:00\", \"2021-03-28T18:10:00\", \"2021-03-28T19:10:00\", \"2021-03-28T20:10:00\", \"2021-03-28T21:10:00\", \"2021-03-28T22:10:00\", \"2021-03-28T23:10:00\", \"2021-03-29T00:10:00\", \"2021-03-29T01:10:00\", \"2021-03-29T02:10:00\", \"2021-03-29T03:10:00\", \"2021-03-29T04:10:00\", \"2021-03-29T05:10:00\", \"2021-03-29T06:10:00\", \"2021-03-29T07:10:00\", \"2021-03-29T08:10:00\", \"2021-03-29T09:10:00\", \"2021-03-29T10:10:00\", \"2021-03-29T11:10:00\", \"2021-03-29T12:10:00\", \"2021-03-29T13:10:00\"], \"xaxis\": \"x\", \"y\": [34.31, 35.72, 36.52, 36.48, 36.98, 36.95, 36.46, 34.64, 32.69, 31.14, 29.92, 28.65, 26.59, 25.54, 25.0, 24.43, 23.83, 23.53, 23.21, 24.36, 24.36, 31.57, 33.51, 35.19, 36.02, 36.9, 37.61, 38.02, 37.91, 36.88, 34.83, 32.46, 31.44, 30.44, 29.47, 26.78, 25.86, 25.23, 24.8, 24.8, 24.8, 24.8, 24.8, 24.8, 24.8, 24.8, 24.8, 24.8, 24.8, 24.8, 24.8, 24.8, 24.8, 24.8, 24.8, 24.8, 24.8, 24.8, 24.8, 24.8, 24.8, 24.8, 24.8, 24.8, 24.8, 24.8, 24.8, 28.5, 31.88, 35.09, 37.72], \"yaxis\": \"y\"}, {\"hovertemplate\": \"deviceName=Alandi<br>observationDateTime=%{x}<br>airTemperature.avgOverTime=%{y}<extra></extra>\", \"legendgroup\": \"Alandi\", \"line\": {\"color\": \"#FF6692\", \"dash\": \"solid\"}, \"mode\": \"lines\", \"name\": \"Alandi\", \"orientation\": \"v\", \"showlegend\": true, \"type\": \"scatter\", \"x\": [\"2021-03-26T13:10:00\", \"2021-03-26T14:10:00\", \"2021-03-26T15:10:00\", \"2021-03-26T16:10:00\", \"2021-03-26T17:10:00\", \"2021-03-26T18:10:00\", \"2021-03-26T19:10:00\", \"2021-03-26T20:10:00\", \"2021-03-26T21:10:00\", \"2021-03-26T22:10:00\", \"2021-03-26T23:10:00\", \"2021-03-27T00:10:00\", \"2021-03-27T02:10:00\", \"2021-03-27T03:10:00\", \"2021-03-27T04:10:00\", \"2021-03-27T05:10:00\", \"2021-03-27T06:10:00\", \"2021-03-27T07:10:00\", \"2021-03-27T08:10:00\", \"2021-03-27T09:10:00\", \"2021-03-27T10:10:00\", \"2021-03-27T11:10:00\", \"2021-03-27T12:10:00\", \"2021-03-27T13:10:00\", \"2021-03-27T14:10:00\", \"2021-03-27T15:10:00\", \"2021-03-27T16:10:00\", \"2021-03-27T17:10:00\", \"2021-03-27T18:10:00\", \"2021-03-27T19:10:00\", \"2021-03-27T20:10:00\", \"2021-03-27T21:10:00\", \"2021-03-27T22:10:00\", \"2021-03-27T23:10:00\", \"2021-03-28T00:10:00\", \"2021-03-28T02:10:00\", \"2021-03-28T03:10:00\", \"2021-03-28T04:10:00\", \"2021-03-28T05:10:00\", \"2021-03-28T06:10:00\", \"2021-03-28T07:10:00\", \"2021-03-28T08:10:00\", \"2021-03-28T09:10:00\", \"2021-03-28T10:10:00\", \"2021-03-28T11:10:00\", \"2021-03-28T12:10:00\", \"2021-03-28T13:10:00\", \"2021-03-28T14:10:00\", \"2021-03-28T15:10:00\", \"2021-03-28T16:10:00\", \"2021-03-28T17:10:00\", \"2021-03-28T18:10:00\", \"2021-03-28T19:10:00\", \"2021-03-28T20:10:00\", \"2021-03-28T21:10:00\", \"2021-03-28T22:10:00\", \"2021-03-28T23:10:00\", \"2021-03-29T00:10:00\", \"2021-03-29T01:10:00\", \"2021-03-29T02:10:00\", \"2021-03-29T03:10:00\", \"2021-03-29T04:10:00\", \"2021-03-29T05:10:00\", \"2021-03-29T06:10:00\", \"2021-03-29T07:10:00\", \"2021-03-29T08:10:00\", \"2021-03-29T09:10:00\", \"2021-03-29T10:10:00\", \"2021-03-29T11:10:00\", \"2021-03-29T12:10:00\", \"2021-03-29T13:10:00\"], \"xaxis\": \"x\", \"y\": [null, null, null, null, null, null, null, null, null, null, null, null, null, null, null, null, null, null, null, null, null, null, null, null, null, null, null, null, null, null, null, null, null, null, null, null, null, null, null, null, null, null, null, null, null, null, null, null, null, null, null, null, null, null, null, null, null, null, null, null, null, null, null, null, null, null, null, null, null, null, null], \"yaxis\": \"y\"}, {\"hovertemplate\": \"deviceName=Katraj<br>observationDateTime=%{x}<br>airTemperature.avgOverTime=%{y}<extra></extra>\", \"legendgroup\": \"Katraj\", \"line\": {\"color\": \"#B6E880\", \"dash\": \"solid\"}, \"mode\": \"lines\", \"name\": \"Katraj\", \"orientation\": \"v\", \"showlegend\": true, \"type\": \"scatter\", \"x\": [\"2021-03-26T13:10:00\", \"2021-03-26T14:10:00\", \"2021-03-26T15:10:00\", \"2021-03-26T16:10:00\", \"2021-03-26T17:10:00\", \"2021-03-26T18:10:00\", \"2021-03-26T19:10:00\", \"2021-03-26T20:10:00\", \"2021-03-26T21:10:00\", \"2021-03-26T22:10:00\", \"2021-03-26T23:10:00\", \"2021-03-27T00:10:00\", \"2021-03-27T02:10:00\", \"2021-03-27T03:10:00\", \"2021-03-27T04:10:00\", \"2021-03-27T05:10:00\", \"2021-03-27T06:10:00\", \"2021-03-27T07:10:00\", \"2021-03-27T08:10:00\", \"2021-03-27T09:10:00\", \"2021-03-27T10:10:00\", \"2021-03-27T11:10:00\", \"2021-03-27T12:10:00\", \"2021-03-27T13:10:00\", \"2021-03-27T14:10:00\", \"2021-03-27T15:10:00\", \"2021-03-27T16:10:00\", \"2021-03-27T17:10:00\", \"2021-03-27T18:10:00\", \"2021-03-27T19:10:00\", \"2021-03-27T20:10:00\", \"2021-03-27T21:10:00\", \"2021-03-27T22:10:00\", \"2021-03-27T23:10:00\", \"2021-03-28T00:10:00\", \"2021-03-28T02:10:00\", \"2021-03-28T03:10:00\", \"2021-03-28T04:10:00\", \"2021-03-28T05:10:00\", \"2021-03-28T06:10:00\", \"2021-03-28T07:10:00\", \"2021-03-28T08:10:00\", \"2021-03-28T09:10:00\", \"2021-03-28T10:10:00\", \"2021-03-28T11:10:00\", \"2021-03-28T12:10:00\", \"2021-03-28T13:10:00\", \"2021-03-28T14:10:00\", \"2021-03-28T15:10:00\", \"2021-03-28T16:10:00\", \"2021-03-28T17:10:00\", \"2021-03-28T18:10:00\", \"2021-03-28T19:10:00\", \"2021-03-28T20:10:00\", \"2021-03-28T21:10:00\", \"2021-03-28T22:10:00\", \"2021-03-28T23:10:00\", \"2021-03-29T00:10:00\", \"2021-03-29T01:10:00\", \"2021-03-29T02:10:00\", \"2021-03-29T03:10:00\", \"2021-03-29T04:10:00\", \"2021-03-29T05:10:00\", \"2021-03-29T06:10:00\", \"2021-03-29T07:10:00\", \"2021-03-29T08:10:00\", \"2021-03-29T09:10:00\", \"2021-03-29T10:10:00\", \"2021-03-29T11:10:00\", \"2021-03-29T12:10:00\", \"2021-03-29T13:10:00\"], \"xaxis\": \"x\", \"y\": [34.81, 35.88, 36.76, 37.12, 36.79, 36.6, 35.84, 33.58, 31.42, 30.5, 29.29, 28.34, 26.91, 26.09, 26.01, 25.45, 24.71, 24.21, 24.5, 25.48, 25.48, 32.1, 34.46, 35.77, 37.15, 37.98, 38.33, 38.05, 37.52, 36.41, 35.14, null, null, null, null, null, null, null, null, null, null, null, null, null, null, null, null, null, null, null, null, null, null, null, null, null, null, null, null, null, null, null, null, null, null, null, null, null, null, null, null], \"yaxis\": \"y\"}, {\"hovertemplate\": \"deviceName=Pashan<br>observationDateTime=%{x}<br>airTemperature.avgOverTime=%{y}<extra></extra>\", \"legendgroup\": \"Pashan\", \"line\": {\"color\": \"#FF97FF\", \"dash\": \"solid\"}, \"mode\": \"lines\", \"name\": \"Pashan\", \"orientation\": \"v\", \"showlegend\": true, \"type\": \"scatter\", \"x\": [\"2021-03-26T13:10:00\", \"2021-03-26T14:10:00\", \"2021-03-26T15:10:00\", \"2021-03-26T16:10:00\", \"2021-03-26T17:10:00\", \"2021-03-26T18:10:00\", \"2021-03-26T19:10:00\", \"2021-03-26T20:10:00\", \"2021-03-26T21:10:00\", \"2021-03-26T22:10:00\", \"2021-03-26T23:10:00\", \"2021-03-27T00:10:00\", \"2021-03-27T02:10:00\", \"2021-03-27T03:10:00\", \"2021-03-27T04:10:00\", \"2021-03-27T05:10:00\", \"2021-03-27T06:10:00\", \"2021-03-27T07:10:00\", \"2021-03-27T08:10:00\", \"2021-03-27T09:10:00\", \"2021-03-27T10:10:00\", \"2021-03-27T11:10:00\", \"2021-03-27T12:10:00\", \"2021-03-27T13:10:00\", \"2021-03-27T14:10:00\", \"2021-03-27T15:10:00\", \"2021-03-27T16:10:00\", \"2021-03-27T17:10:00\", \"2021-03-27T18:10:00\", \"2021-03-27T19:10:00\", \"2021-03-27T20:10:00\", \"2021-03-27T21:10:00\", \"2021-03-27T22:10:00\", \"2021-03-27T23:10:00\", \"2021-03-28T00:10:00\", \"2021-03-28T02:10:00\", \"2021-03-28T03:10:00\", \"2021-03-28T04:10:00\", \"2021-03-28T05:10:00\", \"2021-03-28T06:10:00\", \"2021-03-28T07:10:00\", \"2021-03-28T08:10:00\", \"2021-03-28T09:10:00\", \"2021-03-28T10:10:00\", \"2021-03-28T11:10:00\", \"2021-03-28T12:10:00\", \"2021-03-28T13:10:00\", \"2021-03-28T14:10:00\", \"2021-03-28T15:10:00\", \"2021-03-28T16:10:00\", \"2021-03-28T17:10:00\", \"2021-03-28T18:10:00\", \"2021-03-28T19:10:00\", \"2021-03-28T20:10:00\", \"2021-03-28T21:10:00\", \"2021-03-28T22:10:00\", \"2021-03-28T23:10:00\", \"2021-03-29T00:10:00\", \"2021-03-29T01:10:00\", \"2021-03-29T02:10:00\", \"2021-03-29T03:10:00\", \"2021-03-29T04:10:00\", \"2021-03-29T05:10:00\", \"2021-03-29T06:10:00\", \"2021-03-29T07:10:00\", \"2021-03-29T08:10:00\", \"2021-03-29T09:10:00\", \"2021-03-29T10:10:00\", \"2021-03-29T11:10:00\", \"2021-03-29T12:10:00\", \"2021-03-29T13:10:00\"], \"xaxis\": \"x\", \"y\": [33.21, 34.07, 34.82, 35.05, 35.41, 34.7, 33.44, 30.52, 28.02, 26.6, 25.62, 24.84, 23.67, 22.73, 22.43, 21.86, 21.15, 20.72, 20.55, 21.59, 21.59, 30.43, 32.55, 33.64, 34.68, 35.34, 35.96, 35.97, 35.29, 33.96, 30.8, 28.81, 28.48, 26.53, 25.36, 23.62, 23.48, 23.09, 22.06, 22.06, 22.06, 22.06, 22.06, 22.06, 22.06, 22.06, 22.06, 22.06, 22.06, 22.06, 22.06, 22.06, 22.06, 22.06, 22.06, 22.06, 22.06, 22.06, 22.06, 22.06, 22.06, 22.06, 22.06, 22.06, 22.06, 22.06, 22.06, 26.93, 31.06, 33.18, 35.04], \"yaxis\": \"y\"}, {\"hovertemplate\": \"deviceName=Bhumkar Chowk<br>observationDateTime=%{x}<br>airTemperature.avgOverTime=%{y}<extra></extra>\", \"legendgroup\": \"Bhumkar Chowk\", \"line\": {\"color\": \"#FECB52\", \"dash\": \"solid\"}, \"mode\": \"lines\", \"name\": \"Bhumkar Chowk\", \"orientation\": \"v\", \"showlegend\": true, \"type\": \"scatter\", \"x\": [\"2021-03-26T13:10:00\", \"2021-03-26T14:10:00\", \"2021-03-26T15:10:00\", \"2021-03-26T16:10:00\", \"2021-03-26T17:10:00\", \"2021-03-26T18:10:00\", \"2021-03-26T19:10:00\", \"2021-03-26T20:10:00\", \"2021-03-26T21:10:00\", \"2021-03-26T22:10:00\", \"2021-03-26T23:10:00\", \"2021-03-27T00:10:00\", \"2021-03-27T02:10:00\", \"2021-03-27T03:10:00\", \"2021-03-27T04:10:00\", \"2021-03-27T05:10:00\", \"2021-03-27T06:10:00\", \"2021-03-27T07:10:00\", \"2021-03-27T08:10:00\", \"2021-03-27T09:10:00\", \"2021-03-27T10:10:00\", \"2021-03-27T11:10:00\", \"2021-03-27T12:10:00\", \"2021-03-27T13:10:00\", \"2021-03-27T14:10:00\", \"2021-03-27T15:10:00\", \"2021-03-27T16:10:00\", \"2021-03-27T17:10:00\", \"2021-03-27T18:10:00\", \"2021-03-27T19:10:00\", \"2021-03-27T20:10:00\", \"2021-03-27T21:10:00\", \"2021-03-27T22:10:00\", \"2021-03-27T23:10:00\", \"2021-03-28T00:10:00\", \"2021-03-28T02:10:00\", \"2021-03-28T03:10:00\", \"2021-03-28T04:10:00\", \"2021-03-28T05:10:00\", \"2021-03-28T06:10:00\", \"2021-03-28T07:10:00\", \"2021-03-28T08:10:00\", \"2021-03-28T09:10:00\", \"2021-03-28T10:10:00\", \"2021-03-28T11:10:00\", \"2021-03-28T12:10:00\", \"2021-03-28T13:10:00\", \"2021-03-28T14:10:00\", \"2021-03-28T15:10:00\", \"2021-03-28T16:10:00\", \"2021-03-28T17:10:00\", \"2021-03-28T18:10:00\", \"2021-03-28T19:10:00\", \"2021-03-28T20:10:00\", \"2021-03-28T21:10:00\", \"2021-03-28T22:10:00\", \"2021-03-28T23:10:00\", \"2021-03-29T00:10:00\", \"2021-03-29T01:10:00\", \"2021-03-29T02:10:00\", \"2021-03-29T03:10:00\", \"2021-03-29T04:10:00\", \"2021-03-29T05:10:00\", \"2021-03-29T06:10:00\", \"2021-03-29T07:10:00\", \"2021-03-29T08:10:00\", \"2021-03-29T09:10:00\", \"2021-03-29T10:10:00\", \"2021-03-29T11:10:00\", \"2021-03-29T12:10:00\", \"2021-03-29T13:10:00\"], \"xaxis\": \"x\", \"y\": [31.36, 32.17, 32.81, 33.48, 33.35, 33.6, 33.14, 31.96, 30.6, 29.75, 28.81, 28.1, 26.33, 25.64, 25.02, 24.35, 23.9, 23.4, 23.35, 23.74, 23.74, 28.14, 30.4, 32.14, 32.87, 33.52, 33.96, 34.15, 34.03, 33.57, 32.35, 30.56, 30.01, 29.44, 28.28, 26.56, 25.54, 25.14, 24.44, 24.44, 24.44, 24.44, 24.44, 24.44, 24.44, 24.44, 24.44, 24.44, 24.44, 24.44, 24.44, 24.44, 24.44, 24.44, 24.44, 24.44, 24.44, 24.44, 24.44, 24.44, 24.44, 24.44, 24.44, 24.44, 24.44, 24.44, 24.44, 24.94, 27.49, 31.01, 33.06], \"yaxis\": \"y\"}],                        {\"font\": {\"size\": 12}, \"legend\": {\"title\": {\"text\": \"deviceName\"}, \"tracegroupgap\": 0}, \"margin\": {\"t\": 60}, \"template\": {\"data\": {\"bar\": [{\"error_x\": {\"color\": \"#2a3f5f\"}, \"error_y\": {\"color\": \"#2a3f5f\"}, \"marker\": {\"line\": {\"color\": \"#E5ECF6\", \"width\": 0.5}}, \"type\": \"bar\"}], \"barpolar\": [{\"marker\": {\"line\": {\"color\": \"#E5ECF6\", \"width\": 0.5}}, \"type\": \"barpolar\"}], \"carpet\": [{\"aaxis\": {\"endlinecolor\": \"#2a3f5f\", \"gridcolor\": \"white\", \"linecolor\": \"white\", \"minorgridcolor\": \"white\", \"startlinecolor\": \"#2a3f5f\"}, \"baxis\": {\"endlinecolor\": \"#2a3f5f\", \"gridcolor\": \"white\", \"linecolor\": \"white\", \"minorgridcolor\": \"white\", \"startlinecolor\": \"#2a3f5f\"}, \"type\": \"carpet\"}], \"choropleth\": [{\"colorbar\": {\"outlinewidth\": 0, \"ticks\": \"\"}, \"type\": \"choropleth\"}], \"contour\": [{\"colorbar\": {\"outlinewidth\": 0, \"ticks\": \"\"}, \"colorscale\": [[0.0, \"#0d0887\"], [0.1111111111111111, \"#46039f\"], [0.2222222222222222, \"#7201a8\"], [0.3333333333333333, \"#9c179e\"], [0.4444444444444444, \"#bd3786\"], [0.5555555555555556, \"#d8576b\"], [0.6666666666666666, \"#ed7953\"], [0.7777777777777778, \"#fb9f3a\"], [0.8888888888888888, \"#fdca26\"], [1.0, \"#f0f921\"]], \"type\": \"contour\"}], \"contourcarpet\": [{\"colorbar\": {\"outlinewidth\": 0, \"ticks\": \"\"}, \"type\": \"contourcarpet\"}], \"heatmap\": [{\"colorbar\": {\"outlinewidth\": 0, \"ticks\": \"\"}, \"colorscale\": [[0.0, \"#0d0887\"], [0.1111111111111111, \"#46039f\"], [0.2222222222222222, \"#7201a8\"], [0.3333333333333333, \"#9c179e\"], [0.4444444444444444, \"#bd3786\"], [0.5555555555555556, \"#d8576b\"], [0.6666666666666666, \"#ed7953\"], [0.7777777777777778, \"#fb9f3a\"], [0.8888888888888888, \"#fdca26\"], [1.0, \"#f0f921\"]], \"type\": \"heatmap\"}], \"heatmapgl\": [{\"colorbar\": {\"outlinewidth\": 0, \"ticks\": \"\"}, \"colorscale\": [[0.0, \"#0d0887\"], [0.1111111111111111, \"#46039f\"], [0.2222222222222222, \"#7201a8\"], [0.3333333333333333, \"#9c179e\"], [0.4444444444444444, \"#bd3786\"], [0.5555555555555556, \"#d8576b\"], [0.6666666666666666, \"#ed7953\"], [0.7777777777777778, \"#fb9f3a\"], [0.8888888888888888, \"#fdca26\"], [1.0, \"#f0f921\"]], \"type\": \"heatmapgl\"}], \"histogram\": [{\"marker\": {\"colorbar\": {\"outlinewidth\": 0, \"ticks\": \"\"}}, \"type\": \"histogram\"}], \"histogram2d\": [{\"colorbar\": {\"outlinewidth\": 0, \"ticks\": \"\"}, \"colorscale\": [[0.0, \"#0d0887\"], [0.1111111111111111, \"#46039f\"], [0.2222222222222222, \"#7201a8\"], [0.3333333333333333, \"#9c179e\"], [0.4444444444444444, \"#bd3786\"], [0.5555555555555556, \"#d8576b\"], [0.6666666666666666, \"#ed7953\"], [0.7777777777777778, \"#fb9f3a\"], [0.8888888888888888, \"#fdca26\"], [1.0, \"#f0f921\"]], \"type\": \"histogram2d\"}], \"histogram2dcontour\": [{\"colorbar\": {\"outlinewidth\": 0, \"ticks\": \"\"}, \"colorscale\": [[0.0, \"#0d0887\"], [0.1111111111111111, \"#46039f\"], [0.2222222222222222, \"#7201a8\"], [0.3333333333333333, \"#9c179e\"], [0.4444444444444444, \"#bd3786\"], [0.5555555555555556, \"#d8576b\"], [0.6666666666666666, \"#ed7953\"], [0.7777777777777778, \"#fb9f3a\"], [0.8888888888888888, \"#fdca26\"], [1.0, \"#f0f921\"]], \"type\": \"histogram2dcontour\"}], \"mesh3d\": [{\"colorbar\": {\"outlinewidth\": 0, \"ticks\": \"\"}, \"type\": \"mesh3d\"}], \"parcoords\": [{\"line\": {\"colorbar\": {\"outlinewidth\": 0, \"ticks\": \"\"}}, \"type\": \"parcoords\"}], \"pie\": [{\"automargin\": true, \"type\": \"pie\"}], \"scatter\": [{\"marker\": {\"colorbar\": {\"outlinewidth\": 0, \"ticks\": \"\"}}, \"type\": \"scatter\"}], \"scatter3d\": [{\"line\": {\"colorbar\": {\"outlinewidth\": 0, \"ticks\": \"\"}}, \"marker\": {\"colorbar\": {\"outlinewidth\": 0, \"ticks\": \"\"}}, \"type\": \"scatter3d\"}], \"scattercarpet\": [{\"marker\": {\"colorbar\": {\"outlinewidth\": 0, \"ticks\": \"\"}}, \"type\": \"scattercarpet\"}], \"scattergeo\": [{\"marker\": {\"colorbar\": {\"outlinewidth\": 0, \"ticks\": \"\"}}, \"type\": \"scattergeo\"}], \"scattergl\": [{\"marker\": {\"colorbar\": {\"outlinewidth\": 0, \"ticks\": \"\"}}, \"type\": \"scattergl\"}], \"scattermapbox\": [{\"marker\": {\"colorbar\": {\"outlinewidth\": 0, \"ticks\": \"\"}}, \"type\": \"scattermapbox\"}], \"scatterpolar\": [{\"marker\": {\"colorbar\": {\"outlinewidth\": 0, \"ticks\": \"\"}}, \"type\": \"scatterpolar\"}], \"scatterpolargl\": [{\"marker\": {\"colorbar\": {\"outlinewidth\": 0, \"ticks\": \"\"}}, \"type\": \"scatterpolargl\"}], \"scatterternary\": [{\"marker\": {\"colorbar\": {\"outlinewidth\": 0, \"ticks\": \"\"}}, \"type\": \"scatterternary\"}], \"surface\": [{\"colorbar\": {\"outlinewidth\": 0, \"ticks\": \"\"}, \"colorscale\": [[0.0, \"#0d0887\"], [0.1111111111111111, \"#46039f\"], [0.2222222222222222, \"#7201a8\"], [0.3333333333333333, \"#9c179e\"], [0.4444444444444444, \"#bd3786\"], [0.5555555555555556, \"#d8576b\"], [0.6666666666666666, \"#ed7953\"], [0.7777777777777778, \"#fb9f3a\"], [0.8888888888888888, \"#fdca26\"], [1.0, \"#f0f921\"]], \"type\": \"surface\"}], \"table\": [{\"cells\": {\"fill\": {\"color\": \"#EBF0F8\"}, \"line\": {\"color\": \"white\"}}, \"header\": {\"fill\": {\"color\": \"#C8D4E3\"}, \"line\": {\"color\": \"white\"}}, \"type\": \"table\"}]}, \"layout\": {\"annotationdefaults\": {\"arrowcolor\": \"#2a3f5f\", \"arrowhead\": 0, \"arrowwidth\": 1}, \"autotypenumbers\": \"strict\", \"coloraxis\": {\"colorbar\": {\"outlinewidth\": 0, \"ticks\": \"\"}}, \"colorscale\": {\"diverging\": [[0, \"#8e0152\"], [0.1, \"#c51b7d\"], [0.2, \"#de77ae\"], [0.3, \"#f1b6da\"], [0.4, \"#fde0ef\"], [0.5, \"#f7f7f7\"], [0.6, \"#e6f5d0\"], [0.7, \"#b8e186\"], [0.8, \"#7fbc41\"], [0.9, \"#4d9221\"], [1, \"#276419\"]], \"sequential\": [[0.0, \"#0d0887\"], [0.1111111111111111, \"#46039f\"], [0.2222222222222222, \"#7201a8\"], [0.3333333333333333, \"#9c179e\"], [0.4444444444444444, \"#bd3786\"], [0.5555555555555556, \"#d8576b\"], [0.6666666666666666, \"#ed7953\"], [0.7777777777777778, \"#fb9f3a\"], [0.8888888888888888, \"#fdca26\"], [1.0, \"#f0f921\"]], \"sequentialminus\": [[0.0, \"#0d0887\"], [0.1111111111111111, \"#46039f\"], [0.2222222222222222, \"#7201a8\"], [0.3333333333333333, \"#9c179e\"], [0.4444444444444444, \"#bd3786\"], [0.5555555555555556, \"#d8576b\"], [0.6666666666666666, \"#ed7953\"], [0.7777777777777778, \"#fb9f3a\"], [0.8888888888888888, \"#fdca26\"], [1.0, \"#f0f921\"]]}, \"colorway\": [\"#636efa\", \"#EF553B\", \"#00cc96\", \"#ab63fa\", \"#FFA15A\", \"#19d3f3\", \"#FF6692\", \"#B6E880\", \"#FF97FF\", \"#FECB52\"], \"font\": {\"color\": \"#2a3f5f\"}, \"geo\": {\"bgcolor\": \"white\", \"lakecolor\": \"white\", \"landcolor\": \"#E5ECF6\", \"showlakes\": true, \"showland\": true, \"subunitcolor\": \"white\"}, \"hoverlabel\": {\"align\": \"left\"}, \"hovermode\": \"closest\", \"mapbox\": {\"style\": \"light\"}, \"paper_bgcolor\": \"white\", \"plot_bgcolor\": \"#E5ECF6\", \"polar\": {\"angularaxis\": {\"gridcolor\": \"white\", \"linecolor\": \"white\", \"ticks\": \"\"}, \"bgcolor\": \"#E5ECF6\", \"radialaxis\": {\"gridcolor\": \"white\", \"linecolor\": \"white\", \"ticks\": \"\"}}, \"scene\": {\"xaxis\": {\"backgroundcolor\": \"#E5ECF6\", \"gridcolor\": \"white\", \"gridwidth\": 2, \"linecolor\": \"white\", \"showbackground\": true, \"ticks\": \"\", \"zerolinecolor\": \"white\"}, \"yaxis\": {\"backgroundcolor\": \"#E5ECF6\", \"gridcolor\": \"white\", \"gridwidth\": 2, \"linecolor\": \"white\", \"showbackground\": true, \"ticks\": \"\", \"zerolinecolor\": \"white\"}, \"zaxis\": {\"backgroundcolor\": \"#E5ECF6\", \"gridcolor\": \"white\", \"gridwidth\": 2, \"linecolor\": \"white\", \"showbackground\": true, \"ticks\": \"\", \"zerolinecolor\": \"white\"}}, \"shapedefaults\": {\"line\": {\"color\": \"#2a3f5f\"}}, \"ternary\": {\"aaxis\": {\"gridcolor\": \"white\", \"linecolor\": \"white\", \"ticks\": \"\"}, \"baxis\": {\"gridcolor\": \"white\", \"linecolor\": \"white\", \"ticks\": \"\"}, \"bgcolor\": \"#E5ECF6\", \"caxis\": {\"gridcolor\": \"white\", \"linecolor\": \"white\", \"ticks\": \"\"}}, \"title\": {\"x\": 0.05}, \"xaxis\": {\"automargin\": true, \"gridcolor\": \"white\", \"linecolor\": \"white\", \"ticks\": \"\", \"title\": {\"standoff\": 15}, \"zerolinecolor\": \"white\", \"zerolinewidth\": 2}, \"yaxis\": {\"automargin\": true, \"gridcolor\": \"white\", \"linecolor\": \"white\", \"ticks\": \"\", \"title\": {\"standoff\": 15}, \"zerolinecolor\": \"white\", \"zerolinewidth\": 2}}}, \"xaxis\": {\"anchor\": \"y\", \"domain\": [0.0, 1.0], \"rangeslider\": {\"visible\": true}, \"title\": {\"text\": \"Observed Timestamp\"}}, \"yaxis\": {\"anchor\": \"x\", \"domain\": [0.0, 1.0], \"title\": {\"text\": \"Sensor reading for AIRTEMPERATURE.AVGOVERTIME\"}}},                        {\"responsive\": true}                    ).then(function(){\n",
       "                            \n",
       "var gd = document.getElementById('717a073c-edad-4a2c-8d9e-0f29b44bd66d');\n",
       "var x = new MutationObserver(function (mutations, observer) {{\n",
       "        var display = window.getComputedStyle(gd).display;\n",
       "        if (!display || display === 'none') {{\n",
       "            console.log([gd, 'removed!']);\n",
       "            Plotly.purge(gd);\n",
       "            observer.disconnect();\n",
       "        }}\n",
       "}});\n",
       "\n",
       "// Listen for the removal of the full notebook cells\n",
       "var notebookContainer = gd.closest('#notebook-container');\n",
       "if (notebookContainer) {{\n",
       "    x.observe(notebookContainer, {childList: true});\n",
       "}}\n",
       "\n",
       "// Listen for the clearing of the current output cell\n",
       "var outputEl = gd.closest('.output');\n",
       "if (outputEl) {{\n",
       "    x.observe(outputEl, {childList: true});\n",
       "}}\n",
       "\n",
       "                        })                };                });            </script>        </div>"
      ]
     },
     "metadata": {},
     "output_type": "display_data"
    }
   ],
   "source": [
    "# plot the measures of a proprty over ndays for all resources\n",
    "def timeSeriesVis2(col, ndays):\n",
    "    column_name=col\n",
    "    fig = px.line(\n",
    "        measures, \n",
    "        x=\"observationDateTime\", \n",
    "        y=column_name,\n",
    "        color='deviceName'\n",
    "    )\n",
    "    display(widgets.HTML(f'<center style=\"font-size:14px\">Temporal sensor reading for {col.upper()} from {start_time.date()} to {end_time.date()} of all sensors<center>'))\n",
    "    fig.update_layout(\n",
    "        xaxis_title=\"Observed Timestamp\",\n",
    "        yaxis_title=\"Sensor reading for \"+col.upper(),\n",
    "        font=dict(\n",
    "            size=12\n",
    "        )\n",
    "    )\n",
    "    fig.update_xaxes(rangeslider_visible=True)\n",
    "    fig.show()\n",
    "timeSeriesVis2('airTemperature.avgOverTime',ndays)\n"
   ]
  },
  {
   "cell_type": "code",
   "execution_count": 154,
   "metadata": {},
   "outputs": [
    {
     "data": {
      "application/vnd.jupyter.widget-view+json": {
       "model_id": "36727026c4c64d029561444b33228797",
       "version_major": 2,
       "version_minor": 0
      },
      "text/plain": [
       "HTML(value='<center style=\"font-size:14px\">Latest temporal sensor reading for AIRQUALITYINDEX of all sensors<c…"
      ]
     },
     "metadata": {},
     "output_type": "display_data"
    },
    {
     "data": {
      "application/vnd.plotly.v1+json": {
       "config": {
        "plotlyServerURL": "https://plot.ly"
       },
       "data": [
        {
         "alignmentgroup": "True",
         "hovertemplate": "deviceName=%{x}<br>airQualityIndex=%{y}<extra></extra>",
         "legendgroup": "",
         "marker": {
          "color": "#636efa"
         },
         "name": "",
         "offsetgroup": "",
         "orientation": "v",
         "showlegend": false,
         "textposition": "auto",
         "type": "bar",
         "x": [
          "Nigadi",
          "Manjari",
          "Bhumkar Chowk",
          "Alandi",
          "Hadapsar",
          "Bhosari",
          "Pashan",
          "Shivajinagar",
          "Lohgaon",
          "Katraj"
         ],
         "xaxis": "x",
         "y": [
          96,
          96,
          300,
          201,
          97,
          145,
          134,
          117,
          201,
          201
         ],
         "yaxis": "y"
        }
       ],
       "layout": {
        "barmode": "relative",
        "font": {
         "size": 12
        },
        "legend": {
         "tracegroupgap": 0
        },
        "margin": {
         "t": 60
        },
        "template": {
         "data": {
          "bar": [
           {
            "error_x": {
             "color": "#2a3f5f"
            },
            "error_y": {
             "color": "#2a3f5f"
            },
            "marker": {
             "line": {
              "color": "#E5ECF6",
              "width": 0.5
             }
            },
            "type": "bar"
           }
          ],
          "barpolar": [
           {
            "marker": {
             "line": {
              "color": "#E5ECF6",
              "width": 0.5
             }
            },
            "type": "barpolar"
           }
          ],
          "carpet": [
           {
            "aaxis": {
             "endlinecolor": "#2a3f5f",
             "gridcolor": "white",
             "linecolor": "white",
             "minorgridcolor": "white",
             "startlinecolor": "#2a3f5f"
            },
            "baxis": {
             "endlinecolor": "#2a3f5f",
             "gridcolor": "white",
             "linecolor": "white",
             "minorgridcolor": "white",
             "startlinecolor": "#2a3f5f"
            },
            "type": "carpet"
           }
          ],
          "choropleth": [
           {
            "colorbar": {
             "outlinewidth": 0,
             "ticks": ""
            },
            "type": "choropleth"
           }
          ],
          "contour": [
           {
            "colorbar": {
             "outlinewidth": 0,
             "ticks": ""
            },
            "colorscale": [
             [
              0,
              "#0d0887"
             ],
             [
              0.1111111111111111,
              "#46039f"
             ],
             [
              0.2222222222222222,
              "#7201a8"
             ],
             [
              0.3333333333333333,
              "#9c179e"
             ],
             [
              0.4444444444444444,
              "#bd3786"
             ],
             [
              0.5555555555555556,
              "#d8576b"
             ],
             [
              0.6666666666666666,
              "#ed7953"
             ],
             [
              0.7777777777777778,
              "#fb9f3a"
             ],
             [
              0.8888888888888888,
              "#fdca26"
             ],
             [
              1,
              "#f0f921"
             ]
            ],
            "type": "contour"
           }
          ],
          "contourcarpet": [
           {
            "colorbar": {
             "outlinewidth": 0,
             "ticks": ""
            },
            "type": "contourcarpet"
           }
          ],
          "heatmap": [
           {
            "colorbar": {
             "outlinewidth": 0,
             "ticks": ""
            },
            "colorscale": [
             [
              0,
              "#0d0887"
             ],
             [
              0.1111111111111111,
              "#46039f"
             ],
             [
              0.2222222222222222,
              "#7201a8"
             ],
             [
              0.3333333333333333,
              "#9c179e"
             ],
             [
              0.4444444444444444,
              "#bd3786"
             ],
             [
              0.5555555555555556,
              "#d8576b"
             ],
             [
              0.6666666666666666,
              "#ed7953"
             ],
             [
              0.7777777777777778,
              "#fb9f3a"
             ],
             [
              0.8888888888888888,
              "#fdca26"
             ],
             [
              1,
              "#f0f921"
             ]
            ],
            "type": "heatmap"
           }
          ],
          "heatmapgl": [
           {
            "colorbar": {
             "outlinewidth": 0,
             "ticks": ""
            },
            "colorscale": [
             [
              0,
              "#0d0887"
             ],
             [
              0.1111111111111111,
              "#46039f"
             ],
             [
              0.2222222222222222,
              "#7201a8"
             ],
             [
              0.3333333333333333,
              "#9c179e"
             ],
             [
              0.4444444444444444,
              "#bd3786"
             ],
             [
              0.5555555555555556,
              "#d8576b"
             ],
             [
              0.6666666666666666,
              "#ed7953"
             ],
             [
              0.7777777777777778,
              "#fb9f3a"
             ],
             [
              0.8888888888888888,
              "#fdca26"
             ],
             [
              1,
              "#f0f921"
             ]
            ],
            "type": "heatmapgl"
           }
          ],
          "histogram": [
           {
            "marker": {
             "colorbar": {
              "outlinewidth": 0,
              "ticks": ""
             }
            },
            "type": "histogram"
           }
          ],
          "histogram2d": [
           {
            "colorbar": {
             "outlinewidth": 0,
             "ticks": ""
            },
            "colorscale": [
             [
              0,
              "#0d0887"
             ],
             [
              0.1111111111111111,
              "#46039f"
             ],
             [
              0.2222222222222222,
              "#7201a8"
             ],
             [
              0.3333333333333333,
              "#9c179e"
             ],
             [
              0.4444444444444444,
              "#bd3786"
             ],
             [
              0.5555555555555556,
              "#d8576b"
             ],
             [
              0.6666666666666666,
              "#ed7953"
             ],
             [
              0.7777777777777778,
              "#fb9f3a"
             ],
             [
              0.8888888888888888,
              "#fdca26"
             ],
             [
              1,
              "#f0f921"
             ]
            ],
            "type": "histogram2d"
           }
          ],
          "histogram2dcontour": [
           {
            "colorbar": {
             "outlinewidth": 0,
             "ticks": ""
            },
            "colorscale": [
             [
              0,
              "#0d0887"
             ],
             [
              0.1111111111111111,
              "#46039f"
             ],
             [
              0.2222222222222222,
              "#7201a8"
             ],
             [
              0.3333333333333333,
              "#9c179e"
             ],
             [
              0.4444444444444444,
              "#bd3786"
             ],
             [
              0.5555555555555556,
              "#d8576b"
             ],
             [
              0.6666666666666666,
              "#ed7953"
             ],
             [
              0.7777777777777778,
              "#fb9f3a"
             ],
             [
              0.8888888888888888,
              "#fdca26"
             ],
             [
              1,
              "#f0f921"
             ]
            ],
            "type": "histogram2dcontour"
           }
          ],
          "mesh3d": [
           {
            "colorbar": {
             "outlinewidth": 0,
             "ticks": ""
            },
            "type": "mesh3d"
           }
          ],
          "parcoords": [
           {
            "line": {
             "colorbar": {
              "outlinewidth": 0,
              "ticks": ""
             }
            },
            "type": "parcoords"
           }
          ],
          "pie": [
           {
            "automargin": true,
            "type": "pie"
           }
          ],
          "scatter": [
           {
            "marker": {
             "colorbar": {
              "outlinewidth": 0,
              "ticks": ""
             }
            },
            "type": "scatter"
           }
          ],
          "scatter3d": [
           {
            "line": {
             "colorbar": {
              "outlinewidth": 0,
              "ticks": ""
             }
            },
            "marker": {
             "colorbar": {
              "outlinewidth": 0,
              "ticks": ""
             }
            },
            "type": "scatter3d"
           }
          ],
          "scattercarpet": [
           {
            "marker": {
             "colorbar": {
              "outlinewidth": 0,
              "ticks": ""
             }
            },
            "type": "scattercarpet"
           }
          ],
          "scattergeo": [
           {
            "marker": {
             "colorbar": {
              "outlinewidth": 0,
              "ticks": ""
             }
            },
            "type": "scattergeo"
           }
          ],
          "scattergl": [
           {
            "marker": {
             "colorbar": {
              "outlinewidth": 0,
              "ticks": ""
             }
            },
            "type": "scattergl"
           }
          ],
          "scattermapbox": [
           {
            "marker": {
             "colorbar": {
              "outlinewidth": 0,
              "ticks": ""
             }
            },
            "type": "scattermapbox"
           }
          ],
          "scatterpolar": [
           {
            "marker": {
             "colorbar": {
              "outlinewidth": 0,
              "ticks": ""
             }
            },
            "type": "scatterpolar"
           }
          ],
          "scatterpolargl": [
           {
            "marker": {
             "colorbar": {
              "outlinewidth": 0,
              "ticks": ""
             }
            },
            "type": "scatterpolargl"
           }
          ],
          "scatterternary": [
           {
            "marker": {
             "colorbar": {
              "outlinewidth": 0,
              "ticks": ""
             }
            },
            "type": "scatterternary"
           }
          ],
          "surface": [
           {
            "colorbar": {
             "outlinewidth": 0,
             "ticks": ""
            },
            "colorscale": [
             [
              0,
              "#0d0887"
             ],
             [
              0.1111111111111111,
              "#46039f"
             ],
             [
              0.2222222222222222,
              "#7201a8"
             ],
             [
              0.3333333333333333,
              "#9c179e"
             ],
             [
              0.4444444444444444,
              "#bd3786"
             ],
             [
              0.5555555555555556,
              "#d8576b"
             ],
             [
              0.6666666666666666,
              "#ed7953"
             ],
             [
              0.7777777777777778,
              "#fb9f3a"
             ],
             [
              0.8888888888888888,
              "#fdca26"
             ],
             [
              1,
              "#f0f921"
             ]
            ],
            "type": "surface"
           }
          ],
          "table": [
           {
            "cells": {
             "fill": {
              "color": "#EBF0F8"
             },
             "line": {
              "color": "white"
             }
            },
            "header": {
             "fill": {
              "color": "#C8D4E3"
             },
             "line": {
              "color": "white"
             }
            },
            "type": "table"
           }
          ]
         },
         "layout": {
          "annotationdefaults": {
           "arrowcolor": "#2a3f5f",
           "arrowhead": 0,
           "arrowwidth": 1
          },
          "autotypenumbers": "strict",
          "coloraxis": {
           "colorbar": {
            "outlinewidth": 0,
            "ticks": ""
           }
          },
          "colorscale": {
           "diverging": [
            [
             0,
             "#8e0152"
            ],
            [
             0.1,
             "#c51b7d"
            ],
            [
             0.2,
             "#de77ae"
            ],
            [
             0.3,
             "#f1b6da"
            ],
            [
             0.4,
             "#fde0ef"
            ],
            [
             0.5,
             "#f7f7f7"
            ],
            [
             0.6,
             "#e6f5d0"
            ],
            [
             0.7,
             "#b8e186"
            ],
            [
             0.8,
             "#7fbc41"
            ],
            [
             0.9,
             "#4d9221"
            ],
            [
             1,
             "#276419"
            ]
           ],
           "sequential": [
            [
             0,
             "#0d0887"
            ],
            [
             0.1111111111111111,
             "#46039f"
            ],
            [
             0.2222222222222222,
             "#7201a8"
            ],
            [
             0.3333333333333333,
             "#9c179e"
            ],
            [
             0.4444444444444444,
             "#bd3786"
            ],
            [
             0.5555555555555556,
             "#d8576b"
            ],
            [
             0.6666666666666666,
             "#ed7953"
            ],
            [
             0.7777777777777778,
             "#fb9f3a"
            ],
            [
             0.8888888888888888,
             "#fdca26"
            ],
            [
             1,
             "#f0f921"
            ]
           ],
           "sequentialminus": [
            [
             0,
             "#0d0887"
            ],
            [
             0.1111111111111111,
             "#46039f"
            ],
            [
             0.2222222222222222,
             "#7201a8"
            ],
            [
             0.3333333333333333,
             "#9c179e"
            ],
            [
             0.4444444444444444,
             "#bd3786"
            ],
            [
             0.5555555555555556,
             "#d8576b"
            ],
            [
             0.6666666666666666,
             "#ed7953"
            ],
            [
             0.7777777777777778,
             "#fb9f3a"
            ],
            [
             0.8888888888888888,
             "#fdca26"
            ],
            [
             1,
             "#f0f921"
            ]
           ]
          },
          "colorway": [
           "#636efa",
           "#EF553B",
           "#00cc96",
           "#ab63fa",
           "#FFA15A",
           "#19d3f3",
           "#FF6692",
           "#B6E880",
           "#FF97FF",
           "#FECB52"
          ],
          "font": {
           "color": "#2a3f5f"
          },
          "geo": {
           "bgcolor": "white",
           "lakecolor": "white",
           "landcolor": "#E5ECF6",
           "showlakes": true,
           "showland": true,
           "subunitcolor": "white"
          },
          "hoverlabel": {
           "align": "left"
          },
          "hovermode": "closest",
          "mapbox": {
           "style": "light"
          },
          "paper_bgcolor": "white",
          "plot_bgcolor": "#E5ECF6",
          "polar": {
           "angularaxis": {
            "gridcolor": "white",
            "linecolor": "white",
            "ticks": ""
           },
           "bgcolor": "#E5ECF6",
           "radialaxis": {
            "gridcolor": "white",
            "linecolor": "white",
            "ticks": ""
           }
          },
          "scene": {
           "xaxis": {
            "backgroundcolor": "#E5ECF6",
            "gridcolor": "white",
            "gridwidth": 2,
            "linecolor": "white",
            "showbackground": true,
            "ticks": "",
            "zerolinecolor": "white"
           },
           "yaxis": {
            "backgroundcolor": "#E5ECF6",
            "gridcolor": "white",
            "gridwidth": 2,
            "linecolor": "white",
            "showbackground": true,
            "ticks": "",
            "zerolinecolor": "white"
           },
           "zaxis": {
            "backgroundcolor": "#E5ECF6",
            "gridcolor": "white",
            "gridwidth": 2,
            "linecolor": "white",
            "showbackground": true,
            "ticks": "",
            "zerolinecolor": "white"
           }
          },
          "shapedefaults": {
           "line": {
            "color": "#2a3f5f"
           }
          },
          "ternary": {
           "aaxis": {
            "gridcolor": "white",
            "linecolor": "white",
            "ticks": ""
           },
           "baxis": {
            "gridcolor": "white",
            "linecolor": "white",
            "ticks": ""
           },
           "bgcolor": "#E5ECF6",
           "caxis": {
            "gridcolor": "white",
            "linecolor": "white",
            "ticks": ""
           }
          },
          "title": {
           "x": 0.05
          },
          "xaxis": {
           "automargin": true,
           "gridcolor": "white",
           "linecolor": "white",
           "ticks": "",
           "title": {
            "standoff": 15
           },
           "zerolinecolor": "white",
           "zerolinewidth": 2
          },
          "yaxis": {
           "automargin": true,
           "gridcolor": "white",
           "linecolor": "white",
           "ticks": "",
           "title": {
            "standoff": 15
           },
           "zerolinecolor": "white",
           "zerolinewidth": 2
          }
         }
        },
        "xaxis": {
         "anchor": "y",
         "domain": [
          0,
          1
         ],
         "title": {
          "text": "Sensor Id"
         }
        },
        "yaxis": {
         "anchor": "x",
         "domain": [
          0,
          1
         ],
         "title": {
          "text": "Sensor reading for AIRQUALITYINDEX"
         }
        }
       }
      },
      "text/html": [
       "<div>                            <div id=\"8e2fef82-cd0f-4669-9e4f-e8d98069a908\" class=\"plotly-graph-div\" style=\"height:525px; width:100%;\"></div>            <script type=\"text/javascript\">                require([\"plotly\"], function(Plotly) {                    window.PLOTLYENV=window.PLOTLYENV || {};                                    if (document.getElementById(\"8e2fef82-cd0f-4669-9e4f-e8d98069a908\")) {                    Plotly.newPlot(                        \"8e2fef82-cd0f-4669-9e4f-e8d98069a908\",                        [{\"alignmentgroup\": \"True\", \"hovertemplate\": \"deviceName=%{x}<br>airQualityIndex=%{y}<extra></extra>\", \"legendgroup\": \"\", \"marker\": {\"color\": \"#636efa\"}, \"name\": \"\", \"offsetgroup\": \"\", \"orientation\": \"v\", \"showlegend\": false, \"textposition\": \"auto\", \"type\": \"bar\", \"x\": [\"Nigadi\", \"Manjari\", \"Bhumkar Chowk\", \"Alandi\", \"Hadapsar\", \"Bhosari\", \"Pashan\", \"Shivajinagar\", \"Lohgaon\", \"Katraj\"], \"xaxis\": \"x\", \"y\": [96, 96, 300, 201, 97, 145, 134, 117, 201, 201], \"yaxis\": \"y\"}],                        {\"barmode\": \"relative\", \"font\": {\"size\": 12}, \"legend\": {\"tracegroupgap\": 0}, \"margin\": {\"t\": 60}, \"template\": {\"data\": {\"bar\": [{\"error_x\": {\"color\": \"#2a3f5f\"}, \"error_y\": {\"color\": \"#2a3f5f\"}, \"marker\": {\"line\": {\"color\": \"#E5ECF6\", \"width\": 0.5}}, \"type\": \"bar\"}], \"barpolar\": [{\"marker\": {\"line\": {\"color\": \"#E5ECF6\", \"width\": 0.5}}, \"type\": \"barpolar\"}], \"carpet\": [{\"aaxis\": {\"endlinecolor\": \"#2a3f5f\", \"gridcolor\": \"white\", \"linecolor\": \"white\", \"minorgridcolor\": \"white\", \"startlinecolor\": \"#2a3f5f\"}, \"baxis\": {\"endlinecolor\": \"#2a3f5f\", \"gridcolor\": \"white\", \"linecolor\": \"white\", \"minorgridcolor\": \"white\", \"startlinecolor\": \"#2a3f5f\"}, \"type\": \"carpet\"}], \"choropleth\": [{\"colorbar\": {\"outlinewidth\": 0, \"ticks\": \"\"}, \"type\": \"choropleth\"}], \"contour\": [{\"colorbar\": {\"outlinewidth\": 0, \"ticks\": \"\"}, \"colorscale\": [[0.0, \"#0d0887\"], [0.1111111111111111, \"#46039f\"], [0.2222222222222222, \"#7201a8\"], [0.3333333333333333, \"#9c179e\"], [0.4444444444444444, \"#bd3786\"], [0.5555555555555556, \"#d8576b\"], [0.6666666666666666, \"#ed7953\"], [0.7777777777777778, \"#fb9f3a\"], [0.8888888888888888, \"#fdca26\"], [1.0, \"#f0f921\"]], \"type\": \"contour\"}], \"contourcarpet\": [{\"colorbar\": {\"outlinewidth\": 0, \"ticks\": \"\"}, \"type\": \"contourcarpet\"}], \"heatmap\": [{\"colorbar\": {\"outlinewidth\": 0, \"ticks\": \"\"}, \"colorscale\": [[0.0, \"#0d0887\"], [0.1111111111111111, \"#46039f\"], [0.2222222222222222, \"#7201a8\"], [0.3333333333333333, \"#9c179e\"], [0.4444444444444444, \"#bd3786\"], [0.5555555555555556, \"#d8576b\"], [0.6666666666666666, \"#ed7953\"], [0.7777777777777778, \"#fb9f3a\"], [0.8888888888888888, \"#fdca26\"], [1.0, \"#f0f921\"]], \"type\": \"heatmap\"}], \"heatmapgl\": [{\"colorbar\": {\"outlinewidth\": 0, \"ticks\": \"\"}, \"colorscale\": [[0.0, \"#0d0887\"], [0.1111111111111111, \"#46039f\"], [0.2222222222222222, \"#7201a8\"], [0.3333333333333333, \"#9c179e\"], [0.4444444444444444, \"#bd3786\"], [0.5555555555555556, \"#d8576b\"], [0.6666666666666666, \"#ed7953\"], [0.7777777777777778, \"#fb9f3a\"], [0.8888888888888888, \"#fdca26\"], [1.0, \"#f0f921\"]], \"type\": \"heatmapgl\"}], \"histogram\": [{\"marker\": {\"colorbar\": {\"outlinewidth\": 0, \"ticks\": \"\"}}, \"type\": \"histogram\"}], \"histogram2d\": [{\"colorbar\": {\"outlinewidth\": 0, \"ticks\": \"\"}, \"colorscale\": [[0.0, \"#0d0887\"], [0.1111111111111111, \"#46039f\"], [0.2222222222222222, \"#7201a8\"], [0.3333333333333333, \"#9c179e\"], [0.4444444444444444, \"#bd3786\"], [0.5555555555555556, \"#d8576b\"], [0.6666666666666666, \"#ed7953\"], [0.7777777777777778, \"#fb9f3a\"], [0.8888888888888888, \"#fdca26\"], [1.0, \"#f0f921\"]], \"type\": \"histogram2d\"}], \"histogram2dcontour\": [{\"colorbar\": {\"outlinewidth\": 0, \"ticks\": \"\"}, \"colorscale\": [[0.0, \"#0d0887\"], [0.1111111111111111, \"#46039f\"], [0.2222222222222222, \"#7201a8\"], [0.3333333333333333, \"#9c179e\"], [0.4444444444444444, \"#bd3786\"], [0.5555555555555556, \"#d8576b\"], [0.6666666666666666, \"#ed7953\"], [0.7777777777777778, \"#fb9f3a\"], [0.8888888888888888, \"#fdca26\"], [1.0, \"#f0f921\"]], \"type\": \"histogram2dcontour\"}], \"mesh3d\": [{\"colorbar\": {\"outlinewidth\": 0, \"ticks\": \"\"}, \"type\": \"mesh3d\"}], \"parcoords\": [{\"line\": {\"colorbar\": {\"outlinewidth\": 0, \"ticks\": \"\"}}, \"type\": \"parcoords\"}], \"pie\": [{\"automargin\": true, \"type\": \"pie\"}], \"scatter\": [{\"marker\": {\"colorbar\": {\"outlinewidth\": 0, \"ticks\": \"\"}}, \"type\": \"scatter\"}], \"scatter3d\": [{\"line\": {\"colorbar\": {\"outlinewidth\": 0, \"ticks\": \"\"}}, \"marker\": {\"colorbar\": {\"outlinewidth\": 0, \"ticks\": \"\"}}, \"type\": \"scatter3d\"}], \"scattercarpet\": [{\"marker\": {\"colorbar\": {\"outlinewidth\": 0, \"ticks\": \"\"}}, \"type\": \"scattercarpet\"}], \"scattergeo\": [{\"marker\": {\"colorbar\": {\"outlinewidth\": 0, \"ticks\": \"\"}}, \"type\": \"scattergeo\"}], \"scattergl\": [{\"marker\": {\"colorbar\": {\"outlinewidth\": 0, \"ticks\": \"\"}}, \"type\": \"scattergl\"}], \"scattermapbox\": [{\"marker\": {\"colorbar\": {\"outlinewidth\": 0, \"ticks\": \"\"}}, \"type\": \"scattermapbox\"}], \"scatterpolar\": [{\"marker\": {\"colorbar\": {\"outlinewidth\": 0, \"ticks\": \"\"}}, \"type\": \"scatterpolar\"}], \"scatterpolargl\": [{\"marker\": {\"colorbar\": {\"outlinewidth\": 0, \"ticks\": \"\"}}, \"type\": \"scatterpolargl\"}], \"scatterternary\": [{\"marker\": {\"colorbar\": {\"outlinewidth\": 0, \"ticks\": \"\"}}, \"type\": \"scatterternary\"}], \"surface\": [{\"colorbar\": {\"outlinewidth\": 0, \"ticks\": \"\"}, \"colorscale\": [[0.0, \"#0d0887\"], [0.1111111111111111, \"#46039f\"], [0.2222222222222222, \"#7201a8\"], [0.3333333333333333, \"#9c179e\"], [0.4444444444444444, \"#bd3786\"], [0.5555555555555556, \"#d8576b\"], [0.6666666666666666, \"#ed7953\"], [0.7777777777777778, \"#fb9f3a\"], [0.8888888888888888, \"#fdca26\"], [1.0, \"#f0f921\"]], \"type\": \"surface\"}], \"table\": [{\"cells\": {\"fill\": {\"color\": \"#EBF0F8\"}, \"line\": {\"color\": \"white\"}}, \"header\": {\"fill\": {\"color\": \"#C8D4E3\"}, \"line\": {\"color\": \"white\"}}, \"type\": \"table\"}]}, \"layout\": {\"annotationdefaults\": {\"arrowcolor\": \"#2a3f5f\", \"arrowhead\": 0, \"arrowwidth\": 1}, \"autotypenumbers\": \"strict\", \"coloraxis\": {\"colorbar\": {\"outlinewidth\": 0, \"ticks\": \"\"}}, \"colorscale\": {\"diverging\": [[0, \"#8e0152\"], [0.1, \"#c51b7d\"], [0.2, \"#de77ae\"], [0.3, \"#f1b6da\"], [0.4, \"#fde0ef\"], [0.5, \"#f7f7f7\"], [0.6, \"#e6f5d0\"], [0.7, \"#b8e186\"], [0.8, \"#7fbc41\"], [0.9, \"#4d9221\"], [1, \"#276419\"]], \"sequential\": [[0.0, \"#0d0887\"], [0.1111111111111111, \"#46039f\"], [0.2222222222222222, \"#7201a8\"], [0.3333333333333333, \"#9c179e\"], [0.4444444444444444, \"#bd3786\"], [0.5555555555555556, \"#d8576b\"], [0.6666666666666666, \"#ed7953\"], [0.7777777777777778, \"#fb9f3a\"], [0.8888888888888888, \"#fdca26\"], [1.0, \"#f0f921\"]], \"sequentialminus\": [[0.0, \"#0d0887\"], [0.1111111111111111, \"#46039f\"], [0.2222222222222222, \"#7201a8\"], [0.3333333333333333, \"#9c179e\"], [0.4444444444444444, \"#bd3786\"], [0.5555555555555556, \"#d8576b\"], [0.6666666666666666, \"#ed7953\"], [0.7777777777777778, \"#fb9f3a\"], [0.8888888888888888, \"#fdca26\"], [1.0, \"#f0f921\"]]}, \"colorway\": [\"#636efa\", \"#EF553B\", \"#00cc96\", \"#ab63fa\", \"#FFA15A\", \"#19d3f3\", \"#FF6692\", \"#B6E880\", \"#FF97FF\", \"#FECB52\"], \"font\": {\"color\": \"#2a3f5f\"}, \"geo\": {\"bgcolor\": \"white\", \"lakecolor\": \"white\", \"landcolor\": \"#E5ECF6\", \"showlakes\": true, \"showland\": true, \"subunitcolor\": \"white\"}, \"hoverlabel\": {\"align\": \"left\"}, \"hovermode\": \"closest\", \"mapbox\": {\"style\": \"light\"}, \"paper_bgcolor\": \"white\", \"plot_bgcolor\": \"#E5ECF6\", \"polar\": {\"angularaxis\": {\"gridcolor\": \"white\", \"linecolor\": \"white\", \"ticks\": \"\"}, \"bgcolor\": \"#E5ECF6\", \"radialaxis\": {\"gridcolor\": \"white\", \"linecolor\": \"white\", \"ticks\": \"\"}}, \"scene\": {\"xaxis\": {\"backgroundcolor\": \"#E5ECF6\", \"gridcolor\": \"white\", \"gridwidth\": 2, \"linecolor\": \"white\", \"showbackground\": true, \"ticks\": \"\", \"zerolinecolor\": \"white\"}, \"yaxis\": {\"backgroundcolor\": \"#E5ECF6\", \"gridcolor\": \"white\", \"gridwidth\": 2, \"linecolor\": \"white\", \"showbackground\": true, \"ticks\": \"\", \"zerolinecolor\": \"white\"}, \"zaxis\": {\"backgroundcolor\": \"#E5ECF6\", \"gridcolor\": \"white\", \"gridwidth\": 2, \"linecolor\": \"white\", \"showbackground\": true, \"ticks\": \"\", \"zerolinecolor\": \"white\"}}, \"shapedefaults\": {\"line\": {\"color\": \"#2a3f5f\"}}, \"ternary\": {\"aaxis\": {\"gridcolor\": \"white\", \"linecolor\": \"white\", \"ticks\": \"\"}, \"baxis\": {\"gridcolor\": \"white\", \"linecolor\": \"white\", \"ticks\": \"\"}, \"bgcolor\": \"#E5ECF6\", \"caxis\": {\"gridcolor\": \"white\", \"linecolor\": \"white\", \"ticks\": \"\"}}, \"title\": {\"x\": 0.05}, \"xaxis\": {\"automargin\": true, \"gridcolor\": \"white\", \"linecolor\": \"white\", \"ticks\": \"\", \"title\": {\"standoff\": 15}, \"zerolinecolor\": \"white\", \"zerolinewidth\": 2}, \"yaxis\": {\"automargin\": true, \"gridcolor\": \"white\", \"linecolor\": \"white\", \"ticks\": \"\", \"title\": {\"standoff\": 15}, \"zerolinecolor\": \"white\", \"zerolinewidth\": 2}}}, \"xaxis\": {\"anchor\": \"y\", \"domain\": [0.0, 1.0], \"title\": {\"text\": \"Sensor Id\"}}, \"yaxis\": {\"anchor\": \"x\", \"domain\": [0.0, 1.0], \"title\": {\"text\": \"Sensor reading for AIRQUALITYINDEX\"}}},                        {\"responsive\": true}                    ).then(function(){\n",
       "                            \n",
       "var gd = document.getElementById('8e2fef82-cd0f-4669-9e4f-e8d98069a908');\n",
       "var x = new MutationObserver(function (mutations, observer) {{\n",
       "        var display = window.getComputedStyle(gd).display;\n",
       "        if (!display || display === 'none') {{\n",
       "            console.log([gd, 'removed!']);\n",
       "            Plotly.purge(gd);\n",
       "            observer.disconnect();\n",
       "        }}\n",
       "}});\n",
       "\n",
       "// Listen for the removal of the full notebook cells\n",
       "var notebookContainer = gd.closest('#notebook-container');\n",
       "if (notebookContainer) {{\n",
       "    x.observe(notebookContainer, {childList: true});\n",
       "}}\n",
       "\n",
       "// Listen for the clearing of the current output cell\n",
       "var outputEl = gd.closest('.output');\n",
       "if (outputEl) {{\n",
       "    x.observe(outputEl, {childList: true});\n",
       "}}\n",
       "\n",
       "                        })                };                });            </script>        </div>"
      ]
     },
     "metadata": {},
     "output_type": "display_data"
    }
   ],
   "source": [
    "# plot a bar chart for the latest measures of a property at all active resources\n",
    "def simpleVis1(col):\n",
    "    column_name=col\n",
    "    display(widgets.HTML(f'<center style=\"font-size:14px\">Latest temporal sensor reading for {col.upper()} of all sensors<center>'))\n",
    "    fig = px.bar(latest_measures, x='deviceName', y=column_name)\n",
    "    fig.update_layout(\n",
    "        xaxis_title=\"Sensor Id\",\n",
    "        yaxis_title=\"Sensor reading for \"+col.upper(),\n",
    "        font=dict(\n",
    "            size=12\n",
    "        )\n",
    "    )\n",
    "    fig.show()\n",
    "simpleVis1('airQualityIndex')\n"
   ]
  },
  {
   "cell_type": "code",
   "execution_count": 155,
   "metadata": {
    "scrolled": false
   },
   "outputs": [
    {
     "data": {
      "text/html": [
       "<div style=\"width:100%;\"><div style=\"position:relative;width:100%;height:0;padding-bottom:60%;\"><span style=\"color:#565656\">Make this Notebook Trusted to load map: File -> Trust Notebook</span><iframe src=\"about:blank\" style=\"position:absolute;width:100%;height:100%;left:0;top:0;border:none !important;\" data-html=%3C%21DOCTYPE%20html%3E%0A%3Chead%3E%20%20%20%20%0A%20%20%20%20%3Cmeta%20http-equiv%3D%22content-type%22%20content%3D%22text/html%3B%20charset%3DUTF-8%22%20/%3E%0A%20%20%20%20%0A%20%20%20%20%20%20%20%20%3Cscript%3E%0A%20%20%20%20%20%20%20%20%20%20%20%20L_NO_TOUCH%20%3D%20false%3B%0A%20%20%20%20%20%20%20%20%20%20%20%20L_DISABLE_3D%20%3D%20false%3B%0A%20%20%20%20%20%20%20%20%3C/script%3E%0A%20%20%20%20%0A%20%20%20%20%3Cstyle%3Ehtml%2C%20body%20%7Bwidth%3A%20100%25%3Bheight%3A%20100%25%3Bmargin%3A%200%3Bpadding%3A%200%3B%7D%3C/style%3E%0A%20%20%20%20%3Cstyle%3E%23map%20%7Bposition%3Aabsolute%3Btop%3A0%3Bbottom%3A0%3Bright%3A0%3Bleft%3A0%3B%7D%3C/style%3E%0A%20%20%20%20%3Cscript%20src%3D%22https%3A//cdn.jsdelivr.net/npm/leaflet%401.6.0/dist/leaflet.js%22%3E%3C/script%3E%0A%20%20%20%20%3Cscript%20src%3D%22https%3A//code.jquery.com/jquery-1.12.4.min.js%22%3E%3C/script%3E%0A%20%20%20%20%3Cscript%20src%3D%22https%3A//maxcdn.bootstrapcdn.com/bootstrap/3.2.0/js/bootstrap.min.js%22%3E%3C/script%3E%0A%20%20%20%20%3Cscript%20src%3D%22https%3A//cdnjs.cloudflare.com/ajax/libs/Leaflet.awesome-markers/2.0.2/leaflet.awesome-markers.js%22%3E%3C/script%3E%0A%20%20%20%20%3Clink%20rel%3D%22stylesheet%22%20href%3D%22https%3A//cdn.jsdelivr.net/npm/leaflet%401.6.0/dist/leaflet.css%22/%3E%0A%20%20%20%20%3Clink%20rel%3D%22stylesheet%22%20href%3D%22https%3A//maxcdn.bootstrapcdn.com/bootstrap/3.2.0/css/bootstrap.min.css%22/%3E%0A%20%20%20%20%3Clink%20rel%3D%22stylesheet%22%20href%3D%22https%3A//maxcdn.bootstrapcdn.com/bootstrap/3.2.0/css/bootstrap-theme.min.css%22/%3E%0A%20%20%20%20%3Clink%20rel%3D%22stylesheet%22%20href%3D%22https%3A//maxcdn.bootstrapcdn.com/font-awesome/4.6.3/css/font-awesome.min.css%22/%3E%0A%20%20%20%20%3Clink%20rel%3D%22stylesheet%22%20href%3D%22https%3A//cdnjs.cloudflare.com/ajax/libs/Leaflet.awesome-markers/2.0.2/leaflet.awesome-markers.css%22/%3E%0A%20%20%20%20%3Clink%20rel%3D%22stylesheet%22%20href%3D%22https%3A//cdn.jsdelivr.net/gh/python-visualization/folium/folium/templates/leaflet.awesome.rotate.min.css%22/%3E%0A%20%20%20%20%0A%20%20%20%20%20%20%20%20%20%20%20%20%3Cmeta%20name%3D%22viewport%22%20content%3D%22width%3Ddevice-width%2C%0A%20%20%20%20%20%20%20%20%20%20%20%20%20%20%20%20initial-scale%3D1.0%2C%20maximum-scale%3D1.0%2C%20user-scalable%3Dno%22%20/%3E%0A%20%20%20%20%20%20%20%20%20%20%20%20%3Cstyle%3E%0A%20%20%20%20%20%20%20%20%20%20%20%20%20%20%20%20%23map_081f09a211a44c2cafe0d3169e9a1b25%20%7B%0A%20%20%20%20%20%20%20%20%20%20%20%20%20%20%20%20%20%20%20%20position%3A%20relative%3B%0A%20%20%20%20%20%20%20%20%20%20%20%20%20%20%20%20%20%20%20%20width%3A%20100.0%25%3B%0A%20%20%20%20%20%20%20%20%20%20%20%20%20%20%20%20%20%20%20%20height%3A%20100.0%25%3B%0A%20%20%20%20%20%20%20%20%20%20%20%20%20%20%20%20%20%20%20%20left%3A%200.0%25%3B%0A%20%20%20%20%20%20%20%20%20%20%20%20%20%20%20%20%20%20%20%20top%3A%200.0%25%3B%0A%20%20%20%20%20%20%20%20%20%20%20%20%20%20%20%20%7D%0A%20%20%20%20%20%20%20%20%20%20%20%20%3C/style%3E%0A%20%20%20%20%20%20%20%20%0A%3C/head%3E%0A%3Cbody%3E%20%20%20%20%0A%20%20%20%20%0A%20%20%20%20%20%20%20%20%20%20%20%20%3Cdiv%20class%3D%22folium-map%22%20id%3D%22map_081f09a211a44c2cafe0d3169e9a1b25%22%20%3E%3C/div%3E%0A%20%20%20%20%20%20%20%20%0A%3C/body%3E%0A%3Cscript%3E%20%20%20%20%0A%20%20%20%20%0A%20%20%20%20%20%20%20%20%20%20%20%20var%20map_081f09a211a44c2cafe0d3169e9a1b25%20%3D%20L.map%28%0A%20%20%20%20%20%20%20%20%20%20%20%20%20%20%20%20%22map_081f09a211a44c2cafe0d3169e9a1b25%22%2C%0A%20%20%20%20%20%20%20%20%20%20%20%20%20%20%20%20%7B%0A%20%20%20%20%20%20%20%20%20%20%20%20%20%20%20%20%20%20%20%20center%3A%20%5B18.567%2C%2073.852%5D%2C%0A%20%20%20%20%20%20%20%20%20%20%20%20%20%20%20%20%20%20%20%20crs%3A%20L.CRS.EPSG3857%2C%0A%20%20%20%20%20%20%20%20%20%20%20%20%20%20%20%20%20%20%20%20zoom%3A%2012%2C%0A%20%20%20%20%20%20%20%20%20%20%20%20%20%20%20%20%20%20%20%20zoomControl%3A%20true%2C%0A%20%20%20%20%20%20%20%20%20%20%20%20%20%20%20%20%20%20%20%20preferCanvas%3A%20false%2C%0A%20%20%20%20%20%20%20%20%20%20%20%20%20%20%20%20%7D%0A%20%20%20%20%20%20%20%20%20%20%20%20%29%3B%0A%0A%20%20%20%20%20%20%20%20%20%20%20%20%0A%0A%20%20%20%20%20%20%20%20%0A%20%20%20%20%0A%20%20%20%20%20%20%20%20%20%20%20%20var%20tile_layer_0a8c1e671f9446c394fb85d742134c2f%20%3D%20L.tileLayer%28%0A%20%20%20%20%20%20%20%20%20%20%20%20%20%20%20%20%22https%3A//cartodb-basemaps-%7Bs%7D.global.ssl.fastly.net/light_all/%7Bz%7D/%7Bx%7D/%7By%7D.png%22%2C%0A%20%20%20%20%20%20%20%20%20%20%20%20%20%20%20%20%7B%22attribution%22%3A%20%22%5Cu0026copy%3B%20%5Cu003ca%20href%3D%5C%22http%3A//www.openstreetmap.org/copyright%5C%22%5Cu003eOpenStreetMap%5Cu003c/a%5Cu003e%20contributors%20%5Cu0026copy%3B%20%5Cu003ca%20href%3D%5C%22http%3A//cartodb.com/attributions%5C%22%5Cu003eCartoDB%5Cu003c/a%5Cu003e%2C%20CartoDB%20%5Cu003ca%20href%20%3D%5C%22http%3A//cartodb.com/attributions%5C%22%5Cu003eattributions%5Cu003c/a%5Cu003e%22%2C%20%22detectRetina%22%3A%20false%2C%20%22maxNativeZoom%22%3A%2018%2C%20%22maxZoom%22%3A%2018%2C%20%22minZoom%22%3A%200%2C%20%22noWrap%22%3A%20false%2C%20%22opacity%22%3A%201%2C%20%22subdomains%22%3A%20%22abc%22%2C%20%22tms%22%3A%20false%7D%0A%20%20%20%20%20%20%20%20%20%20%20%20%29.addTo%28map_081f09a211a44c2cafe0d3169e9a1b25%29%3B%0A%20%20%20%20%20%20%20%20%0A%20%20%20%20%0A%20%20%20%20%20%20%20%20%20%20%20%20var%20circle_6b28a7a7b50243adacf8e4c22116f70b%20%3D%20L.circle%28%0A%20%20%20%20%20%20%20%20%20%20%20%20%20%20%20%20%5B18.66%2C%2073.76%5D%2C%0A%20%20%20%20%20%20%20%20%20%20%20%20%20%20%20%20%7B%22bubblingMouseEvents%22%3A%20true%2C%20%22color%22%3A%20%22b%22%2C%20%22dashArray%22%3A%20null%2C%20%22dashOffset%22%3A%20null%2C%20%22fill%22%3A%20true%2C%20%22fillColor%22%3A%20%22blue%22%2C%20%22fillOpacity%22%3A%200.4%2C%20%22fillRule%22%3A%20%22evenodd%22%2C%20%22lineCap%22%3A%20%22round%22%2C%20%22lineJoin%22%3A%20%22round%22%2C%20%22opacity%22%3A%201.0%2C%20%22stroke%22%3A%20true%2C%20%22weight%22%3A%203%7D%0A%20%20%20%20%20%20%20%20%20%20%20%20%29.addTo%28map_081f09a211a44c2cafe0d3169e9a1b25%29%3B%0A%20%20%20%20%20%20%20%20%0A%20%20%20%20%0A%20%20%20%20%20%20%20%20var%20popup_c32f7cebaae742bda7339c1659040c0e%20%3D%20L.popup%28%7B%22maxWidth%22%3A%20%22100%25%22%7D%29%3B%0A%0A%20%20%20%20%20%20%20%20%0A%20%20%20%20%20%20%20%20%20%20%20%20var%20html_06b3d080db7a4dd3b20ab88207586d10%20%3D%20%24%28%60%3Cdiv%20id%3D%22html_06b3d080db7a4dd3b20ab88207586d10%22%20style%3D%22width%3A%20100.0%25%3B%20height%3A%20100.0%25%3B%22%3ENIGADI%20Air%20Quality%20Index%3A%2096%3C/div%3E%60%29%5B0%5D%3B%0A%20%20%20%20%20%20%20%20%20%20%20%20popup_c32f7cebaae742bda7339c1659040c0e.setContent%28html_06b3d080db7a4dd3b20ab88207586d10%29%3B%0A%20%20%20%20%20%20%20%20%0A%0A%20%20%20%20%20%20%20%20circle_6b28a7a7b50243adacf8e4c22116f70b.bindPopup%28popup_c32f7cebaae742bda7339c1659040c0e%29%0A%20%20%20%20%20%20%20%20%3B%0A%0A%20%20%20%20%20%20%20%20%0A%20%20%20%20%0A%20%20%20%20%0A%20%20%20%20%20%20%20%20%20%20%20%20var%20circle_87e4755a33914a4dba524a530628e68c%20%3D%20L.circle%28%0A%20%20%20%20%20%20%20%20%20%20%20%20%20%20%20%20%5B18.52%2C%2073.97%5D%2C%0A%20%20%20%20%20%20%20%20%20%20%20%20%20%20%20%20%7B%22bubblingMouseEvents%22%3A%20true%2C%20%22color%22%3A%20%22b%22%2C%20%22dashArray%22%3A%20null%2C%20%22dashOffset%22%3A%20null%2C%20%22fill%22%3A%20true%2C%20%22fillColor%22%3A%20%22blue%22%2C%20%22fillOpacity%22%3A%200.4%2C%20%22fillRule%22%3A%20%22evenodd%22%2C%20%22lineCap%22%3A%20%22round%22%2C%20%22lineJoin%22%3A%20%22round%22%2C%20%22opacity%22%3A%201.0%2C%20%22stroke%22%3A%20true%2C%20%22weight%22%3A%203%7D%0A%20%20%20%20%20%20%20%20%20%20%20%20%29.addTo%28map_081f09a211a44c2cafe0d3169e9a1b25%29%3B%0A%20%20%20%20%20%20%20%20%0A%20%20%20%20%0A%20%20%20%20%20%20%20%20var%20popup_c4fec0effa3f476fbc59f37675b9f46a%20%3D%20L.popup%28%7B%22maxWidth%22%3A%20%22100%25%22%7D%29%3B%0A%0A%20%20%20%20%20%20%20%20%0A%20%20%20%20%20%20%20%20%20%20%20%20var%20html_a3bcb41b27c5414b9941dd9aa960b681%20%3D%20%24%28%60%3Cdiv%20id%3D%22html_a3bcb41b27c5414b9941dd9aa960b681%22%20style%3D%22width%3A%20100.0%25%3B%20height%3A%20100.0%25%3B%22%3EMANJARI%20Air%20Quality%20Index%3A%2096%3C/div%3E%60%29%5B0%5D%3B%0A%20%20%20%20%20%20%20%20%20%20%20%20popup_c4fec0effa3f476fbc59f37675b9f46a.setContent%28html_a3bcb41b27c5414b9941dd9aa960b681%29%3B%0A%20%20%20%20%20%20%20%20%0A%0A%20%20%20%20%20%20%20%20circle_87e4755a33914a4dba524a530628e68c.bindPopup%28popup_c4fec0effa3f476fbc59f37675b9f46a%29%0A%20%20%20%20%20%20%20%20%3B%0A%0A%20%20%20%20%20%20%20%20%0A%20%20%20%20%0A%20%20%20%20%0A%20%20%20%20%20%20%20%20%20%20%20%20var%20circle_3414e92470c34c638df0cc67e00e38a3%20%3D%20L.circle%28%0A%20%20%20%20%20%20%20%20%20%20%20%20%20%20%20%20%5B18.6%2C%2073.75%5D%2C%0A%20%20%20%20%20%20%20%20%20%20%20%20%20%20%20%20%7B%22bubblingMouseEvents%22%3A%20true%2C%20%22color%22%3A%20%22b%22%2C%20%22dashArray%22%3A%20null%2C%20%22dashOffset%22%3A%20null%2C%20%22fill%22%3A%20true%2C%20%22fillColor%22%3A%20%22red%22%2C%20%22fillOpacity%22%3A%200.4%2C%20%22fillRule%22%3A%20%22evenodd%22%2C%20%22lineCap%22%3A%20%22round%22%2C%20%22lineJoin%22%3A%20%22round%22%2C%20%22opacity%22%3A%201.0%2C%20%22radius%22%3A%202000.0%2C%20%22stroke%22%3A%20true%2C%20%22weight%22%3A%203%7D%0A%20%20%20%20%20%20%20%20%20%20%20%20%29.addTo%28map_081f09a211a44c2cafe0d3169e9a1b25%29%3B%0A%20%20%20%20%20%20%20%20%0A%20%20%20%20%0A%20%20%20%20%20%20%20%20var%20popup_0fd7eb215c1c480aa1d4e54ea65e5063%20%3D%20L.popup%28%7B%22maxWidth%22%3A%20%22100%25%22%7D%29%3B%0A%0A%20%20%20%20%20%20%20%20%0A%20%20%20%20%20%20%20%20%20%20%20%20var%20html_98c85c9c18e34ad097bc5e2ba6211cdf%20%3D%20%24%28%60%3Cdiv%20id%3D%22html_98c85c9c18e34ad097bc5e2ba6211cdf%22%20style%3D%22width%3A%20100.0%25%3B%20height%3A%20100.0%25%3B%22%3EBHUMKAR_CHOWK%20Air%20Quality%20Index%3A%20300%3C/div%3E%60%29%5B0%5D%3B%0A%20%20%20%20%20%20%20%20%20%20%20%20popup_0fd7eb215c1c480aa1d4e54ea65e5063.setContent%28html_98c85c9c18e34ad097bc5e2ba6211cdf%29%3B%0A%20%20%20%20%20%20%20%20%0A%0A%20%20%20%20%20%20%20%20circle_3414e92470c34c638df0cc67e00e38a3.bindPopup%28popup_0fd7eb215c1c480aa1d4e54ea65e5063%29%0A%20%20%20%20%20%20%20%20%3B%0A%0A%20%20%20%20%20%20%20%20%0A%20%20%20%20%0A%20%20%20%20%0A%20%20%20%20%20%20%20%20%20%20%20%20var%20circle_6cd3338f595a45f6abc5f3103238455c%20%3D%20L.circle%28%0A%20%20%20%20%20%20%20%20%20%20%20%20%20%20%20%20%5B18.67%2C%2073.89%5D%2C%0A%20%20%20%20%20%20%20%20%20%20%20%20%20%20%20%20%7B%22bubblingMouseEvents%22%3A%20true%2C%20%22color%22%3A%20%22b%22%2C%20%22dashArray%22%3A%20null%2C%20%22dashOffset%22%3A%20null%2C%20%22fill%22%3A%20true%2C%20%22fillColor%22%3A%20%22blue%22%2C%20%22fillOpacity%22%3A%200.4%2C%20%22fillRule%22%3A%20%22evenodd%22%2C%20%22lineCap%22%3A%20%22round%22%2C%20%22lineJoin%22%3A%20%22round%22%2C%20%22opacity%22%3A%201.0%2C%20%22radius%22%3A%201029.4117647058824%2C%20%22stroke%22%3A%20true%2C%20%22weight%22%3A%203%7D%0A%20%20%20%20%20%20%20%20%20%20%20%20%29.addTo%28map_081f09a211a44c2cafe0d3169e9a1b25%29%3B%0A%20%20%20%20%20%20%20%20%0A%20%20%20%20%0A%20%20%20%20%20%20%20%20var%20popup_5483f25c52d54447ae3086e80854b8ad%20%3D%20L.popup%28%7B%22maxWidth%22%3A%20%22100%25%22%7D%29%3B%0A%0A%20%20%20%20%20%20%20%20%0A%20%20%20%20%20%20%20%20%20%20%20%20var%20html_4bb6e933ee004cc4b5d8ef90d66e8fbb%20%3D%20%24%28%60%3Cdiv%20id%3D%22html_4bb6e933ee004cc4b5d8ef90d66e8fbb%22%20style%3D%22width%3A%20100.0%25%3B%20height%3A%20100.0%25%3B%22%3EALANDI%20Air%20Quality%20Index%3A%20201%3C/div%3E%60%29%5B0%5D%3B%0A%20%20%20%20%20%20%20%20%20%20%20%20popup_5483f25c52d54447ae3086e80854b8ad.setContent%28html_4bb6e933ee004cc4b5d8ef90d66e8fbb%29%3B%0A%20%20%20%20%20%20%20%20%0A%0A%20%20%20%20%20%20%20%20circle_6cd3338f595a45f6abc5f3103238455c.bindPopup%28popup_5483f25c52d54447ae3086e80854b8ad%29%0A%20%20%20%20%20%20%20%20%3B%0A%0A%20%20%20%20%20%20%20%20%0A%20%20%20%20%0A%20%20%20%20%0A%20%20%20%20%20%20%20%20%20%20%20%20var%20circle_430eea7eca344ee697b2cc512c47b8fc%20%3D%20L.circle%28%0A%20%20%20%20%20%20%20%20%20%20%20%20%20%20%20%20%5B18.5%2C%2073.92%5D%2C%0A%20%20%20%20%20%20%20%20%20%20%20%20%20%20%20%20%7B%22bubblingMouseEvents%22%3A%20true%2C%20%22color%22%3A%20%22b%22%2C%20%22dashArray%22%3A%20null%2C%20%22dashOffset%22%3A%20null%2C%20%22fill%22%3A%20true%2C%20%22fillColor%22%3A%20%22blue%22%2C%20%22fillOpacity%22%3A%200.4%2C%20%22fillRule%22%3A%20%22evenodd%22%2C%20%22lineCap%22%3A%20%22round%22%2C%20%22lineJoin%22%3A%20%22round%22%2C%20%22opacity%22%3A%201.0%2C%20%22radius%22%3A%209.803921568627452%2C%20%22stroke%22%3A%20true%2C%20%22weight%22%3A%203%7D%0A%20%20%20%20%20%20%20%20%20%20%20%20%29.addTo%28map_081f09a211a44c2cafe0d3169e9a1b25%29%3B%0A%20%20%20%20%20%20%20%20%0A%20%20%20%20%0A%20%20%20%20%20%20%20%20var%20popup_f5de4ee0dba24d2f84380169536dcf1c%20%3D%20L.popup%28%7B%22maxWidth%22%3A%20%22100%25%22%7D%29%3B%0A%0A%20%20%20%20%20%20%20%20%0A%20%20%20%20%20%20%20%20%20%20%20%20var%20html_a49ff2c4e79845ffa8095fdf93cd86ec%20%3D%20%24%28%60%3Cdiv%20id%3D%22html_a49ff2c4e79845ffa8095fdf93cd86ec%22%20style%3D%22width%3A%20100.0%25%3B%20height%3A%20100.0%25%3B%22%3EHADAPSAR%20Air%20Quality%20Index%3A%2097%3C/div%3E%60%29%5B0%5D%3B%0A%20%20%20%20%20%20%20%20%20%20%20%20popup_f5de4ee0dba24d2f84380169536dcf1c.setContent%28html_a49ff2c4e79845ffa8095fdf93cd86ec%29%3B%0A%20%20%20%20%20%20%20%20%0A%0A%20%20%20%20%20%20%20%20circle_430eea7eca344ee697b2cc512c47b8fc.bindPopup%28popup_f5de4ee0dba24d2f84380169536dcf1c%29%0A%20%20%20%20%20%20%20%20%3B%0A%0A%20%20%20%20%20%20%20%20%0A%20%20%20%20%0A%20%20%20%20%0A%20%20%20%20%20%20%20%20%20%20%20%20var%20circle_d03f38088f8f44ff9c6b9cb22791cd72%20%3D%20L.circle%28%0A%20%20%20%20%20%20%20%20%20%20%20%20%20%20%20%20%5B18.64%2C%2073.84%5D%2C%0A%20%20%20%20%20%20%20%20%20%20%20%20%20%20%20%20%7B%22bubblingMouseEvents%22%3A%20true%2C%20%22color%22%3A%20%22b%22%2C%20%22dashArray%22%3A%20null%2C%20%22dashOffset%22%3A%20null%2C%20%22fill%22%3A%20true%2C%20%22fillColor%22%3A%20%22blue%22%2C%20%22fillOpacity%22%3A%200.4%2C%20%22fillRule%22%3A%20%22evenodd%22%2C%20%22lineCap%22%3A%20%22round%22%2C%20%22lineJoin%22%3A%20%22round%22%2C%20%22opacity%22%3A%201.0%2C%20%22radius%22%3A%20480.3921568627451%2C%20%22stroke%22%3A%20true%2C%20%22weight%22%3A%203%7D%0A%20%20%20%20%20%20%20%20%20%20%20%20%29.addTo%28map_081f09a211a44c2cafe0d3169e9a1b25%29%3B%0A%20%20%20%20%20%20%20%20%0A%20%20%20%20%0A%20%20%20%20%20%20%20%20var%20popup_765e840cfee94d3396aec7a496fc79fb%20%3D%20L.popup%28%7B%22maxWidth%22%3A%20%22100%25%22%7D%29%3B%0A%0A%20%20%20%20%20%20%20%20%0A%20%20%20%20%20%20%20%20%20%20%20%20var%20html_3c60c87a378f4311bdaf6eb471d1b813%20%3D%20%24%28%60%3Cdiv%20id%3D%22html_3c60c87a378f4311bdaf6eb471d1b813%22%20style%3D%22width%3A%20100.0%25%3B%20height%3A%20100.0%25%3B%22%3EBHOSARI%20Air%20Quality%20Index%3A%20145%3C/div%3E%60%29%5B0%5D%3B%0A%20%20%20%20%20%20%20%20%20%20%20%20popup_765e840cfee94d3396aec7a496fc79fb.setContent%28html_3c60c87a378f4311bdaf6eb471d1b813%29%3B%0A%20%20%20%20%20%20%20%20%0A%0A%20%20%20%20%20%20%20%20circle_d03f38088f8f44ff9c6b9cb22791cd72.bindPopup%28popup_765e840cfee94d3396aec7a496fc79fb%29%0A%20%20%20%20%20%20%20%20%3B%0A%0A%20%20%20%20%20%20%20%20%0A%20%20%20%20%0A%20%20%20%20%0A%20%20%20%20%20%20%20%20%20%20%20%20var%20circle_24316767dd8c4711a3b8393991bce1fd%20%3D%20L.circle%28%0A%20%20%20%20%20%20%20%20%20%20%20%20%20%20%20%20%5B18.53%2C%2073.8%5D%2C%0A%20%20%20%20%20%20%20%20%20%20%20%20%20%20%20%20%7B%22bubblingMouseEvents%22%3A%20true%2C%20%22color%22%3A%20%22b%22%2C%20%22dashArray%22%3A%20null%2C%20%22dashOffset%22%3A%20null%2C%20%22fill%22%3A%20true%2C%20%22fillColor%22%3A%20%22blue%22%2C%20%22fillOpacity%22%3A%200.4%2C%20%22fillRule%22%3A%20%22evenodd%22%2C%20%22lineCap%22%3A%20%22round%22%2C%20%22lineJoin%22%3A%20%22round%22%2C%20%22opacity%22%3A%201.0%2C%20%22radius%22%3A%20372.54901960784315%2C%20%22stroke%22%3A%20true%2C%20%22weight%22%3A%203%7D%0A%20%20%20%20%20%20%20%20%20%20%20%20%29.addTo%28map_081f09a211a44c2cafe0d3169e9a1b25%29%3B%0A%20%20%20%20%20%20%20%20%0A%20%20%20%20%0A%20%20%20%20%20%20%20%20var%20popup_1db41fc7606c4136afe95bde4c1762eb%20%3D%20L.popup%28%7B%22maxWidth%22%3A%20%22100%25%22%7D%29%3B%0A%0A%20%20%20%20%20%20%20%20%0A%20%20%20%20%20%20%20%20%20%20%20%20var%20html_1c9be27e91bd4a38b066876e08aeb38a%20%3D%20%24%28%60%3Cdiv%20id%3D%22html_1c9be27e91bd4a38b066876e08aeb38a%22%20style%3D%22width%3A%20100.0%25%3B%20height%3A%20100.0%25%3B%22%3EPASHAN%20Air%20Quality%20Index%3A%20134%3C/div%3E%60%29%5B0%5D%3B%0A%20%20%20%20%20%20%20%20%20%20%20%20popup_1db41fc7606c4136afe95bde4c1762eb.setContent%28html_1c9be27e91bd4a38b066876e08aeb38a%29%3B%0A%20%20%20%20%20%20%20%20%0A%0A%20%20%20%20%20%20%20%20circle_24316767dd8c4711a3b8393991bce1fd.bindPopup%28popup_1db41fc7606c4136afe95bde4c1762eb%29%0A%20%20%20%20%20%20%20%20%3B%0A%0A%20%20%20%20%20%20%20%20%0A%20%20%20%20%0A%20%20%20%20%0A%20%20%20%20%20%20%20%20%20%20%20%20var%20circle_59423a23c2804ce6b26b8714a83cfa99%20%3D%20L.circle%28%0A%20%20%20%20%20%20%20%20%20%20%20%20%20%20%20%20%5B18.53%2C%2073.84%5D%2C%0A%20%20%20%20%20%20%20%20%20%20%20%20%20%20%20%20%7B%22bubblingMouseEvents%22%3A%20true%2C%20%22color%22%3A%20%22b%22%2C%20%22dashArray%22%3A%20null%2C%20%22dashOffset%22%3A%20null%2C%20%22fill%22%3A%20true%2C%20%22fillColor%22%3A%20%22blue%22%2C%20%22fillOpacity%22%3A%200.4%2C%20%22fillRule%22%3A%20%22evenodd%22%2C%20%22lineCap%22%3A%20%22round%22%2C%20%22lineJoin%22%3A%20%22round%22%2C%20%22opacity%22%3A%201.0%2C%20%22radius%22%3A%20205.88235294117646%2C%20%22stroke%22%3A%20true%2C%20%22weight%22%3A%203%7D%0A%20%20%20%20%20%20%20%20%20%20%20%20%29.addTo%28map_081f09a211a44c2cafe0d3169e9a1b25%29%3B%0A%20%20%20%20%20%20%20%20%0A%20%20%20%20%0A%20%20%20%20%20%20%20%20var%20popup_7266f81b006a4efaa6bc84433f753ac0%20%3D%20L.popup%28%7B%22maxWidth%22%3A%20%22100%25%22%7D%29%3B%0A%0A%20%20%20%20%20%20%20%20%0A%20%20%20%20%20%20%20%20%20%20%20%20var%20html_7aad7e7e9d96474ebfa35e301af6168a%20%3D%20%24%28%60%3Cdiv%20id%3D%22html_7aad7e7e9d96474ebfa35e301af6168a%22%20style%3D%22width%3A%20100.0%25%3B%20height%3A%20100.0%25%3B%22%3ESHIVAJINAGAR%20Air%20Quality%20Index%3A%20117%3C/div%3E%60%29%5B0%5D%3B%0A%20%20%20%20%20%20%20%20%20%20%20%20popup_7266f81b006a4efaa6bc84433f753ac0.setContent%28html_7aad7e7e9d96474ebfa35e301af6168a%29%3B%0A%20%20%20%20%20%20%20%20%0A%0A%20%20%20%20%20%20%20%20circle_59423a23c2804ce6b26b8714a83cfa99.bindPopup%28popup_7266f81b006a4efaa6bc84433f753ac0%29%0A%20%20%20%20%20%20%20%20%3B%0A%0A%20%20%20%20%20%20%20%20%0A%20%20%20%20%0A%20%20%20%20%0A%20%20%20%20%20%20%20%20%20%20%20%20var%20circle_53d1acea1ddc4216a02571b74e216352%20%3D%20L.circle%28%0A%20%20%20%20%20%20%20%20%20%20%20%20%20%20%20%20%5B18.57%2C%2073.9%5D%2C%0A%20%20%20%20%20%20%20%20%20%20%20%20%20%20%20%20%7B%22bubblingMouseEvents%22%3A%20true%2C%20%22color%22%3A%20%22b%22%2C%20%22dashArray%22%3A%20null%2C%20%22dashOffset%22%3A%20null%2C%20%22fill%22%3A%20true%2C%20%22fillColor%22%3A%20%22blue%22%2C%20%22fillOpacity%22%3A%200.4%2C%20%22fillRule%22%3A%20%22evenodd%22%2C%20%22lineCap%22%3A%20%22round%22%2C%20%22lineJoin%22%3A%20%22round%22%2C%20%22opacity%22%3A%201.0%2C%20%22radius%22%3A%201029.4117647058824%2C%20%22stroke%22%3A%20true%2C%20%22weight%22%3A%203%7D%0A%20%20%20%20%20%20%20%20%20%20%20%20%29.addTo%28map_081f09a211a44c2cafe0d3169e9a1b25%29%3B%0A%20%20%20%20%20%20%20%20%0A%20%20%20%20%0A%20%20%20%20%20%20%20%20var%20popup_b5a94894de634a26ae8366cfbb0b11b7%20%3D%20L.popup%28%7B%22maxWidth%22%3A%20%22100%25%22%7D%29%3B%0A%0A%20%20%20%20%20%20%20%20%0A%20%20%20%20%20%20%20%20%20%20%20%20var%20html_d94c0fe46ad44b869b76b188d4670b06%20%3D%20%24%28%60%3Cdiv%20id%3D%22html_d94c0fe46ad44b869b76b188d4670b06%22%20style%3D%22width%3A%20100.0%25%3B%20height%3A%20100.0%25%3B%22%3ELOHGAON%20Air%20Quality%20Index%3A%20201%3C/div%3E%60%29%5B0%5D%3B%0A%20%20%20%20%20%20%20%20%20%20%20%20popup_b5a94894de634a26ae8366cfbb0b11b7.setContent%28html_d94c0fe46ad44b869b76b188d4670b06%29%3B%0A%20%20%20%20%20%20%20%20%0A%0A%20%20%20%20%20%20%20%20circle_53d1acea1ddc4216a02571b74e216352.bindPopup%28popup_b5a94894de634a26ae8366cfbb0b11b7%29%0A%20%20%20%20%20%20%20%20%3B%0A%0A%20%20%20%20%20%20%20%20%0A%20%20%20%20%0A%20%20%20%20%0A%20%20%20%20%20%20%20%20%20%20%20%20var%20circle_5f6d0d84064440d6a011b0766b9b0c0d%20%3D%20L.circle%28%0A%20%20%20%20%20%20%20%20%20%20%20%20%20%20%20%20%5B18.45%2C%2073.85%5D%2C%0A%20%20%20%20%20%20%20%20%20%20%20%20%20%20%20%20%7B%22bubblingMouseEvents%22%3A%20true%2C%20%22color%22%3A%20%22b%22%2C%20%22dashArray%22%3A%20null%2C%20%22dashOffset%22%3A%20null%2C%20%22fill%22%3A%20true%2C%20%22fillColor%22%3A%20%22blue%22%2C%20%22fillOpacity%22%3A%200.4%2C%20%22fillRule%22%3A%20%22evenodd%22%2C%20%22lineCap%22%3A%20%22round%22%2C%20%22lineJoin%22%3A%20%22round%22%2C%20%22opacity%22%3A%201.0%2C%20%22radius%22%3A%201029.4117647058824%2C%20%22stroke%22%3A%20true%2C%20%22weight%22%3A%203%7D%0A%20%20%20%20%20%20%20%20%20%20%20%20%29.addTo%28map_081f09a211a44c2cafe0d3169e9a1b25%29%3B%0A%20%20%20%20%20%20%20%20%0A%20%20%20%20%0A%20%20%20%20%20%20%20%20var%20popup_a8df598a21a44b92a00911b62203f032%20%3D%20L.popup%28%7B%22maxWidth%22%3A%20%22100%25%22%7D%29%3B%0A%0A%20%20%20%20%20%20%20%20%0A%20%20%20%20%20%20%20%20%20%20%20%20var%20html_0e9d7f979e32459c84b6eea9d5745fad%20%3D%20%24%28%60%3Cdiv%20id%3D%22html_0e9d7f979e32459c84b6eea9d5745fad%22%20style%3D%22width%3A%20100.0%25%3B%20height%3A%20100.0%25%3B%22%3EKATRAJ%20Air%20Quality%20Index%3A%20201%3C/div%3E%60%29%5B0%5D%3B%0A%20%20%20%20%20%20%20%20%20%20%20%20popup_a8df598a21a44b92a00911b62203f032.setContent%28html_0e9d7f979e32459c84b6eea9d5745fad%29%3B%0A%20%20%20%20%20%20%20%20%0A%0A%20%20%20%20%20%20%20%20circle_5f6d0d84064440d6a011b0766b9b0c0d.bindPopup%28popup_a8df598a21a44b92a00911b62203f032%29%0A%20%20%20%20%20%20%20%20%3B%0A%0A%20%20%20%20%20%20%20%20%0A%20%20%20%20%0A%3C/script%3E onload=\"this.contentDocument.open();this.contentDocument.write(    decodeURIComponent(this.getAttribute('data-html')));this.contentDocument.close();\" allowfullscreen webkitallowfullscreen mozallowfullscreen></iframe></div></div>"
      ],
      "text/plain": [
       "<folium.folium.Map at 0x7f44b659fb50>"
      ]
     },
     "metadata": {},
     "output_type": "display_data"
    }
   ],
   "source": [
    "#spatial bubble chart over Pune\n",
    "maxval=max(list(filter(None,latest_measures['airQualityIndex'])))\n",
    "minval=min(list(filter(None,latest_measures['airQualityIndex'])))\n",
    "geomap2 = folium.Map([latest_measures['y_co'].mean(), latest_measures['x_co'].mean()], zoom_start=12, tiles=\"cartodbpositron\")\n",
    "for res in entity.resources:\n",
    "    entity_id = res[\"id\"]\n",
    "    try:\n",
    "        val=latest_measures[latest_measures['id']==entity_id]['airQualityIndex'].values[0]\n",
    "        if val is not None and val>0:\n",
    "            folium.Circle(\n",
    "              [res[\"location\"][\"geometry\"][\"coordinates\"][1], res[\"location\"][\"geometry\"][\"coordinates\"][0]],\n",
    "              radius=2000*(val-minval)/(maxval-minval),\n",
    "              popup = f'{res[\"name\"].upper()} Air Quality Index: {str(val)}',\n",
    "              color='b',\n",
    "              fill_color=('red' if ((val-minval)/(maxval-minval))>0.6 else 'blue'),\n",
    "              fill=True,\n",
    "              fill_opacity=0.4\n",
    "              ).add_to(geomap2)\n",
    "    except:\n",
    "        pass\n",
    "display(geomap2)"
   ]
  },
  {
   "cell_type": "markdown",
   "metadata": {},
   "source": [
    "### Fetching Pune's AQM data for comparison"
   ]
  },
  {
   "cell_type": "code",
   "execution_count": 156,
   "metadata": {},
   "outputs": [],
   "source": [
    "entity2=Entity(entity_id=aqm_id)\n",
    "latest_measures2=entity2.latest().reset_index(drop=True)\n",
    "end_time2 = latest_measures2['observationDateTime'].sort_values(ascending=False).reset_index(drop=True)[0]\n",
    "start_time2 = (end_time2 - timedelta(days=ndays,hours=6))\n",
    "measures2 = entity2.during_search(\n",
    "    start_time=start_time2.strftime(\"%Y-%m-%dT%H:%M:%SZ\"),\n",
    "    end_time=end_time2.strftime(\"%Y-%m-%dT%H:%M:%SZ\"),\n",
    ")\n",
    "measures2['observationDateTime']=measures2['observationDateTime'].apply(lambda x:x.tz_localize(None))\n",
    "latest_measures2['observationDateTime']=latest_measures2['observationDateTime'].apply(lambda x:x.tz_localize(None))\n",
    "rs_coordinates={}\n",
    "rs_label={}\n",
    "for res in entity2.resources:\n",
    "    rs_coordinates[res['id']]=res['location']['geometry']['coordinates']\n",
    "    rs_label[res['id']]=res['name']\n",
    "latest_measures2['x_co']=latest_measures2['id'].apply(lambda id:rs_coordinates[id][0])\n",
    "latest_measures2['y_co']=latest_measures2['id'].apply(lambda id:rs_coordinates[id][1])\n",
    "measures2['x_co']=measures2['id'].apply(lambda id:rs_coordinates[id][0])\n",
    "measures2['y_co']=measures2['id'].apply(lambda id:rs_coordinates[id][1])\n",
    "measures2['label']=measures2['id'].apply(lambda id:rs_label[id])\n",
    "latest_measures2['label']=measures2['id'].apply(lambda id:rs_label[id])"
   ]
  },
  {
   "cell_type": "code",
   "execution_count": 157,
   "metadata": {},
   "outputs": [],
   "source": [
    "from math import cos, asin, sqrt, pi\n",
    "\n",
    "#function to calculate distance between two coordinates in kilometers\n",
    "def distance(lat1, lon1, lat2, lon2):\n",
    "    p = pi/180\n",
    "    a = 0.5 - cos((lat2-lat1)*p)/2 + cos(lat1*p) * cos(lat2*p) * (1-cos((lon2-lon1)*p))/2\n",
    "    return 12742 * asin(sqrt(a)) #2*R*asin..."
   ]
  },
  {
   "cell_type": "code",
   "execution_count": 158,
   "metadata": {},
   "outputs": [],
   "source": [
    "#pairing the a weather station with the nearest AQM sensor\n",
    "sensor_map={}\n",
    "for wstation in entity.resources:\n",
    "    lat1=wstation['location']['geometry']['coordinates'][1]\n",
    "    lon1=wstation['location']['geometry']['coordinates'][0]\n",
    "    mindist=10000\n",
    "    nearest_res=None\n",
    "    for res in entity2.resources:\n",
    "        lat=res['location']['geometry']['coordinates'][1]\n",
    "        lon=res['location']['geometry']['coordinates'][0]\n",
    "        dist=distance(lat1,lon1,lat,lon)\n",
    "        if mindist>dist:\n",
    "            mindist=dist\n",
    "            lat2=lat\n",
    "            lon2=lon\n",
    "            nearest_res=res\n",
    "    sensor_map[wstation['id']]=nearest_res['id']"
   ]
  },
  {
   "cell_type": "markdown",
   "metadata": {},
   "source": [
    "### Visualizing with data from closest AQM sensor"
   ]
  },
  {
   "cell_type": "code",
   "execution_count": 159,
   "metadata": {},
   "outputs": [
    {
     "name": "stdout",
     "output_type": "stream",
     "text": [
      "Nigadi\n",
      "Manjari\n",
      "Bhumkar_Chowk\n",
      "Alandi\n",
      "Hadapsar\n",
      "Bhosari\n",
      "Pashan\n",
      "Shivajinagar\n",
      "Lohgaon\n",
      "Katraj\n"
     ]
    }
   ],
   "source": [
    "for res in entity.resources:\n",
    "    print(res['name'])"
   ]
  },
  {
   "cell_type": "code",
   "execution_count": 160,
   "metadata": {},
   "outputs": [
    {
     "name": "stdout",
     "output_type": "stream",
     "text": [
      "Nearest sensor is at Kothrud PMPML BusDepot_48, Paud Road Pune Maharashtra\n",
      "Distance between: 2.4917337466942526 kms\n"
     ]
    },
    {
     "data": {
      "text/html": [
       "<div style=\"width:100%;\"><div style=\"position:relative;width:100%;height:0;padding-bottom:60%;\"><span style=\"color:#565656\">Make this Notebook Trusted to load map: File -> Trust Notebook</span><iframe src=\"about:blank\" style=\"position:absolute;width:100%;height:100%;left:0;top:0;border:none !important;\" data-html=%3C%21DOCTYPE%20html%3E%0A%3Chead%3E%20%20%20%20%0A%20%20%20%20%3Cmeta%20http-equiv%3D%22content-type%22%20content%3D%22text/html%3B%20charset%3DUTF-8%22%20/%3E%0A%20%20%20%20%0A%20%20%20%20%20%20%20%20%3Cscript%3E%0A%20%20%20%20%20%20%20%20%20%20%20%20L_NO_TOUCH%20%3D%20false%3B%0A%20%20%20%20%20%20%20%20%20%20%20%20L_DISABLE_3D%20%3D%20false%3B%0A%20%20%20%20%20%20%20%20%3C/script%3E%0A%20%20%20%20%0A%20%20%20%20%3Cstyle%3Ehtml%2C%20body%20%7Bwidth%3A%20100%25%3Bheight%3A%20100%25%3Bmargin%3A%200%3Bpadding%3A%200%3B%7D%3C/style%3E%0A%20%20%20%20%3Cstyle%3E%23map%20%7Bposition%3Aabsolute%3Btop%3A0%3Bbottom%3A0%3Bright%3A0%3Bleft%3A0%3B%7D%3C/style%3E%0A%20%20%20%20%3Cscript%20src%3D%22https%3A//cdn.jsdelivr.net/npm/leaflet%401.6.0/dist/leaflet.js%22%3E%3C/script%3E%0A%20%20%20%20%3Cscript%20src%3D%22https%3A//code.jquery.com/jquery-1.12.4.min.js%22%3E%3C/script%3E%0A%20%20%20%20%3Cscript%20src%3D%22https%3A//maxcdn.bootstrapcdn.com/bootstrap/3.2.0/js/bootstrap.min.js%22%3E%3C/script%3E%0A%20%20%20%20%3Cscript%20src%3D%22https%3A//cdnjs.cloudflare.com/ajax/libs/Leaflet.awesome-markers/2.0.2/leaflet.awesome-markers.js%22%3E%3C/script%3E%0A%20%20%20%20%3Clink%20rel%3D%22stylesheet%22%20href%3D%22https%3A//cdn.jsdelivr.net/npm/leaflet%401.6.0/dist/leaflet.css%22/%3E%0A%20%20%20%20%3Clink%20rel%3D%22stylesheet%22%20href%3D%22https%3A//maxcdn.bootstrapcdn.com/bootstrap/3.2.0/css/bootstrap.min.css%22/%3E%0A%20%20%20%20%3Clink%20rel%3D%22stylesheet%22%20href%3D%22https%3A//maxcdn.bootstrapcdn.com/bootstrap/3.2.0/css/bootstrap-theme.min.css%22/%3E%0A%20%20%20%20%3Clink%20rel%3D%22stylesheet%22%20href%3D%22https%3A//maxcdn.bootstrapcdn.com/font-awesome/4.6.3/css/font-awesome.min.css%22/%3E%0A%20%20%20%20%3Clink%20rel%3D%22stylesheet%22%20href%3D%22https%3A//cdnjs.cloudflare.com/ajax/libs/Leaflet.awesome-markers/2.0.2/leaflet.awesome-markers.css%22/%3E%0A%20%20%20%20%3Clink%20rel%3D%22stylesheet%22%20href%3D%22https%3A//cdn.jsdelivr.net/gh/python-visualization/folium/folium/templates/leaflet.awesome.rotate.min.css%22/%3E%0A%20%20%20%20%0A%20%20%20%20%20%20%20%20%20%20%20%20%3Cmeta%20name%3D%22viewport%22%20content%3D%22width%3Ddevice-width%2C%0A%20%20%20%20%20%20%20%20%20%20%20%20%20%20%20%20initial-scale%3D1.0%2C%20maximum-scale%3D1.0%2C%20user-scalable%3Dno%22%20/%3E%0A%20%20%20%20%20%20%20%20%20%20%20%20%3Cstyle%3E%0A%20%20%20%20%20%20%20%20%20%20%20%20%20%20%20%20%23map_5385f2451465439ebbf6b491affec460%20%7B%0A%20%20%20%20%20%20%20%20%20%20%20%20%20%20%20%20%20%20%20%20position%3A%20relative%3B%0A%20%20%20%20%20%20%20%20%20%20%20%20%20%20%20%20%20%20%20%20width%3A%20100.0%25%3B%0A%20%20%20%20%20%20%20%20%20%20%20%20%20%20%20%20%20%20%20%20height%3A%20100.0%25%3B%0A%20%20%20%20%20%20%20%20%20%20%20%20%20%20%20%20%20%20%20%20left%3A%200.0%25%3B%0A%20%20%20%20%20%20%20%20%20%20%20%20%20%20%20%20%20%20%20%20top%3A%200.0%25%3B%0A%20%20%20%20%20%20%20%20%20%20%20%20%20%20%20%20%7D%0A%20%20%20%20%20%20%20%20%20%20%20%20%3C/style%3E%0A%20%20%20%20%20%20%20%20%0A%3C/head%3E%0A%3Cbody%3E%20%20%20%20%0A%20%20%20%20%0A%20%20%20%20%20%20%20%20%20%20%20%20%3Cdiv%20class%3D%22folium-map%22%20id%3D%22map_5385f2451465439ebbf6b491affec460%22%20%3E%3C/div%3E%0A%20%20%20%20%20%20%20%20%0A%3C/body%3E%0A%3Cscript%3E%20%20%20%20%0A%20%20%20%20%0A%20%20%20%20%20%20%20%20%20%20%20%20var%20map_5385f2451465439ebbf6b491affec460%20%3D%20L.map%28%0A%20%20%20%20%20%20%20%20%20%20%20%20%20%20%20%20%22map_5385f2451465439ebbf6b491affec460%22%2C%0A%20%20%20%20%20%20%20%20%20%20%20%20%20%20%20%20%7B%0A%20%20%20%20%20%20%20%20%20%20%20%20%20%20%20%20%20%20%20%20center%3A%20%5B18.53%2C%2073.8%5D%2C%0A%20%20%20%20%20%20%20%20%20%20%20%20%20%20%20%20%20%20%20%20crs%3A%20L.CRS.EPSG3857%2C%0A%20%20%20%20%20%20%20%20%20%20%20%20%20%20%20%20%20%20%20%20zoom%3A%2012%2C%0A%20%20%20%20%20%20%20%20%20%20%20%20%20%20%20%20%20%20%20%20zoomControl%3A%20true%2C%0A%20%20%20%20%20%20%20%20%20%20%20%20%20%20%20%20%20%20%20%20preferCanvas%3A%20false%2C%0A%20%20%20%20%20%20%20%20%20%20%20%20%20%20%20%20%7D%0A%20%20%20%20%20%20%20%20%20%20%20%20%29%3B%0A%0A%20%20%20%20%20%20%20%20%20%20%20%20%0A%0A%20%20%20%20%20%20%20%20%0A%20%20%20%20%0A%20%20%20%20%20%20%20%20%20%20%20%20var%20tile_layer_c57421f48a6b4f3c82ec08863d301a5e%20%3D%20L.tileLayer%28%0A%20%20%20%20%20%20%20%20%20%20%20%20%20%20%20%20%22https%3A//cartodb-basemaps-%7Bs%7D.global.ssl.fastly.net/light_all/%7Bz%7D/%7Bx%7D/%7By%7D.png%22%2C%0A%20%20%20%20%20%20%20%20%20%20%20%20%20%20%20%20%7B%22attribution%22%3A%20%22%5Cu0026copy%3B%20%5Cu003ca%20href%3D%5C%22http%3A//www.openstreetmap.org/copyright%5C%22%5Cu003eOpenStreetMap%5Cu003c/a%5Cu003e%20contributors%20%5Cu0026copy%3B%20%5Cu003ca%20href%3D%5C%22http%3A//cartodb.com/attributions%5C%22%5Cu003eCartoDB%5Cu003c/a%5Cu003e%2C%20CartoDB%20%5Cu003ca%20href%20%3D%5C%22http%3A//cartodb.com/attributions%5C%22%5Cu003eattributions%5Cu003c/a%5Cu003e%22%2C%20%22detectRetina%22%3A%20false%2C%20%22maxNativeZoom%22%3A%2018%2C%20%22maxZoom%22%3A%2018%2C%20%22minZoom%22%3A%200%2C%20%22noWrap%22%3A%20false%2C%20%22opacity%22%3A%201%2C%20%22subdomains%22%3A%20%22abc%22%2C%20%22tms%22%3A%20false%7D%0A%20%20%20%20%20%20%20%20%20%20%20%20%29.addTo%28map_5385f2451465439ebbf6b491affec460%29%3B%0A%20%20%20%20%20%20%20%20%0A%20%20%20%20%0A%20%20%20%20%20%20%20%20%20%20%20%20var%20marker_f90d550bb573411aba38609cd180b8c1%20%3D%20L.marker%28%0A%20%20%20%20%20%20%20%20%20%20%20%20%20%20%20%20%5B18.53%2C%2073.8%5D%2C%0A%20%20%20%20%20%20%20%20%20%20%20%20%20%20%20%20%7B%7D%0A%20%20%20%20%20%20%20%20%20%20%20%20%29.addTo%28map_5385f2451465439ebbf6b491affec460%29%3B%0A%20%20%20%20%20%20%20%20%0A%20%20%20%20%0A%20%20%20%20%20%20%20%20%20%20%20%20var%20marker_ec12eb9ec7644d3884137b95747391f5%20%3D%20L.marker%28%0A%20%20%20%20%20%20%20%20%20%20%20%20%20%20%20%20%5B18.508049%2C%2073.795248%5D%2C%0A%20%20%20%20%20%20%20%20%20%20%20%20%20%20%20%20%7B%7D%0A%20%20%20%20%20%20%20%20%20%20%20%20%29.addTo%28map_5385f2451465439ebbf6b491affec460%29%3B%0A%20%20%20%20%20%20%20%20%0A%3C/script%3E onload=\"this.contentDocument.open();this.contentDocument.write(    decodeURIComponent(this.getAttribute('data-html')));this.contentDocument.close();\" allowfullscreen webkitallowfullscreen mozallowfullscreen></iframe></div></div>"
      ],
      "text/plain": [
       "<folium.folium.Map at 0x7f45114bc790>"
      ]
     },
     "metadata": {},
     "output_type": "display_data"
    },
    {
     "data": {
      "application/vnd.plotly.v1+json": {
       "config": {
        "plotlyServerURL": "https://plot.ly"
       },
       "data": [
        {
         "line": {
          "color": "firebrick"
         },
         "name": "airTemperature.avgOverTime Weather Station",
         "type": "scatter",
         "x": [
          "2021-03-26T13:10:00",
          "2021-03-26T14:10:00",
          "2021-03-26T15:10:00",
          "2021-03-26T16:10:00",
          "2021-03-26T17:10:00",
          "2021-03-26T18:10:00",
          "2021-03-26T19:10:00",
          "2021-03-26T20:10:00",
          "2021-03-26T21:10:00",
          "2021-03-26T22:10:00",
          "2021-03-26T23:10:00",
          "2021-03-27T00:10:00",
          "2021-03-27T02:10:00",
          "2021-03-27T03:10:00",
          "2021-03-27T04:10:00",
          "2021-03-27T05:10:00",
          "2021-03-27T06:10:00",
          "2021-03-27T07:10:00",
          "2021-03-27T08:10:00",
          "2021-03-27T09:10:00",
          "2021-03-27T10:10:00",
          "2021-03-27T11:10:00",
          "2021-03-27T12:10:00",
          "2021-03-27T13:10:00",
          "2021-03-27T14:10:00",
          "2021-03-27T15:10:00",
          "2021-03-27T16:10:00",
          "2021-03-27T17:10:00",
          "2021-03-27T18:10:00",
          "2021-03-27T19:10:00",
          "2021-03-27T20:10:00",
          "2021-03-27T21:10:00",
          "2021-03-27T22:10:00",
          "2021-03-27T23:10:00",
          "2021-03-28T00:10:00",
          "2021-03-28T02:10:00",
          "2021-03-28T03:10:00",
          "2021-03-28T04:10:00",
          "2021-03-28T05:10:00",
          "2021-03-28T06:10:00",
          "2021-03-28T07:10:00",
          "2021-03-28T08:10:00",
          "2021-03-28T09:10:00",
          "2021-03-28T10:10:00",
          "2021-03-28T11:10:00",
          "2021-03-28T12:10:00",
          "2021-03-28T13:10:00",
          "2021-03-28T14:10:00",
          "2021-03-28T15:10:00",
          "2021-03-28T16:10:00",
          "2021-03-28T17:10:00",
          "2021-03-28T18:10:00",
          "2021-03-28T19:10:00",
          "2021-03-28T20:10:00",
          "2021-03-28T21:10:00",
          "2021-03-28T22:10:00",
          "2021-03-28T23:10:00",
          "2021-03-29T00:10:00",
          "2021-03-29T01:10:00",
          "2021-03-29T02:10:00",
          "2021-03-29T03:10:00",
          "2021-03-29T04:10:00",
          "2021-03-29T05:10:00",
          "2021-03-29T06:10:00",
          "2021-03-29T07:10:00",
          "2021-03-29T08:10:00",
          "2021-03-29T09:10:00",
          "2021-03-29T10:10:00",
          "2021-03-29T11:10:00",
          "2021-03-29T12:10:00",
          "2021-03-29T13:10:00"
         ],
         "y": [
          33.21,
          34.07,
          34.82,
          35.05,
          35.41,
          34.7,
          33.44,
          30.52,
          28.02,
          26.6,
          25.62,
          24.84,
          23.67,
          22.73,
          22.43,
          21.86,
          21.15,
          20.72,
          20.55,
          21.59,
          21.59,
          30.43,
          32.55,
          33.64,
          34.68,
          35.34,
          35.96,
          35.97,
          35.29,
          33.96,
          30.8,
          28.81,
          28.48,
          26.53,
          25.36,
          23.62,
          23.48,
          23.09,
          22.06,
          22.06,
          22.06,
          22.06,
          22.06,
          22.06,
          22.06,
          22.06,
          22.06,
          22.06,
          22.06,
          22.06,
          22.06,
          22.06,
          22.06,
          22.06,
          22.06,
          22.06,
          22.06,
          22.06,
          22.06,
          22.06,
          22.06,
          22.06,
          22.06,
          22.06,
          22.06,
          22.06,
          22.06,
          26.93,
          31.06,
          33.18,
          35.04
         ]
        },
        {
         "line": {
          "color": "royalblue"
         },
         "name": "airTemperature.avgOverTime AQM Sensor",
         "type": "scatter",
         "x": [
          "2021-03-26T13:00:42",
          "2021-03-26T13:30:25",
          "2021-03-26T13:45:28",
          "2021-03-26T14:00:22",
          "2021-03-26T14:29:58",
          "2021-03-26T14:44:58",
          "2021-03-26T15:00:00",
          "2021-03-26T15:30:09",
          "2021-03-26T15:45:02",
          "2021-03-26T16:00:12",
          "2021-03-26T16:29:49",
          "2021-03-26T16:44:51",
          "2021-03-26T16:59:53",
          "2021-03-26T17:29:54",
          "2021-03-26T17:44:51",
          "2021-03-26T17:59:59",
          "2021-03-26T18:29:52",
          "2021-03-26T18:44:53",
          "2021-03-26T18:59:56",
          "2021-03-26T19:29:53",
          "2021-03-26T19:44:52",
          "2021-03-26T19:59:50",
          "2021-03-26T20:30:00",
          "2021-03-26T20:44:54",
          "2021-03-26T21:00:00",
          "2021-03-26T21:29:53",
          "2021-03-26T21:44:51",
          "2021-03-26T21:59:59",
          "2021-03-26T22:29:52",
          "2021-03-26T22:44:55",
          "2021-03-26T22:59:51",
          "2021-03-26T23:29:52",
          "2021-03-26T23:44:53",
          "2021-03-26T23:59:52",
          "2021-03-27T00:29:39",
          "2021-03-27T00:44:38",
          "2021-03-27T00:59:41",
          "2021-03-27T01:29:54",
          "2021-03-27T01:44:51",
          "2021-03-27T01:59:57",
          "2021-03-27T02:29:56",
          "2021-03-27T02:44:52",
          "2021-03-27T02:59:51",
          "2021-03-27T03:29:52",
          "2021-03-27T03:44:53",
          "2021-03-27T03:59:52",
          "2021-03-27T04:29:50",
          "2021-03-27T04:44:54",
          "2021-03-27T04:59:54",
          "2021-03-27T05:30:02",
          "2021-03-27T05:45:03",
          "2021-03-27T05:59:52",
          "2021-03-27T06:29:52",
          "2021-03-27T06:44:52",
          "2021-03-27T06:59:54",
          "2021-03-27T07:29:54",
          "2021-03-27T07:44:52",
          "2021-03-27T07:59:49",
          "2021-03-27T08:29:52",
          "2021-03-27T08:44:52",
          "2021-03-27T08:59:52",
          "2021-03-27T09:29:54",
          "2021-03-27T09:44:53",
          "2021-03-27T09:59:53",
          "2021-03-27T10:29:51",
          "2021-03-27T10:44:49",
          "2021-03-27T10:59:53",
          "2021-03-27T11:30:00",
          "2021-03-27T11:45:03",
          "2021-03-27T12:00:13",
          "2021-03-27T12:29:41",
          "2021-03-27T12:44:40",
          "2021-03-27T12:59:42",
          "2021-03-27T13:29:54",
          "2021-03-27T13:44:59",
          "2021-03-27T13:59:53",
          "2021-03-27T14:30:05",
          "2021-03-27T14:45:02",
          "2021-03-27T15:00:11",
          "2021-03-27T15:29:53",
          "2021-03-27T15:44:52",
          "2021-03-27T15:59:51",
          "2021-03-27T16:29:53",
          "2021-03-27T16:44:54",
          "2021-03-27T17:00:13",
          "2021-03-27T17:29:53",
          "2021-03-27T17:44:54",
          "2021-03-27T17:59:52",
          "2021-03-27T18:29:52",
          "2021-03-27T18:44:52",
          "2021-03-27T18:59:53",
          "2021-03-27T19:29:39",
          "2021-03-27T19:44:40",
          "2021-03-27T19:59:40",
          "2021-03-27T20:29:40",
          "2021-03-27T20:44:39",
          "2021-03-27T20:59:41",
          "2021-03-27T21:29:44",
          "2021-03-27T21:44:40",
          "2021-03-27T21:59:39",
          "2021-03-27T22:29:40",
          "2021-03-27T22:44:39",
          "2021-03-27T22:59:46",
          "2021-03-27T23:29:39",
          "2021-03-27T23:44:39",
          "2021-03-27T23:59:39",
          "2021-03-28T00:29:42",
          "2021-03-28T00:44:40",
          "2021-03-28T00:59:45",
          "2021-03-28T01:29:40",
          "2021-03-28T01:44:41",
          "2021-03-28T01:59:39",
          "2021-03-28T02:29:39",
          "2021-03-28T02:44:41",
          "2021-03-28T02:59:46",
          "2021-03-28T03:29:43",
          "2021-03-28T03:44:40",
          "2021-03-28T03:59:42",
          "2021-03-28T04:29:39",
          "2021-03-28T04:44:41",
          "2021-03-28T04:59:46",
          "2021-03-28T05:29:56",
          "2021-03-28T05:45:00",
          "2021-03-28T05:59:52",
          "2021-03-28T06:29:51",
          "2021-03-28T06:44:57",
          "2021-03-28T06:59:55",
          "2021-03-28T07:29:54",
          "2021-03-28T07:44:53",
          "2021-03-28T07:59:52",
          "2021-03-28T08:29:59",
          "2021-03-28T08:44:50",
          "2021-03-28T08:59:48",
          "2021-03-28T15:30:01",
          "2021-03-28T15:44:59",
          "2021-03-28T16:00:16",
          "2021-03-28T16:29:38",
          "2021-03-28T16:44:38",
          "2021-03-28T16:59:40",
          "2021-03-28T17:29:55",
          "2021-03-28T17:44:48",
          "2021-03-28T17:59:53",
          "2021-03-28T18:29:45",
          "2021-03-28T18:44:43",
          "2021-03-28T18:59:38",
          "2021-03-28T19:29:50",
          "2021-03-28T19:44:51",
          "2021-03-28T19:59:50",
          "2021-03-28T20:29:50",
          "2021-03-28T20:44:53",
          "2021-03-28T20:59:53",
          "2021-03-28T21:29:57",
          "2021-03-28T21:44:53",
          "2021-03-28T21:59:52",
          "2021-03-28T22:29:49",
          "2021-03-28T22:44:51",
          "2021-03-28T22:59:52",
          "2021-03-28T23:29:52",
          "2021-03-28T23:44:53",
          "2021-03-28T23:59:52",
          "2021-03-29T00:29:52",
          "2021-03-29T00:44:50",
          "2021-03-29T00:59:49",
          "2021-03-29T01:29:51",
          "2021-03-29T01:44:59",
          "2021-03-29T01:59:53",
          "2021-03-29T02:29:56",
          "2021-03-29T02:44:55",
          "2021-03-29T02:59:56",
          "2021-03-29T03:29:54",
          "2021-03-29T03:44:51",
          "2021-03-29T03:59:47",
          "2021-03-29T04:29:51",
          "2021-03-29T04:44:52",
          "2021-03-29T04:59:53",
          "2021-03-29T05:29:51",
          "2021-03-29T05:45:00",
          "2021-03-29T05:59:53",
          "2021-03-29T06:29:57",
          "2021-03-29T06:44:52",
          "2021-03-29T06:59:52",
          "2021-03-29T07:29:48",
          "2021-03-29T07:44:55",
          "2021-03-29T07:59:51",
          "2021-03-29T08:29:55",
          "2021-03-29T08:44:54",
          "2021-03-29T08:59:53",
          "2021-03-29T09:29:55",
          "2021-03-29T09:44:58",
          "2021-03-29T09:59:51",
          "2021-03-29T10:29:55",
          "2021-03-29T10:44:53",
          "2021-03-29T10:59:52",
          "2021-03-29T11:29:50",
          "2021-03-29T11:44:53",
          "2021-03-29T12:00:07",
          "2021-03-29T12:29:54",
          "2021-03-29T12:44:51",
          "2021-03-29T13:00:10",
          "2021-03-29T13:29:52"
         ],
         "y": [
          37.55,
          37.86,
          38.37,
          38.66,
          39.36,
          39.89,
          40.23,
          40.65,
          41.63,
          42.33,
          43.65,
          44.37,
          44.46,
          44.14,
          43.95,
          43.4,
          41.44,
          40.13,
          38.92,
          36.52,
          35.33,
          34.25,
          32.85,
          32.75,
          32.46,
          32.07,
          31.86,
          31.73,
          31.59,
          31.52,
          31.31,
          30.5,
          30.25,
          30.13,
          29.89,
          29.69,
          29.4,
          28.76,
          28.48,
          28.25,
          27.78,
          27.61,
          27.44,
          27.18,
          26.93,
          26.71,
          26.54,
          26.4,
          26.22,
          26.01,
          25.9,
          25.84,
          25.63,
          25.54,
          25.35,
          25.13,
          25.38,
          25.66,
          26.34,
          26.95,
          27.77,
          29.47,
          30.27,
          31.06,
          32.57,
          33.25,
          33.95,
          36.07,
          36.85,
          37.3,
          37.68,
          37.75,
          37.81,
          38.4,
          38.78,
          39.28,
          40.87,
          41.4,
          41.47,
          41.72,
          41.86,
          42.18,
          44.25,
          45.37,
          46.37,
          46.71,
          46.06,
          44.99,
          42.37,
          40.8,
          39.19,
          36.13,
          34.78,
          33.87,
          33.38,
          33.38,
          33.3,
          32.95,
          32.76,
          32.58,
          32.21,
          31.9,
          31.53,
          31.04,
          30.92,
          30.7,
          29.88,
          29.5,
          29.14,
          28.51,
          28.38,
          28.34,
          27.94,
          27.66,
          27.53,
          27.4,
          27.24,
          27.05,
          26.52,
          26.17,
          25.88,
          25.75,
          25.54,
          25.38,
          24.98,
          24.94,
          24.94,
          24.97,
          25.01,
          25.1,
          25.65,
          26.05,
          26.31,
          43.03,
          43.36,
          43.28,
          44.13,
          45.1,
          45.56,
          46.3,
          46.15,
          45.39,
          42.76,
          40.6,
          37.98,
          34.38,
          33.73,
          33.28,
          32.61,
          32.38,
          32.25,
          31.8,
          31.43,
          31.1,
          30.56,
          30.4,
          30.26,
          29.56,
          29.17,
          28.86,
          28.62,
          28.39,
          28.15,
          27.86,
          27.68,
          27.43,
          27.08,
          26.93,
          26.74,
          26.45,
          26.28,
          26.1,
          25.59,
          25.4,
          25.36,
          25.43,
          25.28,
          25.14,
          24.64,
          24.55,
          24.47,
          24.14,
          24.13,
          24.28,
          25.08,
          25.65,
          26.29,
          27.9,
          28.9,
          29.97,
          32.16,
          33.17,
          34.21,
          36.3,
          37.26,
          38.28,
          38.68,
          38.95,
          39.37,
          40.01
         ]
        }
       ],
       "layout": {
        "template": {
         "data": {
          "bar": [
           {
            "error_x": {
             "color": "#2a3f5f"
            },
            "error_y": {
             "color": "#2a3f5f"
            },
            "marker": {
             "line": {
              "color": "#E5ECF6",
              "width": 0.5
             }
            },
            "type": "bar"
           }
          ],
          "barpolar": [
           {
            "marker": {
             "line": {
              "color": "#E5ECF6",
              "width": 0.5
             }
            },
            "type": "barpolar"
           }
          ],
          "carpet": [
           {
            "aaxis": {
             "endlinecolor": "#2a3f5f",
             "gridcolor": "white",
             "linecolor": "white",
             "minorgridcolor": "white",
             "startlinecolor": "#2a3f5f"
            },
            "baxis": {
             "endlinecolor": "#2a3f5f",
             "gridcolor": "white",
             "linecolor": "white",
             "minorgridcolor": "white",
             "startlinecolor": "#2a3f5f"
            },
            "type": "carpet"
           }
          ],
          "choropleth": [
           {
            "colorbar": {
             "outlinewidth": 0,
             "ticks": ""
            },
            "type": "choropleth"
           }
          ],
          "contour": [
           {
            "colorbar": {
             "outlinewidth": 0,
             "ticks": ""
            },
            "colorscale": [
             [
              0,
              "#0d0887"
             ],
             [
              0.1111111111111111,
              "#46039f"
             ],
             [
              0.2222222222222222,
              "#7201a8"
             ],
             [
              0.3333333333333333,
              "#9c179e"
             ],
             [
              0.4444444444444444,
              "#bd3786"
             ],
             [
              0.5555555555555556,
              "#d8576b"
             ],
             [
              0.6666666666666666,
              "#ed7953"
             ],
             [
              0.7777777777777778,
              "#fb9f3a"
             ],
             [
              0.8888888888888888,
              "#fdca26"
             ],
             [
              1,
              "#f0f921"
             ]
            ],
            "type": "contour"
           }
          ],
          "contourcarpet": [
           {
            "colorbar": {
             "outlinewidth": 0,
             "ticks": ""
            },
            "type": "contourcarpet"
           }
          ],
          "heatmap": [
           {
            "colorbar": {
             "outlinewidth": 0,
             "ticks": ""
            },
            "colorscale": [
             [
              0,
              "#0d0887"
             ],
             [
              0.1111111111111111,
              "#46039f"
             ],
             [
              0.2222222222222222,
              "#7201a8"
             ],
             [
              0.3333333333333333,
              "#9c179e"
             ],
             [
              0.4444444444444444,
              "#bd3786"
             ],
             [
              0.5555555555555556,
              "#d8576b"
             ],
             [
              0.6666666666666666,
              "#ed7953"
             ],
             [
              0.7777777777777778,
              "#fb9f3a"
             ],
             [
              0.8888888888888888,
              "#fdca26"
             ],
             [
              1,
              "#f0f921"
             ]
            ],
            "type": "heatmap"
           }
          ],
          "heatmapgl": [
           {
            "colorbar": {
             "outlinewidth": 0,
             "ticks": ""
            },
            "colorscale": [
             [
              0,
              "#0d0887"
             ],
             [
              0.1111111111111111,
              "#46039f"
             ],
             [
              0.2222222222222222,
              "#7201a8"
             ],
             [
              0.3333333333333333,
              "#9c179e"
             ],
             [
              0.4444444444444444,
              "#bd3786"
             ],
             [
              0.5555555555555556,
              "#d8576b"
             ],
             [
              0.6666666666666666,
              "#ed7953"
             ],
             [
              0.7777777777777778,
              "#fb9f3a"
             ],
             [
              0.8888888888888888,
              "#fdca26"
             ],
             [
              1,
              "#f0f921"
             ]
            ],
            "type": "heatmapgl"
           }
          ],
          "histogram": [
           {
            "marker": {
             "colorbar": {
              "outlinewidth": 0,
              "ticks": ""
             }
            },
            "type": "histogram"
           }
          ],
          "histogram2d": [
           {
            "colorbar": {
             "outlinewidth": 0,
             "ticks": ""
            },
            "colorscale": [
             [
              0,
              "#0d0887"
             ],
             [
              0.1111111111111111,
              "#46039f"
             ],
             [
              0.2222222222222222,
              "#7201a8"
             ],
             [
              0.3333333333333333,
              "#9c179e"
             ],
             [
              0.4444444444444444,
              "#bd3786"
             ],
             [
              0.5555555555555556,
              "#d8576b"
             ],
             [
              0.6666666666666666,
              "#ed7953"
             ],
             [
              0.7777777777777778,
              "#fb9f3a"
             ],
             [
              0.8888888888888888,
              "#fdca26"
             ],
             [
              1,
              "#f0f921"
             ]
            ],
            "type": "histogram2d"
           }
          ],
          "histogram2dcontour": [
           {
            "colorbar": {
             "outlinewidth": 0,
             "ticks": ""
            },
            "colorscale": [
             [
              0,
              "#0d0887"
             ],
             [
              0.1111111111111111,
              "#46039f"
             ],
             [
              0.2222222222222222,
              "#7201a8"
             ],
             [
              0.3333333333333333,
              "#9c179e"
             ],
             [
              0.4444444444444444,
              "#bd3786"
             ],
             [
              0.5555555555555556,
              "#d8576b"
             ],
             [
              0.6666666666666666,
              "#ed7953"
             ],
             [
              0.7777777777777778,
              "#fb9f3a"
             ],
             [
              0.8888888888888888,
              "#fdca26"
             ],
             [
              1,
              "#f0f921"
             ]
            ],
            "type": "histogram2dcontour"
           }
          ],
          "mesh3d": [
           {
            "colorbar": {
             "outlinewidth": 0,
             "ticks": ""
            },
            "type": "mesh3d"
           }
          ],
          "parcoords": [
           {
            "line": {
             "colorbar": {
              "outlinewidth": 0,
              "ticks": ""
             }
            },
            "type": "parcoords"
           }
          ],
          "pie": [
           {
            "automargin": true,
            "type": "pie"
           }
          ],
          "scatter": [
           {
            "marker": {
             "colorbar": {
              "outlinewidth": 0,
              "ticks": ""
             }
            },
            "type": "scatter"
           }
          ],
          "scatter3d": [
           {
            "line": {
             "colorbar": {
              "outlinewidth": 0,
              "ticks": ""
             }
            },
            "marker": {
             "colorbar": {
              "outlinewidth": 0,
              "ticks": ""
             }
            },
            "type": "scatter3d"
           }
          ],
          "scattercarpet": [
           {
            "marker": {
             "colorbar": {
              "outlinewidth": 0,
              "ticks": ""
             }
            },
            "type": "scattercarpet"
           }
          ],
          "scattergeo": [
           {
            "marker": {
             "colorbar": {
              "outlinewidth": 0,
              "ticks": ""
             }
            },
            "type": "scattergeo"
           }
          ],
          "scattergl": [
           {
            "marker": {
             "colorbar": {
              "outlinewidth": 0,
              "ticks": ""
             }
            },
            "type": "scattergl"
           }
          ],
          "scattermapbox": [
           {
            "marker": {
             "colorbar": {
              "outlinewidth": 0,
              "ticks": ""
             }
            },
            "type": "scattermapbox"
           }
          ],
          "scatterpolar": [
           {
            "marker": {
             "colorbar": {
              "outlinewidth": 0,
              "ticks": ""
             }
            },
            "type": "scatterpolar"
           }
          ],
          "scatterpolargl": [
           {
            "marker": {
             "colorbar": {
              "outlinewidth": 0,
              "ticks": ""
             }
            },
            "type": "scatterpolargl"
           }
          ],
          "scatterternary": [
           {
            "marker": {
             "colorbar": {
              "outlinewidth": 0,
              "ticks": ""
             }
            },
            "type": "scatterternary"
           }
          ],
          "surface": [
           {
            "colorbar": {
             "outlinewidth": 0,
             "ticks": ""
            },
            "colorscale": [
             [
              0,
              "#0d0887"
             ],
             [
              0.1111111111111111,
              "#46039f"
             ],
             [
              0.2222222222222222,
              "#7201a8"
             ],
             [
              0.3333333333333333,
              "#9c179e"
             ],
             [
              0.4444444444444444,
              "#bd3786"
             ],
             [
              0.5555555555555556,
              "#d8576b"
             ],
             [
              0.6666666666666666,
              "#ed7953"
             ],
             [
              0.7777777777777778,
              "#fb9f3a"
             ],
             [
              0.8888888888888888,
              "#fdca26"
             ],
             [
              1,
              "#f0f921"
             ]
            ],
            "type": "surface"
           }
          ],
          "table": [
           {
            "cells": {
             "fill": {
              "color": "#EBF0F8"
             },
             "line": {
              "color": "white"
             }
            },
            "header": {
             "fill": {
              "color": "#C8D4E3"
             },
             "line": {
              "color": "white"
             }
            },
            "type": "table"
           }
          ]
         },
         "layout": {
          "annotationdefaults": {
           "arrowcolor": "#2a3f5f",
           "arrowhead": 0,
           "arrowwidth": 1
          },
          "autotypenumbers": "strict",
          "coloraxis": {
           "colorbar": {
            "outlinewidth": 0,
            "ticks": ""
           }
          },
          "colorscale": {
           "diverging": [
            [
             0,
             "#8e0152"
            ],
            [
             0.1,
             "#c51b7d"
            ],
            [
             0.2,
             "#de77ae"
            ],
            [
             0.3,
             "#f1b6da"
            ],
            [
             0.4,
             "#fde0ef"
            ],
            [
             0.5,
             "#f7f7f7"
            ],
            [
             0.6,
             "#e6f5d0"
            ],
            [
             0.7,
             "#b8e186"
            ],
            [
             0.8,
             "#7fbc41"
            ],
            [
             0.9,
             "#4d9221"
            ],
            [
             1,
             "#276419"
            ]
           ],
           "sequential": [
            [
             0,
             "#0d0887"
            ],
            [
             0.1111111111111111,
             "#46039f"
            ],
            [
             0.2222222222222222,
             "#7201a8"
            ],
            [
             0.3333333333333333,
             "#9c179e"
            ],
            [
             0.4444444444444444,
             "#bd3786"
            ],
            [
             0.5555555555555556,
             "#d8576b"
            ],
            [
             0.6666666666666666,
             "#ed7953"
            ],
            [
             0.7777777777777778,
             "#fb9f3a"
            ],
            [
             0.8888888888888888,
             "#fdca26"
            ],
            [
             1,
             "#f0f921"
            ]
           ],
           "sequentialminus": [
            [
             0,
             "#0d0887"
            ],
            [
             0.1111111111111111,
             "#46039f"
            ],
            [
             0.2222222222222222,
             "#7201a8"
            ],
            [
             0.3333333333333333,
             "#9c179e"
            ],
            [
             0.4444444444444444,
             "#bd3786"
            ],
            [
             0.5555555555555556,
             "#d8576b"
            ],
            [
             0.6666666666666666,
             "#ed7953"
            ],
            [
             0.7777777777777778,
             "#fb9f3a"
            ],
            [
             0.8888888888888888,
             "#fdca26"
            ],
            [
             1,
             "#f0f921"
            ]
           ]
          },
          "colorway": [
           "#636efa",
           "#EF553B",
           "#00cc96",
           "#ab63fa",
           "#FFA15A",
           "#19d3f3",
           "#FF6692",
           "#B6E880",
           "#FF97FF",
           "#FECB52"
          ],
          "font": {
           "color": "#2a3f5f"
          },
          "geo": {
           "bgcolor": "white",
           "lakecolor": "white",
           "landcolor": "#E5ECF6",
           "showlakes": true,
           "showland": true,
           "subunitcolor": "white"
          },
          "hoverlabel": {
           "align": "left"
          },
          "hovermode": "closest",
          "mapbox": {
           "style": "light"
          },
          "paper_bgcolor": "white",
          "plot_bgcolor": "#E5ECF6",
          "polar": {
           "angularaxis": {
            "gridcolor": "white",
            "linecolor": "white",
            "ticks": ""
           },
           "bgcolor": "#E5ECF6",
           "radialaxis": {
            "gridcolor": "white",
            "linecolor": "white",
            "ticks": ""
           }
          },
          "scene": {
           "xaxis": {
            "backgroundcolor": "#E5ECF6",
            "gridcolor": "white",
            "gridwidth": 2,
            "linecolor": "white",
            "showbackground": true,
            "ticks": "",
            "zerolinecolor": "white"
           },
           "yaxis": {
            "backgroundcolor": "#E5ECF6",
            "gridcolor": "white",
            "gridwidth": 2,
            "linecolor": "white",
            "showbackground": true,
            "ticks": "",
            "zerolinecolor": "white"
           },
           "zaxis": {
            "backgroundcolor": "#E5ECF6",
            "gridcolor": "white",
            "gridwidth": 2,
            "linecolor": "white",
            "showbackground": true,
            "ticks": "",
            "zerolinecolor": "white"
           }
          },
          "shapedefaults": {
           "line": {
            "color": "#2a3f5f"
           }
          },
          "ternary": {
           "aaxis": {
            "gridcolor": "white",
            "linecolor": "white",
            "ticks": ""
           },
           "baxis": {
            "gridcolor": "white",
            "linecolor": "white",
            "ticks": ""
           },
           "bgcolor": "#E5ECF6",
           "caxis": {
            "gridcolor": "white",
            "linecolor": "white",
            "ticks": ""
           }
          },
          "title": {
           "x": 0.05
          },
          "xaxis": {
           "automargin": true,
           "gridcolor": "white",
           "linecolor": "white",
           "ticks": "",
           "title": {
            "standoff": 15
           },
           "zerolinecolor": "white",
           "zerolinewidth": 2
          },
          "yaxis": {
           "automargin": true,
           "gridcolor": "white",
           "linecolor": "white",
           "ticks": "",
           "title": {
            "standoff": 15
           },
           "zerolinecolor": "white",
           "zerolinewidth": 2
          }
         }
        },
        "title": {
         "text": "airTemperature.avgOverTime at weather station and airTemperature.avgOverTime at AQM sensor"
        },
        "xaxis": {
         "rangeslider": {
          "visible": true
         },
         "title": {
          "text": "Timestamp"
         }
        },
        "yaxis": {
         "title": {
          "text": "airTemperature.avgOverTime"
         }
        }
       }
      },
      "text/html": [
       "<div>                            <div id=\"96552571-4348-4661-baff-3f65840c53de\" class=\"plotly-graph-div\" style=\"height:525px; width:100%;\"></div>            <script type=\"text/javascript\">                require([\"plotly\"], function(Plotly) {                    window.PLOTLYENV=window.PLOTLYENV || {};                                    if (document.getElementById(\"96552571-4348-4661-baff-3f65840c53de\")) {                    Plotly.newPlot(                        \"96552571-4348-4661-baff-3f65840c53de\",                        [{\"line\": {\"color\": \"firebrick\"}, \"name\": \"airTemperature.avgOverTime Weather Station\", \"type\": \"scatter\", \"x\": [\"2021-03-26T13:10:00\", \"2021-03-26T14:10:00\", \"2021-03-26T15:10:00\", \"2021-03-26T16:10:00\", \"2021-03-26T17:10:00\", \"2021-03-26T18:10:00\", \"2021-03-26T19:10:00\", \"2021-03-26T20:10:00\", \"2021-03-26T21:10:00\", \"2021-03-26T22:10:00\", \"2021-03-26T23:10:00\", \"2021-03-27T00:10:00\", \"2021-03-27T02:10:00\", \"2021-03-27T03:10:00\", \"2021-03-27T04:10:00\", \"2021-03-27T05:10:00\", \"2021-03-27T06:10:00\", \"2021-03-27T07:10:00\", \"2021-03-27T08:10:00\", \"2021-03-27T09:10:00\", \"2021-03-27T10:10:00\", \"2021-03-27T11:10:00\", \"2021-03-27T12:10:00\", \"2021-03-27T13:10:00\", \"2021-03-27T14:10:00\", \"2021-03-27T15:10:00\", \"2021-03-27T16:10:00\", \"2021-03-27T17:10:00\", \"2021-03-27T18:10:00\", \"2021-03-27T19:10:00\", \"2021-03-27T20:10:00\", \"2021-03-27T21:10:00\", \"2021-03-27T22:10:00\", \"2021-03-27T23:10:00\", \"2021-03-28T00:10:00\", \"2021-03-28T02:10:00\", \"2021-03-28T03:10:00\", \"2021-03-28T04:10:00\", \"2021-03-28T05:10:00\", \"2021-03-28T06:10:00\", \"2021-03-28T07:10:00\", \"2021-03-28T08:10:00\", \"2021-03-28T09:10:00\", \"2021-03-28T10:10:00\", \"2021-03-28T11:10:00\", \"2021-03-28T12:10:00\", \"2021-03-28T13:10:00\", \"2021-03-28T14:10:00\", \"2021-03-28T15:10:00\", \"2021-03-28T16:10:00\", \"2021-03-28T17:10:00\", \"2021-03-28T18:10:00\", \"2021-03-28T19:10:00\", \"2021-03-28T20:10:00\", \"2021-03-28T21:10:00\", \"2021-03-28T22:10:00\", \"2021-03-28T23:10:00\", \"2021-03-29T00:10:00\", \"2021-03-29T01:10:00\", \"2021-03-29T02:10:00\", \"2021-03-29T03:10:00\", \"2021-03-29T04:10:00\", \"2021-03-29T05:10:00\", \"2021-03-29T06:10:00\", \"2021-03-29T07:10:00\", \"2021-03-29T08:10:00\", \"2021-03-29T09:10:00\", \"2021-03-29T10:10:00\", \"2021-03-29T11:10:00\", \"2021-03-29T12:10:00\", \"2021-03-29T13:10:00\"], \"y\": [33.21, 34.07, 34.82, 35.05, 35.41, 34.7, 33.44, 30.52, 28.02, 26.6, 25.62, 24.84, 23.67, 22.73, 22.43, 21.86, 21.15, 20.72, 20.55, 21.59, 21.59, 30.43, 32.55, 33.64, 34.68, 35.34, 35.96, 35.97, 35.29, 33.96, 30.8, 28.81, 28.48, 26.53, 25.36, 23.62, 23.48, 23.09, 22.06, 22.06, 22.06, 22.06, 22.06, 22.06, 22.06, 22.06, 22.06, 22.06, 22.06, 22.06, 22.06, 22.06, 22.06, 22.06, 22.06, 22.06, 22.06, 22.06, 22.06, 22.06, 22.06, 22.06, 22.06, 22.06, 22.06, 22.06, 22.06, 26.93, 31.06, 33.18, 35.04]}, {\"line\": {\"color\": \"royalblue\"}, \"name\": \"airTemperature.avgOverTime AQM Sensor\", \"type\": \"scatter\", \"x\": [\"2021-03-26T13:00:42\", \"2021-03-26T13:30:25\", \"2021-03-26T13:45:28\", \"2021-03-26T14:00:22\", \"2021-03-26T14:29:58\", \"2021-03-26T14:44:58\", \"2021-03-26T15:00:00\", \"2021-03-26T15:30:09\", \"2021-03-26T15:45:02\", \"2021-03-26T16:00:12\", \"2021-03-26T16:29:49\", \"2021-03-26T16:44:51\", \"2021-03-26T16:59:53\", \"2021-03-26T17:29:54\", \"2021-03-26T17:44:51\", \"2021-03-26T17:59:59\", \"2021-03-26T18:29:52\", \"2021-03-26T18:44:53\", \"2021-03-26T18:59:56\", \"2021-03-26T19:29:53\", \"2021-03-26T19:44:52\", \"2021-03-26T19:59:50\", \"2021-03-26T20:30:00\", \"2021-03-26T20:44:54\", \"2021-03-26T21:00:00\", \"2021-03-26T21:29:53\", \"2021-03-26T21:44:51\", \"2021-03-26T21:59:59\", \"2021-03-26T22:29:52\", \"2021-03-26T22:44:55\", \"2021-03-26T22:59:51\", \"2021-03-26T23:29:52\", \"2021-03-26T23:44:53\", \"2021-03-26T23:59:52\", \"2021-03-27T00:29:39\", \"2021-03-27T00:44:38\", \"2021-03-27T00:59:41\", \"2021-03-27T01:29:54\", \"2021-03-27T01:44:51\", \"2021-03-27T01:59:57\", \"2021-03-27T02:29:56\", \"2021-03-27T02:44:52\", \"2021-03-27T02:59:51\", \"2021-03-27T03:29:52\", \"2021-03-27T03:44:53\", \"2021-03-27T03:59:52\", \"2021-03-27T04:29:50\", \"2021-03-27T04:44:54\", \"2021-03-27T04:59:54\", \"2021-03-27T05:30:02\", \"2021-03-27T05:45:03\", \"2021-03-27T05:59:52\", \"2021-03-27T06:29:52\", \"2021-03-27T06:44:52\", \"2021-03-27T06:59:54\", \"2021-03-27T07:29:54\", \"2021-03-27T07:44:52\", \"2021-03-27T07:59:49\", \"2021-03-27T08:29:52\", \"2021-03-27T08:44:52\", \"2021-03-27T08:59:52\", \"2021-03-27T09:29:54\", \"2021-03-27T09:44:53\", \"2021-03-27T09:59:53\", \"2021-03-27T10:29:51\", \"2021-03-27T10:44:49\", \"2021-03-27T10:59:53\", \"2021-03-27T11:30:00\", \"2021-03-27T11:45:03\", \"2021-03-27T12:00:13\", \"2021-03-27T12:29:41\", \"2021-03-27T12:44:40\", \"2021-03-27T12:59:42\", \"2021-03-27T13:29:54\", \"2021-03-27T13:44:59\", \"2021-03-27T13:59:53\", \"2021-03-27T14:30:05\", \"2021-03-27T14:45:02\", \"2021-03-27T15:00:11\", \"2021-03-27T15:29:53\", \"2021-03-27T15:44:52\", \"2021-03-27T15:59:51\", \"2021-03-27T16:29:53\", \"2021-03-27T16:44:54\", \"2021-03-27T17:00:13\", \"2021-03-27T17:29:53\", \"2021-03-27T17:44:54\", \"2021-03-27T17:59:52\", \"2021-03-27T18:29:52\", \"2021-03-27T18:44:52\", \"2021-03-27T18:59:53\", \"2021-03-27T19:29:39\", \"2021-03-27T19:44:40\", \"2021-03-27T19:59:40\", \"2021-03-27T20:29:40\", \"2021-03-27T20:44:39\", \"2021-03-27T20:59:41\", \"2021-03-27T21:29:44\", \"2021-03-27T21:44:40\", \"2021-03-27T21:59:39\", \"2021-03-27T22:29:40\", \"2021-03-27T22:44:39\", \"2021-03-27T22:59:46\", \"2021-03-27T23:29:39\", \"2021-03-27T23:44:39\", \"2021-03-27T23:59:39\", \"2021-03-28T00:29:42\", \"2021-03-28T00:44:40\", \"2021-03-28T00:59:45\", \"2021-03-28T01:29:40\", \"2021-03-28T01:44:41\", \"2021-03-28T01:59:39\", \"2021-03-28T02:29:39\", \"2021-03-28T02:44:41\", \"2021-03-28T02:59:46\", \"2021-03-28T03:29:43\", \"2021-03-28T03:44:40\", \"2021-03-28T03:59:42\", \"2021-03-28T04:29:39\", \"2021-03-28T04:44:41\", \"2021-03-28T04:59:46\", \"2021-03-28T05:29:56\", \"2021-03-28T05:45:00\", \"2021-03-28T05:59:52\", \"2021-03-28T06:29:51\", \"2021-03-28T06:44:57\", \"2021-03-28T06:59:55\", \"2021-03-28T07:29:54\", \"2021-03-28T07:44:53\", \"2021-03-28T07:59:52\", \"2021-03-28T08:29:59\", \"2021-03-28T08:44:50\", \"2021-03-28T08:59:48\", \"2021-03-28T15:30:01\", \"2021-03-28T15:44:59\", \"2021-03-28T16:00:16\", \"2021-03-28T16:29:38\", \"2021-03-28T16:44:38\", \"2021-03-28T16:59:40\", \"2021-03-28T17:29:55\", \"2021-03-28T17:44:48\", \"2021-03-28T17:59:53\", \"2021-03-28T18:29:45\", \"2021-03-28T18:44:43\", \"2021-03-28T18:59:38\", \"2021-03-28T19:29:50\", \"2021-03-28T19:44:51\", \"2021-03-28T19:59:50\", \"2021-03-28T20:29:50\", \"2021-03-28T20:44:53\", \"2021-03-28T20:59:53\", \"2021-03-28T21:29:57\", \"2021-03-28T21:44:53\", \"2021-03-28T21:59:52\", \"2021-03-28T22:29:49\", \"2021-03-28T22:44:51\", \"2021-03-28T22:59:52\", \"2021-03-28T23:29:52\", \"2021-03-28T23:44:53\", \"2021-03-28T23:59:52\", \"2021-03-29T00:29:52\", \"2021-03-29T00:44:50\", \"2021-03-29T00:59:49\", \"2021-03-29T01:29:51\", \"2021-03-29T01:44:59\", \"2021-03-29T01:59:53\", \"2021-03-29T02:29:56\", \"2021-03-29T02:44:55\", \"2021-03-29T02:59:56\", \"2021-03-29T03:29:54\", \"2021-03-29T03:44:51\", \"2021-03-29T03:59:47\", \"2021-03-29T04:29:51\", \"2021-03-29T04:44:52\", \"2021-03-29T04:59:53\", \"2021-03-29T05:29:51\", \"2021-03-29T05:45:00\", \"2021-03-29T05:59:53\", \"2021-03-29T06:29:57\", \"2021-03-29T06:44:52\", \"2021-03-29T06:59:52\", \"2021-03-29T07:29:48\", \"2021-03-29T07:44:55\", \"2021-03-29T07:59:51\", \"2021-03-29T08:29:55\", \"2021-03-29T08:44:54\", \"2021-03-29T08:59:53\", \"2021-03-29T09:29:55\", \"2021-03-29T09:44:58\", \"2021-03-29T09:59:51\", \"2021-03-29T10:29:55\", \"2021-03-29T10:44:53\", \"2021-03-29T10:59:52\", \"2021-03-29T11:29:50\", \"2021-03-29T11:44:53\", \"2021-03-29T12:00:07\", \"2021-03-29T12:29:54\", \"2021-03-29T12:44:51\", \"2021-03-29T13:00:10\", \"2021-03-29T13:29:52\"], \"y\": [37.55, 37.86, 38.37, 38.66, 39.36, 39.89, 40.23, 40.65, 41.63, 42.33, 43.65, 44.37, 44.46, 44.14, 43.95, 43.4, 41.44, 40.13, 38.92, 36.52, 35.33, 34.25, 32.85, 32.75, 32.46, 32.07, 31.86, 31.73, 31.59, 31.52, 31.31, 30.5, 30.25, 30.13, 29.89, 29.69, 29.4, 28.76, 28.48, 28.25, 27.78, 27.61, 27.44, 27.18, 26.93, 26.71, 26.54, 26.4, 26.22, 26.01, 25.9, 25.84, 25.63, 25.54, 25.35, 25.13, 25.38, 25.66, 26.34, 26.95, 27.77, 29.47, 30.27, 31.06, 32.57, 33.25, 33.95, 36.07, 36.85, 37.3, 37.68, 37.75, 37.81, 38.4, 38.78, 39.28, 40.87, 41.4, 41.47, 41.72, 41.86, 42.18, 44.25, 45.37, 46.37, 46.71, 46.06, 44.99, 42.37, 40.8, 39.19, 36.13, 34.78, 33.87, 33.38, 33.38, 33.3, 32.95, 32.76, 32.58, 32.21, 31.9, 31.53, 31.04, 30.92, 30.7, 29.88, 29.5, 29.14, 28.51, 28.38, 28.34, 27.94, 27.66, 27.53, 27.4, 27.24, 27.05, 26.52, 26.17, 25.88, 25.75, 25.54, 25.38, 24.98, 24.94, 24.94, 24.97, 25.01, 25.1, 25.65, 26.05, 26.31, 43.03, 43.36, 43.28, 44.13, 45.1, 45.56, 46.3, 46.15, 45.39, 42.76, 40.6, 37.98, 34.38, 33.73, 33.28, 32.61, 32.38, 32.25, 31.8, 31.43, 31.1, 30.56, 30.4, 30.26, 29.56, 29.17, 28.86, 28.62, 28.39, 28.15, 27.86, 27.68, 27.43, 27.08, 26.93, 26.74, 26.45, 26.28, 26.1, 25.59, 25.4, 25.36, 25.43, 25.28, 25.14, 24.64, 24.55, 24.47, 24.14, 24.13, 24.28, 25.08, 25.65, 26.29, 27.9, 28.9, 29.97, 32.16, 33.17, 34.21, 36.3, 37.26, 38.28, 38.68, 38.95, 39.37, 40.01]}],                        {\"template\": {\"data\": {\"bar\": [{\"error_x\": {\"color\": \"#2a3f5f\"}, \"error_y\": {\"color\": \"#2a3f5f\"}, \"marker\": {\"line\": {\"color\": \"#E5ECF6\", \"width\": 0.5}}, \"type\": \"bar\"}], \"barpolar\": [{\"marker\": {\"line\": {\"color\": \"#E5ECF6\", \"width\": 0.5}}, \"type\": \"barpolar\"}], \"carpet\": [{\"aaxis\": {\"endlinecolor\": \"#2a3f5f\", \"gridcolor\": \"white\", \"linecolor\": \"white\", \"minorgridcolor\": \"white\", \"startlinecolor\": \"#2a3f5f\"}, \"baxis\": {\"endlinecolor\": \"#2a3f5f\", \"gridcolor\": \"white\", \"linecolor\": \"white\", \"minorgridcolor\": \"white\", \"startlinecolor\": \"#2a3f5f\"}, \"type\": \"carpet\"}], \"choropleth\": [{\"colorbar\": {\"outlinewidth\": 0, \"ticks\": \"\"}, \"type\": \"choropleth\"}], \"contour\": [{\"colorbar\": {\"outlinewidth\": 0, \"ticks\": \"\"}, \"colorscale\": [[0.0, \"#0d0887\"], [0.1111111111111111, \"#46039f\"], [0.2222222222222222, \"#7201a8\"], [0.3333333333333333, \"#9c179e\"], [0.4444444444444444, \"#bd3786\"], [0.5555555555555556, \"#d8576b\"], [0.6666666666666666, \"#ed7953\"], [0.7777777777777778, \"#fb9f3a\"], [0.8888888888888888, \"#fdca26\"], [1.0, \"#f0f921\"]], \"type\": \"contour\"}], \"contourcarpet\": [{\"colorbar\": {\"outlinewidth\": 0, \"ticks\": \"\"}, \"type\": \"contourcarpet\"}], \"heatmap\": [{\"colorbar\": {\"outlinewidth\": 0, \"ticks\": \"\"}, \"colorscale\": [[0.0, \"#0d0887\"], [0.1111111111111111, \"#46039f\"], [0.2222222222222222, \"#7201a8\"], [0.3333333333333333, \"#9c179e\"], [0.4444444444444444, \"#bd3786\"], [0.5555555555555556, \"#d8576b\"], [0.6666666666666666, \"#ed7953\"], [0.7777777777777778, \"#fb9f3a\"], [0.8888888888888888, \"#fdca26\"], [1.0, \"#f0f921\"]], \"type\": \"heatmap\"}], \"heatmapgl\": [{\"colorbar\": {\"outlinewidth\": 0, \"ticks\": \"\"}, \"colorscale\": [[0.0, \"#0d0887\"], [0.1111111111111111, \"#46039f\"], [0.2222222222222222, \"#7201a8\"], [0.3333333333333333, \"#9c179e\"], [0.4444444444444444, \"#bd3786\"], [0.5555555555555556, \"#d8576b\"], [0.6666666666666666, \"#ed7953\"], [0.7777777777777778, \"#fb9f3a\"], [0.8888888888888888, \"#fdca26\"], [1.0, \"#f0f921\"]], \"type\": \"heatmapgl\"}], \"histogram\": [{\"marker\": {\"colorbar\": {\"outlinewidth\": 0, \"ticks\": \"\"}}, \"type\": \"histogram\"}], \"histogram2d\": [{\"colorbar\": {\"outlinewidth\": 0, \"ticks\": \"\"}, \"colorscale\": [[0.0, \"#0d0887\"], [0.1111111111111111, \"#46039f\"], [0.2222222222222222, \"#7201a8\"], [0.3333333333333333, \"#9c179e\"], [0.4444444444444444, \"#bd3786\"], [0.5555555555555556, \"#d8576b\"], [0.6666666666666666, \"#ed7953\"], [0.7777777777777778, \"#fb9f3a\"], [0.8888888888888888, \"#fdca26\"], [1.0, \"#f0f921\"]], \"type\": \"histogram2d\"}], \"histogram2dcontour\": [{\"colorbar\": {\"outlinewidth\": 0, \"ticks\": \"\"}, \"colorscale\": [[0.0, \"#0d0887\"], [0.1111111111111111, \"#46039f\"], [0.2222222222222222, \"#7201a8\"], [0.3333333333333333, \"#9c179e\"], [0.4444444444444444, \"#bd3786\"], [0.5555555555555556, \"#d8576b\"], [0.6666666666666666, \"#ed7953\"], [0.7777777777777778, \"#fb9f3a\"], [0.8888888888888888, \"#fdca26\"], [1.0, \"#f0f921\"]], \"type\": \"histogram2dcontour\"}], \"mesh3d\": [{\"colorbar\": {\"outlinewidth\": 0, \"ticks\": \"\"}, \"type\": \"mesh3d\"}], \"parcoords\": [{\"line\": {\"colorbar\": {\"outlinewidth\": 0, \"ticks\": \"\"}}, \"type\": \"parcoords\"}], \"pie\": [{\"automargin\": true, \"type\": \"pie\"}], \"scatter\": [{\"marker\": {\"colorbar\": {\"outlinewidth\": 0, \"ticks\": \"\"}}, \"type\": \"scatter\"}], \"scatter3d\": [{\"line\": {\"colorbar\": {\"outlinewidth\": 0, \"ticks\": \"\"}}, \"marker\": {\"colorbar\": {\"outlinewidth\": 0, \"ticks\": \"\"}}, \"type\": \"scatter3d\"}], \"scattercarpet\": [{\"marker\": {\"colorbar\": {\"outlinewidth\": 0, \"ticks\": \"\"}}, \"type\": \"scattercarpet\"}], \"scattergeo\": [{\"marker\": {\"colorbar\": {\"outlinewidth\": 0, \"ticks\": \"\"}}, \"type\": \"scattergeo\"}], \"scattergl\": [{\"marker\": {\"colorbar\": {\"outlinewidth\": 0, \"ticks\": \"\"}}, \"type\": \"scattergl\"}], \"scattermapbox\": [{\"marker\": {\"colorbar\": {\"outlinewidth\": 0, \"ticks\": \"\"}}, \"type\": \"scattermapbox\"}], \"scatterpolar\": [{\"marker\": {\"colorbar\": {\"outlinewidth\": 0, \"ticks\": \"\"}}, \"type\": \"scatterpolar\"}], \"scatterpolargl\": [{\"marker\": {\"colorbar\": {\"outlinewidth\": 0, \"ticks\": \"\"}}, \"type\": \"scatterpolargl\"}], \"scatterternary\": [{\"marker\": {\"colorbar\": {\"outlinewidth\": 0, \"ticks\": \"\"}}, \"type\": \"scatterternary\"}], \"surface\": [{\"colorbar\": {\"outlinewidth\": 0, \"ticks\": \"\"}, \"colorscale\": [[0.0, \"#0d0887\"], [0.1111111111111111, \"#46039f\"], [0.2222222222222222, \"#7201a8\"], [0.3333333333333333, \"#9c179e\"], [0.4444444444444444, \"#bd3786\"], [0.5555555555555556, \"#d8576b\"], [0.6666666666666666, \"#ed7953\"], [0.7777777777777778, \"#fb9f3a\"], [0.8888888888888888, \"#fdca26\"], [1.0, \"#f0f921\"]], \"type\": \"surface\"}], \"table\": [{\"cells\": {\"fill\": {\"color\": \"#EBF0F8\"}, \"line\": {\"color\": \"white\"}}, \"header\": {\"fill\": {\"color\": \"#C8D4E3\"}, \"line\": {\"color\": \"white\"}}, \"type\": \"table\"}]}, \"layout\": {\"annotationdefaults\": {\"arrowcolor\": \"#2a3f5f\", \"arrowhead\": 0, \"arrowwidth\": 1}, \"autotypenumbers\": \"strict\", \"coloraxis\": {\"colorbar\": {\"outlinewidth\": 0, \"ticks\": \"\"}}, \"colorscale\": {\"diverging\": [[0, \"#8e0152\"], [0.1, \"#c51b7d\"], [0.2, \"#de77ae\"], [0.3, \"#f1b6da\"], [0.4, \"#fde0ef\"], [0.5, \"#f7f7f7\"], [0.6, \"#e6f5d0\"], [0.7, \"#b8e186\"], [0.8, \"#7fbc41\"], [0.9, \"#4d9221\"], [1, \"#276419\"]], \"sequential\": [[0.0, \"#0d0887\"], [0.1111111111111111, \"#46039f\"], [0.2222222222222222, \"#7201a8\"], [0.3333333333333333, \"#9c179e\"], [0.4444444444444444, \"#bd3786\"], [0.5555555555555556, \"#d8576b\"], [0.6666666666666666, \"#ed7953\"], [0.7777777777777778, \"#fb9f3a\"], [0.8888888888888888, \"#fdca26\"], [1.0, \"#f0f921\"]], \"sequentialminus\": [[0.0, \"#0d0887\"], [0.1111111111111111, \"#46039f\"], [0.2222222222222222, \"#7201a8\"], [0.3333333333333333, \"#9c179e\"], [0.4444444444444444, \"#bd3786\"], [0.5555555555555556, \"#d8576b\"], [0.6666666666666666, \"#ed7953\"], [0.7777777777777778, \"#fb9f3a\"], [0.8888888888888888, \"#fdca26\"], [1.0, \"#f0f921\"]]}, \"colorway\": [\"#636efa\", \"#EF553B\", \"#00cc96\", \"#ab63fa\", \"#FFA15A\", \"#19d3f3\", \"#FF6692\", \"#B6E880\", \"#FF97FF\", \"#FECB52\"], \"font\": {\"color\": \"#2a3f5f\"}, \"geo\": {\"bgcolor\": \"white\", \"lakecolor\": \"white\", \"landcolor\": \"#E5ECF6\", \"showlakes\": true, \"showland\": true, \"subunitcolor\": \"white\"}, \"hoverlabel\": {\"align\": \"left\"}, \"hovermode\": \"closest\", \"mapbox\": {\"style\": \"light\"}, \"paper_bgcolor\": \"white\", \"plot_bgcolor\": \"#E5ECF6\", \"polar\": {\"angularaxis\": {\"gridcolor\": \"white\", \"linecolor\": \"white\", \"ticks\": \"\"}, \"bgcolor\": \"#E5ECF6\", \"radialaxis\": {\"gridcolor\": \"white\", \"linecolor\": \"white\", \"ticks\": \"\"}}, \"scene\": {\"xaxis\": {\"backgroundcolor\": \"#E5ECF6\", \"gridcolor\": \"white\", \"gridwidth\": 2, \"linecolor\": \"white\", \"showbackground\": true, \"ticks\": \"\", \"zerolinecolor\": \"white\"}, \"yaxis\": {\"backgroundcolor\": \"#E5ECF6\", \"gridcolor\": \"white\", \"gridwidth\": 2, \"linecolor\": \"white\", \"showbackground\": true, \"ticks\": \"\", \"zerolinecolor\": \"white\"}, \"zaxis\": {\"backgroundcolor\": \"#E5ECF6\", \"gridcolor\": \"white\", \"gridwidth\": 2, \"linecolor\": \"white\", \"showbackground\": true, \"ticks\": \"\", \"zerolinecolor\": \"white\"}}, \"shapedefaults\": {\"line\": {\"color\": \"#2a3f5f\"}}, \"ternary\": {\"aaxis\": {\"gridcolor\": \"white\", \"linecolor\": \"white\", \"ticks\": \"\"}, \"baxis\": {\"gridcolor\": \"white\", \"linecolor\": \"white\", \"ticks\": \"\"}, \"bgcolor\": \"#E5ECF6\", \"caxis\": {\"gridcolor\": \"white\", \"linecolor\": \"white\", \"ticks\": \"\"}}, \"title\": {\"x\": 0.05}, \"xaxis\": {\"automargin\": true, \"gridcolor\": \"white\", \"linecolor\": \"white\", \"ticks\": \"\", \"title\": {\"standoff\": 15}, \"zerolinecolor\": \"white\", \"zerolinewidth\": 2}, \"yaxis\": {\"automargin\": true, \"gridcolor\": \"white\", \"linecolor\": \"white\", \"ticks\": \"\", \"title\": {\"standoff\": 15}, \"zerolinecolor\": \"white\", \"zerolinewidth\": 2}}}, \"title\": {\"text\": \"airTemperature.avgOverTime at weather station and airTemperature.avgOverTime at AQM sensor\"}, \"xaxis\": {\"rangeslider\": {\"visible\": true}, \"title\": {\"text\": \"Timestamp\"}}, \"yaxis\": {\"title\": {\"text\": \"airTemperature.avgOverTime\"}}},                        {\"responsive\": true}                    ).then(function(){\n",
       "                            \n",
       "var gd = document.getElementById('96552571-4348-4661-baff-3f65840c53de');\n",
       "var x = new MutationObserver(function (mutations, observer) {{\n",
       "        var display = window.getComputedStyle(gd).display;\n",
       "        if (!display || display === 'none') {{\n",
       "            console.log([gd, 'removed!']);\n",
       "            Plotly.purge(gd);\n",
       "            observer.disconnect();\n",
       "        }}\n",
       "}});\n",
       "\n",
       "// Listen for the removal of the full notebook cells\n",
       "var notebookContainer = gd.closest('#notebook-container');\n",
       "if (notebookContainer) {{\n",
       "    x.observe(notebookContainer, {childList: true});\n",
       "}}\n",
       "\n",
       "// Listen for the clearing of the current output cell\n",
       "var outputEl = gd.closest('.output');\n",
       "if (outputEl) {{\n",
       "    x.observe(outputEl, {childList: true});\n",
       "}}\n",
       "\n",
       "                        })                };                });            </script>        </div>"
      ]
     },
     "metadata": {},
     "output_type": "display_data"
    }
   ],
   "source": [
    "device_name='Pashan'\n",
    "column='airTemperature.avgOverTime'\n",
    "column2='airTemperature.avgOverTime'\n",
    "single_resource_data = measures.query(f\"deviceName == '{device_name}'\")\n",
    "lat1=single_resource_data.iloc[0]['y_co']\n",
    "lon1=single_resource_data.iloc[0]['x_co']\n",
    "mindist=10000\n",
    "lat2=0\n",
    "lon2=0\n",
    "nearest_res=None\n",
    "for res in entity2.resources:\n",
    "    lat=res['location']['geometry']['coordinates'][1]\n",
    "    lon=res['location']['geometry']['coordinates'][0]\n",
    "    dist=distance(lat1,lon1,lat,lon)\n",
    "    if mindist>dist:\n",
    "        mindist=dist\n",
    "        lat2=lat\n",
    "        lon2=lon\n",
    "        nearest_res=res\n",
    "print(f'Nearest sensor is at {nearest_res[\"location\"][\"address\"]}')\n",
    "print(f'Distance between: {mindist} kms')\n",
    "\n",
    "single_resource_data2 = measures2.query(f\"id == '{nearest_res['id']}'\")\n",
    "\n",
    "geomap3 = folium.Map([lat1,lon1], zoom_start=12, tiles=\"cartodbpositron\")\n",
    "folium.Marker([lat1,lon1]).add_to(geomap3)\n",
    "folium.Marker([lat2,lon2]).add_to(geomap3)\n",
    "display(geomap3)\n",
    "\n",
    "fig=go.Figure()\n",
    "#fig1=go.Figure()\n",
    "fig.add_trace(go.Scatter(x=single_resource_data['observationDateTime'],\n",
    "                        y=single_resource_data[column],\n",
    "                        name=f'{column} Weather Station',\n",
    "                        line=dict(color='firebrick')))\n",
    "fig.add_trace(go.Scatter(x=single_resource_data2['observationDateTime'],\n",
    "                        y=single_resource_data2[column2],\n",
    "                        name=f'{column2} AQM Sensor',\n",
    "                        line=dict(color='royalblue')))\n",
    "fig.update_layout(title=f'{column} at weather station and {column2} at AQM sensor',\n",
    "                 xaxis_title='Timestamp',\n",
    "                 yaxis_title=f'{column}')\n",
    "fig.update_xaxes(rangeslider_visible=True)\n",
    "fig.show()\n",
    "#fig1.show()"
   ]
  },
  {
   "cell_type": "markdown",
   "metadata": {},
   "source": [
    "### Functions to plot contours for both weather stations and AQM data"
   ]
  },
  {
   "cell_type": "code",
   "execution_count": 161,
   "metadata": {},
   "outputs": [],
   "source": [
    "def wsSpatialVis1(col):\n",
    "    column_name=col\n",
    "    x_orig = []\n",
    "    y_orig = []\n",
    "    zs = []\n",
    "    for res in entity.resources:\n",
    "        try:\n",
    "            val = latest_measures[latest_measures[\"id\"] == res[\"id\"]][column_name].values[0]\n",
    "            if val is not None and val>0:\n",
    "                zs.append(val)\n",
    "                x_orig.append(res[\"location\"][\"geometry\"][\"coordinates\"][0])\n",
    "                y_orig.append(res[\"location\"][\"geometry\"][\"coordinates\"][1])\n",
    "        except:\n",
    "            pass\n",
    "    x_orig = np.array(x_orig)\n",
    "    y_orig = np.array(y_orig)\n",
    "    zs = np.array(zs)\n",
    "    # Initialize the map\n",
    "    geomap1 = folium.Map([y_orig.mean(), x_orig.mean()], zoom_start=11, tiles=\"cartodbpositron\")\n",
    "    for res in entity.resources:\n",
    "        entity_id = res[\"id\"]\n",
    "        try:\n",
    "            val=latest_measures[latest_measures['id']==entity_id][column_name].values[0]\n",
    "            if val is not None and val>0:\n",
    "                folium.Marker([res[\"location\"][\"geometry\"][\"coordinates\"][1], res[\"location\"][\"geometry\"][\"coordinates\"][0]],\n",
    "                          tooltip=f'{col.upper()}: {str(val)}').add_to(geomap1)\n",
    "        except:\n",
    "            pass\n",
    "    # Make lat and lon linspace\n",
    "    y_arr = np.linspace(np.min(y_orig), np.max(y_orig), 100)\n",
    "    x_arr = np.linspace(np.min(x_orig), np.max(x_orig), 100)\n",
    "    # Make mesh grid\n",
    "    x_mesh, y_mesh = np.meshgrid(x_arr, y_arr)\n",
    "    # Perform cubic interpolation\n",
    "    z_mesh = griddata((x_orig, y_orig), zs, (x_mesh, y_mesh), method='cubic')\n",
    "    # Number of levels of colors\n",
    "    levels = 20\n",
    "    contourf=plt.contourf(x_mesh, y_mesh, z_mesh, levels, alpha=0.5, \n",
    "                              cmap=\"bwr\", linestyles='None', vmin=0, vmax=100)\n",
    "    plt.close()\n",
    "    # Convert matplotlib contourf to geojson\n",
    "    geojson = geojsoncontour.contourf_to_geojson(\n",
    "        contourf=contourf,\n",
    "        min_angle_deg=3.0,\n",
    "        ndigits=5,\n",
    "        stroke_width=1,\n",
    "        fill_opacity=0.5)\n",
    "    # Plot the contour plot on folium\n",
    "    folium.GeoJson(\n",
    "        geojson,\n",
    "        style_function=lambda x: {\n",
    "            'color':     x['properties']['stroke'],\n",
    "            'weight':    x['properties']['stroke-width'],\n",
    "            'fillColor': x['properties']['fill'],\n",
    "            'opacity':   0.6,\n",
    "        }).add_to(geomap1)\n",
    "    # Show map\n",
    "    display(geomap1)\n",
    "    \n",
    "def aqmSpatialVis1(col):\n",
    "    column_name=col\n",
    "    x_orig = []\n",
    "    y_orig = []\n",
    "    zs = []\n",
    "    for res in entity2.resources:\n",
    "        if res['id'] in sensor_map.values():\n",
    "            try:\n",
    "                val = latest_measures2[latest_measures2[\"id\"] == res[\"id\"]][column_name].values[0]\n",
    "                if val is not None and int(val)>0:\n",
    "                    zs.append(val)\n",
    "                    x_orig.append(res[\"location\"][\"geometry\"][\"coordinates\"][0])\n",
    "                    y_orig.append(res[\"location\"][\"geometry\"][\"coordinates\"][1])\n",
    "            except:\n",
    "                pass\n",
    "    x_orig = np.array(x_orig)\n",
    "    y_orig = np.array(y_orig)\n",
    "    zs = np.array(zs)\n",
    "    # Initialize the map\n",
    "    geomap1 = folium.Map([y_orig.mean(), x_orig.mean()], zoom_start=11, tiles=\"cartodbpositron\")\n",
    "    for res in entity2.resources:\n",
    "        entity_id = res[\"id\"]\n",
    "        if res['id'] in sensor_map.values():\n",
    "            try:\n",
    "                val=latest_measures2[latest_measures2['id']==entity_id][column_name].values[0]\n",
    "                if val is not None and int(val)>0:\n",
    "                    folium.Marker([res[\"location\"][\"geometry\"][\"coordinates\"][1], res[\"location\"][\"geometry\"][\"coordinates\"][0]],\n",
    "                              tooltip=f'{col.upper()}: {str(val)}').add_to(geomap1)\n",
    "            except:\n",
    "                pass\n",
    "    # Make lat and lon linspace\n",
    "    y_arr = np.linspace(np.min(y_orig), np.max(y_orig), 100)\n",
    "    x_arr = np.linspace(np.min(x_orig), np.max(x_orig), 100)\n",
    "    # Make mesh grid\n",
    "    x_mesh, y_mesh = np.meshgrid(x_arr, y_arr)\n",
    "    # Perform cubic interpolation\n",
    "    z_mesh = griddata((x_orig, y_orig), zs, (x_mesh, y_mesh), method='cubic')\n",
    "    # Number of levels of colors\n",
    "    levels = 20\n",
    "    contourf=plt.contourf(x_mesh, y_mesh, z_mesh, levels, alpha=0.5, \n",
    "                              cmap=\"bwr\", linestyles='None', vmin=0, vmax=100)\n",
    "    plt.close()\n",
    "    # Convert matplotlib contourf to geojson\n",
    "    geojson = geojsoncontour.contourf_to_geojson(\n",
    "        contourf=contourf,\n",
    "        min_angle_deg=3.0,\n",
    "        ndigits=5,\n",
    "        stroke_width=1,\n",
    "        fill_opacity=0.5)\n",
    "    # Plot the contour plot on folium\n",
    "    folium.GeoJson(\n",
    "        geojson,\n",
    "        style_function=lambda x: {\n",
    "            'color':     x['properties']['stroke'],\n",
    "            'weight':    x['properties']['stroke-width'],\n",
    "            'fillColor': x['properties']['fill'],\n",
    "            'opacity':   0.6,\n",
    "        }).add_to(geomap1)\n",
    "    # Show map\n",
    "    display(geomap1)"
   ]
  },
  {
   "cell_type": "code",
   "execution_count": 162,
   "metadata": {},
   "outputs": [
    {
     "data": {
      "text/html": [
       "<div style=\"width:100%;\"><div style=\"position:relative;width:100%;height:0;padding-bottom:60%;\"><span style=\"color:#565656\">Make this Notebook Trusted to load map: File -> Trust Notebook</span><iframe src=\"about:blank\" style=\"position:absolute;width:100%;height:100%;left:0;top:0;border:none !important;\" data-html=%3C%21DOCTYPE%20html%3E%0A%3Chead%3E%20%20%20%20%0A%20%20%20%20%3Cmeta%20http-equiv%3D%22content-type%22%20content%3D%22text/html%3B%20charset%3DUTF-8%22%20/%3E%0A%20%20%20%20%0A%20%20%20%20%20%20%20%20%3Cscript%3E%0A%20%20%20%20%20%20%20%20%20%20%20%20L_NO_TOUCH%20%3D%20false%3B%0A%20%20%20%20%20%20%20%20%20%20%20%20L_DISABLE_3D%20%3D%20false%3B%0A%20%20%20%20%20%20%20%20%3C/script%3E%0A%20%20%20%20%0A%20%20%20%20%3Cstyle%3Ehtml%2C%20body%20%7Bwidth%3A%20100%25%3Bheight%3A%20100%25%3Bmargin%3A%200%3Bpadding%3A%200%3B%7D%3C/style%3E%0A%20%20%20%20%3Cstyle%3E%23map%20%7Bposition%3Aabsolute%3Btop%3A0%3Bbottom%3A0%3Bright%3A0%3Bleft%3A0%3B%7D%3C/style%3E%0A%20%20%20%20%3Cscript%20src%3D%22https%3A//cdn.jsdelivr.net/npm/leaflet%401.6.0/dist/leaflet.js%22%3E%3C/script%3E%0A%20%20%20%20%3Cscript%20src%3D%22https%3A//code.jquery.com/jquery-1.12.4.min.js%22%3E%3C/script%3E%0A%20%20%20%20%3Cscript%20src%3D%22https%3A//maxcdn.bootstrapcdn.com/bootstrap/3.2.0/js/bootstrap.min.js%22%3E%3C/script%3E%0A%20%20%20%20%3Cscript%20src%3D%22https%3A//cdnjs.cloudflare.com/ajax/libs/Leaflet.awesome-markers/2.0.2/leaflet.awesome-markers.js%22%3E%3C/script%3E%0A%20%20%20%20%3Clink%20rel%3D%22stylesheet%22%20href%3D%22https%3A//cdn.jsdelivr.net/npm/leaflet%401.6.0/dist/leaflet.css%22/%3E%0A%20%20%20%20%3Clink%20rel%3D%22stylesheet%22%20href%3D%22https%3A//maxcdn.bootstrapcdn.com/bootstrap/3.2.0/css/bootstrap.min.css%22/%3E%0A%20%20%20%20%3Clink%20rel%3D%22stylesheet%22%20href%3D%22https%3A//maxcdn.bootstrapcdn.com/bootstrap/3.2.0/css/bootstrap-theme.min.css%22/%3E%0A%20%20%20%20%3Clink%20rel%3D%22stylesheet%22%20href%3D%22https%3A//maxcdn.bootstrapcdn.com/font-awesome/4.6.3/css/font-awesome.min.css%22/%3E%0A%20%20%20%20%3Clink%20rel%3D%22stylesheet%22%20href%3D%22https%3A//cdnjs.cloudflare.com/ajax/libs/Leaflet.awesome-markers/2.0.2/leaflet.awesome-markers.css%22/%3E%0A%20%20%20%20%3Clink%20rel%3D%22stylesheet%22%20href%3D%22https%3A//cdn.jsdelivr.net/gh/python-visualization/folium/folium/templates/leaflet.awesome.rotate.min.css%22/%3E%0A%20%20%20%20%0A%20%20%20%20%20%20%20%20%20%20%20%20%3Cmeta%20name%3D%22viewport%22%20content%3D%22width%3Ddevice-width%2C%0A%20%20%20%20%20%20%20%20%20%20%20%20%20%20%20%20initial-scale%3D1.0%2C%20maximum-scale%3D1.0%2C%20user-scalable%3Dno%22%20/%3E%0A%20%20%20%20%20%20%20%20%20%20%20%20%3Cstyle%3E%0A%20%20%20%20%20%20%20%20%20%20%20%20%20%20%20%20%23map_8f2348d688644a6fbc1bbd3f21228099%20%7B%0A%20%20%20%20%20%20%20%20%20%20%20%20%20%20%20%20%20%20%20%20position%3A%20relative%3B%0A%20%20%20%20%20%20%20%20%20%20%20%20%20%20%20%20%20%20%20%20width%3A%20100.0%25%3B%0A%20%20%20%20%20%20%20%20%20%20%20%20%20%20%20%20%20%20%20%20height%3A%20100.0%25%3B%0A%20%20%20%20%20%20%20%20%20%20%20%20%20%20%20%20%20%20%20%20left%3A%200.0%25%3B%0A%20%20%20%20%20%20%20%20%20%20%20%20%20%20%20%20%20%20%20%20top%3A%200.0%25%3B%0A%20%20%20%20%20%20%20%20%20%20%20%20%20%20%20%20%7D%0A%20%20%20%20%20%20%20%20%20%20%20%20%3C/style%3E%0A%20%20%20%20%20%20%20%20%0A%3C/head%3E%0A%3Cbody%3E%20%20%20%20%0A%20%20%20%20%0A%20%20%20%20%20%20%20%20%20%20%20%20%3Cdiv%20class%3D%22folium-map%22%20id%3D%22map_8f2348d688644a6fbc1bbd3f21228099%22%20%3E%3C/div%3E%0A%20%20%20%20%20%20%20%20%0A%3C/body%3E%0A%3Cscript%3E%20%20%20%20%0A%20%20%20%20%0A%20%20%20%20%20%20%20%20%20%20%20%20var%20map_8f2348d688644a6fbc1bbd3f21228099%20%3D%20L.map%28%0A%20%20%20%20%20%20%20%20%20%20%20%20%20%20%20%20%22map_8f2348d688644a6fbc1bbd3f21228099%22%2C%0A%20%20%20%20%20%20%20%20%20%20%20%20%20%20%20%20%7B%0A%20%20%20%20%20%20%20%20%20%20%20%20%20%20%20%20%20%20%20%20center%3A%20%5B18.567%2C%2073.852%5D%2C%0A%20%20%20%20%20%20%20%20%20%20%20%20%20%20%20%20%20%20%20%20crs%3A%20L.CRS.EPSG3857%2C%0A%20%20%20%20%20%20%20%20%20%20%20%20%20%20%20%20%20%20%20%20zoom%3A%2011%2C%0A%20%20%20%20%20%20%20%20%20%20%20%20%20%20%20%20%20%20%20%20zoomControl%3A%20true%2C%0A%20%20%20%20%20%20%20%20%20%20%20%20%20%20%20%20%20%20%20%20preferCanvas%3A%20false%2C%0A%20%20%20%20%20%20%20%20%20%20%20%20%20%20%20%20%7D%0A%20%20%20%20%20%20%20%20%20%20%20%20%29%3B%0A%0A%20%20%20%20%20%20%20%20%20%20%20%20%0A%0A%20%20%20%20%20%20%20%20%0A%20%20%20%20%0A%20%20%20%20%20%20%20%20%20%20%20%20var%20tile_layer_7ebec2595de84bc788794afdc74fa39c%20%3D%20L.tileLayer%28%0A%20%20%20%20%20%20%20%20%20%20%20%20%20%20%20%20%22https%3A//cartodb-basemaps-%7Bs%7D.global.ssl.fastly.net/light_all/%7Bz%7D/%7Bx%7D/%7By%7D.png%22%2C%0A%20%20%20%20%20%20%20%20%20%20%20%20%20%20%20%20%7B%22attribution%22%3A%20%22%5Cu0026copy%3B%20%5Cu003ca%20href%3D%5C%22http%3A//www.openstreetmap.org/copyright%5C%22%5Cu003eOpenStreetMap%5Cu003c/a%5Cu003e%20contributors%20%5Cu0026copy%3B%20%5Cu003ca%20href%3D%5C%22http%3A//cartodb.com/attributions%5C%22%5Cu003eCartoDB%5Cu003c/a%5Cu003e%2C%20CartoDB%20%5Cu003ca%20href%20%3D%5C%22http%3A//cartodb.com/attributions%5C%22%5Cu003eattributions%5Cu003c/a%5Cu003e%22%2C%20%22detectRetina%22%3A%20false%2C%20%22maxNativeZoom%22%3A%2018%2C%20%22maxZoom%22%3A%2018%2C%20%22minZoom%22%3A%200%2C%20%22noWrap%22%3A%20false%2C%20%22opacity%22%3A%201%2C%20%22subdomains%22%3A%20%22abc%22%2C%20%22tms%22%3A%20false%7D%0A%20%20%20%20%20%20%20%20%20%20%20%20%29.addTo%28map_8f2348d688644a6fbc1bbd3f21228099%29%3B%0A%20%20%20%20%20%20%20%20%0A%20%20%20%20%0A%20%20%20%20%20%20%20%20%20%20%20%20var%20marker_7f6186ce5aa3411289a21249569f9481%20%3D%20L.marker%28%0A%20%20%20%20%20%20%20%20%20%20%20%20%20%20%20%20%5B18.66%2C%2073.76%5D%2C%0A%20%20%20%20%20%20%20%20%20%20%20%20%20%20%20%20%7B%7D%0A%20%20%20%20%20%20%20%20%20%20%20%20%29.addTo%28map_8f2348d688644a6fbc1bbd3f21228099%29%3B%0A%20%20%20%20%20%20%20%20%0A%20%20%20%20%0A%20%20%20%20%20%20%20%20%20%20%20%20marker_7f6186ce5aa3411289a21249569f9481.bindTooltip%28%0A%20%20%20%20%20%20%20%20%20%20%20%20%20%20%20%20%60%3Cdiv%3E%0A%20%20%20%20%20%20%20%20%20%20%20%20%20%20%20%20%20%20%20%20%20AIRQUALITYINDEX%3A%2096%0A%20%20%20%20%20%20%20%20%20%20%20%20%20%20%20%20%20%3C/div%3E%60%2C%0A%20%20%20%20%20%20%20%20%20%20%20%20%20%20%20%20%7B%22sticky%22%3A%20true%7D%0A%20%20%20%20%20%20%20%20%20%20%20%20%29%3B%0A%20%20%20%20%20%20%20%20%0A%20%20%20%20%0A%20%20%20%20%20%20%20%20%20%20%20%20var%20marker_038facd36d5d4c1fa1a84d367c933154%20%3D%20L.marker%28%0A%20%20%20%20%20%20%20%20%20%20%20%20%20%20%20%20%5B18.52%2C%2073.97%5D%2C%0A%20%20%20%20%20%20%20%20%20%20%20%20%20%20%20%20%7B%7D%0A%20%20%20%20%20%20%20%20%20%20%20%20%29.addTo%28map_8f2348d688644a6fbc1bbd3f21228099%29%3B%0A%20%20%20%20%20%20%20%20%0A%20%20%20%20%0A%20%20%20%20%20%20%20%20%20%20%20%20marker_038facd36d5d4c1fa1a84d367c933154.bindTooltip%28%0A%20%20%20%20%20%20%20%20%20%20%20%20%20%20%20%20%60%3Cdiv%3E%0A%20%20%20%20%20%20%20%20%20%20%20%20%20%20%20%20%20%20%20%20%20AIRQUALITYINDEX%3A%2096%0A%20%20%20%20%20%20%20%20%20%20%20%20%20%20%20%20%20%3C/div%3E%60%2C%0A%20%20%20%20%20%20%20%20%20%20%20%20%20%20%20%20%7B%22sticky%22%3A%20true%7D%0A%20%20%20%20%20%20%20%20%20%20%20%20%29%3B%0A%20%20%20%20%20%20%20%20%0A%20%20%20%20%0A%20%20%20%20%20%20%20%20%20%20%20%20var%20marker_c82b466c246440c4a2e17e841a9ebce8%20%3D%20L.marker%28%0A%20%20%20%20%20%20%20%20%20%20%20%20%20%20%20%20%5B18.6%2C%2073.75%5D%2C%0A%20%20%20%20%20%20%20%20%20%20%20%20%20%20%20%20%7B%7D%0A%20%20%20%20%20%20%20%20%20%20%20%20%29.addTo%28map_8f2348d688644a6fbc1bbd3f21228099%29%3B%0A%20%20%20%20%20%20%20%20%0A%20%20%20%20%0A%20%20%20%20%20%20%20%20%20%20%20%20marker_c82b466c246440c4a2e17e841a9ebce8.bindTooltip%28%0A%20%20%20%20%20%20%20%20%20%20%20%20%20%20%20%20%60%3Cdiv%3E%0A%20%20%20%20%20%20%20%20%20%20%20%20%20%20%20%20%20%20%20%20%20AIRQUALITYINDEX%3A%20300%0A%20%20%20%20%20%20%20%20%20%20%20%20%20%20%20%20%20%3C/div%3E%60%2C%0A%20%20%20%20%20%20%20%20%20%20%20%20%20%20%20%20%7B%22sticky%22%3A%20true%7D%0A%20%20%20%20%20%20%20%20%20%20%20%20%29%3B%0A%20%20%20%20%20%20%20%20%0A%20%20%20%20%0A%20%20%20%20%20%20%20%20%20%20%20%20var%20marker_7e824f0b19e747e19b4d7a089d0c59ac%20%3D%20L.marker%28%0A%20%20%20%20%20%20%20%20%20%20%20%20%20%20%20%20%5B18.67%2C%2073.89%5D%2C%0A%20%20%20%20%20%20%20%20%20%20%20%20%20%20%20%20%7B%7D%0A%20%20%20%20%20%20%20%20%20%20%20%20%29.addTo%28map_8f2348d688644a6fbc1bbd3f21228099%29%3B%0A%20%20%20%20%20%20%20%20%0A%20%20%20%20%0A%20%20%20%20%20%20%20%20%20%20%20%20marker_7e824f0b19e747e19b4d7a089d0c59ac.bindTooltip%28%0A%20%20%20%20%20%20%20%20%20%20%20%20%20%20%20%20%60%3Cdiv%3E%0A%20%20%20%20%20%20%20%20%20%20%20%20%20%20%20%20%20%20%20%20%20AIRQUALITYINDEX%3A%20201%0A%20%20%20%20%20%20%20%20%20%20%20%20%20%20%20%20%20%3C/div%3E%60%2C%0A%20%20%20%20%20%20%20%20%20%20%20%20%20%20%20%20%7B%22sticky%22%3A%20true%7D%0A%20%20%20%20%20%20%20%20%20%20%20%20%29%3B%0A%20%20%20%20%20%20%20%20%0A%20%20%20%20%0A%20%20%20%20%20%20%20%20%20%20%20%20var%20marker_9a6fdf0b18694d5db6fcee26d681ebc5%20%3D%20L.marker%28%0A%20%20%20%20%20%20%20%20%20%20%20%20%20%20%20%20%5B18.5%2C%2073.92%5D%2C%0A%20%20%20%20%20%20%20%20%20%20%20%20%20%20%20%20%7B%7D%0A%20%20%20%20%20%20%20%20%20%20%20%20%29.addTo%28map_8f2348d688644a6fbc1bbd3f21228099%29%3B%0A%20%20%20%20%20%20%20%20%0A%20%20%20%20%0A%20%20%20%20%20%20%20%20%20%20%20%20marker_9a6fdf0b18694d5db6fcee26d681ebc5.bindTooltip%28%0A%20%20%20%20%20%20%20%20%20%20%20%20%20%20%20%20%60%3Cdiv%3E%0A%20%20%20%20%20%20%20%20%20%20%20%20%20%20%20%20%20%20%20%20%20AIRQUALITYINDEX%3A%2097%0A%20%20%20%20%20%20%20%20%20%20%20%20%20%20%20%20%20%3C/div%3E%60%2C%0A%20%20%20%20%20%20%20%20%20%20%20%20%20%20%20%20%7B%22sticky%22%3A%20true%7D%0A%20%20%20%20%20%20%20%20%20%20%20%20%29%3B%0A%20%20%20%20%20%20%20%20%0A%20%20%20%20%0A%20%20%20%20%20%20%20%20%20%20%20%20var%20marker_c0c7e78ff2e94e5893a3c2d9bf079469%20%3D%20L.marker%28%0A%20%20%20%20%20%20%20%20%20%20%20%20%20%20%20%20%5B18.64%2C%2073.84%5D%2C%0A%20%20%20%20%20%20%20%20%20%20%20%20%20%20%20%20%7B%7D%0A%20%20%20%20%20%20%20%20%20%20%20%20%29.addTo%28map_8f2348d688644a6fbc1bbd3f21228099%29%3B%0A%20%20%20%20%20%20%20%20%0A%20%20%20%20%0A%20%20%20%20%20%20%20%20%20%20%20%20marker_c0c7e78ff2e94e5893a3c2d9bf079469.bindTooltip%28%0A%20%20%20%20%20%20%20%20%20%20%20%20%20%20%20%20%60%3Cdiv%3E%0A%20%20%20%20%20%20%20%20%20%20%20%20%20%20%20%20%20%20%20%20%20AIRQUALITYINDEX%3A%20145%0A%20%20%20%20%20%20%20%20%20%20%20%20%20%20%20%20%20%3C/div%3E%60%2C%0A%20%20%20%20%20%20%20%20%20%20%20%20%20%20%20%20%7B%22sticky%22%3A%20true%7D%0A%20%20%20%20%20%20%20%20%20%20%20%20%29%3B%0A%20%20%20%20%20%20%20%20%0A%20%20%20%20%0A%20%20%20%20%20%20%20%20%20%20%20%20var%20marker_0802b88110cf482fa512af830f1cf3bc%20%3D%20L.marker%28%0A%20%20%20%20%20%20%20%20%20%20%20%20%20%20%20%20%5B18.53%2C%2073.8%5D%2C%0A%20%20%20%20%20%20%20%20%20%20%20%20%20%20%20%20%7B%7D%0A%20%20%20%20%20%20%20%20%20%20%20%20%29.addTo%28map_8f2348d688644a6fbc1bbd3f21228099%29%3B%0A%20%20%20%20%20%20%20%20%0A%20%20%20%20%0A%20%20%20%20%20%20%20%20%20%20%20%20marker_0802b88110cf482fa512af830f1cf3bc.bindTooltip%28%0A%20%20%20%20%20%20%20%20%20%20%20%20%20%20%20%20%60%3Cdiv%3E%0A%20%20%20%20%20%20%20%20%20%20%20%20%20%20%20%20%20%20%20%20%20AIRQUALITYINDEX%3A%20134%0A%20%20%20%20%20%20%20%20%20%20%20%20%20%20%20%20%20%3C/div%3E%60%2C%0A%20%20%20%20%20%20%20%20%20%20%20%20%20%20%20%20%7B%22sticky%22%3A%20true%7D%0A%20%20%20%20%20%20%20%20%20%20%20%20%29%3B%0A%20%20%20%20%20%20%20%20%0A%20%20%20%20%0A%20%20%20%20%20%20%20%20%20%20%20%20var%20marker_1becbb3cb3e147db81738b6f0d3ca574%20%3D%20L.marker%28%0A%20%20%20%20%20%20%20%20%20%20%20%20%20%20%20%20%5B18.53%2C%2073.84%5D%2C%0A%20%20%20%20%20%20%20%20%20%20%20%20%20%20%20%20%7B%7D%0A%20%20%20%20%20%20%20%20%20%20%20%20%29.addTo%28map_8f2348d688644a6fbc1bbd3f21228099%29%3B%0A%20%20%20%20%20%20%20%20%0A%20%20%20%20%0A%20%20%20%20%20%20%20%20%20%20%20%20marker_1becbb3cb3e147db81738b6f0d3ca574.bindTooltip%28%0A%20%20%20%20%20%20%20%20%20%20%20%20%20%20%20%20%60%3Cdiv%3E%0A%20%20%20%20%20%20%20%20%20%20%20%20%20%20%20%20%20%20%20%20%20AIRQUALITYINDEX%3A%20117%0A%20%20%20%20%20%20%20%20%20%20%20%20%20%20%20%20%20%3C/div%3E%60%2C%0A%20%20%20%20%20%20%20%20%20%20%20%20%20%20%20%20%7B%22sticky%22%3A%20true%7D%0A%20%20%20%20%20%20%20%20%20%20%20%20%29%3B%0A%20%20%20%20%20%20%20%20%0A%20%20%20%20%0A%20%20%20%20%20%20%20%20%20%20%20%20var%20marker_f33e725906c44c5986538754a6cacab1%20%3D%20L.marker%28%0A%20%20%20%20%20%20%20%20%20%20%20%20%20%20%20%20%5B18.57%2C%2073.9%5D%2C%0A%20%20%20%20%20%20%20%20%20%20%20%20%20%20%20%20%7B%7D%0A%20%20%20%20%20%20%20%20%20%20%20%20%29.addTo%28map_8f2348d688644a6fbc1bbd3f21228099%29%3B%0A%20%20%20%20%20%20%20%20%0A%20%20%20%20%0A%20%20%20%20%20%20%20%20%20%20%20%20marker_f33e725906c44c5986538754a6cacab1.bindTooltip%28%0A%20%20%20%20%20%20%20%20%20%20%20%20%20%20%20%20%60%3Cdiv%3E%0A%20%20%20%20%20%20%20%20%20%20%20%20%20%20%20%20%20%20%20%20%20AIRQUALITYINDEX%3A%20201%0A%20%20%20%20%20%20%20%20%20%20%20%20%20%20%20%20%20%3C/div%3E%60%2C%0A%20%20%20%20%20%20%20%20%20%20%20%20%20%20%20%20%7B%22sticky%22%3A%20true%7D%0A%20%20%20%20%20%20%20%20%20%20%20%20%29%3B%0A%20%20%20%20%20%20%20%20%0A%20%20%20%20%0A%20%20%20%20%20%20%20%20%20%20%20%20var%20marker_533c862218e44889a521643febb807c2%20%3D%20L.marker%28%0A%20%20%20%20%20%20%20%20%20%20%20%20%20%20%20%20%5B18.45%2C%2073.85%5D%2C%0A%20%20%20%20%20%20%20%20%20%20%20%20%20%20%20%20%7B%7D%0A%20%20%20%20%20%20%20%20%20%20%20%20%29.addTo%28map_8f2348d688644a6fbc1bbd3f21228099%29%3B%0A%20%20%20%20%20%20%20%20%0A%20%20%20%20%0A%20%20%20%20%20%20%20%20%20%20%20%20marker_533c862218e44889a521643febb807c2.bindTooltip%28%0A%20%20%20%20%20%20%20%20%20%20%20%20%20%20%20%20%60%3Cdiv%3E%0A%20%20%20%20%20%20%20%20%20%20%20%20%20%20%20%20%20%20%20%20%20AIRQUALITYINDEX%3A%20201%0A%20%20%20%20%20%20%20%20%20%20%20%20%20%20%20%20%20%3C/div%3E%60%2C%0A%20%20%20%20%20%20%20%20%20%20%20%20%20%20%20%20%7B%22sticky%22%3A%20true%7D%0A%20%20%20%20%20%20%20%20%20%20%20%20%29%3B%0A%20%20%20%20%20%20%20%20%0A%20%20%20%20%0A%20%20%20%20%20%20%20%20function%20geo_json_b2e649dabee84c6798f440e6c37fee8b_styler%28feature%29%20%7B%0A%20%20%20%20%20%20%20%20%20%20%20%20switch%28feature.properties.title%29%20%7B%0A%20%20%20%20%20%20%20%20%20%20%20%20%20%20%20%20case%20%2290.00-100.00%20%22%3A%20%0A%20%20%20%20%20%20%20%20%20%20%20%20%20%20%20%20%20%20%20%20return%20%7B%22color%22%3A%20%22%23ff1818%22%2C%20%22fillColor%22%3A%20%22%23ff1818%22%2C%20%22opacity%22%3A%200.6%2C%20%22weight%22%3A%201%7D%3B%0A%20%20%20%20%20%20%20%20%20%20%20%20%20%20%20%20default%3A%0A%20%20%20%20%20%20%20%20%20%20%20%20%20%20%20%20%20%20%20%20return%20%7B%22color%22%3A%20%22%23ff0000%22%2C%20%22fillColor%22%3A%20%22%23ff0000%22%2C%20%22opacity%22%3A%200.6%2C%20%22weight%22%3A%201%7D%3B%0A%20%20%20%20%20%20%20%20%20%20%20%20%7D%0A%20%20%20%20%20%20%20%20%7D%0A%0A%20%20%20%20%20%20%20%20function%20geo_json_b2e649dabee84c6798f440e6c37fee8b_onEachFeature%28feature%2C%20layer%29%20%7B%0A%20%20%20%20%20%20%20%20%20%20%20%20layer.on%28%7B%0A%20%20%20%20%20%20%20%20%20%20%20%20%7D%29%3B%0A%20%20%20%20%20%20%20%20%7D%3B%0A%20%20%20%20%20%20%20%20var%20geo_json_b2e649dabee84c6798f440e6c37fee8b%20%3D%20L.geoJson%28null%2C%20%7B%0A%20%20%20%20%20%20%20%20%20%20%20%20%20%20%20%20onEachFeature%3A%20geo_json_b2e649dabee84c6798f440e6c37fee8b_onEachFeature%2C%0A%20%20%20%20%20%20%20%20%20%20%20%20%0A%20%20%20%20%20%20%20%20%20%20%20%20%20%20%20%20style%3A%20geo_json_b2e649dabee84c6798f440e6c37fee8b_styler%2C%0A%20%20%20%20%20%20%20%20%7D%29%3B%0A%0A%20%20%20%20%20%20%20%20function%20geo_json_b2e649dabee84c6798f440e6c37fee8b_add%20%28data%29%20%7B%0A%20%20%20%20%20%20%20%20%20%20%20%20geo_json_b2e649dabee84c6798f440e6c37fee8b%0A%20%20%20%20%20%20%20%20%20%20%20%20%20%20%20%20.addData%28data%29%0A%20%20%20%20%20%20%20%20%20%20%20%20%20%20%20%20.addTo%28map_8f2348d688644a6fbc1bbd3f21228099%29%3B%0A%20%20%20%20%20%20%20%20%7D%0A%20%20%20%20%20%20%20%20%20%20%20%20geo_json_b2e649dabee84c6798f440e6c37fee8b_add%28%7B%22features%22%3A%20%5B%7B%22geometry%22%3A%20%7B%22coordinates%22%3A%20%5B%5B%5B%5B73.91222%2C%2018.49211%5D%2C%20%5B73.91274%2C%2018.49222%5D%2C%20%5B73.91444%2C%2018.49285%5D%2C%20%5B73.91889%2C%2018.49429%5D%2C%20%5B73.91934%2C%2018.49444%5D%2C%20%5B73.92111%2C%2018.49534%5D%2C%20%5B73.92333%2C%2018.49618%5D%2C%20%5B73.92464%2C%2018.49667%5D%2C%20%5B73.92556%2C%2018.49716%5D%2C%20%5B73.92778%2C%2018.49811%5D%2C%20%5B73.93481%2C%2018.50111%5D%2C%20%5B73.93667%2C%2018.50186%5D%2C%20%5B73.93812%2C%2018.50256%5D%2C%20%5B73.93889%2C%2018.50333%5D%2C%20%5B73.94073%2C%2018.50333%5D%2C%20%5B73.94111%2C%2018.50344%5D%2C%20%5B73.94136%2C%2018.50359%5D%2C%20%5B73.94333%2C%2018.50556%5D%2C%20%5B73.94556%2C%2018.50778%5D%2C%20%5B73.94778%2C%2018.50778%5D%2C%20%5B73.95%2C%2018.51%5D%2C%20%5B73.95222%2C%2018.51%5D%2C%20%5B73.95444%2C%2018.51222%5D%2C%20%5B73.95667%2C%2018.51444%5D%2C%20%5B73.95889%2C%2018.51444%5D%2C%20%5B73.96111%2C%2018.51667%5D%2C%20%5B73.96333%2C%2018.51667%5D%2C%20%5B73.96556%2C%2018.51889%5D%2C%20%5B73.96778%2C%2018.52111%5D%2C%20%5B73.96778%2C%2018.52152%5D%2C%20%5B73.96699%2C%2018.52111%5D%2C%20%5B73.96556%2C%2018.52044%5D%2C%20%5B73.96333%2C%2018.51954%5D%2C%20%5B73.95667%2C%2018.51709%5D%2C%20%5B73.93222%2C%2018.50899%5D%2C%20%5B73.92778%2C%2018.50707%5D%2C%20%5B73.92474%2C%2018.50556%5D%2C%20%5B73.92086%2C%2018.50333%5D%2C%20%5B73.91667%2C%2018.5008%5D%2C%20%5B73.91409%2C%2018.49889%5D%2C%20%5B73.91222%2C%2018.49696%5D%2C%20%5B73.91195%2C%2018.49667%5D%2C%20%5B73.91061%2C%2018.49444%5D%2C%20%5B73.91222%2C%2018.49211%5D%5D%5D%2C%20%5B%5B%5B73.77667%2C%2018.65981%5D%2C%20%5B73.78333%2C%2018.66076%5D%2C%20%5B73.78513%2C%2018.66111%5D%2C%20%5B73.78333%2C%2018.66111%5D%2C%20%5B73.77667%2C%2018.66111%5D%2C%20%5B73.77667%2C%2018.65981%5D%5D%5D%5D%2C%20%22type%22%3A%20%22MultiPolygon%22%7D%2C%20%22properties%22%3A%20%7B%22fill%22%3A%20%22%23ff1818%22%2C%20%22fill-opacity%22%3A%200.5%2C%20%22stroke%22%3A%20%22%23ff1818%22%2C%20%22stroke-opacity%22%3A%201%2C%20%22stroke-width%22%3A%201%2C%20%22title%22%3A%20%2290.00-100.00%20%22%7D%2C%20%22type%22%3A%20%22Feature%22%7D%2C%20%7B%22geometry%22%3A%20%7B%22coordinates%22%3A%20%5B%5B%5B%5B73.90111%2C%2018.48505%5D%2C%20%5B73.90387%2C%2018.48556%5D%2C%20%5B73.90556%2C%2018.48625%5D%2C%20%5B73.91776%2C%2018.49109%5D%2C%20%5B73.91889%2C%2018.49222%5D%2C%20%5B73.92086%2C%2018.49222%5D%2C%20%5B73.92111%2C%2018.49231%5D%2C%20%5B73.92129%2C%2018.4924%5D%2C%20%5B73.93222%2C%2018.49889%5D%2C%20%5B73.93423%2C%2018.50089%5D%2C%20%5B73.93222%2C%2018.50003%5D%2C%20%5B73.91889%2C%2018.49429%5D%2C%20%5B73.91222%2C%2018.49211%5D%2C%20%5B73.91057%2C%2018.49222%5D%2C%20%5B73.91061%2C%2018.49444%5D%2C%20%5B73.91195%2C%2018.49667%5D%2C%20%5B73.91222%2C%2018.49696%5D%2C%20%5B73.91444%2C%2018.49917%5D%2C%20%5B73.91711%2C%2018.50111%5D%2C%20%5B73.91889%2C%2018.50213%5D%2C%20%5B73.92556%2C%2018.50598%5D%2C%20%5B73.93%2C%2018.50808%5D%2C%20%5B73.93477%2C%2018.51%5D%2C%20%5B73.94125%2C%2018.51222%5D%2C%20%5B73.96556%2C%2018.52044%5D%2C%20%5B73.96699%2C%2018.52111%5D%2C%20%5B73.96778%2C%2018.52152%5D%2C%20%5B73.96778%2C%2018.52333%5D%2C%20%5B73.96556%2C%2018.52556%5D%2C%20%5B73.96556%2C%2018.52735%5D%2C%20%5B73.96333%2C%2018.52575%5D%2C%20%5B73.96307%2C%2018.52556%5D%2C%20%5B73.96111%2C%2018.52441%5D%2C%20%5B73.95889%2C%2018.52345%5D%2C%20%5B73.95854%2C%2018.52333%5D%2C%20%5B73.95444%2C%2018.52209%5D%2C%20%5B73.93%2C%2018.51497%5D%2C%20%5B73.92778%2C%2018.51412%5D%2C%20%5B73.91444%2C%2018.50871%5D%2C%20%5B73.90556%2C%2018.50594%5D%2C%20%5B73.90463%2C%2018.50556%5D%2C%20%5B73.90333%2C%2018.50484%5D%2C%20%5B73.90111%2C%2018.50347%5D%2C%20%5B73.9009%2C%2018.50333%5D%2C%20%5B73.89889%2C%2018.50153%5D%2C%20%5B73.89848%2C%2018.50111%5D%2C%20%5B73.89697%2C%2018.49889%5D%2C%20%5B73.89667%2C%2018.49816%5D%2C%20%5B73.8961%2C%2018.49667%5D%2C%20%5B73.89579%2C%2018.49444%5D%2C%20%5B73.896%2C%2018.49222%5D%2C%20%5B73.89663%2C%2018.49%5D%2C%20%5B73.89667%2C%2018.48992%5D%2C%20%5B73.89889%2C%2018.48565%5D%2C%20%5B73.90111%2C%2018.48505%5D%5D%5D%2C%20%5B%5B%5B73.93667%2C%2018.50111%5D%2C%20%5B73.93812%2C%2018.50256%5D%2C%20%5B73.93667%2C%2018.50186%5D%2C%20%5B73.93667%2C%2018.50111%5D%5D%5D%2C%20%5B%5B%5B73.94111%2C%2018.50333%5D%2C%20%5B73.94136%2C%2018.50359%5D%2C%20%5B73.94111%2C%2018.50344%5D%2C%20%5B73.94111%2C%2018.50333%5D%5D%5D%2C%20%5B%5B%5B73.76333%2C%2018.65642%5D%2C%20%5B73.77667%2C%2018.6563%5D%2C%20%5B73.78333%2C%2018.65666%5D%2C%20%5B73.78778%2C%2018.6572%5D%2C%20%5B73.79%2C%2018.65759%5D%2C%20%5B73.79222%2C%2018.65808%5D%2C%20%5B73.79444%2C%2018.65868%5D%2C%20%5B73.79889%2C%2018.66004%5D%2C%20%5B73.80111%2C%2018.66088%5D%2C%20%5B73.80167%2C%2018.66111%5D%2C%20%5B73.80111%2C%2018.66111%5D%2C%20%5B73.78513%2C%2018.66111%5D%2C%20%5B73.78333%2C%2018.66076%5D%2C%20%5B73.77889%2C%2018.66007%5D%2C%20%5B73.77524%2C%2018.65969%5D%2C%20%5B73.77444%2C%2018.65889%5D%2C%20%5B73.77222%2C%2018.65889%5D%2C%20%5B73.76111%2C%2018.65889%5D%2C%20%5B73.76111%2C%2018.65667%5D%2C%20%5B73.76333%2C%2018.65642%5D%5D%5D%2C%20%5B%5B%5B73.80556%2C%2018.66248%5D%2C%20%5B73.80754%2C%2018.66333%5D%2C%20%5B73.80556%2C%2018.66333%5D%2C%20%5B73.80556%2C%2018.66248%5D%5D%5D%5D%2C%20%22type%22%3A%20%22MultiPolygon%22%7D%2C%20%22properties%22%3A%20%7B%22fill%22%3A%20%22%23ff0000%22%2C%20%22fill-opacity%22%3A%200.5%2C%20%22stroke%22%3A%20%22%23ff0000%22%2C%20%22stroke-opacity%22%3A%201%2C%20%22stroke-width%22%3A%201%2C%20%22title%22%3A%20%22100.00-110.00%20%22%7D%2C%20%22type%22%3A%20%22Feature%22%7D%2C%20%7B%22geometry%22%3A%20%7B%22coordinates%22%3A%20%5B%5B%5B%5B73.89222%2C%2018.48006%5D%2C%20%5B73.89444%2C%2018.48009%5D%2C%20%5B73.89667%2C%2018.48059%5D%2C%20%5B73.89834%2C%2018.48111%5D%2C%20%5B73.89889%2C%2018.48133%5D%2C%20%5B73.90288%2C%2018.48288%5D%2C%20%5B73.90412%2C%2018.48333%5D%2C%20%5B73.90556%2C%2018.48386%5D%2C%20%5B73.90648%2C%2018.48426%5D%2C%20%5B73.90778%2C%2018.48556%5D%2C%20%5B73.91%2C%2018.48556%5D%2C%20%5B73.91222%2C%2018.48778%5D%2C%20%5B73.91444%2C%2018.48778%5D%2C%20%5B73.91667%2C%2018.49%5D%2C%20%5B73.91776%2C%2018.49109%5D%2C%20%5B73.91667%2C%2018.49062%5D%2C%20%5B73.90978%2C%2018.48778%5D%2C%20%5B73.90778%2C%2018.48706%5D%2C%20%5B73.90333%2C%2018.48539%5D%2C%20%5B73.90111%2C%2018.48505%5D%2C%20%5B73.89896%2C%2018.48556%5D%2C%20%5B73.89889%2C%2018.48565%5D%2C%20%5B73.89761%2C%2018.48778%5D%2C%20%5B73.89667%2C%2018.48992%5D%2C%20%5B73.89663%2C%2018.49%5D%2C%20%5B73.896%2C%2018.49222%5D%2C%20%5B73.89579%2C%2018.49444%5D%2C%20%5B73.8961%2C%2018.49667%5D%2C%20%5B73.89667%2C%2018.49816%5D%2C%20%5B73.89697%2C%2018.49889%5D%2C%20%5B73.89848%2C%2018.50111%5D%2C%20%5B73.89889%2C%2018.50153%5D%2C%20%5B73.9009%2C%2018.50333%5D%2C%20%5B73.90111%2C%2018.50347%5D%2C%20%5B73.90333%2C%2018.50484%5D%2C%20%5B73.90463%2C%2018.50556%5D%2C%20%5B73.90556%2C%2018.50594%5D%2C%20%5B73.90778%2C%2018.50678%5D%2C%20%5B73.91%2C%2018.5075%5D%2C%20%5B73.91889%2C%2018.51024%5D%2C%20%5B73.92111%2C%2018.51116%5D%2C%20%5B73.93222%2C%2018.51576%5D%2C%20%5B73.93889%2C%2018.51784%5D%2C%20%5B73.95889%2C%2018.52345%5D%2C%20%5B73.96111%2C%2018.52441%5D%2C%20%5B73.96307%2C%2018.52556%5D%2C%20%5B73.96333%2C%2018.52575%5D%2C%20%5B73.96556%2C%2018.52735%5D%2C%20%5B73.96556%2C%2018.52778%5D%2C%20%5B73.96333%2C%2018.53%5D%2C%20%5B73.96333%2C%2018.53222%5D%2C%20%5B73.96249%2C%2018.53306%5D%2C%20%5B73.96137%2C%2018.53222%5D%2C%20%5B73.96111%2C%2018.53202%5D%2C%20%5B73.95899%2C%2018.53%5D%2C%20%5B73.95889%2C%2018.52991%5D%2C%20%5B73.95667%2C%2018.52822%5D%2C%20%5B73.95594%2C%2018.52778%5D%2C%20%5B73.95444%2C%2018.52709%5D%2C%20%5B73.95222%2C%2018.52628%5D%2C%20%5B73.95%2C%2018.52564%5D%2C%20%5B73.94556%2C%2018.52459%5D%2C%20%5B73.93135%2C%2018.52111%5D%2C%20%5B73.92451%2C%2018.51889%5D%2C%20%5B73.91745%2C%2018.51667%5D%2C%20%5B73.91444%2C%2018.51596%5D%2C%20%5B73.91222%2C%2018.51557%5D%2C%20%5B73.91%2C%2018.51527%5D%2C%20%5B73.90778%2C%2018.51507%5D%2C%20%5B73.90556%2C%2018.51496%5D%2C%20%5B73.89889%2C%2018.51489%5D%2C%20%5B73.88333%2C%2018.51538%5D%2C%20%5B73.87444%2C%2018.51615%5D%2C%20%5B73.87222%2C%2018.51652%5D%2C%20%5B73.87%2C%2018.51695%5D%2C%20%5B73.86778%2C%2018.5175%5D%2C%20%5B73.86556%2C%2018.51841%5D%2C%20%5B73.86478%2C%2018.51889%5D%2C%20%5B73.86128%2C%2018.52111%5D%2C%20%5B73.85575%2C%2018.52556%5D%2C%20%5B73.85444%2C%2018.52651%5D%2C%20%5B73.85304%2C%2018.52778%5D%2C%20%5B73.84778%2C%2018.53223%5D%2C%20%5B73.84612%2C%2018.53444%5D%2C%20%5B73.84556%2C%2018.53551%5D%2C%20%5B73.84501%2C%2018.53667%5D%2C%20%5B73.84419%2C%2018.53889%5D%2C%20%5B73.84352%2C%2018.54111%5D%2C%20%5B73.84333%2C%2018.54171%5D%2C%20%5B73.8426%2C%2018.54333%5D%2C%20%5B73.84111%2C%2018.54622%5D%2C%20%5B73.83912%2C%2018.54778%5D%2C%20%5B73.83889%2C%2018.54795%5D%2C%20%5B73.83667%2C%2018.54813%5D%2C%20%5B73.83583%2C%2018.54778%5D%2C%20%5B73.83444%2C%2018.54719%5D%2C%20%5B73.83231%2C%2018.54556%5D%2C%20%5B73.83222%2C%2018.54549%5D%2C%20%5B73.83002%2C%2018.54333%5D%2C%20%5B73.83%2C%2018.54332%5D%2C%20%5B73.8281%2C%2018.54111%5D%2C%20%5B73.82778%2C%2018.54074%5D%2C%20%5B73.82638%2C%2018.53889%5D%2C%20%5B73.82327%2C%2018.53444%5D%2C%20%5B73.82064%2C%2018.53%5D%2C%20%5B73.81956%2C%2018.52778%5D%2C%20%5B73.81889%2C%2018.52597%5D%2C%20%5B73.81874%2C%2018.52556%5D%2C%20%5B73.81821%2C%2018.52333%5D%2C%20%5B73.81789%2C%2018.52111%5D%2C%20%5B73.81781%2C%2018.51889%5D%2C%20%5B73.81804%2C%2018.51667%5D%2C%20%5B73.81874%2C%2018.51444%5D%2C%20%5B73.81889%2C%2018.51419%5D%2C%20%5B73.82086%2C%2018.51222%5D%2C%20%5B73.82111%2C%2018.51207%5D%2C%20%5B73.82333%2C%2018.51151%5D%2C%20%5B73.82556%2C%2018.51154%5D%2C%20%5B73.82778%2C%2018.51191%5D%2C%20%5B73.82888%2C%2018.51222%5D%2C%20%5B73.83%2C%2018.51254%5D%2C%20%5B73.83222%2C%2018.51338%5D%2C%20%5B73.83444%2C%2018.51437%5D%2C%20%5B73.83889%2C%2018.51628%5D%2C%20%5B73.84108%2C%2018.51667%5D%2C%20%5B73.84111%2C%2018.51667%5D%2C%20%5B73.84128%2C%2018.51667%5D%2C%20%5B73.84778%2C%2018.51618%5D%2C%20%5B73.85222%2C%2018.51549%5D%2C%20%5B73.85444%2C%2018.51501%5D%2C%20%5B73.85651%2C%2018.51444%5D%2C%20%5B73.86111%2C%2018.51302%5D%2C%20%5B73.86249%2C%2018.51222%5D%2C%20%5B73.86556%2C%2018.51024%5D%2C%20%5B73.86579%2C%2018.51%5D%2C%20%5B73.86778%2C%2018.50835%5D%2C%20%5B73.86828%2C%2018.50778%5D%2C%20%5B73.87444%2C%2018.50077%5D%2C%20%5B73.87587%2C%2018.49889%5D%2C%20%5B73.88556%2C%2018.48614%5D%2C%20%5B73.88815%2C%2018.48333%5D%2C%20%5B73.89%2C%2018.48156%5D%2C%20%5B73.89222%2C%2018.48006%5D%5D%5D%2C%20%5B%5B%5B73.92111%2C%2018.49222%5D%2C%20%5B73.92129%2C%2018.4924%5D%2C%20%5B73.92111%2C%2018.49231%5D%2C%20%5B73.92111%2C%2018.49222%5D%5D%5D%2C%20%5B%5B%5B73.76111%2C%2018.65393%5D%2C%20%5B73.78556%2C%2018.65255%5D%2C%20%5B73.79222%2C%2018.65266%5D%2C%20%5B73.79667%2C%2018.65304%5D%2C%20%5B73.79889%2C%2018.65336%5D%2C%20%5B73.80111%2C%2018.65381%5D%2C%20%5B73.80333%2C%2018.6544%5D%2C%20%5B73.80346%2C%2018.65444%5D%2C%20%5B73.80556%2C%2018.65522%5D%2C%20%5B73.80778%2C%2018.65628%5D%2C%20%5B73.80845%2C%2018.65667%5D%2C%20%5B73.81%2C%2018.65764%5D%2C%20%5B73.81166%2C%2018.65889%5D%2C%20%5B73.81222%2C%2018.65922%5D%2C%20%5B73.81444%2C%2018.66074%5D%2C%20%5B73.81853%2C%2018.66333%5D%2C%20%5B73.81667%2C%2018.66333%5D%2C%20%5B73.80754%2C%2018.66333%5D%2C%20%5B73.80556%2C%2018.66248%5D%2C%20%5B73.80423%2C%2018.66201%5D%2C%20%5B73.80167%2C%2018.66111%5D%2C%20%5B73.80111%2C%2018.66088%5D%2C%20%5B73.79889%2C%2018.66004%5D%2C%20%5B73.79667%2C%2018.65932%5D%2C%20%5B73.79222%2C%2018.65808%5D%2C%20%5B73.79%2C%2018.65759%5D%2C%20%5B73.78778%2C%2018.6572%5D%2C%20%5B73.78556%2C%2018.65689%5D%2C%20%5B73.78333%2C%2018.65666%5D%2C%20%5B73.77667%2C%2018.6563%5D%2C%20%5B73.76556%2C%2018.65636%5D%2C%20%5B73.76111%2C%2018.65649%5D%2C%20%5B73.76111%2C%2018.65444%5D%2C%20%5B73.76111%2C%2018.65393%5D%5D%5D%5D%2C%20%22type%22%3A%20%22MultiPolygon%22%7D%2C%20%22properties%22%3A%20%7B%22fill%22%3A%20%22%23ff0000%22%2C%20%22fill-opacity%22%3A%200.5%2C%20%22stroke%22%3A%20%22%23ff0000%22%2C%20%22stroke-opacity%22%3A%201%2C%20%22stroke-width%22%3A%201%2C%20%22title%22%3A%20%22110.00-120.00%20%22%7D%2C%20%22type%22%3A%20%22Feature%22%7D%2C%20%7B%22geometry%22%3A%20%7B%22coordinates%22%3A%20%5B%5B%5B%5B73.88556%2C%2018.47575%5D%2C%20%5B73.88778%2C%2018.47566%5D%2C%20%5B73.89%2C%2018.47609%5D%2C%20%5B73.89178%2C%2018.47667%5D%2C%20%5B73.89597%2C%2018.47819%5D%2C%20%5B73.89667%2C%2018.47889%5D%2C%20%5B73.89848%2C%2018.47889%5D%2C%20%5B73.89889%2C%2018.47899%5D%2C%20%5B73.89908%2C%2018.47908%5D%2C%20%5B73.90111%2C%2018.48111%5D%2C%20%5B73.90288%2C%2018.48288%5D%2C%20%5B73.90111%2C%2018.4822%5D%2C%20%5B73.89667%2C%2018.48059%5D%2C%20%5B73.89444%2C%2018.48009%5D%2C%20%5B73.89222%2C%2018.48006%5D%2C%20%5B73.89046%2C%2018.48111%5D%2C%20%5B73.89%2C%2018.48156%5D%2C%20%5B73.88556%2C%2018.48614%5D%2C%20%5B73.88111%2C%2018.49166%5D%2C%20%5B73.87415%2C%2018.50111%5D%2C%20%5B73.86828%2C%2018.50778%5D%2C%20%5B73.86579%2C%2018.51%5D%2C%20%5B73.86556%2C%2018.51024%5D%2C%20%5B73.86333%2C%2018.51182%5D%2C%20%5B73.86249%2C%2018.51222%5D%2C%20%5B73.85889%2C%2018.51384%5D%2C%20%5B73.85667%2C%2018.51441%5D%2C%20%5B73.85222%2C%2018.51549%5D%2C%20%5B73.85%2C%2018.51587%5D%2C%20%5B73.84556%2C%2018.51642%5D%2C%20%5B73.84128%2C%2018.51667%5D%2C%20%5B73.84108%2C%2018.51667%5D%2C%20%5B73.83889%2C%2018.51628%5D%2C%20%5B73.83667%2C%2018.51545%5D%2C%20%5B73.83462%2C%2018.51444%5D%2C%20%5B73.83222%2C%2018.51338%5D%2C%20%5B73.83%2C%2018.51254%5D%2C%20%5B73.82888%2C%2018.51222%5D%2C%20%5B73.82778%2C%2018.51191%5D%2C%20%5B73.82556%2C%2018.51154%5D%2C%20%5B73.82333%2C%2018.51151%5D%2C%20%5B73.82111%2C%2018.51207%5D%2C%20%5B73.82086%2C%2018.51222%5D%2C%20%5B73.81889%2C%2018.51419%5D%2C%20%5B73.81874%2C%2018.51444%5D%2C%20%5B73.81804%2C%2018.51667%5D%2C%20%5B73.81781%2C%2018.51889%5D%2C%20%5B73.81789%2C%2018.52111%5D%2C%20%5B73.81821%2C%2018.52333%5D%2C%20%5B73.81874%2C%2018.52556%5D%2C%20%5B73.81889%2C%2018.52597%5D%2C%20%5B73.81956%2C%2018.52778%5D%2C%20%5B73.82064%2C%2018.53%5D%2C%20%5B73.82111%2C%2018.53085%5D%2C%20%5B73.82333%2C%2018.53454%5D%2C%20%5B73.82556%2C%2018.53781%5D%2C%20%5B73.82778%2C%2018.54074%5D%2C%20%5B73.8281%2C%2018.54111%5D%2C%20%5B73.83002%2C%2018.54333%5D%2C%20%5B73.83231%2C%2018.54556%5D%2C%20%5B73.83444%2C%2018.54719%5D%2C%20%5B73.83583%2C%2018.54778%5D%2C%20%5B73.83667%2C%2018.54813%5D%2C%20%5B73.83889%2C%2018.54795%5D%2C%20%5B73.83912%2C%2018.54778%5D%2C%20%5B73.84111%2C%2018.54622%5D%2C%20%5B73.84148%2C%2018.54556%5D%2C%20%5B73.8426%2C%2018.54333%5D%2C%20%5B73.84333%2C%2018.54171%5D%2C%20%5B73.84352%2C%2018.54111%5D%2C%20%5B73.84501%2C%2018.53667%5D%2C%20%5B73.84556%2C%2018.53551%5D%2C%20%5B73.84612%2C%2018.53444%5D%2C%20%5B73.84778%2C%2018.53223%5D%2C%20%5B73.84778%2C%2018.53222%5D%2C%20%5B73.85%2C%2018.53023%5D%2C%20%5B73.85846%2C%2018.52333%5D%2C%20%5B73.86333%2C%2018.51958%5D%2C%20%5B73.86478%2C%2018.51889%5D%2C%20%5B73.86778%2C%2018.5175%5D%2C%20%5B73.87%2C%2018.51695%5D%2C%20%5B73.87154%2C%2018.51667%5D%2C%20%5B73.87667%2C%2018.51589%5D%2C%20%5B73.88333%2C%2018.51538%5D%2C%20%5B73.89889%2C%2018.51489%5D%2C%20%5B73.90778%2C%2018.51507%5D%2C%20%5B73.91%2C%2018.51527%5D%2C%20%5B73.91222%2C%2018.51557%5D%2C%20%5B73.91444%2C%2018.51596%5D%2C%20%5B73.91667%2C%2018.51645%5D%2C%20%5B73.91889%2C%2018.51705%5D%2C%20%5B73.92111%2C%2018.51772%5D%2C%20%5B73.93889%2C%2018.52307%5D%2C%20%5B73.95222%2C%2018.52628%5D%2C%20%5B73.95444%2C%2018.52709%5D%2C%20%5B73.95594%2C%2018.52778%5D%2C%20%5B73.95667%2C%2018.52822%5D%2C%20%5B73.95889%2C%2018.52991%5D%2C%20%5B73.95899%2C%2018.53%5D%2C%20%5B73.96111%2C%2018.53202%5D%2C%20%5B73.96137%2C%2018.53222%5D%2C%20%5B73.96249%2C%2018.53306%5D%2C%20%5B73.96111%2C%2018.53444%5D%2C%20%5B73.96111%2C%2018.53667%5D%2C%20%5B73.95892%2C%2018.53886%5D%2C%20%5B73.95889%2C%2018.53884%5D%2C%20%5B73.95674%2C%2018.53667%5D%2C%20%5B73.95667%2C%2018.53658%5D%2C%20%5B73.95444%2C%2018.53409%5D%2C%20%5B73.95222%2C%2018.53206%5D%2C%20%5B73.95%2C%2018.53075%5D%2C%20%5B73.94829%2C%2018.53%5D%2C%20%5B73.94778%2C%2018.52982%5D%2C%20%5B73.94556%2C%2018.52915%5D%2C%20%5B73.94333%2C%2018.52859%5D%2C%20%5B73.93889%2C%2018.52769%5D%2C%20%5B73.92778%2C%2018.52532%5D%2C%20%5B73.91667%2C%2018.52273%5D%2C%20%5B73.91444%2C%2018.52239%5D%2C%20%5B73.91222%2C%2018.52215%5D%2C%20%5B73.91%2C%2018.522%5D%2C%20%5B73.90778%2C%2018.52194%5D%2C%20%5B73.90556%2C%2018.52196%5D%2C%20%5B73.90333%2C%2018.52208%5D%2C%20%5B73.90111%2C%2018.52227%5D%2C%20%5B73.89667%2C%2018.5229%5D%2C%20%5B73.89222%2C%2018.52376%5D%2C%20%5B73.88778%2C%2018.52483%5D%2C%20%5B73.88333%2C%2018.52613%5D%2C%20%5B73.87889%2C%2018.52767%5D%2C%20%5B73.87314%2C%2018.53%5D%2C%20%5B73.86778%2C%2018.53252%5D%2C%20%5B73.86435%2C%2018.53444%5D%2C%20%5B73.86333%2C%2018.53509%5D%2C%20%5B73.86111%2C%2018.53668%5D%2C%20%5B73.85889%2C%2018.53862%5D%2C%20%5B73.85861%2C%2018.53889%5D%2C%20%5B73.85667%2C%2018.54111%5D%2C%20%5B73.85667%2C%2018.54112%5D%2C%20%5B73.85514%2C%2018.54333%5D%2C%20%5B73.85444%2C%2018.54453%5D%2C%20%5B73.85388%2C%2018.54556%5D%2C%20%5B73.85283%2C%2018.54778%5D%2C%20%5B73.85222%2C%2018.54925%5D%2C%20%5B73.85113%2C%2018.55222%5D%2C%20%5B73.85%2C%2018.55594%5D%2C%20%5B73.84778%2C%2018.56275%5D%2C%20%5B73.84755%2C%2018.56333%5D%2C%20%5B73.84556%2C%2018.56818%5D%2C%20%5B73.84458%2C%2018.57%5D%2C%20%5B73.84333%2C%2018.57232%5D%2C%20%5B73.84161%2C%2018.57444%5D%2C%20%5B73.84111%2C%2018.57506%5D%2C%20%5B73.83889%2C%2018.57625%5D%2C%20%5B73.83667%2C%2018.57618%5D%2C%20%5B73.83444%2C%2018.57502%5D%2C%20%5B73.83384%2C%2018.57444%5D%2C%20%5B73.83164%2C%2018.57222%5D%2C%20%5B73.82985%2C%2018.57%5D%2C%20%5B73.81667%2C%2018.54977%5D%2C%20%5B73.80501%2C%2018.53%5D%2C%20%5B73.8038%2C%2018.52778%5D%2C%20%5B73.80333%2C%2018.52651%5D%2C%20%5B73.80331%2C%2018.52556%5D%2C%20%5B73.80333%2C%2018.52543%5D%2C%20%5B73.80473%2C%2018.52333%5D%2C%20%5B73.80548%2C%2018.52111%5D%2C%20%5B73.80556%2C%2018.5209%5D%2C%20%5B73.80739%2C%2018.51889%5D%2C%20%5B73.80778%2C%2018.51711%5D%2C%20%5B73.80811%2C%2018.51667%5D%2C%20%5B73.81172%2C%2018.51222%5D%2C%20%5B73.81222%2C%2018.51016%5D%2C%20%5B73.81235%2C%2018.51%5D%2C%20%5B73.81811%2C%2018.50333%5D%2C%20%5B73.82111%2C%2018.50051%5D%2C%20%5B73.82318%2C%2018.49889%5D%2C%20%5B73.82333%2C%2018.49877%5D%2C%20%5B73.82556%2C%2018.49752%5D%2C%20%5B73.82778%2C%2018.49679%5D%2C%20%5B73.83%2C%2018.49707%5D%2C%20%5B73.83222%2C%2018.49852%5D%2C%20%5B73.8327%2C%2018.49889%5D%2C%20%5B73.83444%2C%2018.50017%5D%2C%20%5B73.83608%2C%2018.50111%5D%2C%20%5B73.83667%2C%2018.50145%5D%2C%20%5B73.83889%2C%2018.50233%5D%2C%20%5B73.84111%2C%2018.5027%5D%2C%20%5B73.84333%2C%2018.50249%5D%2C%20%5B73.84556%2C%2018.50186%5D%2C%20%5B73.84779%2C%2018.50111%5D%2C%20%5B73.8533%2C%2018.49889%5D%2C%20%5B73.85772%2C%2018.49667%5D%2C%20%5B73.86146%2C%2018.49444%5D%2C%20%5B73.86556%2C%2018.49164%5D%2C%20%5B73.86778%2C%2018.4899%5D%2C%20%5B73.87293%2C%2018.48556%5D%2C%20%5B73.87889%2C%2018.48054%5D%2C%20%5B73.88556%2C%2018.47575%5D%5D%5D%2C%20%5B%5B%5B73.90556%2C%2018.48333%5D%2C%20%5B73.90648%2C%2018.48426%5D%2C%20%5B73.90556%2C%2018.48386%5D%2C%20%5B73.90556%2C%2018.48333%5D%5D%5D%2C%20%5B%5B%5B73.79222%2C%2018.64762%5D%2C%20%5B73.80111%2C%2018.6471%5D%2C%20%5B73.80556%2C%2018.64716%5D%2C%20%5B73.80778%2C%2018.64731%5D%2C%20%5B73.81%2C%2018.64758%5D%2C%20%5B73.81109%2C%2018.64778%5D%2C%20%5B73.81222%2C%2018.64801%5D%2C%20%5B73.81444%2C%2018.64867%5D%2C%20%5B73.81667%2C%2018.64963%5D%2C%20%5B73.81734%2C%2018.65%5D%2C%20%5B73.81889%2C%2018.65103%5D%2C%20%5B73.82028%2C%2018.65222%5D%2C%20%5B73.82111%2C%2018.65308%5D%2C%20%5B73.82222%2C%2018.65444%5D%2C%20%5B73.82333%2C%2018.65611%5D%2C%20%5B73.82366%2C%2018.65667%5D%2C%20%5B73.82556%2C%2018.65966%5D%2C%20%5B73.82778%2C%2018.66229%5D%2C%20%5B73.82873%2C%2018.66333%5D%2C%20%5B73.82778%2C%2018.66333%5D%2C%20%5B73.81853%2C%2018.66333%5D%2C%20%5B73.81667%2C%2018.66211%5D%2C%20%5B73.80778%2C%2018.65628%5D%2C%20%5B73.80556%2C%2018.65522%5D%2C%20%5B73.80346%2C%2018.65444%5D%2C%20%5B73.80333%2C%2018.6544%5D%2C%20%5B73.80111%2C%2018.65381%5D%2C%20%5B73.79889%2C%2018.65336%5D%2C%20%5B73.79667%2C%2018.65304%5D%2C%20%5B73.79444%2C%2018.65281%5D%2C%20%5B73.79%2C%2018.65258%5D%2C%20%5B73.78333%2C%2018.65259%5D%2C%20%5B73.77%2C%2018.65327%5D%2C%20%5B73.76064%2C%2018.65397%5D%2C%20%5B73.75889%2C%2018.65222%5D%2C%20%5B73.75889%2C%2018.65157%5D%2C%20%5B73.76111%2C%2018.65133%5D%2C%20%5B73.79222%2C%2018.64762%5D%5D%5D%5D%2C%20%22type%22%3A%20%22MultiPolygon%22%7D%2C%20%22properties%22%3A%20%7B%22fill%22%3A%20%22%23ff0000%22%2C%20%22fill-opacity%22%3A%200.5%2C%20%22stroke%22%3A%20%22%23ff0000%22%2C%20%22stroke-opacity%22%3A%201%2C%20%22stroke-width%22%3A%201%2C%20%22title%22%3A%20%22120.00-130.00%20%22%7D%2C%20%22type%22%3A%20%22Feature%22%7D%2C%20%7B%22geometry%22%3A%20%7B%22coordinates%22%3A%20%5B%5B%5B%5B73.87889%2C%2018.47219%5D%2C%20%5B73.88111%2C%2018.4716%5D%2C%20%5B73.88333%2C%2018.47179%5D%2C%20%5B73.88462%2C%2018.47222%5D%2C%20%5B73.88556%2C%2018.47256%5D%2C%20%5B73.88778%2C%2018.47301%5D%2C%20%5B73.88918%2C%2018.47362%5D%2C%20%5B73.89%2C%2018.47444%5D%2C%20%5B73.89222%2C%2018.47667%5D%2C%20%5B73.89444%2C%2018.47667%5D%2C%20%5B73.89597%2C%2018.47819%5D%2C%20%5B73.89444%2C%2018.47756%5D%2C%20%5B73.89222%2C%2018.47684%5D%2C%20%5B73.89%2C%2018.47609%5D%2C%20%5B73.88778%2C%2018.47566%5D%2C%20%5B73.88556%2C%2018.47575%5D%2C%20%5B73.88393%2C%2018.47667%5D%2C%20%5B73.88333%2C%2018.47711%5D%2C%20%5B73.87667%2C%2018.48238%5D%2C%20%5B73.86556%2C%2018.49164%5D%2C%20%5B73.86333%2C%2018.49323%5D%2C%20%5B73.86111%2C%2018.49468%5D%2C%20%5B73.85889%2C%2018.49603%5D%2C%20%5B73.85667%2C%2018.49725%5D%2C%20%5B73.85444%2C%2018.49837%5D%2C%20%5B73.85222%2C%2018.49939%5D%2C%20%5B73.85%2C%2018.50031%5D%2C%20%5B73.84778%2C%2018.50111%5D%2C%20%5B73.84556%2C%2018.50186%5D%2C%20%5B73.84333%2C%2018.50249%5D%2C%20%5B73.84111%2C%2018.5027%5D%2C%20%5B73.83889%2C%2018.50233%5D%2C%20%5B73.83667%2C%2018.50145%5D%2C%20%5B73.83608%2C%2018.50111%5D%2C%20%5B73.83444%2C%2018.50017%5D%2C%20%5B73.8327%2C%2018.49889%5D%2C%20%5B73.83%2C%2018.49707%5D%2C%20%5B73.82778%2C%2018.49679%5D%2C%20%5B73.82556%2C%2018.49752%5D%2C%20%5B73.82333%2C%2018.49877%5D%2C%20%5B73.82318%2C%2018.49889%5D%2C%20%5B73.81889%2C%2018.50253%5D%2C%20%5B73.81811%2C%2018.50333%5D%2C%20%5B73.81667%2C%2018.50478%5D%2C%20%5B73.8164%2C%2018.50556%5D%2C%20%5B73.81444%2C%2018.50757%5D%2C%20%5B73.81438%2C%2018.50778%5D%2C%20%5B73.81235%2C%2018.51%5D%2C%20%5B73.81222%2C%2018.51016%5D%2C%20%5B73.81172%2C%2018.51222%5D%2C%20%5B73.81%2C%2018.51406%5D%2C%20%5B73.80987%2C%2018.51444%5D%2C%20%5B73.80811%2C%2018.51667%5D%2C%20%5B73.80778%2C%2018.51711%5D%2C%20%5B73.80739%2C%2018.51889%5D%2C%20%5B73.80556%2C%2018.5209%5D%2C%20%5B73.80548%2C%2018.52111%5D%2C%20%5B73.80473%2C%2018.52333%5D%2C%20%5B73.80333%2C%2018.52543%5D%2C%20%5B73.80331%2C%2018.52556%5D%2C%20%5B73.80333%2C%2018.52651%5D%2C%20%5B73.8038%2C%2018.52778%5D%2C%20%5B73.80501%2C%2018.53%5D%2C%20%5B73.81681%2C%2018.55%5D%2C%20%5B73.82829%2C%2018.56778%5D%2C%20%5B73.83164%2C%2018.57222%5D%2C%20%5B73.83222%2C%2018.57295%5D%2C%20%5B73.83384%2C%2018.57444%5D%2C%20%5B73.83444%2C%2018.57502%5D%2C%20%5B73.83667%2C%2018.57618%5D%2C%20%5B73.83889%2C%2018.57625%5D%2C%20%5B73.84111%2C%2018.57506%5D%2C%20%5B73.84161%2C%2018.57444%5D%2C%20%5B73.84339%2C%2018.57222%5D%2C%20%5B73.84573%2C%2018.56778%5D%2C%20%5B73.84778%2C%2018.56275%5D%2C%20%5B73.84833%2C%2018.56111%5D%2C%20%5B73.85222%2C%2018.54925%5D%2C%20%5B73.85388%2C%2018.54556%5D%2C%20%5B73.85444%2C%2018.54453%5D%2C%20%5B73.85514%2C%2018.54333%5D%2C%20%5B73.85667%2C%2018.54112%5D%2C%20%5B73.85667%2C%2018.54111%5D%2C%20%5B73.85861%2C%2018.53889%5D%2C%20%5B73.85889%2C%2018.53862%5D%2C%20%5B73.86111%2C%2018.53668%5D%2C%20%5B73.86113%2C%2018.53667%5D%2C%20%5B73.86333%2C%2018.53509%5D%2C%20%5B73.86435%2C%2018.53444%5D%2C%20%5B73.86556%2C%2018.53373%5D%2C%20%5B73.86838%2C%2018.53222%5D%2C%20%5B73.87314%2C%2018.53%5D%2C%20%5B73.87889%2C%2018.52767%5D%2C%20%5B73.88333%2C%2018.52613%5D%2C%20%5B73.88778%2C%2018.52483%5D%2C%20%5B73.89222%2C%2018.52376%5D%2C%20%5B73.89667%2C%2018.5229%5D%2C%20%5B73.90111%2C%2018.52227%5D%2C%20%5B73.90333%2C%2018.52208%5D%2C%20%5B73.90556%2C%2018.52196%5D%2C%20%5B73.90778%2C%2018.52194%5D%2C%20%5B73.91%2C%2018.522%5D%2C%20%5B73.91222%2C%2018.52215%5D%2C%20%5B73.91444%2C%2018.52239%5D%2C%20%5B73.91667%2C%2018.52273%5D%2C%20%5B73.91959%2C%2018.52333%5D%2C%20%5B73.94778%2C%2018.52982%5D%2C%20%5B73.94829%2C%2018.53%5D%2C%20%5B73.95%2C%2018.53075%5D%2C%20%5B73.95222%2C%2018.53206%5D%2C%20%5B73.95244%2C%2018.53222%5D%2C%20%5B73.95444%2C%2018.53409%5D%2C%20%5B73.9548%2C%2018.53444%5D%2C%20%5B73.95667%2C%2018.53658%5D%2C%20%5B73.95674%2C%2018.53667%5D%2C%20%5B73.95889%2C%2018.53884%5D%2C%20%5B73.95892%2C%2018.53886%5D%2C%20%5B73.95889%2C%2018.53889%5D%2C%20%5B73.95667%2C%2018.54111%5D%2C%20%5B73.95667%2C%2018.54333%5D%2C%20%5B73.95508%2C%2018.54492%5D%2C%20%5B73.95444%2C%2018.54436%5D%2C%20%5B73.95362%2C%2018.54333%5D%2C%20%5B73.95222%2C%2018.54125%5D%2C%20%5B73.95047%2C%2018.53889%5D%2C%20%5B73.95%2C%2018.53834%5D%2C%20%5B73.94842%2C%2018.53667%5D%2C%20%5B73.94778%2C%2018.53609%5D%2C%20%5B73.94556%2C%2018.53449%5D%2C%20%5B73.94547%2C%2018.53444%5D%2C%20%5B73.94333%2C%2018.53352%5D%2C%20%5B73.94111%2C%2018.53279%5D%2C%20%5B73.9389%2C%2018.53222%5D%2C%20%5B73.93889%2C%2018.53222%5D%2C%20%5B73.93444%2C%2018.53139%5D%2C%20%5B73.91667%2C%2018.5286%5D%2C%20%5B73.91222%2C%2018.52824%5D%2C%20%5B73.91%2C%2018.5282%5D%2C%20%5B73.90778%2C%2018.52825%5D%2C%20%5B73.90556%2C%2018.52839%5D%2C%20%5B73.90333%2C%2018.52861%5D%2C%20%5B73.90111%2C%2018.52891%5D%2C%20%5B73.89667%2C%2018.52974%5D%2C%20%5B73.89222%2C%2018.53085%5D%2C%20%5B73.88778%2C%2018.53222%5D%2C%20%5B73.88173%2C%2018.53444%5D%2C%20%5B73.87672%2C%2018.53667%5D%2C%20%5B73.87444%2C%2018.53784%5D%2C%20%5B73.87222%2C%2018.53913%5D%2C%20%5B73.86927%2C%2018.54111%5D%2C%20%5B73.86778%2C%2018.54228%5D%2C%20%5B73.86657%2C%2018.54333%5D%2C%20%5B73.86556%2C%2018.54432%5D%2C%20%5B73.8644%2C%2018.54556%5D%2C%20%5B73.86333%2C%2018.54687%5D%2C%20%5B73.86265%2C%2018.54778%5D%2C%20%5B73.86117%2C%2018.55%5D%2C%20%5B73.86111%2C%2018.5501%5D%2C%20%5B73.85889%2C%2018.55426%5D%2C%20%5B73.85782%2C%2018.55667%5D%2C%20%5B73.85667%2C%2018.55964%5D%2C%20%5B73.85471%2C%2018.56556%5D%2C%20%5B73.84778%2C%2018.58662%5D%2C%20%5B73.84556%2C%2018.59229%5D%2C%20%5B73.84455%2C%2018.59444%5D%2C%20%5B73.84333%2C%2018.5972%5D%2C%20%5B73.8423%2C%2018.59889%5D%2C%20%5B73.84095%2C%2018.60111%5D%2C%20%5B73.83889%2C%2018.60308%5D%2C%20%5B73.83669%2C%2018.60333%5D%2C%20%5B73.83667%2C%2018.60334%5D%2C%20%5B73.83666%2C%2018.60333%5D%2C%20%5B73.83444%2C%2018.6018%5D%2C%20%5B73.83395%2C%2018.60111%5D%2C%20%5B73.82935%2C%2018.59444%5D%2C%20%5B73.81667%2C%2018.57503%5D%2C%20%5B73.8097%2C%2018.56333%5D%2C%20%5B73.79889%2C%2018.54218%5D%2C%20%5B73.79855%2C%2018.54111%5D%2C%20%5B73.79673%2C%2018.53444%5D%2C%20%5B73.7985%2C%2018.53222%5D%2C%20%5B73.79889%2C%2018.53008%5D%2C%20%5B73.79893%2C%2018.53%5D%2C%20%5B73.8008%2C%2018.52778%5D%2C%20%5B73.80111%2C%2018.52692%5D%2C%20%5B73.80231%2C%2018.52556%5D%2C%20%5B73.80315%2C%2018.52333%5D%2C%20%5B73.80333%2C%2018.52305%5D%2C%20%5B73.80556%2C%2018.5197%5D%2C%20%5B73.80629%2C%2018.51889%5D%2C%20%5B73.80748%2C%2018.51667%5D%2C%20%5B73.80778%2C%2018.5162%5D%2C%20%5B73.81%2C%2018.51265%5D%2C%20%5B73.8104%2C%2018.51222%5D%2C%20%5B73.81189%2C%2018.51%5D%2C%20%5B73.81222%2C%2018.50945%5D%2C%20%5B73.81444%2C%2018.50581%5D%2C%20%5B73.81469%2C%2018.50556%5D%2C%20%5B73.81639%2C%2018.50333%5D%2C%20%5B73.81667%2C%2018.50286%5D%2C%20%5B73.81889%2C%2018.49939%5D%2C%20%5B73.8194%2C%2018.49889%5D%2C%20%5B73.82103%2C%2018.49667%5D%2C%20%5B73.82111%2C%2018.4965%5D%2C%20%5B73.82321%2C%2018.49444%5D%2C%20%5B73.82556%2C%2018.492%5D%2C%20%5B73.82778%2C%2018.49044%5D%2C%20%5B73.82869%2C%2018.49%5D%2C%20%5B73.83%2C%2018.48932%5D%2C%20%5B73.83222%2C%2018.48887%5D%2C%20%5B73.83444%2C%2018.48953%5D%2C%20%5B73.83509%2C%2018.49%5D%2C%20%5B73.83851%2C%2018.49222%5D%2C%20%5B73.83889%2C%2018.49242%5D%2C%20%5B73.84111%2C%2018.49306%5D%2C%20%5B73.84333%2C%2018.49308%5D%2C%20%5B73.84556%2C%2018.49247%5D%2C%20%5B73.84622%2C%2018.49222%5D%2C%20%5B73.85166%2C%2018.49%5D%2C%20%5B73.85605%2C%2018.48778%5D%2C%20%5B73.85981%2C%2018.48556%5D%2C%20%5B73.86333%2C%2018.4832%5D%2C%20%5B73.87889%2C%2018.47219%5D%5D%5D%2C%20%5B%5B%5B73.89889%2C%2018.47889%5D%2C%20%5B73.89908%2C%2018.47908%5D%2C%20%5B73.89889%2C%2018.47899%5D%2C%20%5B73.89889%2C%2018.47889%5D%5D%5D%2C%20%5B%5B%5B73.81%2C%2018.63855%5D%2C%20%5B73.81667%2C%2018.63759%5D%2C%20%5B73.81889%2C%2018.63747%5D%2C%20%5B73.82111%2C%2018.63751%5D%2C%20%5B73.82333%2C%2018.63777%5D%2C%20%5B73.82556%2C%2018.63837%5D%2C%20%5B73.8267%2C%2018.63889%5D%2C%20%5B73.82778%2C%2018.63941%5D%2C%20%5B73.83%2C%2018.64104%5D%2C%20%5B73.83007%2C%2018.64111%5D%2C%20%5B73.83196%2C%2018.64333%5D%2C%20%5B73.83222%2C%2018.64374%5D%2C%20%5B73.83317%2C%2018.64556%5D%2C%20%5B73.83405%2C%2018.64778%5D%2C%20%5B73.83444%2C%2018.649%5D%2C%20%5B73.83473%2C%2018.65%5D%2C%20%5B73.83579%2C%2018.65444%5D%2C%20%5B73.83726%2C%2018.66111%5D%2C%20%5B73.83839%2C%2018.66333%5D%2C%20%5B73.83889%2C%2018.6639%5D%2C%20%5B73.8402%2C%2018.66556%5D%2C%20%5B73.83889%2C%2018.66556%5D%2C%20%5B73.83222%2C%2018.66556%5D%2C%20%5B73.83%2C%2018.66333%5D%2C%20%5B73.82873%2C%2018.66333%5D%2C%20%5B73.82778%2C%2018.66229%5D%2C%20%5B73.82556%2C%2018.65966%5D%2C%20%5B73.82366%2C%2018.65667%5D%2C%20%5B73.82222%2C%2018.65444%5D%2C%20%5B73.82111%2C%2018.65308%5D%2C%20%5B73.82028%2C%2018.65222%5D%2C%20%5B73.81889%2C%2018.65103%5D%2C%20%5B73.81734%2C%2018.65%5D%2C%20%5B73.81667%2C%2018.64963%5D%2C%20%5B73.81444%2C%2018.64867%5D%2C%20%5B73.81222%2C%2018.64801%5D%2C%20%5B73.81109%2C%2018.64778%5D%2C%20%5B73.81%2C%2018.64758%5D%2C%20%5B73.80778%2C%2018.64731%5D%2C%20%5B73.80556%2C%2018.64716%5D%2C%20%5B73.80333%2C%2018.64709%5D%2C%20%5B73.79889%2C%2018.64717%5D%2C%20%5B73.79222%2C%2018.64762%5D%2C%20%5B73.75889%2C%2018.65157%5D%2C%20%5B73.75889%2C%2018.65%5D%2C%20%5B73.75889%2C%2018.64903%5D%2C%20%5B73.76111%2C%2018.64869%5D%2C%20%5B73.7781%2C%2018.64556%5D%2C%20%5B73.81%2C%2018.63855%5D%5D%5D%5D%2C%20%22type%22%3A%20%22MultiPolygon%22%7D%2C%20%22properties%22%3A%20%7B%22fill%22%3A%20%22%23ff0000%22%2C%20%22fill-opacity%22%3A%200.5%2C%20%22stroke%22%3A%20%22%23ff0000%22%2C%20%22stroke-opacity%22%3A%201%2C%20%22stroke-width%22%3A%201%2C%20%22title%22%3A%20%22130.00-140.00%20%22%7D%2C%20%22type%22%3A%20%22Feature%22%7D%2C%20%7B%22geometry%22%3A%20%7B%22coordinates%22%3A%20%5B%5B%5B%5B73.87658%2C%2018.46769%5D%2C%20%5B73.87667%2C%2018.46778%5D%2C%20%5B73.87688%2C%2018.46778%5D%2C%20%5B73.87889%2C%2018.46842%5D%2C%20%5B73.87967%2C%2018.46856%5D%2C%20%5B73.88111%2C%2018.47%5D%2C%20%5B73.88333%2C%2018.47%5D%2C%20%5B73.88556%2C%2018.47222%5D%2C%20%5B73.88778%2C%2018.47222%5D%2C%20%5B73.88918%2C%2018.47362%5D%2C%20%5B73.88778%2C%2018.47301%5D%2C%20%5B73.88556%2C%2018.47256%5D%2C%20%5B73.88462%2C%2018.47222%5D%2C%20%5B73.88333%2C%2018.47179%5D%2C%20%5B73.88111%2C%2018.4716%5D%2C%20%5B73.87889%2C%2018.47219%5D%2C%20%5B73.87883%2C%2018.47222%5D%2C%20%5B73.87667%2C%2018.47361%5D%2C%20%5B73.87217%2C%2018.47667%5D%2C%20%5B73.85889%2C%2018.48615%5D%2C%20%5B73.85605%2C%2018.48778%5D%2C%20%5B73.85166%2C%2018.49%5D%2C%20%5B73.84622%2C%2018.49222%5D%2C%20%5B73.84556%2C%2018.49247%5D%2C%20%5B73.84333%2C%2018.49308%5D%2C%20%5B73.84111%2C%2018.49306%5D%2C%20%5B73.83889%2C%2018.49242%5D%2C%20%5B73.83851%2C%2018.49222%5D%2C%20%5B73.83667%2C%2018.49122%5D%2C%20%5B73.83509%2C%2018.49%5D%2C%20%5B73.83444%2C%2018.48953%5D%2C%20%5B73.83222%2C%2018.48887%5D%2C%20%5B73.83%2C%2018.48932%5D%2C%20%5B73.82869%2C%2018.49%5D%2C%20%5B73.82778%2C%2018.49044%5D%2C%20%5B73.82556%2C%2018.492%5D%2C%20%5B73.82536%2C%2018.49222%5D%2C%20%5B73.82103%2C%2018.49667%5D%2C%20%5B73.8194%2C%2018.49889%5D%2C%20%5B73.81889%2C%2018.49939%5D%2C%20%5B73.81841%2C%2018.50111%5D%2C%20%5B73.81667%2C%2018.50286%5D%2C%20%5B73.81639%2C%2018.50333%5D%2C%20%5B73.81469%2C%2018.50556%5D%2C%20%5B73.81444%2C%2018.50581%5D%2C%20%5B73.81384%2C%2018.50778%5D%2C%20%5B73.81222%2C%2018.50945%5D%2C%20%5B73.81189%2C%2018.51%5D%2C%20%5B73.8104%2C%2018.51222%5D%2C%20%5B73.81%2C%2018.51265%5D%2C%20%5B73.8094%2C%2018.51444%5D%2C%20%5B73.80778%2C%2018.5162%5D%2C%20%5B73.80748%2C%2018.51667%5D%2C%20%5B73.80556%2C%2018.5197%5D%2C%20%5B73.80505%2C%2018.52111%5D%2C%20%5B73.80333%2C%2018.52305%5D%2C%20%5B73.80315%2C%2018.52333%5D%2C%20%5B73.79893%2C%2018.53%5D%2C%20%5B73.79889%2C%2018.53008%5D%2C%20%5B73.7985%2C%2018.53222%5D%2C%20%5B73.79673%2C%2018.53444%5D%2C%20%5B73.79725%2C%2018.53667%5D%2C%20%5B73.79855%2C%2018.54111%5D%2C%20%5B73.79889%2C%2018.54218%5D%2C%20%5B73.79947%2C%2018.54333%5D%2C%20%5B73.81222%2C%2018.5679%5D%2C%20%5B73.81349%2C%2018.57%5D%2C%20%5B73.81889%2C%2018.57834%5D%2C%20%5B73.81921%2C%2018.57889%5D%2C%20%5B73.82066%2C%2018.58111%5D%2C%20%5B73.83231%2C%2018.59889%5D%2C%20%5B73.83444%2C%2018.6018%5D%2C%20%5B73.83666%2C%2018.60333%5D%2C%20%5B73.83667%2C%2018.60334%5D%2C%20%5B73.83669%2C%2018.60333%5D%2C%20%5B73.83889%2C%2018.60308%5D%2C%20%5B73.84095%2C%2018.60111%5D%2C%20%5B73.84111%2C%2018.60097%5D%2C%20%5B73.8423%2C%2018.59889%5D%2C%20%5B73.84356%2C%2018.59667%5D%2C%20%5B73.84815%2C%2018.58556%5D%2C%20%5B73.85782%2C%2018.55667%5D%2C%20%5B73.85889%2C%2018.55426%5D%2C%20%5B73.86111%2C%2018.5501%5D%2C%20%5B73.86117%2C%2018.55%5D%2C%20%5B73.86265%2C%2018.54778%5D%2C%20%5B73.86333%2C%2018.54687%5D%2C%20%5B73.8644%2C%2018.54556%5D%2C%20%5B73.86556%2C%2018.54432%5D%2C%20%5B73.86657%2C%2018.54333%5D%2C%20%5B73.86778%2C%2018.54228%5D%2C%20%5B73.86927%2C%2018.54111%5D%2C%20%5B73.87%2C%2018.54059%5D%2C%20%5B73.87261%2C%2018.53889%5D%2C%20%5B73.87667%2C%2018.53669%5D%2C%20%5B73.87889%2C%2018.53565%5D%2C%20%5B73.88173%2C%2018.53444%5D%2C%20%5B73.88778%2C%2018.53222%5D%2C%20%5B73.89222%2C%2018.53085%5D%2C%20%5B73.89556%2C%2018.53%5D%2C%20%5B73.90111%2C%2018.52891%5D%2C%20%5B73.90333%2C%2018.52861%5D%2C%20%5B73.90556%2C%2018.52839%5D%2C%20%5B73.90778%2C%2018.52825%5D%2C%20%5B73.91%2C%2018.5282%5D%2C%20%5B73.91222%2C%2018.52824%5D%2C%20%5B73.91444%2C%2018.52838%5D%2C%20%5B73.91667%2C%2018.5286%5D%2C%20%5B73.92111%2C%2018.52922%5D%2C%20%5B73.9389%2C%2018.53222%5D%2C%20%5B73.94111%2C%2018.53279%5D%2C%20%5B73.94333%2C%2018.53352%5D%2C%20%5B73.94547%2C%2018.53444%5D%2C%20%5B73.94556%2C%2018.53449%5D%2C%20%5B73.94778%2C%2018.53609%5D%2C%20%5B73.94842%2C%2018.53667%5D%2C%20%5B73.95%2C%2018.53834%5D%2C%20%5B73.95047%2C%2018.53889%5D%2C%20%5B73.95214%2C%2018.54111%5D%2C%20%5B73.95222%2C%2018.54125%5D%2C%20%5B73.95444%2C%2018.54436%5D%2C%20%5B73.95508%2C%2018.54492%5D%2C%20%5B73.95444%2C%2018.54556%5D%2C%20%5B73.95444%2C%2018.54778%5D%2C%20%5B73.95222%2C%2018.55%5D%2C%20%5B73.95222%2C%2018.55215%5D%2C%20%5B73.95%2C%2018.55025%5D%2C%20%5B73.94983%2C%2018.55%5D%2C%20%5B73.94863%2C%2018.54778%5D%2C%20%5B73.94743%2C%2018.54556%5D%2C%20%5B73.94596%2C%2018.54333%5D%2C%20%5B73.94556%2C%2018.54281%5D%2C%20%5B73.94412%2C%2018.54111%5D%2C%20%5B73.94333%2C%2018.54031%5D%2C%20%5B73.94168%2C%2018.53889%5D%2C%20%5B73.94111%2C%2018.53852%5D%2C%20%5B73.93889%2C%2018.53743%5D%2C%20%5B73.93669%2C%2018.53667%5D%2C%20%5B73.93667%2C%2018.53666%5D%2C%20%5B73.93444%2C%2018.53613%5D%2C%20%5B73.93222%2C%2018.53573%5D%2C%20%5B73.92778%2C%2018.53516%5D%2C%20%5B73.91667%2C%2018.5342%5D%2C%20%5B73.91222%2C%2018.53407%5D%2C%20%5B73.91%2C%2018.53412%5D%2C%20%5B73.90778%2C%2018.53427%5D%2C%20%5B73.90556%2C%2018.53451%5D%2C%20%5B73.90333%2C%2018.53482%5D%2C%20%5B73.90111%2C%2018.53522%5D%2C%20%5B73.89667%2C%2018.53625%5D%2C%20%5B73.89444%2C%2018.53687%5D%2C%20%5B73.89%2C%2018.53833%5D%2C%20%5B73.88556%2C%2018.54006%5D%2C%20%5B73.88322%2C%2018.54111%5D%2C%20%5B73.879%2C%2018.54333%5D%2C%20%5B73.87889%2C%2018.5434%5D%2C%20%5B73.87558%2C%2018.54556%5D%2C%20%5B73.87444%2C%2018.54641%5D%2C%20%5B73.87281%2C%2018.54778%5D%2C%20%5B73.87222%2C%2018.54831%5D%2C%20%5B73.87056%2C%2018.55%5D%2C%20%5B73.87%2C%2018.55064%5D%2C%20%5B73.86871%2C%2018.55222%5D%2C%20%5B73.86778%2C%2018.55351%5D%2C%20%5B73.86714%2C%2018.55444%5D%2C%20%5B73.86556%2C%2018.55704%5D%2C%20%5B73.86348%2C%2018.56111%5D%2C%20%5B73.86251%2C%2018.56333%5D%2C%20%5B73.86111%2C%2018.56687%5D%2C%20%5B73.85889%2C%2018.57338%5D%2C%20%5B73.85011%2C%2018.60333%5D%2C%20%5B73.84696%2C%2018.61667%5D%2C%20%5B73.8462%2C%2018.62111%5D%2C%20%5B73.84563%2C%2018.62556%5D%2C%20%5B73.84546%2C%2018.62778%5D%2C%20%5B73.8454%2C%2018.63%5D%2C%20%5B73.84548%2C%2018.63222%5D%2C%20%5B73.84556%2C%2018.63282%5D%2C%20%5B73.84576%2C%2018.63444%5D%2C%20%5B73.84625%2C%2018.63667%5D%2C%20%5B73.84741%2C%2018.64111%5D%2C%20%5B73.84765%2C%2018.64333%5D%2C%20%5B73.84762%2C%2018.64556%5D%2C%20%5B73.84734%2C%2018.66111%5D%2C%20%5B73.8477%2C%2018.66333%5D%2C%20%5B73.84778%2C%2018.6635%5D%2C%20%5B73.8487%2C%2018.66556%5D%2C%20%5B73.84778%2C%2018.66556%5D%2C%20%5B73.8402%2C%2018.66556%5D%2C%20%5B73.83889%2C%2018.6639%5D%2C%20%5B73.83839%2C%2018.66333%5D%2C%20%5B73.83726%2C%2018.66111%5D%2C%20%5B73.83667%2C%2018.65895%5D%2C%20%5B73.83665%2C%2018.65889%5D%2C%20%5B73.83623%2C%2018.65667%5D%2C%20%5B73.83473%2C%2018.65%5D%2C%20%5B73.83405%2C%2018.64778%5D%2C%20%5B73.83317%2C%2018.64556%5D%2C%20%5B73.83222%2C%2018.64374%5D%2C%20%5B73.83196%2C%2018.64333%5D%2C%20%5B73.83007%2C%2018.64111%5D%2C%20%5B73.83%2C%2018.64104%5D%2C%20%5B73.82778%2C%2018.63941%5D%2C%20%5B73.8267%2C%2018.63889%5D%2C%20%5B73.82556%2C%2018.63837%5D%2C%20%5B73.82333%2C%2018.63777%5D%2C%20%5B73.82111%2C%2018.63751%5D%2C%20%5B73.81889%2C%2018.63747%5D%2C%20%5B73.81667%2C%2018.63759%5D%2C%20%5B73.81444%2C%2018.63783%5D%2C%20%5B73.81222%2C%2018.63816%5D%2C%20%5B73.80556%2C%2018.63944%5D%2C%20%5B73.75889%2C%2018.64903%5D%2C%20%5B73.75889%2C%2018.64778%5D%2C%20%5B73.75889%2C%2018.64643%5D%2C%20%5B73.76111%2C%2018.646%5D%2C%20%5B73.77%2C%2018.64399%5D%2C%20%5B73.78031%2C%2018.64111%5D%2C%20%5B73.78778%2C%2018.63862%5D%2C%20%5B73.79667%2C%2018.63507%5D%2C%20%5B73.79889%2C%2018.63403%5D%2C%20%5B73.80234%2C%2018.63222%5D%2C%20%5B73.80333%2C%2018.63157%5D%2C%20%5B73.80564%2C%2018.63%5D%2C%20%5B73.80778%2C%2018.62804%5D%2C%20%5B73.80805%2C%2018.62778%5D%2C%20%5B73.80963%2C%2018.62556%5D%2C%20%5B73.81%2C%2018.62465%5D%2C%20%5B73.81054%2C%2018.62333%5D%2C%20%5B73.81099%2C%2018.62111%5D%2C%20%5B73.81112%2C%2018.61889%5D%2C%20%5B73.81101%2C%2018.61667%5D%2C%20%5B73.81073%2C%2018.61444%5D%2C%20%5B73.81032%2C%2018.61222%5D%2C%20%5B73.80928%2C%2018.60778%5D%2C%20%5B73.80801%2C%2018.60333%5D%2C%20%5B73.79625%2C%2018.56556%5D%2C%20%5B73.79444%2C%2018.55736%5D%2C%20%5B73.79434%2C%2018.55667%5D%2C%20%5B73.79307%2C%2018.54556%5D%2C%20%5B73.79272%2C%2018.54111%5D%2C%20%5B73.79397%2C%2018.53889%5D%2C%20%5B73.79439%2C%2018.53667%5D%2C%20%5B73.79444%2C%2018.53659%5D%2C%20%5B73.79858%2C%2018.53%5D%2C%20%5B73.79889%2C%2018.52952%5D%2C%20%5B73.80111%2C%2018.52579%5D%2C%20%5B73.80131%2C%2018.52556%5D%2C%20%5B73.80284%2C%2018.52333%5D%2C%20%5B73.80333%2C%2018.52256%5D%2C%20%5B73.80534%2C%2018.51911%5D%2C%20%5B73.80556%2C%2018.51889%5D%2C%20%5B73.80556%2C%2018.51875%5D%2C%20%5B73.80716%2C%2018.51667%5D%2C%20%5B73.80893%2C%2018.51444%5D%2C%20%5B73.80951%2C%2018.51272%5D%2C%20%5B73.81%2C%2018.51222%5D%2C%20%5B73.81%2C%2018.51192%5D%2C%20%5B73.81154%2C%2018.51%5D%2C%20%5B73.8133%2C%2018.50778%5D%2C%20%5B73.81377%2C%2018.50623%5D%2C%20%5B73.81444%2C%2018.50556%5D%2C%20%5B73.81444%2C%2018.50517%5D%2C%20%5B73.81601%2C%2018.50333%5D%2C%20%5B73.81774%2C%2018.50111%5D%2C%20%5B73.81816%2C%2018.49962%5D%2C%20%5B73.81889%2C%2018.49889%5D%2C%20%5B73.81889%2C%2018.4985%5D%2C%20%5B73.82057%2C%2018.49667%5D%2C%20%5B73.82111%2C%2018.49564%5D%2C%20%5B73.82279%2C%2018.49276%5D%2C%20%5B73.82333%2C%2018.49222%5D%2C%20%5B73.82333%2C%2018.49197%5D%2C%20%5B73.82528%2C%2018.49%5D%2C%20%5B73.82727%2C%2018.48778%5D%2C%20%5B73.82778%2C%2018.4863%5D%2C%20%5B73.82877%2C%2018.48556%5D%2C%20%5B73.83194%2C%2018.48333%5D%2C%20%5B73.83222%2C%2018.48314%5D%2C%20%5B73.83444%2C%2018.48233%5D%2C%20%5B73.83667%2C%2018.48244%5D%2C%20%5B73.83819%2C%2018.48333%5D%2C%20%5B73.83889%2C%2018.4838%5D%2C%20%5B73.84111%2C%2018.48477%5D%2C%20%5B73.84333%2C%2018.48506%5D%2C%20%5B73.84556%2C%2018.48465%5D%2C%20%5B73.84778%2C%2018.4838%5D%2C%20%5B73.85%2C%2018.48285%5D%2C%20%5B73.85222%2C%2018.4818%5D%2C%20%5B73.85444%2C%2018.48065%5D%2C%20%5B73.8575%2C%2018.47889%5D%2C%20%5B73.86111%2C%2018.47657%5D%2C%20%5B73.87222%2C%2018.46926%5D%2C%20%5B73.87444%2C%2018.46798%5D%2C%20%5B73.87658%2C%2018.46769%5D%5D%5D%5D%2C%20%22type%22%3A%20%22MultiPolygon%22%7D%2C%20%22properties%22%3A%20%7B%22fill%22%3A%20%22%23ff0000%22%2C%20%22fill-opacity%22%3A%200.5%2C%20%22stroke%22%3A%20%22%23ff0000%22%2C%20%22stroke-opacity%22%3A%201%2C%20%22stroke-width%22%3A%201%2C%20%22title%22%3A%20%22140.00-150.00%20%22%7D%2C%20%22type%22%3A%20%22Feature%22%7D%2C%20%7B%22geometry%22%3A%20%7B%22coordinates%22%3A%20%5B%5B%5B%5B73.86778%2C%2018.46531%5D%2C%20%5B73.87%2C%2018.46439%5D%2C%20%5B73.87222%2C%2018.46442%5D%2C%20%5B73.87348%2C%2018.46459%5D%2C%20%5B73.87444%2C%2018.46556%5D%2C%20%5B73.87658%2C%2018.46769%5D%2C%20%5B73.87559%2C%2018.46778%5D%2C%20%5B73.87444%2C%2018.46798%5D%2C%20%5B73.87222%2C%2018.46926%5D%2C%20%5B73.86745%2C%2018.47222%5D%2C%20%5B73.85444%2C%2018.48065%5D%2C%20%5B73.85222%2C%2018.4818%5D%2C%20%5B73.84885%2C%2018.48333%5D%2C%20%5B73.84556%2C%2018.48465%5D%2C%20%5B73.84333%2C%2018.48506%5D%2C%20%5B73.84111%2C%2018.48477%5D%2C%20%5B73.83889%2C%2018.4838%5D%2C%20%5B73.83819%2C%2018.48333%5D%2C%20%5B73.83667%2C%2018.48244%5D%2C%20%5B73.83444%2C%2018.48233%5D%2C%20%5B73.83222%2C%2018.48314%5D%2C%20%5B73.83194%2C%2018.48333%5D%2C%20%5B73.82877%2C%2018.48556%5D%2C%20%5B73.82778%2C%2018.4863%5D%2C%20%5B73.82727%2C%2018.48778%5D%2C%20%5B73.82556%2C%2018.4894%5D%2C%20%5B73.82528%2C%2018.49%5D%2C%20%5B73.82333%2C%2018.49197%5D%2C%20%5B73.82333%2C%2018.49142%5D%2C%20%5B73.82473%2C%2018.49%5D%2C%20%5B73.82556%2C%2018.4882%5D%2C%20%5B73.826%2C%2018.48778%5D%2C%20%5B73.82624%2C%2018.4871%5D%2C%20%5B73.82778%2C%2018.48556%5D%2C%20%5B73.82778%2C%2018.48501%5D%2C%20%5B73.82951%2C%2018.48333%5D%2C%20%5B73.83%2C%2018.48209%5D%2C%20%5B73.83112%2C%2018.48111%5D%2C%20%5B73.83222%2C%2018.47912%5D%2C%20%5B73.83257%2C%2018.47889%5D%2C%20%5B73.83621%2C%2018.47667%5D%2C%20%5B73.83667%2C%2018.47641%5D%2C%20%5B73.83889%2C%2018.47613%5D%2C%20%5B73.84024%2C%2018.47667%5D%2C%20%5B73.84111%2C%2018.47709%5D%2C%20%5B73.84333%2C%2018.4777%5D%2C%20%5B73.84556%2C%2018.47756%5D%2C%20%5B73.84778%2C%2018.47675%5D%2C%20%5B73.84795%2C%2018.47667%5D%2C%20%5B73.85266%2C%2018.47444%5D%2C%20%5B73.85667%2C%2018.4722%5D%2C%20%5B73.86008%2C%2018.47%5D%2C%20%5B73.86556%2C%2018.46658%5D%2C%20%5B73.86778%2C%2018.46531%5D%5D%5D%2C%20%5B%5B%5B73.87889%2C%2018.46778%5D%2C%20%5B73.87967%2C%2018.46856%5D%2C%20%5B73.87889%2C%2018.46842%5D%2C%20%5B73.87889%2C%2018.46778%5D%5D%5D%2C%20%5B%5B%5B73.82233%2C%2018.49444%5D%2C%20%5B73.82111%2C%2018.49564%5D%2C%20%5B73.82057%2C%2018.49667%5D%2C%20%5B73.81889%2C%2018.4985%5D%2C%20%5B73.81889%2C%2018.49801%5D%2C%20%5B73.82012%2C%2018.49667%5D%2C%20%5B73.82111%2C%2018.49478%5D%2C%20%5B73.82158%2C%2018.49397%5D%2C%20%5B73.82233%2C%2018.49444%5D%5D%5D%2C%20%5B%5B%5B73.81774%2C%2018.50111%5D%2C%20%5B73.81667%2C%2018.50219%5D%2C%20%5B73.81601%2C%2018.50333%5D%2C%20%5B73.81444%2C%2018.50517%5D%2C%20%5B73.81444%2C%2018.50471%5D%2C%20%5B73.81562%2C%2018.50333%5D%2C%20%5B73.81667%2C%2018.50152%5D%2C%20%5B73.81724%2C%2018.50054%5D%2C%20%5B73.81774%2C%2018.50111%5D%5D%5D%2C%20%5B%5B%5B73.8133%2C%2018.50778%5D%2C%20%5B73.81222%2C%2018.50889%5D%2C%20%5B73.81154%2C%2018.51%5D%2C%20%5B73.81%2C%2018.51192%5D%2C%20%5B73.81%2C%2018.51149%5D%2C%20%5B73.8112%2C%2018.51%5D%2C%20%5B73.81222%2C%2018.50833%5D%2C%20%5B73.8133%2C%2018.50778%5D%5D%5D%2C%20%5B%5B%5B73.80893%2C%2018.51444%5D%2C%20%5B73.80778%2C%2018.51569%5D%2C%20%5B73.80716%2C%2018.51667%5D%2C%20%5B73.80556%2C%2018.51875%5D%2C%20%5B73.80556%2C%2018.51833%5D%2C%20%5B73.80684%2C%2018.51667%5D%2C%20%5B73.80845%2C%2018.51444%5D%2C%20%5B73.8088%2C%2018.51343%5D%2C%20%5B73.80893%2C%2018.51444%5D%5D%5D%2C%20%5B%5B%5B73.80462%2C%2018.52111%5D%2C%20%5B73.80284%2C%2018.52333%5D%2C%20%5B73.80111%2C%2018.52579%5D%2C%20%5B73.80038%2C%2018.52778%5D%2C%20%5B73.79889%2C%2018.52952%5D%2C%20%5B73.79858%2C%2018.53%5D%2C%20%5B73.79444%2C%2018.53659%5D%2C%20%5B73.79439%2C%2018.53667%5D%2C%20%5B73.79397%2C%2018.53889%5D%2C%20%5B73.79289%2C%2018.54333%5D%2C%20%5B73.79404%2C%2018.55444%5D%2C%20%5B73.79444%2C%2018.55736%5D%2C%20%5B73.79475%2C%2018.55889%5D%2C%20%5B73.79667%2C%2018.56723%5D%2C%20%5B73.79685%2C%2018.56778%5D%2C%20%5B73.80928%2C%2018.60778%5D%2C%20%5B73.81032%2C%2018.61222%5D%2C%20%5B73.81073%2C%2018.61444%5D%2C%20%5B73.81101%2C%2018.61667%5D%2C%20%5B73.81112%2C%2018.61889%5D%2C%20%5B73.81099%2C%2018.62111%5D%2C%20%5B73.81054%2C%2018.62333%5D%2C%20%5B73.81%2C%2018.62465%5D%2C%20%5B73.80963%2C%2018.62556%5D%2C%20%5B73.80805%2C%2018.62778%5D%2C%20%5B73.80778%2C%2018.62804%5D%2C%20%5B73.80556%2C%2018.63006%5D%2C%20%5B73.80234%2C%2018.63222%5D%2C%20%5B73.80111%2C%2018.63288%5D%2C%20%5B73.79808%2C%2018.63444%5D%2C%20%5B73.79667%2C%2018.63507%5D%2C%20%5B73.79%2C%2018.6378%5D%2C%20%5B73.78111%2C%2018.64085%5D%2C%20%5B73.77222%2C%2018.64342%5D%2C%20%5B73.76111%2C%2018.646%5D%2C%20%5B73.75889%2C%2018.64643%5D%2C%20%5B73.75889%2C%2018.64556%5D%2C%20%5B73.75889%2C%2018.64378%5D%2C%20%5B73.76076%2C%2018.64333%5D%2C%20%5B73.76872%2C%2018.64111%5D%2C%20%5B73.77527%2C%2018.63889%5D%2C%20%5B73.78083%2C%2018.63667%5D%2C%20%5B73.78561%2C%2018.63444%5D%2C%20%5B73.78778%2C%2018.6333%5D%2C%20%5B73.79%2C%2018.63205%5D%2C%20%5B73.79317%2C%2018.63%5D%2C%20%5B73.79444%2C%2018.629%5D%2C%20%5B73.79594%2C%2018.62778%5D%2C%20%5B73.79667%2C%2018.62705%5D%2C%20%5B73.7981%2C%2018.62556%5D%2C%20%5B73.79889%2C%2018.62448%5D%2C%20%5B73.7997%2C%2018.62333%5D%2C%20%5B73.80079%2C%2018.62111%5D%2C%20%5B73.80111%2C%2018.62003%5D%2C%20%5B73.80145%2C%2018.61889%5D%2C%20%5B73.80178%2C%2018.61667%5D%2C%20%5B73.80187%2C%2018.61444%5D%2C%20%5B73.80177%2C%2018.61222%5D%2C%20%5B73.80152%2C%2018.61%5D%2C%20%5B73.80115%2C%2018.60778%5D%2C%20%5B73.80019%2C%2018.60333%5D%2C%20%5B73.79894%2C%2018.59889%5D%2C%20%5B73.79221%2C%2018.57667%5D%2C%20%5B73.79097%2C%2018.57%5D%2C%20%5B73.79008%2C%2018.56333%5D%2C%20%5B73.78961%2C%2018.55667%5D%2C%20%5B73.78934%2C%2018.54778%5D%2C%20%5B73.78974%2C%2018.54556%5D%2C%20%5B73.78997%2C%2018.54333%5D%2C%20%5B73.79%2C%2018.54329%5D%2C%20%5B73.79222%2C%2018.53985%5D%2C%20%5B73.79292%2C%2018.53889%5D%2C%20%5B73.79408%2C%2018.53667%5D%2C%20%5B73.79444%2C%2018.53608%5D%2C%20%5B73.79658%2C%2018.53231%5D%2C%20%5B73.79667%2C%2018.53222%5D%2C%20%5B73.79667%2C%2018.53217%5D%2C%20%5B73.79827%2C%2018.53%5D%2C%20%5B73.79996%2C%2018.52778%5D%2C%20%5B73.80059%2C%2018.52608%5D%2C%20%5B73.80111%2C%2018.52556%5D%2C%20%5B73.80111%2C%2018.52522%5D%2C%20%5B73.80253%2C%2018.52333%5D%2C%20%5B73.80418%2C%2018.52111%5D%2C%20%5B73.80466%2C%2018.51978%5D%2C%20%5B73.80462%2C%2018.52111%5D%5D%5D%2C%20%5B%5B%5B73.90778%2C%2018.53427%5D%2C%20%5B73.91222%2C%2018.53407%5D%2C%20%5B73.91444%2C%2018.5341%5D%2C%20%5B73.91889%2C%2018.53435%5D%2C%20%5B73.93%2C%2018.53541%5D%2C%20%5B73.93444%2C%2018.53613%5D%2C%20%5B73.93667%2C%2018.53666%5D%2C%20%5B73.93669%2C%2018.53667%5D%2C%20%5B73.93889%2C%2018.53743%5D%2C%20%5B73.94111%2C%2018.53852%5D%2C%20%5B73.94168%2C%2018.53889%5D%2C%20%5B73.94333%2C%2018.54031%5D%2C%20%5B73.94412%2C%2018.54111%5D%2C%20%5B73.94556%2C%2018.54281%5D%2C%20%5B73.94596%2C%2018.54333%5D%2C%20%5B73.94743%2C%2018.54556%5D%2C%20%5B73.94778%2C%2018.54619%5D%2C%20%5B73.95%2C%2018.55025%5D%2C%20%5B73.95222%2C%2018.55215%5D%2C%20%5B73.95222%2C%2018.55222%5D%2C%20%5B73.95%2C%2018.55444%5D%2C%20%5B73.95%2C%2018.55667%5D%2C%20%5B73.94778%2C%2018.55889%5D%2C%20%5B73.94778%2C%2018.55918%5D%2C%20%5B73.94739%2C%2018.55889%5D%2C%20%5B73.94556%2C%2018.55681%5D%2C%20%5B73.94548%2C%2018.55667%5D%2C%20%5B73.9445%2C%2018.55444%5D%2C%20%5B73.94252%2C%2018.55%5D%2C%20%5B73.94119%2C%2018.54778%5D%2C%20%5B73.94111%2C%2018.54767%5D%2C%20%5B73.93947%2C%2018.54556%5D%2C%20%5B73.93889%2C%2018.54492%5D%2C%20%5B73.93723%2C%2018.54333%5D%2C%20%5B73.93667%2C%2018.54291%5D%2C%20%5B73.93444%2C%2018.54168%5D%2C%20%5B73.93292%2C%2018.54111%5D%2C%20%5B73.93222%2C%2018.5409%5D%2C%20%5B73.93%2C%2018.5404%5D%2C%20%5B73.92778%2C%2018.54007%5D%2C%20%5B73.92556%2C%2018.53985%5D%2C%20%5B73.92333%2C%2018.53974%5D%2C%20%5B73.91667%2C%2018.53965%5D%2C%20%5B73.91222%2C%2018.53976%5D%2C%20%5B73.90778%2C%2018.54016%5D%2C%20%5B73.90556%2C%2018.54048%5D%2C%20%5B73.90238%2C%2018.54111%5D%2C%20%5B73.89889%2C%2018.54198%5D%2C%20%5B73.89459%2C%2018.54333%5D%2C%20%5B73.89%2C%2018.54509%5D%2C%20%5B73.88778%2C%2018.54609%5D%2C%20%5B73.88453%2C%2018.54778%5D%2C%20%5B73.88333%2C%2018.54848%5D%2C%20%5B73.88102%2C%2018.55%5D%2C%20%5B73.87821%2C%2018.55222%5D%2C%20%5B73.87667%2C%2018.55367%5D%2C%20%5B73.87592%2C%2018.55444%5D%2C%20%5B73.87444%2C%2018.55615%5D%2C%20%5B73.87403%2C%2018.55667%5D%2C%20%5B73.87222%2C%2018.55915%5D%2C%20%5B73.87%2C%2018.5628%5D%2C%20%5B73.86857%2C%2018.56556%5D%2C%20%5B73.86753%2C%2018.56778%5D%2C%20%5B73.86556%2C%2018.57256%5D%2C%20%5B73.86183%2C%2018.58333%5D%2C%20%5B73.85796%2C%2018.59667%5D%2C%20%5B73.85586%2C%2018.60556%5D%2C%20%5B73.85466%2C%2018.61222%5D%2C%20%5B73.85412%2C%2018.61667%5D%2C%20%5B73.85387%2C%2018.62111%5D%2C%20%5B73.85389%2C%2018.62333%5D%2C%20%5B73.85403%2C%2018.62556%5D%2C%20%5B73.85431%2C%2018.62778%5D%2C%20%5B73.85444%2C%2018.62851%5D%2C%20%5B73.85529%2C%2018.63222%5D%2C%20%5B73.85602%2C%2018.63444%5D%2C%20%5B73.85734%2C%2018.63889%5D%2C%20%5B73.85782%2C%2018.64111%5D%2C%20%5B73.85818%2C%2018.64333%5D%2C%20%5B73.8584%2C%2018.64556%5D%2C%20%5B73.85846%2C%2018.64778%5D%2C%20%5B73.85831%2C%2018.65%5D%2C%20%5B73.85798%2C%2018.65222%5D%2C%20%5B73.85691%2C%2018.66111%5D%2C%20%5B73.85676%2C%2018.66333%5D%2C%20%5B73.85667%2C%2018.66556%5D%2C%20%5B73.8487%2C%2018.66556%5D%2C%20%5B73.84778%2C%2018.6635%5D%2C%20%5B73.8477%2C%2018.66333%5D%2C%20%5B73.84734%2C%2018.66111%5D%2C%20%5B73.84732%2C%2018.65889%5D%2C%20%5B73.84741%2C%2018.64111%5D%2C%20%5B73.84692%2C%2018.63889%5D%2C%20%5B73.84556%2C%2018.63282%5D%2C%20%5B73.84548%2C%2018.63222%5D%2C%20%5B73.8454%2C%2018.63%5D%2C%20%5B73.84546%2C%2018.62778%5D%2C%20%5B73.84563%2C%2018.62556%5D%2C%20%5B73.84589%2C%2018.62333%5D%2C%20%5B73.84655%2C%2018.61889%5D%2C%20%5B73.84743%2C%2018.61444%5D%2C%20%5B73.85129%2C%2018.59889%5D%2C%20%5B73.86%2C%2018.57%5D%2C%20%5B73.86161%2C%2018.56556%5D%2C%20%5B73.86333%2C%2018.56144%5D%2C%20%5B73.86456%2C%2018.55889%5D%2C%20%5B73.86577%2C%2018.55667%5D%2C%20%5B73.86778%2C%2018.55351%5D%2C%20%5B73.86871%2C%2018.55222%5D%2C%20%5B73.87%2C%2018.55064%5D%2C%20%5B73.87056%2C%2018.55%5D%2C%20%5B73.87222%2C%2018.54831%5D%2C%20%5B73.87281%2C%2018.54778%5D%2C%20%5B73.87444%2C%2018.54641%5D%2C%20%5B73.87558%2C%2018.54556%5D%2C%20%5B73.87667%2C%2018.5448%5D%2C%20%5B73.879%2C%2018.54333%5D%2C%20%5B73.88322%2C%2018.54111%5D%2C%20%5B73.88556%2C%2018.54006%5D%2C%20%5B73.8885%2C%2018.53889%5D%2C%20%5B73.89444%2C%2018.53687%5D%2C%20%5B73.89889%2C%2018.53569%5D%2C%20%5B73.90333%2C%2018.53482%5D%2C%20%5B73.90778%2C%2018.53427%5D%5D%5D%5D%2C%20%22type%22%3A%20%22MultiPolygon%22%7D%2C%20%22properties%22%3A%20%7B%22fill%22%3A%20%22%23ff0000%22%2C%20%22fill-opacity%22%3A%200.5%2C%20%22stroke%22%3A%20%22%23ff0000%22%2C%20%22stroke-opacity%22%3A%201%2C%20%22stroke-width%22%3A%201%2C%20%22title%22%3A%20%22150.00-160.00%20%22%7D%2C%20%22type%22%3A%20%22Feature%22%7D%2C%20%7B%22geometry%22%3A%20%7B%22coordinates%22%3A%20%5B%5B%5B%5B73.86514%2C%2018.46069%5D%2C%20%5B73.86556%2C%2018.46111%5D%2C%20%5B73.86778%2C%2018.46111%5D%2C%20%5B73.87%2C%2018.46333%5D%2C%20%5B73.87222%2C%2018.46333%5D%2C%20%5B73.87348%2C%2018.46459%5D%2C%20%5B73.87222%2C%2018.46442%5D%2C%20%5B73.87%2C%2018.46439%5D%2C%20%5B73.86778%2C%2018.46531%5D%2C%20%5B73.86733%2C%2018.46556%5D%2C%20%5B73.86333%2C%2018.46791%5D%2C%20%5B73.85266%2C%2018.47444%5D%2C%20%5B73.85%2C%2018.47577%5D%2C%20%5B73.84778%2C%2018.47675%5D%2C%20%5B73.84556%2C%2018.47756%5D%2C%20%5B73.84333%2C%2018.4777%5D%2C%20%5B73.84111%2C%2018.47709%5D%2C%20%5B73.84024%2C%2018.47667%5D%2C%20%5B73.83889%2C%2018.47613%5D%2C%20%5B73.83667%2C%2018.47641%5D%2C%20%5B73.83621%2C%2018.47667%5D%2C%20%5B73.83257%2C%2018.47889%5D%2C%20%5B73.83222%2C%2018.47912%5D%2C%20%5B73.83112%2C%2018.48111%5D%2C%20%5B73.83%2C%2018.48209%5D%2C%20%5B73.82951%2C%2018.48333%5D%2C%20%5B73.82778%2C%2018.48501%5D%2C%20%5B73.82778%2C%2018.48433%5D%2C%20%5B73.8288%2C%2018.48333%5D%2C%20%5B73.82947%2C%2018.48164%5D%2C%20%5B73.83%2C%2018.48111%5D%2C%20%5B73.83222%2C%2018.47889%5D%2C%20%5B73.83222%2C%2018.47803%5D%2C%20%5B73.83368%2C%2018.47667%5D%2C%20%5B73.83444%2C%2018.47445%5D%2C%20%5B73.83444%2C%2018.47444%5D%2C%20%5B73.83667%2C%2018.4722%5D%2C%20%5B73.83889%2C%2018.47082%5D%2C%20%5B73.84111%2C%2018.47013%5D%2C%20%5B73.84333%2C%2018.47066%5D%2C%20%5B73.84556%2C%2018.47082%5D%2C%20%5B73.84778%2C%2018.47017%5D%2C%20%5B73.84816%2C%2018.47%5D%2C%20%5B73.85272%2C%2018.46778%5D%2C%20%5B73.86514%2C%2018.46069%5D%5D%5D%2C%20%5B%5B%5B73.826%2C%2018.48778%5D%2C%20%5B73.82556%2C%2018.4882%5D%2C%20%5B73.82473%2C%2018.49%5D%2C%20%5B73.82333%2C%2018.49142%5D%2C%20%5B73.82333%2C%2018.49086%5D%2C%20%5B73.82418%2C%2018.49%5D%2C%20%5B73.8249%2C%2018.48844%5D%2C%20%5B73.82556%2C%2018.48778%5D%2C%20%5B73.826%2C%2018.48778%5D%5D%5D%2C%20%5B%5B%5B73.82145%2C%2018.49444%5D%2C%20%5B73.82111%2C%2018.49478%5D%2C%20%5B73.82012%2C%2018.49667%5D%2C%20%5B73.81889%2C%2018.49801%5D%2C%20%5B73.81889%2C%2018.49752%5D%2C%20%5B73.81967%2C%2018.49667%5D%2C%20%5B73.82053%2C%2018.49502%5D%2C%20%5B73.82111%2C%2018.49444%5D%2C%20%5B73.82145%2C%2018.49444%5D%5D%5D%2C%20%5B%5B%5B73.81708%2C%2018.50111%5D%2C%20%5B73.81667%2C%2018.50152%5D%2C%20%5B73.81562%2C%2018.50333%5D%2C%20%5B73.81444%2C%2018.50471%5D%2C%20%5B73.81444%2C%2018.50426%5D%2C%20%5B73.81523%2C%2018.50333%5D%2C%20%5B73.81632%2C%2018.50146%5D%2C%20%5B73.81667%2C%2018.50111%5D%2C%20%5B73.81708%2C%2018.50111%5D%5D%5D%2C%20%5B%5B%5B73.81275%2C%2018.50778%5D%2C%20%5B73.81222%2C%2018.50833%5D%2C%20%5B73.8112%2C%2018.51%5D%2C%20%5B73.81%2C%2018.51149%5D%2C%20%5B73.81%2C%2018.51106%5D%2C%20%5B73.81085%2C%2018.51%5D%2C%20%5B73.8122%2C%2018.5078%5D%2C%20%5B73.81222%2C%2018.50778%5D%2C%20%5B73.81275%2C%2018.50778%5D%5D%5D%2C%20%5B%5B%5B73.80845%2C%2018.51444%5D%2C%20%5B73.80778%2C%2018.51518%5D%2C%20%5B73.80684%2C%2018.51667%5D%2C%20%5B73.80556%2C%2018.51833%5D%2C%20%5B73.80556%2C%2018.51791%5D%2C%20%5B73.80651%2C%2018.51667%5D%2C%20%5B73.80778%2C%2018.51466%5D%2C%20%5B73.80808%2C%2018.51414%5D%2C%20%5B73.80845%2C%2018.51444%5D%5D%5D%2C%20%5B%5B%5B73.80418%2C%2018.52111%5D%2C%20%5B73.80333%2C%2018.52207%5D%2C%20%5B73.80253%2C%2018.52333%5D%2C%20%5B73.80111%2C%2018.52522%5D%2C%20%5B73.80111%2C%2018.52481%5D%2C%20%5B73.80222%2C%2018.52333%5D%2C%20%5B73.80375%2C%2018.52111%5D%2C%20%5B73.80399%2C%2018.52046%5D%2C%20%5B73.80418%2C%2018.52111%5D%5D%5D%2C%20%5B%5B%5B73.79996%2C%2018.52778%5D%2C%20%5B73.79889%2C%2018.52903%5D%2C%20%5B73.79827%2C%2018.53%5D%2C%20%5B73.79667%2C%2018.53217%5D%2C%20%5B73.79667%2C%2018.53175%5D%2C%20%5B73.79796%2C%2018.53%5D%2C%20%5B73.79955%2C%2018.52778%5D%2C%20%5B73.79993%2C%2018.52674%5D%2C%20%5B73.79996%2C%2018.52778%5D%5D%5D%2C%20%5B%5B%5B73.79582%2C%2018.53444%5D%2C%20%5B73.79408%2C%2018.53667%5D%2C%20%5B73.79222%2C%2018.53985%5D%2C%20%5B73.79182%2C%2018.54111%5D%2C%20%5B73.79%2C%2018.54329%5D%2C%20%5B73.78997%2C%2018.54333%5D%2C%20%5B73.78974%2C%2018.54556%5D%2C%20%5B73.78938%2C%2018.55%5D%2C%20%5B73.78989%2C%2018.56111%5D%2C%20%5B73.79034%2C%2018.56556%5D%2C%20%5B73.79134%2C%2018.57222%5D%2C%20%5B73.79222%2C%2018.57671%5D%2C%20%5B73.79401%2C%2018.58333%5D%2C%20%5B73.8007%2C%2018.60556%5D%2C%20%5B73.80115%2C%2018.60778%5D%2C%20%5B73.80152%2C%2018.61%5D%2C%20%5B73.80177%2C%2018.61222%5D%2C%20%5B73.80187%2C%2018.61444%5D%2C%20%5B73.80178%2C%2018.61667%5D%2C%20%5B73.80145%2C%2018.61889%5D%2C%20%5B73.80111%2C%2018.62003%5D%2C%20%5B73.80079%2C%2018.62111%5D%2C%20%5B73.7997%2C%2018.62333%5D%2C%20%5B73.79889%2C%2018.62448%5D%2C%20%5B73.7981%2C%2018.62556%5D%2C%20%5B73.79667%2C%2018.62705%5D%2C%20%5B73.79594%2C%2018.62778%5D%2C%20%5B73.79444%2C%2018.629%5D%2C%20%5B73.79222%2C%2018.63063%5D%2C%20%5B73.78973%2C%2018.63222%5D%2C%20%5B73.78778%2C%2018.6333%5D%2C%20%5B73.78556%2C%2018.63447%5D%2C%20%5B73.77889%2C%2018.63747%5D%2C%20%5B73.77444%2C%2018.63918%5D%2C%20%5B73.76778%2C%2018.64139%5D%2C%20%5B73.76076%2C%2018.64333%5D%2C%20%5B73.75889%2C%2018.64378%5D%2C%20%5B73.75889%2C%2018.64333%5D%2C%20%5B73.75889%2C%2018.64107%5D%2C%20%5B73.77%2C%2018.63725%5D%2C%20%5B73.77444%2C%2018.63531%5D%2C%20%5B73.77667%2C%2018.63424%5D%2C%20%5B73.78111%2C%2018.63179%5D%2C%20%5B73.78394%2C%2018.63%5D%2C%20%5B73.78556%2C%2018.62881%5D%2C%20%5B73.78778%2C%2018.62701%5D%2C%20%5B73.79%2C%2018.62484%5D%2C%20%5B73.79132%2C%2018.62333%5D%2C%20%5B73.79222%2C%2018.62201%5D%2C%20%5B73.79282%2C%2018.62111%5D%2C%20%5B73.79392%2C%2018.61889%5D%2C%20%5B73.79444%2C%2018.61725%5D%2C%20%5B73.79463%2C%2018.61667%5D%2C%20%5B73.79503%2C%2018.61444%5D%2C%20%5B73.79519%2C%2018.61222%5D%2C%20%5B73.79517%2C%2018.61%5D%2C%20%5B73.79499%2C%2018.60778%5D%2C%20%5B73.79468%2C%2018.60556%5D%2C%20%5B73.79428%2C%2018.60333%5D%2C%20%5B73.79381%2C%2018.60111%5D%2C%20%5B73.79266%2C%2018.59667%5D%2C%20%5B73.78828%2C%2018.58111%5D%2C%20%5B73.78778%2C%2018.57858%5D%2C%20%5B73.78717%2C%2018.57444%5D%2C%20%5B73.78654%2C%2018.56778%5D%2C%20%5B73.78626%2C%2018.56111%5D%2C%20%5B73.78626%2C%2018.55222%5D%2C%20%5B73.78635%2C%2018.55%5D%2C%20%5B73.78751%2C%2018.54778%5D%2C%20%5B73.79%2C%2018.54275%5D%2C%20%5B73.792%2C%2018.53911%5D%2C%20%5B73.79222%2C%2018.53889%5D%2C%20%5B73.79222%2C%2018.53875%5D%2C%20%5B73.79376%2C%2018.53667%5D%2C%20%5B73.7954%2C%2018.53444%5D%2C%20%5B73.79593%2C%2018.53296%5D%2C%20%5B73.79582%2C%2018.53444%5D%5D%5D%2C%20%5B%5B%5B73.90333%2C%2018.5409%5D%2C%20%5B73.90778%2C%2018.54016%5D%2C%20%5B73.91%2C%2018.53992%5D%2C%20%5B73.91222%2C%2018.53976%5D%2C%20%5B73.91667%2C%2018.53965%5D%2C%20%5B73.92556%2C%2018.53985%5D%2C%20%5B73.92778%2C%2018.54007%5D%2C%20%5B73.93%2C%2018.5404%5D%2C%20%5B73.93222%2C%2018.5409%5D%2C%20%5B73.93292%2C%2018.54111%5D%2C%20%5B73.93444%2C%2018.54168%5D%2C%20%5B73.93667%2C%2018.54291%5D%2C%20%5B73.93723%2C%2018.54333%5D%2C%20%5B73.93889%2C%2018.54492%5D%2C%20%5B73.93947%2C%2018.54556%5D%2C%20%5B73.94111%2C%2018.54767%5D%2C%20%5B73.94119%2C%2018.54778%5D%2C%20%5B73.94252%2C%2018.55%5D%2C%20%5B73.94333%2C%2018.55163%5D%2C%20%5B73.94361%2C%2018.55222%5D%2C%20%5B73.94556%2C%2018.55681%5D%2C%20%5B73.94739%2C%2018.55889%5D%2C%20%5B73.94778%2C%2018.55918%5D%2C%20%5B73.94778%2C%2018.56111%5D%2C%20%5B73.94556%2C%2018.56333%5D%2C%20%5B73.94556%2C%2018.56556%5D%2C%20%5B73.94377%2C%2018.56734%5D%2C%20%5B73.94333%2C%2018.56712%5D%2C%20%5B73.94175%2C%2018.56556%5D%2C%20%5B73.94111%2C%2018.56459%5D%2C%20%5B73.94057%2C%2018.56333%5D%2C%20%5B73.93983%2C%2018.56111%5D%2C%20%5B73.93835%2C%2018.55667%5D%2C%20%5B73.93733%2C%2018.55444%5D%2C%20%5B73.93667%2C%2018.55325%5D%2C%20%5B73.93603%2C%2018.55222%5D%2C%20%5B73.93444%2C%2018.5501%5D%2C%20%5B73.93436%2C%2018.55%5D%2C%20%5B73.93222%2C%2018.5479%5D%2C%20%5B73.93207%2C%2018.54778%5D%2C%20%5B73.93%2C%2018.54647%5D%2C%20%5B73.92778%2C%2018.54561%5D%2C%20%5B73.92755%2C%2018.54556%5D%2C%20%5B73.92556%2C%2018.54515%5D%2C%20%5B73.92333%2C%2018.54491%5D%2C%20%5B73.92111%2C%2018.54483%5D%2C%20%5B73.91889%2C%2018.54489%5D%2C%20%5B73.91444%2C%2018.5452%5D%2C%20%5B73.91%2C%2018.54569%5D%2C%20%5B73.90556%2C%2018.54647%5D%2C%20%5B73.90333%2C%2018.54699%5D%2C%20%5B73.90055%2C%2018.54778%5D%2C%20%5B73.89667%2C%2018.5491%5D%2C%20%5B73.8944%2C%2018.55%5D%2C%20%5B73.89%2C%2018.55206%5D%2C%20%5B73.88969%2C%2018.55222%5D%2C%20%5B73.88607%2C%2018.55444%5D%2C%20%5B73.88556%2C%2018.55481%5D%2C%20%5B73.88333%2C%2018.55655%5D%2C%20%5B73.88319%2C%2018.55667%5D%2C%20%5B73.88111%2C%2018.55866%5D%2C%20%5B73.88089%2C%2018.55889%5D%2C%20%5B73.87889%2C%2018.5612%5D%2C%20%5B73.87667%2C%2018.56426%5D%2C%20%5B73.87452%2C%2018.56778%5D%2C%20%5B73.87335%2C%2018.57%5D%2C%20%5B73.87222%2C%2018.57232%5D%2C%20%5B73.87%2C%2018.57752%5D%2C%20%5B73.86778%2C%2018.58351%5D%2C%20%5B73.86504%2C%2018.59222%5D%2C%20%5B73.86333%2C%2018.59891%5D%2C%20%5B73.86169%2C%2018.60778%5D%2C%20%5B73.86121%2C%2018.61222%5D%2C%20%5B73.86108%2C%2018.61444%5D%2C%20%5B73.86104%2C%2018.61667%5D%2C%20%5B73.86111%2C%2018.61903%5D%2C%20%5B73.86153%2C%2018.62333%5D%2C%20%5B73.8619%2C%2018.62556%5D%2C%20%5B73.86238%2C%2018.62778%5D%2C%20%5B73.86297%2C%2018.63%5D%2C%20%5B73.86594%2C%2018.64111%5D%2C%20%5B73.86669%2C%2018.64556%5D%2C%20%5B73.86693%2C%2018.64778%5D%2C%20%5B73.86707%2C%2018.65%5D%2C%20%5B73.86708%2C%2018.65222%5D%2C%20%5B73.86692%2C%2018.65444%5D%2C%20%5B73.86658%2C%2018.65667%5D%2C%20%5B73.86556%2C%2018.66398%5D%2C%20%5B73.86543%2C%2018.66556%5D%2C%20%5B73.86556%2C%2018.66613%5D%2C%20%5B73.86588%2C%2018.66778%5D%2C%20%5B73.86556%2C%2018.66778%5D%2C%20%5B73.86111%2C%2018.66778%5D%2C%20%5B73.85889%2C%2018.66556%5D%2C%20%5B73.85676%2C%2018.66333%5D%2C%20%5B73.85691%2C%2018.66111%5D%2C%20%5B73.85737%2C%2018.65667%5D%2C%20%5B73.85846%2C%2018.64778%5D%2C%20%5B73.8584%2C%2018.64556%5D%2C%20%5B73.85818%2C%2018.64333%5D%2C%20%5B73.85782%2C%2018.64111%5D%2C%20%5B73.85734%2C%2018.63889%5D%2C%20%5B73.85667%2C%2018.63641%5D%2C%20%5B73.85473%2C%2018.63%5D%2C%20%5B73.85444%2C%2018.62851%5D%2C%20%5B73.85403%2C%2018.62556%5D%2C%20%5B73.85389%2C%2018.62333%5D%2C%20%5B73.85387%2C%2018.62111%5D%2C%20%5B73.85395%2C%2018.61889%5D%2C%20%5B73.85412%2C%2018.61667%5D%2C%20%5B73.85444%2C%2018.61382%5D%2C%20%5B73.85586%2C%2018.60556%5D%2C%20%5B73.85796%2C%2018.59667%5D%2C%20%5B73.86114%2C%2018.58556%5D%2C%20%5B73.86556%2C%2018.57256%5D%2C%20%5B73.86778%2C%2018.56723%5D%2C%20%5B73.86971%2C%2018.56333%5D%2C%20%5B73.87098%2C%2018.56111%5D%2C%20%5B73.8724%2C%2018.55889%5D%2C%20%5B73.87444%2C%2018.55615%5D%2C%20%5B73.87592%2C%2018.55444%5D%2C%20%5B73.87667%2C%2018.55367%5D%2C%20%5B73.87821%2C%2018.55222%5D%2C%20%5B73.87889%2C%2018.55164%5D%2C%20%5B73.88111%2C%2018.54993%5D%2C%20%5B73.88333%2C%2018.54848%5D%2C%20%5B73.88453%2C%2018.54778%5D%2C%20%5B73.88778%2C%2018.54609%5D%2C%20%5B73.89%2C%2018.54509%5D%2C%20%5B73.89444%2C%2018.54338%5D%2C%20%5B73.89889%2C%2018.54198%5D%2C%20%5B73.90333%2C%2018.5409%5D%5D%5D%5D%2C%20%22type%22%3A%20%22MultiPolygon%22%7D%2C%20%22properties%22%3A%20%7B%22fill%22%3A%20%22%23ff0000%22%2C%20%22fill-opacity%22%3A%200.5%2C%20%22stroke%22%3A%20%22%23ff0000%22%2C%20%22stroke-opacity%22%3A%201%2C%20%22stroke-width%22%3A%201%2C%20%22title%22%3A%20%22160.00-170.00%20%22%7D%2C%20%22type%22%3A%20%22Feature%22%7D%2C%20%7B%22geometry%22%3A%20%7B%22coordinates%22%3A%20%5B%5B%5B%5B73.85889%2C%2018.45796%5D%2C%20%5B73.86165%2C%2018.4572%5D%2C%20%5B73.86333%2C%2018.45889%5D%2C%20%5B73.86514%2C%2018.46069%5D%2C%20%5B73.86423%2C%2018.46111%5D%2C%20%5B73.86333%2C%2018.46159%5D%2C%20%5B73.85889%2C%2018.46412%5D%2C%20%5B73.85222%2C%2018.46805%5D%2C%20%5B73.85%2C%2018.46917%5D%2C%20%5B73.84778%2C%2018.47017%5D%2C%20%5B73.84556%2C%2018.47082%5D%2C%20%5B73.84333%2C%2018.47066%5D%2C%20%5B73.84111%2C%2018.47013%5D%2C%20%5B73.83889%2C%2018.47082%5D%2C%20%5B73.83667%2C%2018.4722%5D%2C%20%5B73.83667%2C%2018.47088%5D%2C%20%5B73.83767%2C%2018.47%5D%2C%20%5B73.83828%2C%2018.46839%5D%2C%20%5B73.83889%2C%2018.46778%5D%2C%20%5B73.84176%2C%2018.4649%5D%2C%20%5B73.84333%2C%2018.46427%5D%2C%20%5B73.84556%2C%2018.46423%5D%2C%20%5B73.84778%2C%2018.46386%5D%2C%20%5B73.84894%2C%2018.46333%5D%2C%20%5B73.85222%2C%2018.46171%5D%2C%20%5B73.85889%2C%2018.45796%5D%5D%5D%2C%20%5B%5B%5B73.83368%2C%2018.47667%5D%2C%20%5B73.83222%2C%2018.47803%5D%2C%20%5B73.83222%2C%2018.47712%5D%2C%20%5B73.8327%2C%2018.47667%5D%2C%20%5B73.83296%2C%2018.47593%5D%2C%20%5B73.83368%2C%2018.47667%5D%5D%5D%2C%20%5B%5B%5B73.8288%2C%2018.48333%5D%2C%20%5B73.82778%2C%2018.48433%5D%2C%20%5B73.82778%2C%2018.48364%5D%2C%20%5B73.8281%2C%2018.48333%5D%2C%20%5B73.82831%2C%2018.48281%5D%2C%20%5B73.8288%2C%2018.48333%5D%5D%5D%2C%20%5B%5B%5B73.82418%2C%2018.49%5D%2C%20%5B73.82333%2C%2018.49086%5D%2C%20%5B73.82333%2C%2018.4903%5D%2C%20%5B73.82363%2C%2018.49%5D%2C%20%5B73.82388%2C%2018.48945%5D%2C%20%5B73.82418%2C%2018.49%5D%5D%5D%2C%20%5B%5B%5B73.81967%2C%2018.49667%5D%2C%20%5B73.81889%2C%2018.49752%5D%2C%20%5B73.81889%2C%2018.49703%5D%2C%20%5B73.81922%2C%2018.49667%5D%2C%20%5B73.81959%2C%2018.49597%5D%2C%20%5B73.81967%2C%2018.49667%5D%5D%5D%2C%20%5B%5B%5B73.81523%2C%2018.50333%5D%2C%20%5B73.81444%2C%2018.50426%5D%2C%20%5B73.81444%2C%2018.50381%5D%2C%20%5B73.81485%2C%2018.50333%5D%2C%20%5B73.81523%2C%2018.50333%5D%5D%5D%2C%20%5B%5B%5B73.81085%2C%2018.51%5D%2C%20%5B73.81%2C%2018.51106%5D%2C%20%5B73.81%2C%2018.51063%5D%2C%20%5B73.8105%2C%2018.51%5D%2C%20%5B73.81085%2C%2018.51%5D%5D%5D%2C%20%5B%5B%5B73.80798%2C%2018.51444%5D%2C%20%5B73.80778%2C%2018.51466%5D%2C%20%5B73.80651%2C%2018.51667%5D%2C%20%5B73.80556%2C%2018.51791%5D%2C%20%5B73.80556%2C%2018.51749%5D%2C%20%5B73.80619%2C%2018.51667%5D%2C%20%5B73.80778%2C%2018.51444%5D%2C%20%5B73.80798%2C%2018.51444%5D%5D%5D%2C%20%5B%5B%5B73.80375%2C%2018.52111%5D%2C%20%5B73.80333%2C%2018.52158%5D%2C%20%5B73.80222%2C%2018.52333%5D%2C%20%5B73.80111%2C%2018.52481%5D%2C%20%5B73.80111%2C%2018.52439%5D%2C%20%5B73.8019%2C%2018.52333%5D%2C%20%5B73.80331%2C%2018.52114%5D%2C%20%5B73.80333%2C%2018.52111%5D%2C%20%5B73.80375%2C%2018.52111%5D%5D%5D%2C%20%5B%5B%5B73.79955%2C%2018.52778%5D%2C%20%5B73.79889%2C%2018.52855%5D%2C%20%5B73.79796%2C%2018.53%5D%2C%20%5B73.79667%2C%2018.53175%5D%2C%20%5B73.79667%2C%2018.53133%5D%2C%20%5B73.79765%2C%2018.53%5D%2C%20%5B73.79913%2C%2018.52778%5D%2C%20%5B73.79927%2C%2018.5274%5D%2C%20%5B73.79955%2C%2018.52778%5D%5D%5D%2C%20%5B%5B%5B73.7954%2C%2018.53444%5D%2C%20%5B73.79444%2C%2018.53558%5D%2C%20%5B73.79376%2C%2018.53667%5D%2C%20%5B73.79222%2C%2018.53875%5D%2C%20%5B73.79222%2C%2018.53832%5D%2C%20%5B73.79345%2C%2018.53667%5D%2C%20%5B73.79498%2C%2018.53444%5D%2C%20%5B73.79527%2C%2018.53362%5D%2C%20%5B73.7954%2C%2018.53444%5D%5D%5D%2C%20%5B%5B%5B73.79136%2C%2018.54111%5D%2C%20%5B73.78964%2C%2018.54333%5D%2C%20%5B73.78778%2C%2018.54678%5D%2C%20%5B73.78751%2C%2018.54778%5D%2C%20%5B73.78626%2C%2018.55222%5D%2C%20%5B73.78626%2C%2018.56111%5D%2C%20%5B73.78671%2C%2018.57%5D%2C%20%5B73.78748%2C%2018.57667%5D%2C%20%5B73.78783%2C%2018.57889%5D%2C%20%5B73.78878%2C%2018.58333%5D%2C%20%5B73.79%2C%2018.58805%5D%2C%20%5B73.79381%2C%2018.60111%5D%2C%20%5B73.79444%2C%2018.60427%5D%2C%20%5B73.79499%2C%2018.60778%5D%2C%20%5B73.79517%2C%2018.61%5D%2C%20%5B73.79519%2C%2018.61222%5D%2C%20%5B73.79503%2C%2018.61444%5D%2C%20%5B73.79463%2C%2018.61667%5D%2C%20%5B73.79444%2C%2018.61725%5D%2C%20%5B73.79392%2C%2018.61889%5D%2C%20%5B73.79282%2C%2018.62111%5D%2C%20%5B73.79222%2C%2018.62201%5D%2C%20%5B73.79132%2C%2018.62333%5D%2C%20%5B73.79%2C%2018.62484%5D%2C%20%5B73.78936%2C%2018.62556%5D%2C%20%5B73.78778%2C%2018.62701%5D%2C%20%5B73.78692%2C%2018.62778%5D%2C%20%5B73.78556%2C%2018.62881%5D%2C%20%5B73.78333%2C%2018.63039%5D%2C%20%5B73.78042%2C%2018.63222%5D%2C%20%5B73.77889%2C%2018.63306%5D%2C%20%5B73.77628%2C%2018.63444%5D%2C%20%5B73.77222%2C%2018.63632%5D%2C%20%5B73.76778%2C%2018.63811%5D%2C%20%5B73.76333%2C%2018.63968%5D%2C%20%5B73.75885%2C%2018.64108%5D%2C%20%5B73.75676%2C%2018.63898%5D%2C%20%5B73.75702%2C%2018.63889%5D%2C%20%5B73.76333%2C%2018.6366%5D%2C%20%5B73.76828%2C%2018.63444%5D%2C%20%5B73.77222%2C%2018.63242%5D%2C%20%5B73.77444%2C%2018.63113%5D%2C%20%5B73.77667%2C%2018.62972%5D%2C%20%5B73.77938%2C%2018.62778%5D%2C%20%5B73.78111%2C%2018.62634%5D%2C%20%5B73.78202%2C%2018.62556%5D%2C%20%5B73.78333%2C%2018.62424%5D%2C%20%5B73.78421%2C%2018.62333%5D%2C%20%5B73.78556%2C%2018.62166%5D%2C%20%5B73.78599%2C%2018.62111%5D%2C%20%5B73.78738%2C%2018.61889%5D%2C%20%5B73.78778%2C%2018.61806%5D%2C%20%5B73.78843%2C%2018.61667%5D%2C%20%5B73.78913%2C%2018.61444%5D%2C%20%5B73.78954%2C%2018.61222%5D%2C%20%5B73.78972%2C%2018.61%5D%2C%20%5B73.78972%2C%2018.60778%5D%2C%20%5B73.78957%2C%2018.60556%5D%2C%20%5B73.7893%2C%2018.60333%5D%2C%20%5B73.78893%2C%2018.60111%5D%2C%20%5B73.78848%2C%2018.59889%5D%2C%20%5B73.78778%2C%2018.59608%5D%2C%20%5B73.78551%2C%2018.58778%5D%2C%20%5B73.78461%2C%2018.58333%5D%2C%20%5B73.78396%2C%2018.57889%5D%2C%20%5B73.78352%2C%2018.57444%5D%2C%20%5B73.78328%2C%2018.57%5D%2C%20%5B73.78325%2C%2018.56111%5D%2C%20%5B73.78349%2C%2018.55444%5D%2C%20%5B73.78445%2C%2018.55222%5D%2C%20%5B73.78556%2C%2018.54955%5D%2C%20%5B73.78752%2C%2018.54582%5D%2C%20%5B73.78778%2C%2018.54556%5D%2C%20%5B73.78778%2C%2018.54539%5D%2C%20%5B73.78931%2C%2018.54333%5D%2C%20%5B73.79091%2C%2018.54111%5D%2C%20%5B73.79133%2C%2018.53978%5D%2C%20%5B73.79136%2C%2018.54111%5D%5D%5D%2C%20%5B%5B%5B73.91222%2C%2018.54542%5D%2C%20%5B73.92111%2C%2018.54483%5D%2C%20%5B73.92333%2C%2018.54491%5D%2C%20%5B73.92556%2C%2018.54515%5D%2C%20%5B73.92755%2C%2018.54556%5D%2C%20%5B73.92778%2C%2018.54561%5D%2C%20%5B73.93%2C%2018.54647%5D%2C%20%5B73.93207%2C%2018.54778%5D%2C%20%5B73.93222%2C%2018.5479%5D%2C%20%5B73.93436%2C%2018.55%5D%2C%20%5B73.93444%2C%2018.5501%5D%2C%20%5B73.93603%2C%2018.55222%5D%2C%20%5B73.93667%2C%2018.55325%5D%2C%20%5B73.93733%2C%2018.55444%5D%2C%20%5B73.93835%2C%2018.55667%5D%2C%20%5B73.93889%2C%2018.5581%5D%2C%20%5B73.93916%2C%2018.55889%5D%2C%20%5B73.94111%2C%2018.56459%5D%2C%20%5B73.94175%2C%2018.56556%5D%2C%20%5B73.94333%2C%2018.56712%5D%2C%20%5B73.94377%2C%2018.56734%5D%2C%20%5B73.94333%2C%2018.56778%5D%2C%20%5B73.94333%2C%2018.57%5D%2C%20%5B73.94111%2C%2018.57222%5D%2C%20%5B73.93889%2C%2018.57444%5D%2C%20%5B73.93889%2C%2018.5763%5D%2C%20%5B73.93671%2C%2018.57444%5D%2C%20%5B73.93667%2C%2018.57438%5D%2C%20%5B73.93575%2C%2018.57222%5D%2C%20%5B73.9351%2C%2018.57%5D%2C%20%5B73.9346%2C%2018.56778%5D%2C%20%5B73.9335%2C%2018.56333%5D%2C%20%5B73.93271%2C%2018.56111%5D%2C%20%5B73.93222%2C%2018.56001%5D%2C%20%5B73.93166%2C%2018.55889%5D%2C%20%5B73.93031%2C%2018.55667%5D%2C%20%5B73.93%2C%2018.55625%5D%2C%20%5B73.92845%2C%2018.55444%5D%2C%20%5B73.92778%2C%2018.5538%5D%2C%20%5B73.92576%2C%2018.55222%5D%2C%20%5B73.92556%2C%2018.55209%5D%2C%20%5B73.92333%2C%2018.55111%5D%2C%20%5B73.92111%2C%2018.55061%5D%2C%20%5B73.91889%2C%2018.55044%5D%2C%20%5B73.91667%2C%2018.55051%5D%2C%20%5B73.91444%2C%2018.55077%5D%2C%20%5B73.91222%2C%2018.55113%5D%2C%20%5B73.90778%2C%2018.55204%5D%2C%20%5B73.90556%2C%2018.5526%5D%2C%20%5B73.90333%2C%2018.55325%5D%2C%20%5B73.89995%2C%2018.55444%5D%2C%20%5B73.89667%2C%2018.55583%5D%2C%20%5B73.89444%2C%2018.5569%5D%2C%20%5B73.89222%2C%2018.55815%5D%2C%20%5B73.89106%2C%2018.55889%5D%2C%20%5B73.89%2C%2018.55962%5D%2C%20%5B73.88809%2C%2018.56111%5D%2C%20%5B73.88778%2C%2018.56138%5D%2C%20%5B73.88573%2C%2018.56333%5D%2C%20%5B73.88556%2C%2018.56352%5D%2C%20%5B73.88333%2C%2018.56608%5D%2C%20%5B73.88206%2C%2018.56778%5D%2C%20%5B73.88056%2C%2018.57%5D%2C%20%5B73.87889%2C%2018.5728%5D%2C%20%5B73.87689%2C%2018.57667%5D%2C%20%5B73.87491%2C%2018.58111%5D%2C%20%5B73.87319%2C%2018.58556%5D%2C%20%5B73.87169%2C%2018.59%5D%2C%20%5B73.87%2C%2018.5961%5D%2C%20%5B73.86892%2C%2018.60111%5D%2C%20%5B73.86824%2C%2018.60556%5D%2C%20%5B73.86785%2C%2018.61%5D%2C%20%5B73.86778%2C%2018.61222%5D%2C%20%5B73.8678%2C%2018.61444%5D%2C%20%5B73.8679%2C%2018.61667%5D%2C%20%5B73.86809%2C%2018.61889%5D%2C%20%5B73.86836%2C%2018.62111%5D%2C%20%5B73.86871%2C%2018.62333%5D%2C%20%5B73.86964%2C%2018.62778%5D%2C%20%5B73.87407%2C%2018.64778%5D%2C%20%5B73.87444%2C%2018.65069%5D%2C%20%5B73.87473%2C%2018.65444%5D%2C%20%5B73.87475%2C%2018.65667%5D%2C%20%5B73.87463%2C%2018.65889%5D%2C%20%5B73.87444%2C%2018.66039%5D%2C%20%5B73.87367%2C%2018.66778%5D%2C%20%5B73.87222%2C%2018.66778%5D%2C%20%5B73.86588%2C%2018.66778%5D%2C%20%5B73.86556%2C%2018.66613%5D%2C%20%5B73.86543%2C%2018.66556%5D%2C%20%5B73.86556%2C%2018.66398%5D%2C%20%5B73.86589%2C%2018.66111%5D%2C%20%5B73.86708%2C%2018.65222%5D%2C%20%5B73.86707%2C%2018.65%5D%2C%20%5B73.86693%2C%2018.64778%5D%2C%20%5B73.86669%2C%2018.64556%5D%2C%20%5B73.86635%2C%2018.64333%5D%2C%20%5B73.86556%2C%2018.63932%5D%2C%20%5B73.86429%2C%2018.63444%5D%2C%20%5B73.8619%2C%2018.62556%5D%2C%20%5B73.86153%2C%2018.62333%5D%2C%20%5B73.86126%2C%2018.62111%5D%2C%20%5B73.8611%2C%2018.61889%5D%2C%20%5B73.86104%2C%2018.61667%5D%2C%20%5B73.86111%2C%2018.61388%5D%2C%20%5B73.86169%2C%2018.60778%5D%2C%20%5B73.86241%2C%2018.60333%5D%2C%20%5B73.86334%2C%2018.59889%5D%2C%20%5B73.86504%2C%2018.59222%5D%2C%20%5B73.86778%2C%2018.58351%5D%2C%20%5B73.87034%2C%2018.57667%5D%2C%20%5B73.87227%2C%2018.57222%5D%2C%20%5B73.87444%2C%2018.56792%5D%2C%20%5B73.87583%2C%2018.56556%5D%2C%20%5B73.8773%2C%2018.56333%5D%2C%20%5B73.87896%2C%2018.56111%5D%2C%20%5B73.88111%2C%2018.55866%5D%2C%20%5B73.88333%2C%2018.55655%5D%2C%20%5B73.88556%2C%2018.55481%5D%2C%20%5B73.88607%2C%2018.55444%5D%2C%20%5B73.88778%2C%2018.55333%5D%2C%20%5B73.88969%2C%2018.55222%5D%2C%20%5B73.89%2C%2018.55206%5D%2C%20%5B73.89222%2C%2018.55096%5D%2C%20%5B73.89444%2C%2018.54998%5D%2C%20%5B73.89889%2C%2018.54831%5D%2C%20%5B73.90111%2C%2018.5476%5D%2C%20%5B73.90556%2C%2018.54647%5D%2C%20%5B73.90778%2C%2018.54604%5D%2C%20%5B73.91222%2C%2018.54542%5D%5D%5D%5D%2C%20%22type%22%3A%20%22MultiPolygon%22%7D%2C%20%22properties%22%3A%20%7B%22fill%22%3A%20%22%23ff0000%22%2C%20%22fill-opacity%22%3A%200.5%2C%20%22stroke%22%3A%20%22%23ff0000%22%2C%20%22stroke-opacity%22%3A%201%2C%20%22stroke-width%22%3A%201%2C%20%22title%22%3A%20%22170.00-180.00%20%22%7D%2C%20%22type%22%3A%20%22Feature%22%7D%2C%20%7B%22geometry%22%3A%20%7B%22coordinates%22%3A%20%5B%5B%5B%5B73.85437%2C%2018.45437%5D%2C%20%5B73.85444%2C%2018.45444%5D%2C%20%5B73.85667%2C%2018.45444%5D%2C%20%5B73.85889%2C%2018.45667%5D%2C%20%5B73.86111%2C%2018.45667%5D%2C%20%5B73.86165%2C%2018.4572%5D%2C%20%5B73.86111%2C%2018.45736%5D%2C%20%5B73.85889%2C%2018.45796%5D%2C%20%5B73.85715%2C%2018.45889%5D%2C%20%5B73.84894%2C%2018.46333%5D%2C%20%5B73.84778%2C%2018.46386%5D%2C%20%5B73.84556%2C%2018.46423%5D%2C%20%5B73.84176%2C%2018.4649%5D%2C%20%5B73.84333%2C%2018.46333%5D%2C%20%5B73.84333%2C%2018.46111%5D%2C%20%5B73.84556%2C%2018.45889%5D%2C%20%5B73.84659%2C%2018.45786%5D%2C%20%5B73.84778%2C%2018.45761%5D%2C%20%5B73.85%2C%2018.4567%5D%2C%20%5B73.85007%2C%2018.45667%5D%2C%20%5B73.85437%2C%2018.45437%5D%5D%5D%2C%20%5B%5B%5B73.83767%2C%2018.47%5D%2C%20%5B73.83667%2C%2018.47088%5D%2C%20%5B73.83667%2C%2018.47%5D%2C%20%5B73.83767%2C%2018.47%5D%5D%5D%2C%20%5B%5B%5B73.8327%2C%2018.47667%5D%2C%20%5B73.83222%2C%2018.47712%5D%2C%20%5B73.83222%2C%2018.47667%5D%2C%20%5B73.8327%2C%2018.47667%5D%5D%5D%2C%20%5B%5B%5B73.8281%2C%2018.48333%5D%2C%20%5B73.82778%2C%2018.48364%5D%2C%20%5B73.82778%2C%2018.48333%5D%2C%20%5B73.8281%2C%2018.48333%5D%5D%5D%2C%20%5B%5B%5B73.82363%2C%2018.49%5D%2C%20%5B73.82333%2C%2018.4903%5D%2C%20%5B73.82333%2C%2018.49%5D%2C%20%5B73.82363%2C%2018.49%5D%5D%5D%2C%20%5B%5B%5B73.81922%2C%2018.49667%5D%2C%20%5B73.81889%2C%2018.49703%5D%2C%20%5B73.81889%2C%2018.49667%5D%2C%20%5B73.81922%2C%2018.49667%5D%5D%5D%2C%20%5B%5B%5B73.81485%2C%2018.50333%5D%2C%20%5B73.81444%2C%2018.50381%5D%2C%20%5B73.81444%2C%2018.50336%5D%2C%20%5B73.81446%2C%2018.50333%5D%2C%20%5B73.81449%2C%2018.50329%5D%2C%20%5B73.81485%2C%2018.50333%5D%5D%5D%2C%20%5B%5B%5B73.8105%2C%2018.51%5D%2C%20%5B73.81%2C%2018.51063%5D%2C%20%5B73.81%2C%2018.5102%5D%2C%20%5B73.81016%2C%2018.51%5D%2C%20%5B73.8105%2C%2018.51%5D%5D%5D%2C%20%5B%5B%5B73.80619%2C%2018.51667%5D%2C%20%5B73.80556%2C%2018.51749%5D%2C%20%5B73.80556%2C%2018.51707%5D%2C%20%5B73.80586%2C%2018.51667%5D%2C%20%5B73.80619%2C%2018.51667%5D%5D%5D%2C%20%5B%5B%5B73.8019%2C%2018.52333%5D%2C%20%5B73.80111%2C%2018.52439%5D%2C%20%5B73.80111%2C%2018.52397%5D%2C%20%5B73.80159%2C%2018.52333%5D%2C%20%5B73.8019%2C%2018.52333%5D%5D%5D%2C%20%5B%5B%5B73.79913%2C%2018.52778%5D%2C%20%5B73.79889%2C%2018.52806%5D%2C%20%5B73.79765%2C%2018.53%5D%2C%20%5B73.79667%2C%2018.53133%5D%2C%20%5B73.79667%2C%2018.53091%5D%2C%20%5B73.79734%2C%2018.53%5D%2C%20%5B73.79889%2C%2018.52778%5D%2C%20%5B73.79913%2C%2018.52778%5D%5D%5D%2C%20%5B%5B%5B73.79498%2C%2018.53444%5D%2C%20%5B73.79444%2C%2018.53508%5D%2C%20%5B73.79345%2C%2018.53667%5D%2C%20%5B73.79222%2C%2018.53832%5D%2C%20%5B73.79222%2C%2018.5379%5D%2C%20%5B73.79313%2C%2018.53667%5D%2C%20%5B73.79444%2C%2018.53458%5D%2C%20%5B73.79462%2C%2018.53427%5D%2C%20%5B73.79498%2C%2018.53444%5D%5D%5D%2C%20%5B%5B%5B73.79091%2C%2018.54111%5D%2C%20%5B73.79%2C%2018.5422%5D%2C%20%5B73.78931%2C%2018.54333%5D%2C%20%5B73.78778%2C%2018.54539%5D%2C%20%5B73.78778%2C%2018.54495%5D%2C%20%5B73.78898%2C%2018.54333%5D%2C%20%5B73.79%2C%2018.54166%5D%2C%20%5B73.79091%2C%2018.54111%5D%5D%5D%2C%20%5B%5B%5B73.787%2C%2018.54778%5D%2C%20%5B73.7853%2C%2018.55%5D%2C%20%5B73.78445%2C%2018.55222%5D%2C%20%5B73.78349%2C%2018.55444%5D%2C%20%5B73.78338%2C%2018.55667%5D%2C%20%5B73.78322%2C%2018.56778%5D%2C%20%5B73.78352%2C%2018.57444%5D%2C%20%5B73.78396%2C%2018.57889%5D%2C%20%5B73.78461%2C%2018.58333%5D%2C%20%5B73.78551%2C%2018.58778%5D%2C%20%5B73.78609%2C%2018.59%5D%2C%20%5B73.78893%2C%2018.60111%5D%2C%20%5B73.7893%2C%2018.60333%5D%2C%20%5B73.78957%2C%2018.60556%5D%2C%20%5B73.78972%2C%2018.60778%5D%2C%20%5B73.78972%2C%2018.61%5D%2C%20%5B73.78954%2C%2018.61222%5D%2C%20%5B73.78913%2C%2018.61444%5D%2C%20%5B73.78843%2C%2018.61667%5D%2C%20%5B73.78778%2C%2018.61806%5D%2C%20%5B73.78738%2C%2018.61889%5D%2C%20%5B73.78599%2C%2018.62111%5D%2C%20%5B73.78556%2C%2018.62166%5D%2C%20%5B73.78333%2C%2018.62424%5D%2C%20%5B73.78111%2C%2018.62634%5D%2C%20%5B73.77889%2C%2018.62814%5D%2C%20%5B73.77626%2C%2018.63%5D%2C%20%5B73.77444%2C%2018.63113%5D%2C%20%5B73.77222%2C%2018.63242%5D%2C%20%5B73.76778%2C%2018.63467%5D%2C%20%5B73.76317%2C%2018.63667%5D%2C%20%5B73.75702%2C%2018.63889%5D%2C%20%5B73.75676%2C%2018.63898%5D%2C%20%5B73.75667%2C%2018.63889%5D%2C%20%5B73.75667%2C%2018.63667%5D%2C%20%5B73.75667%2C%2018.63623%5D%2C%20%5B73.75889%2C%2018.63534%5D%2C%20%5B73.76111%2C%2018.63439%5D%2C%20%5B73.76558%2C%2018.63222%5D%2C%20%5B73.76947%2C%2018.63%5D%2C%20%5B73.77%2C%2018.62965%5D%2C%20%5B73.77277%2C%2018.62778%5D%2C%20%5B73.77444%2C%2018.62647%5D%2C%20%5B73.77667%2C%2018.62454%5D%2C%20%5B73.77889%2C%2018.62228%5D%2C%20%5B73.77992%2C%2018.62111%5D%2C%20%5B73.78111%2C%2018.61947%5D%2C%20%5B73.78153%2C%2018.61889%5D%2C%20%5B73.78281%2C%2018.61667%5D%2C%20%5B73.78333%2C%2018.61548%5D%2C%20%5B73.78378%2C%2018.61444%5D%2C%20%5B73.78444%2C%2018.61222%5D%2C%20%5B73.78483%2C%2018.61%5D%2C%20%5B73.785%2C%2018.60778%5D%2C%20%5B73.785%2C%2018.60556%5D%2C%20%5B73.78485%2C%2018.60333%5D%2C%20%5B73.78459%2C%2018.60111%5D%2C%20%5B73.78423%2C%2018.59889%5D%2C%20%5B73.78378%2C%2018.59667%5D%2C%20%5B73.78111%2C%2018.58397%5D%2C%20%5B73.78062%2C%2018.57889%5D%2C%20%5B73.78042%2C%2018.57444%5D%2C%20%5B73.78041%2C%2018.56778%5D%2C%20%5B73.78068%2C%2018.56111%5D%2C%20%5B73.78097%2C%2018.55681%5D%2C%20%5B73.78111%2C%2018.55667%5D%2C%20%5B73.78111%2C%2018.55661%5D%2C%20%5B73.78275%2C%2018.55444%5D%2C%20%5B73.78315%2C%2018.5524%5D%2C%20%5B73.78333%2C%2018.55222%5D%2C%20%5B73.78333%2C%2018.55211%5D%2C%20%5B73.78494%2C%2018.55%5D%2C%20%5B73.78648%2C%2018.54778%5D%2C%20%5B73.78681%2C%2018.54652%5D%2C%20%5B73.787%2C%2018.54778%5D%5D%5D%2C%20%5B%5B%5B73.90778%2C%2018.55204%5D%2C%20%5B73.91444%2C%2018.55077%5D%2C%20%5B73.91667%2C%2018.55051%5D%2C%20%5B73.91889%2C%2018.55044%5D%2C%20%5B73.92111%2C%2018.55061%5D%2C%20%5B73.92333%2C%2018.55111%5D%2C%20%5B73.92556%2C%2018.55209%5D%2C%20%5B73.92576%2C%2018.55222%5D%2C%20%5B73.92778%2C%2018.5538%5D%2C%20%5B73.92845%2C%2018.55444%5D%2C%20%5B73.93%2C%2018.55625%5D%2C%20%5B73.93031%2C%2018.55667%5D%2C%20%5B73.93166%2C%2018.55889%5D%2C%20%5B73.93222%2C%2018.56001%5D%2C%20%5B73.93271%2C%2018.56111%5D%2C%20%5B73.9335%2C%2018.56333%5D%2C%20%5B73.93412%2C%2018.56556%5D%2C%20%5B73.93444%2C%2018.56705%5D%2C%20%5B73.93575%2C%2018.57222%5D%2C%20%5B73.93667%2C%2018.57438%5D%2C%20%5B73.93671%2C%2018.57444%5D%2C%20%5B73.93889%2C%2018.5763%5D%2C%20%5B73.93889%2C%2018.57667%5D%2C%20%5B73.93667%2C%2018.57889%5D%2C%20%5B73.93667%2C%2018.58111%5D%2C%20%5B73.93444%2C%2018.58333%5D%2C%20%5B73.93444%2C%2018.58556%5D%2C%20%5B73.93321%2C%2018.58679%5D%2C%20%5B73.93222%2C%2018.58633%5D%2C%20%5B73.9315%2C%2018.58556%5D%2C%20%5B73.93032%2C%2018.58333%5D%2C%20%5B73.93%2C%2018.58231%5D%2C%20%5B73.92973%2C%2018.58111%5D%2C%20%5B73.92936%2C%2018.57889%5D%2C%20%5B73.92793%2C%2018.57%5D%2C%20%5B73.92778%2C%2018.56947%5D%2C%20%5B73.92724%2C%2018.56778%5D%2C%20%5B73.92634%2C%2018.56556%5D%2C%20%5B73.92556%2C%2018.56404%5D%2C%20%5B73.92513%2C%2018.56333%5D%2C%20%5B73.92345%2C%2018.56111%5D%2C%20%5B73.92333%2C%2018.56099%5D%2C%20%5B73.92111%2C%2018.55907%5D%2C%20%5B73.92082%2C%2018.55889%5D%2C%20%5B73.91889%2C%2018.55787%5D%2C%20%5B73.91667%2C%2018.55719%5D%2C%20%5B73.91444%2C%2018.55701%5D%2C%20%5B73.91222%2C%2018.5572%5D%2C%20%5B73.91%2C%2018.55765%5D%2C%20%5B73.90778%2C%2018.55829%5D%2C%20%5B73.90556%2C%2018.55903%5D%2C%20%5B73.90111%2C%2018.56082%5D%2C%20%5B73.89889%2C%2018.5619%5D%2C%20%5B73.89631%2C%2018.56333%5D%2C%20%5B73.89444%2C%2018.56458%5D%2C%20%5B73.89317%2C%2018.56556%5D%2C%20%5B73.89222%2C%2018.56635%5D%2C%20%5B73.8907%2C%2018.56778%5D%2C%20%5B73.89%2C%2018.56849%5D%2C%20%5B73.88864%2C%2018.57%5D%2C%20%5B73.88778%2C%2018.57105%5D%2C%20%5B73.88688%2C%2018.57222%5D%2C%20%5B73.88533%2C%2018.57444%5D%2C%20%5B73.88333%2C%2018.57774%5D%2C%20%5B73.88157%2C%2018.58111%5D%2C%20%5B73.88054%2C%2018.58333%5D%2C%20%5B73.87889%2C%2018.58737%5D%2C%20%5B73.87726%2C%2018.59222%5D%2C%20%5B73.87662%2C%2018.59444%5D%2C%20%5B73.8756%2C%2018.59889%5D%2C%20%5B73.87488%2C%2018.60333%5D%2C%20%5B73.87463%2C%2018.60556%5D%2C%20%5B73.87444%2C%2018.60848%5D%2C%20%5B73.87444%2C%2018.61444%5D%2C%20%5B73.87478%2C%2018.61889%5D%2C%20%5B73.87536%2C%2018.62333%5D%2C%20%5B73.87659%2C%2018.63%5D%2C%20%5B73.88115%2C%2018.65222%5D%2C%20%5B73.88172%2C%2018.65667%5D%2C%20%5B73.8819%2C%2018.65889%5D%2C%20%5B73.88199%2C%2018.66111%5D%2C%20%5B73.88195%2C%2018.66333%5D%2C%20%5B73.88177%2C%2018.66556%5D%2C%20%5B73.88157%2C%2018.66778%5D%2C%20%5B73.88111%2C%2018.66778%5D%2C%20%5B73.87367%2C%2018.66778%5D%2C%20%5B73.87375%2C%2018.66556%5D%2C%20%5B73.87402%2C%2018.66333%5D%2C%20%5B73.87475%2C%2018.65667%5D%2C%20%5B73.87473%2C%2018.65444%5D%2C%20%5B73.8746%2C%2018.65222%5D%2C%20%5B73.87438%2C%2018.65%5D%2C%20%5B73.87371%2C%2018.64556%5D%2C%20%5B73.87237%2C%2018.63889%5D%2C%20%5B73.86836%2C%2018.62111%5D%2C%20%5B73.86809%2C%2018.61889%5D%2C%20%5B73.8679%2C%2018.61667%5D%2C%20%5B73.8678%2C%2018.61444%5D%2C%20%5B73.86778%2C%2018.61222%5D%2C%20%5B73.86785%2C%2018.61%5D%2C%20%5B73.86801%2C%2018.60778%5D%2C%20%5B73.86824%2C%2018.60556%5D%2C%20%5B73.86892%2C%2018.60111%5D%2C%20%5B73.86986%2C%2018.59667%5D%2C%20%5B73.87103%2C%2018.59222%5D%2C%20%5B73.87241%2C%2018.58778%5D%2C%20%5B73.87444%2C%2018.58226%5D%2C%20%5B73.87667%2C%2018.57714%5D%2C%20%5B73.87889%2C%2018.5728%5D%2C%20%5B73.88056%2C%2018.57%5D%2C%20%5B73.88206%2C%2018.56778%5D%2C%20%5B73.88376%2C%2018.56556%5D%2C%20%5B73.88573%2C%2018.56333%5D%2C%20%5B73.88809%2C%2018.56111%5D%2C%20%5B73.89%2C%2018.55962%5D%2C%20%5B73.89106%2C%2018.55889%5D%2C%20%5B73.89222%2C%2018.55815%5D%2C%20%5B73.89444%2C%2018.5569%5D%2C%20%5B73.89491%2C%2018.55667%5D%2C%20%5B73.89889%2C%2018.55486%5D%2C%20%5B73.90111%2C%2018.554%5D%2C%20%5B73.90333%2C%2018.55325%5D%2C%20%5B73.90556%2C%2018.5526%5D%2C%20%5B73.90778%2C%2018.55204%5D%5D%5D%5D%2C%20%22type%22%3A%20%22MultiPolygon%22%7D%2C%20%22properties%22%3A%20%7B%22fill%22%3A%20%22%23ff0000%22%2C%20%22fill-opacity%22%3A%200.5%2C%20%22stroke%22%3A%20%22%23ff0000%22%2C%20%22stroke-opacity%22%3A%201%2C%20%22stroke-width%22%3A%201%2C%20%22title%22%3A%20%22180.00-190.00%20%22%7D%2C%20%22type%22%3A%20%22Feature%22%7D%2C%20%7B%22geometry%22%3A%20%7B%22coordinates%22%3A%20%5B%5B%5B%5B73.8504%2C%2018.4504%5D%2C%20%5B73.85437%2C%2018.45437%5D%2C%20%5B73.85422%2C%2018.45444%5D%2C%20%5B73.85%2C%2018.4567%5D%2C%20%5B73.84778%2C%2018.45761%5D%2C%20%5B73.84659%2C%2018.45786%5D%2C%20%5B73.84778%2C%2018.45667%5D%2C%20%5B73.84778%2C%2018.45444%5D%2C%20%5B73.85%2C%2018.45222%5D%2C%20%5B73.8504%2C%2018.4504%5D%5D%5D%2C%20%5B%5B%5B73.81446%2C%2018.50333%5D%2C%20%5B73.81444%2C%2018.50336%5D%2C%20%5B73.81444%2C%2018.50333%5D%2C%20%5B73.81446%2C%2018.50333%5D%5D%5D%2C%20%5B%5B%5B73.81016%2C%2018.51%5D%2C%20%5B73.81%2C%2018.5102%5D%2C%20%5B73.81%2C%2018.51%5D%2C%20%5B73.81016%2C%2018.51%5D%5D%5D%2C%20%5B%5B%5B73.80586%2C%2018.51667%5D%2C%20%5B73.80556%2C%2018.51707%5D%2C%20%5B73.80556%2C%2018.51667%5D%2C%20%5B73.80586%2C%2018.51667%5D%5D%5D%2C%20%5B%5B%5B73.80159%2C%2018.52333%5D%2C%20%5B73.80111%2C%2018.52397%5D%2C%20%5B73.80111%2C%2018.52356%5D%2C%20%5B73.80128%2C%2018.52333%5D%2C%20%5B73.80157%2C%2018.52287%5D%2C%20%5B73.80159%2C%2018.52333%5D%5D%5D%2C%20%5B%5B%5B73.79734%2C%2018.53%5D%2C%20%5B73.79667%2C%2018.53091%5D%2C%20%5B73.79667%2C%2018.53049%5D%2C%20%5B73.79703%2C%2018.53%5D%2C%20%5B73.79734%2C%2018.53%5D%5D%5D%2C%20%5B%5B%5B73.79456%2C%2018.53444%5D%2C%20%5B73.79444%2C%2018.53458%5D%2C%20%5B73.79313%2C%2018.53667%5D%2C%20%5B73.79222%2C%2018.5379%5D%2C%20%5B73.79222%2C%2018.53747%5D%2C%20%5B73.79282%2C%2018.53667%5D%2C%20%5B73.79444%2C%2018.53444%5D%2C%20%5B73.79456%2C%2018.53444%5D%5D%5D%2C%20%5B%5B%5B73.79046%2C%2018.54111%5D%2C%20%5B73.79%2C%2018.54166%5D%2C%20%5B73.78898%2C%2018.54333%5D%2C%20%5B73.78778%2C%2018.54495%5D%2C%20%5B73.78778%2C%2018.54451%5D%2C%20%5B73.78865%2C%2018.54333%5D%2C%20%5B73.79%2C%2018.54111%5D%2C%20%5B73.79%2C%2018.54111%5D%2C%20%5B73.79046%2C%2018.54111%5D%5D%5D%2C%20%5B%5B%5B73.78648%2C%2018.54778%5D%2C%20%5B73.78556%2C%2018.54891%5D%2C%20%5B73.78494%2C%2018.55%5D%2C%20%5B73.78333%2C%2018.55211%5D%2C%20%5B73.78333%2C%2018.55164%5D%2C%20%5B73.78458%2C%2018.55%5D%2C%20%5B73.78556%2C%2018.54828%5D%2C%20%5B73.78611%2C%2018.54722%5D%2C%20%5B73.78648%2C%2018.54778%5D%5D%5D%2C%20%5B%5B%5B73.78275%2C%2018.55444%5D%2C%20%5B73.78111%2C%2018.55661%5D%2C%20%5B73.78111%2C%2018.55578%5D%2C%20%5B73.78212%2C%2018.55444%5D%2C%20%5B73.78237%2C%2018.55318%5D%2C%20%5B73.78275%2C%2018.55444%5D%5D%5D%2C%20%5B%5B%5B73.78087%2C%2018.55889%5D%2C%20%5B73.78048%2C%2018.56556%5D%2C%20%5B73.78042%2C%2018.57444%5D%2C%20%5B73.7808%2C%2018.58111%5D%2C%20%5B73.78111%2C%2018.58397%5D%2C%20%5B73.78172%2C%2018.58778%5D%2C%20%5B73.78269%2C%2018.59222%5D%2C%20%5B73.78459%2C%2018.60111%5D%2C%20%5B73.78485%2C%2018.60333%5D%2C%20%5B73.785%2C%2018.60556%5D%2C%20%5B73.785%2C%2018.60778%5D%2C%20%5B73.78483%2C%2018.61%5D%2C%20%5B73.78444%2C%2018.61222%5D%2C%20%5B73.78378%2C%2018.61444%5D%2C%20%5B73.78333%2C%2018.61548%5D%2C%20%5B73.78281%2C%2018.61667%5D%2C%20%5B73.78153%2C%2018.61889%5D%2C%20%5B73.78111%2C%2018.61947%5D%2C%20%5B73.77889%2C%2018.62228%5D%2C%20%5B73.77794%2C%2018.62333%5D%2C%20%5B73.77667%2C%2018.62454%5D%2C%20%5B73.77444%2C%2018.62647%5D%2C%20%5B73.77222%2C%2018.62816%5D%2C%20%5B73.76947%2C%2018.63%5D%2C%20%5B73.76778%2C%2018.631%5D%2C%20%5B73.76556%2C%2018.63224%5D%2C%20%5B73.761%2C%2018.63444%5D%2C%20%5B73.75667%2C%2018.63623%5D%2C%20%5B73.75667%2C%2018.63444%5D%2C%20%5B73.75667%2C%2018.63335%5D%2C%20%5B73.75889%2C%2018.63231%5D%2C%20%5B73.76111%2C%2018.63116%5D%2C%20%5B73.76333%2C%2018.62993%5D%2C%20%5B73.76673%2C%2018.62778%5D%2C%20%5B73.76778%2C%2018.62702%5D%2C%20%5B73.77%2C%2018.62531%5D%2C%20%5B73.77225%2C%2018.62333%5D%2C%20%5B73.77438%2C%2018.62111%5D%2C%20%5B73.77444%2C%2018.62104%5D%2C%20%5B73.77667%2C%2018.61816%5D%2C%20%5B73.77765%2C%2018.61667%5D%2C%20%5B73.77881%2C%2018.61444%5D%2C%20%5B73.77889%2C%2018.61426%5D%2C%20%5B73.77971%2C%2018.61222%5D%2C%20%5B73.7803%2C%2018.61%5D%2C%20%5B73.78064%2C%2018.60778%5D%2C%20%5B73.78079%2C%2018.60556%5D%2C%20%5B73.78077%2C%2018.60333%5D%2C%20%5B73.78062%2C%2018.60111%5D%2C%20%5B73.78035%2C%2018.59889%5D%2C%20%5B73.77999%2C%2018.59667%5D%2C%20%5B73.77806%2C%2018.58556%5D%2C%20%5B73.77774%2C%2018.58111%5D%2C%20%5B73.77763%2C%2018.57667%5D%2C%20%5B73.77778%2C%2018.57%5D%2C%20%5B73.77819%2C%2018.56333%5D%2C%20%5B73.77869%2C%2018.56111%5D%2C%20%5B73.77909%2C%2018.55868%5D%2C%20%5B73.78087%2C%2018.55889%5D%5D%5D%2C%20%5B%5B%5B73.90778%2C%2018.55829%5D%2C%20%5B73.91222%2C%2018.5572%5D%2C%20%5B73.91444%2C%2018.55701%5D%2C%20%5B73.91667%2C%2018.55719%5D%2C%20%5B73.91889%2C%2018.55787%5D%2C%20%5B73.92082%2C%2018.55889%5D%2C%20%5B73.92111%2C%2018.55907%5D%2C%20%5B73.92333%2C%2018.56099%5D%2C%20%5B73.92345%2C%2018.56111%5D%2C%20%5B73.92513%2C%2018.56333%5D%2C%20%5B73.92556%2C%2018.56404%5D%2C%20%5B73.92634%2C%2018.56556%5D%2C%20%5B73.92724%2C%2018.56778%5D%2C%20%5B73.92778%2C%2018.56947%5D%2C%20%5B73.92793%2C%2018.57%5D%2C%20%5B73.92841%2C%2018.57222%5D%2C%20%5B73.92877%2C%2018.57444%5D%2C%20%5B73.93%2C%2018.58231%5D%2C%20%5B73.93032%2C%2018.58333%5D%2C%20%5B73.9315%2C%2018.58556%5D%2C%20%5B73.93222%2C%2018.58633%5D%2C%20%5B73.93321%2C%2018.58679%5D%2C%20%5B73.93222%2C%2018.58778%5D%2C%20%5B73.93222%2C%2018.59%5D%2C%20%5B73.93%2C%2018.59222%5D%2C%20%5B73.93%2C%2018.59444%5D%2C%20%5B73.92778%2C%2018.59667%5D%2C%20%5B73.92778%2C%2018.59889%5D%2C%20%5B73.9266%2C%2018.60006%5D%2C%20%5B73.92556%2C%2018.60001%5D%2C%20%5B73.92416%2C%2018.59889%5D%2C%20%5B73.92333%2C%2018.59731%5D%2C%20%5B73.92317%2C%2018.59667%5D%2C%20%5B73.92284%2C%2018.59444%5D%2C%20%5B73.92267%2C%2018.59222%5D%2C%20%5B73.92176%2C%2018.57889%5D%2C%20%5B73.9213%2C%2018.57667%5D%2C%20%5B73.92111%2C%2018.57596%5D%2C%20%5B73.92062%2C%2018.57444%5D%2C%20%5B73.91967%2C%2018.57222%5D%2C%20%5B73.91889%2C%2018.57081%5D%2C%20%5B73.91832%2C%2018.57%5D%2C%20%5B73.91667%2C%2018.56816%5D%2C%20%5B73.91618%2C%2018.56778%5D%2C%20%5B73.91444%2C%2018.56667%5D%2C%20%5B73.91222%2C%2018.56588%5D%2C%20%5B73.91%2C%2018.56562%5D%2C%20%5B73.90778%2C%2018.5658%5D%2C%20%5B73.90556%2C%2018.56637%5D%2C%20%5B73.90333%2C%2018.56726%5D%2C%20%5B73.90236%2C%2018.56778%5D%2C%20%5B73.90111%2C%2018.56847%5D%2C%20%5B73.89889%2C%2018.5699%5D%2C%20%5B73.89875%2C%2018.57%5D%2C%20%5B73.89667%2C%2018.57167%5D%2C%20%5B73.89606%2C%2018.57222%5D%2C%20%5B73.89444%2C%2018.57379%5D%2C%20%5B73.89384%2C%2018.57444%5D%2C%20%5B73.89196%2C%2018.57667%5D%2C%20%5B73.89%2C%2018.57941%5D%2C%20%5B73.88778%2C%2018.58313%5D%2C%20%5B73.88767%2C%2018.58333%5D%2C%20%5B73.88656%2C%2018.58556%5D%2C%20%5B73.88556%2C%2018.58779%5D%2C%20%5B73.88392%2C%2018.59222%5D%2C%20%5B73.88324%2C%2018.59444%5D%2C%20%5B73.88266%2C%2018.59667%5D%2C%20%5B73.88217%2C%2018.59889%5D%2C%20%5B73.88176%2C%2018.60111%5D%2C%20%5B73.88143%2C%2018.60333%5D%2C%20%5B73.88111%2C%2018.60644%5D%2C%20%5B73.88086%2C%2018.61222%5D%2C%20%5B73.88096%2C%2018.61667%5D%2C%20%5B73.88111%2C%2018.61905%5D%2C%20%5B73.88187%2C%2018.62556%5D%2C%20%5B73.88333%2C%2018.63381%5D%2C%20%5B73.88885%2C%2018.66111%5D%2C%20%5B73.88922%2C%2018.66556%5D%2C%20%5B73.88926%2C%2018.66926%5D%2C%20%5B73.88778%2C%2018.66778%5D%2C%20%5B73.88556%2C%2018.66778%5D%2C%20%5B73.88157%2C%2018.66778%5D%2C%20%5B73.88177%2C%2018.66556%5D%2C%20%5B73.88199%2C%2018.66111%5D%2C%20%5B73.8819%2C%2018.65889%5D%2C%20%5B73.88172%2C%2018.65667%5D%2C%20%5B73.88115%2C%2018.65222%5D%2C%20%5B73.87993%2C%2018.64556%5D%2C%20%5B73.87504%2C%2018.62111%5D%2C%20%5B73.87457%2C%2018.61667%5D%2C%20%5B73.87444%2C%2018.61444%5D%2C%20%5B73.87439%2C%2018.61%5D%2C%20%5B73.87447%2C%2018.60778%5D%2C%20%5B73.87463%2C%2018.60556%5D%2C%20%5B73.87488%2C%2018.60333%5D%2C%20%5B73.8756%2C%2018.59889%5D%2C%20%5B73.87662%2C%2018.59444%5D%2C%20%5B73.87796%2C%2018.59%5D%2C%20%5B73.87889%2C%2018.58737%5D%2C%20%5B73.88111%2C%2018.58208%5D%2C%20%5B73.8827%2C%2018.57889%5D%2C%20%5B73.88395%2C%2018.57667%5D%2C%20%5B73.88556%2C%2018.5741%5D%2C%20%5B73.88778%2C%2018.57105%5D%2C%20%5B73.88864%2C%2018.57%5D%2C%20%5B73.89%2C%2018.56849%5D%2C%20%5B73.8907%2C%2018.56778%5D%2C%20%5B73.89222%2C%2018.56635%5D%2C%20%5B73.89317%2C%2018.56556%5D%2C%20%5B73.89444%2C%2018.56458%5D%2C%20%5B73.89631%2C%2018.56333%5D%2C%20%5B73.89667%2C%2018.56311%5D%2C%20%5B73.89889%2C%2018.5619%5D%2C%20%5B73.90111%2C%2018.56082%5D%2C%20%5B73.90333%2C%2018.55988%5D%2C%20%5B73.90778%2C%2018.55829%5D%5D%5D%5D%2C%20%22type%22%3A%20%22MultiPolygon%22%7D%2C%20%22properties%22%3A%20%7B%22fill%22%3A%20%22%23ff0000%22%2C%20%22fill-opacity%22%3A%200.5%2C%20%22stroke%22%3A%20%22%23ff0000%22%2C%20%22stroke-opacity%22%3A%201%2C%20%22stroke-width%22%3A%201%2C%20%22title%22%3A%20%22190.00-200.00%20%22%7D%2C%20%22type%22%3A%20%22Feature%22%7D%2C%20%7B%22geometry%22%3A%20%7B%22coordinates%22%3A%20%5B%5B%5B%5B73.85%2C%2018.45%5D%2C%20%5B73.8504%2C%2018.4504%5D%2C%20%5B73.85%2C%2018.45%5D%5D%5D%2C%20%5B%5B%5B73.80128%2C%2018.52333%5D%2C%20%5B73.80111%2C%2018.52356%5D%2C%20%5B73.80111%2C%2018.52333%5D%2C%20%5B73.80128%2C%2018.52333%5D%5D%5D%2C%20%5B%5B%5B73.79703%2C%2018.53%5D%2C%20%5B73.79667%2C%2018.53049%5D%2C%20%5B73.79667%2C%2018.53008%5D%2C%20%5B73.79672%2C%2018.53%5D%2C%20%5B73.79682%2C%2018.52985%5D%2C%20%5B73.79703%2C%2018.53%5D%5D%5D%2C%20%5B%5B%5B73.79282%2C%2018.53667%5D%2C%20%5B73.79222%2C%2018.53747%5D%2C%20%5B73.79222%2C%2018.53705%5D%2C%20%5B73.7925%2C%2018.53667%5D%2C%20%5B73.79282%2C%2018.53667%5D%5D%5D%2C%20%5B%5B%5B73.79%2C%2018.54111%5D%2C%20%5B73.79%2C%2018.54111%5D%2C%20%5B73.78865%2C%2018.54333%5D%2C%20%5B73.78778%2C%2018.54451%5D%2C%20%5B73.78778%2C%2018.54407%5D%2C%20%5B73.78832%2C%2018.54333%5D%2C%20%5B73.79%2C%2018.54111%5D%2C%20%5B73.79%2C%2018.54111%5D%5D%5D%2C%20%5B%5B%5B73.78596%2C%2018.54778%5D%2C%20%5B73.78556%2C%2018.54828%5D%2C%20%5B73.78458%2C%2018.55%5D%2C%20%5B73.78333%2C%2018.55164%5D%2C%20%5B73.78333%2C%2018.55117%5D%2C%20%5B73.78422%2C%2018.55%5D%2C%20%5B73.78538%2C%2018.54795%5D%2C%20%5B73.78556%2C%2018.54778%5D%2C%20%5B73.78596%2C%2018.54778%5D%5D%5D%2C%20%5B%5B%5B73.78212%2C%2018.55444%5D%2C%20%5B73.78111%2C%2018.55578%5D%2C%20%5B73.78111%2C%2018.55496%5D%2C%20%5B73.7815%2C%2018.55444%5D%2C%20%5B73.78212%2C%2018.55444%5D%5D%5D%2C%20%5B%5B%5B73.77908%2C%2018.55889%5D%2C%20%5B73.77889%2C%2018.55958%5D%2C%20%5B73.77869%2C%2018.56111%5D%2C%20%5B73.77803%2C%2018.56556%5D%2C%20%5B73.77764%2C%2018.57444%5D%2C%20%5B73.77774%2C%2018.58111%5D%2C%20%5B73.77806%2C%2018.58556%5D%2C%20%5B73.77864%2C%2018.59%5D%2C%20%5B73.77905%2C%2018.59222%5D%2C%20%5B73.78062%2C%2018.60111%5D%2C%20%5B73.78077%2C%2018.60333%5D%2C%20%5B73.78079%2C%2018.60556%5D%2C%20%5B73.78064%2C%2018.60778%5D%2C%20%5B73.7803%2C%2018.61%5D%2C%20%5B73.77971%2C%2018.61222%5D%2C%20%5B73.77889%2C%2018.61426%5D%2C%20%5B73.77881%2C%2018.61444%5D%2C%20%5B73.77765%2C%2018.61667%5D%2C%20%5B73.77667%2C%2018.61816%5D%2C%20%5B73.77618%2C%2018.61889%5D%2C%20%5B73.77444%2C%2018.62104%5D%2C%20%5B73.77438%2C%2018.62111%5D%2C%20%5B73.77225%2C%2018.62333%5D%2C%20%5B73.77222%2C%2018.62335%5D%2C%20%5B73.76971%2C%2018.62556%5D%2C%20%5B73.76778%2C%2018.62702%5D%2C%20%5B73.76556%2C%2018.62854%5D%2C%20%5B73.76321%2C%2018.63%5D%2C%20%5B73.75907%2C%2018.63222%5D%2C%20%5B73.75667%2C%2018.63335%5D%2C%20%5B73.75667%2C%2018.63222%5D%2C%20%5B73.75667%2C%2018.63034%5D%2C%20%5B73.75731%2C%2018.63%5D%2C%20%5B73.76106%2C%2018.62778%5D%2C%20%5B73.76111%2C%2018.62775%5D%2C%20%5B73.76426%2C%2018.62556%5D%2C%20%5B73.76556%2C%2018.62452%5D%2C%20%5B73.76778%2C%2018.62258%5D%2C%20%5B73.77%2C%2018.62031%5D%2C%20%5B73.77222%2C%2018.61754%5D%2C%20%5B73.77285%2C%2018.61667%5D%2C%20%5B73.77418%2C%2018.61444%5D%2C%20%5B73.77444%2C%2018.6139%5D%2C%20%5B73.77524%2C%2018.61222%5D%2C%20%5B73.77604%2C%2018.61%5D%2C%20%5B73.77656%2C%2018.60778%5D%2C%20%5B73.77667%2C%2018.60695%5D%2C%20%5B73.77696%2C%2018.60333%5D%2C%20%5B73.77692%2C%2018.60111%5D%2C%20%5B73.77674%2C%2018.59889%5D%2C%20%5B73.77646%2C%2018.59667%5D%2C%20%5B73.77507%2C%2018.58556%5D%2C%20%5B73.77495%2C%2018.58111%5D%2C%20%5B73.77512%2C%2018.57444%5D%2C%20%5B73.77595%2C%2018.56405%5D%2C%20%5B73.77667%2C%2018.56333%5D%2C%20%5B73.77667%2C%2018.56295%5D%2C%20%5B73.7779%2C%2018.56111%5D%2C%20%5B73.77808%2C%2018.5597%5D%2C%20%5B73.77889%2C%2018.55889%5D%2C%20%5B73.77908%2C%2018.55889%5D%5D%5D%2C%20%5B%5B%5B73.90333%2C%2018.56726%5D%2C%20%5B73.90556%2C%2018.56637%5D%2C%20%5B73.90778%2C%2018.5658%5D%2C%20%5B73.91%2C%2018.56562%5D%2C%20%5B73.91222%2C%2018.56588%5D%2C%20%5B73.91444%2C%2018.56667%5D%2C%20%5B73.91618%2C%2018.56778%5D%2C%20%5B73.91667%2C%2018.56816%5D%2C%20%5B73.91832%2C%2018.57%5D%2C%20%5B73.91889%2C%2018.57081%5D%2C%20%5B73.91967%2C%2018.57222%5D%2C%20%5B73.92062%2C%2018.57444%5D%2C%20%5B73.92111%2C%2018.57596%5D%2C%20%5B73.9213%2C%2018.57667%5D%2C%20%5B73.92176%2C%2018.57889%5D%2C%20%5B73.92208%2C%2018.58111%5D%2C%20%5B73.92228%2C%2018.58333%5D%2C%20%5B73.92249%2C%2018.58778%5D%2C%20%5B73.92284%2C%2018.59444%5D%2C%20%5B73.92317%2C%2018.59667%5D%2C%20%5B73.92333%2C%2018.59731%5D%2C%20%5B73.92416%2C%2018.59889%5D%2C%20%5B73.92556%2C%2018.60001%5D%2C%20%5B73.9266%2C%2018.60006%5D%2C%20%5B73.92556%2C%2018.60111%5D%2C%20%5B73.92333%2C%2018.60333%5D%2C%20%5B73.92333%2C%2018.60556%5D%2C%20%5B73.92111%2C%2018.60778%5D%2C%20%5B73.92111%2C%2018.61%5D%2C%20%5B73.91889%2C%2018.61222%5D%2C%20%5B73.91889%2C%2018.61444%5D%2C%20%5B73.91667%2C%2018.61667%5D%2C%20%5B73.91667%2C%2018.61889%5D%2C%20%5B73.91444%2C%2018.62111%5D%2C%20%5B73.91444%2C%2018.62261%5D%2C%20%5B73.9132%2C%2018.62333%5D%2C%20%5B73.91222%2C%2018.62423%5D%2C%20%5B73.91087%2C%2018.62333%5D%2C%20%5B73.91072%2C%2018.62111%5D%2C%20%5B73.91097%2C%2018.61889%5D%2C%20%5B73.91202%2C%2018.61222%5D%2C%20%5B73.91368%2C%2018.60111%5D%2C%20%5B73.91403%2C%2018.59667%5D%2C%20%5B73.91409%2C%2018.59444%5D%2C%20%5B73.91406%2C%2018.59222%5D%2C%20%5B73.91391%2C%2018.59%5D%2C%20%5B73.91361%2C%2018.58778%5D%2C%20%5B73.91313%2C%2018.58556%5D%2C%20%5B73.91243%2C%2018.58333%5D%2C%20%5B73.91222%2C%2018.58286%5D%2C%20%5B73.91119%2C%2018.58111%5D%2C%20%5B73.91%2C%2018.57965%5D%2C%20%5B73.90893%2C%2018.57889%5D%2C%20%5B73.90778%2C%2018.57826%5D%2C%20%5B73.90556%2C%2018.57785%5D%2C%20%5B73.90333%2C%2018.57813%5D%2C%20%5B73.90135%2C%2018.57889%5D%2C%20%5B73.90111%2C%2018.57898%5D%2C%20%5B73.89889%2C%2018.58043%5D%2C%20%5B73.89819%2C%2018.58111%5D%2C%20%5B73.89667%2C%2018.58261%5D%2C%20%5B73.89613%2C%2018.58333%5D%2C%20%5B73.89444%2C%2018.58568%5D%2C%20%5B73.89329%2C%2018.58778%5D%2C%20%5B73.89214%2C%2018.59%5D%2C%20%5B73.89122%2C%2018.59222%5D%2C%20%5B73.89%2C%2018.59561%5D%2C%20%5B73.88968%2C%2018.59667%5D%2C%20%5B73.8891%2C%2018.59889%5D%2C%20%5B73.88861%2C%2018.60111%5D%2C%20%5B73.88821%2C%2018.60333%5D%2C%20%5B73.88789%2C%2018.60556%5D%2C%20%5B73.88768%2C%2018.60778%5D%2C%20%5B73.88757%2C%2018.61%5D%2C%20%5B73.88754%2C%2018.61222%5D%2C%20%5B73.8877%2C%2018.61667%5D%2C%20%5B73.88792%2C%2018.61889%5D%2C%20%5B73.88859%2C%2018.62333%5D%2C%20%5B73.88952%2C%2018.62778%5D%2C%20%5B73.89008%2C%2018.63%5D%2C%20%5B73.89222%2C%2018.63594%5D%2C%20%5B73.89268%2C%2018.63667%5D%2C%20%5B73.89444%2C%2018.63953%5D%2C%20%5B73.89608%2C%2018.64111%5D%2C%20%5B73.89667%2C%2018.64174%5D%2C%20%5B73.89889%2C%2018.64258%5D%2C%20%5B73.90111%2C%2018.64274%5D%2C%20%5B73.90127%2C%2018.64333%5D%2C%20%5B73.90132%2C%2018.64535%5D%2C%20%5B73.90111%2C%2018.64556%5D%2C%20%5B73.90111%2C%2018.64636%5D%2C%20%5B73.90081%2C%2018.64778%5D%2C%20%5B73.90083%2C%2018.64806%5D%2C%20%5B73.89889%2C%2018.65%5D%2C%20%5B73.89889%2C%2018.65222%5D%2C%20%5B73.89667%2C%2018.65444%5D%2C%20%5B73.89667%2C%2018.65667%5D%2C%20%5B73.89444%2C%2018.65889%5D%2C%20%5B73.89444%2C%2018.66111%5D%2C%20%5B73.89222%2C%2018.66333%5D%2C%20%5B73.89222%2C%2018.66556%5D%2C%20%5B73.89%2C%2018.66778%5D%2C%20%5B73.89%2C%2018.67%5D%2C%20%5B73.88926%2C%2018.66926%5D%2C%20%5B73.88927%2C%2018.66778%5D%2C%20%5B73.88907%2C%2018.66333%5D%2C%20%5B73.88885%2C%2018.66111%5D%2C%20%5B73.88818%2C%2018.65667%5D%2C%20%5B73.88643%2C%2018.64778%5D%2C%20%5B73.88187%2C%2018.62556%5D%2C%20%5B73.8813%2C%2018.62111%5D%2C%20%5B73.88096%2C%2018.61667%5D%2C%20%5B73.88086%2C%2018.61222%5D%2C%20%5B73.88101%2C%2018.60778%5D%2C%20%5B73.88118%2C%2018.60556%5D%2C%20%5B73.88176%2C%2018.60111%5D%2C%20%5B73.88217%2C%2018.59889%5D%2C%20%5B73.88266%2C%2018.59667%5D%2C%20%5B73.88333%2C%2018.59413%5D%2C%20%5B73.88469%2C%2018.59%5D%2C%20%5B73.88556%2C%2018.58778%5D%2C%20%5B73.88656%2C%2018.58556%5D%2C%20%5B73.88778%2C%2018.58313%5D%2C%20%5B73.89%2C%2018.57941%5D%2C%20%5B73.89035%2C%2018.57889%5D%2C%20%5B73.89222%2C%2018.57634%5D%2C%20%5B73.89444%2C%2018.57379%5D%2C%20%5B73.89606%2C%2018.57222%5D%2C%20%5B73.89667%2C%2018.57167%5D%2C%20%5B73.89875%2C%2018.57%5D%2C%20%5B73.89889%2C%2018.5699%5D%2C%20%5B73.90111%2C%2018.56847%5D%2C%20%5B73.90333%2C%2018.56726%5D%5D%5D%5D%2C%20%22type%22%3A%20%22MultiPolygon%22%7D%2C%20%22properties%22%3A%20%7B%22fill%22%3A%20%22%23ff0000%22%2C%20%22fill-opacity%22%3A%200.5%2C%20%22stroke%22%3A%20%22%23ff0000%22%2C%20%22stroke-opacity%22%3A%201%2C%20%22stroke-width%22%3A%201%2C%20%22title%22%3A%20%22200.00-210.00%20%22%7D%2C%20%22type%22%3A%20%22Feature%22%7D%2C%20%7B%22geometry%22%3A%20%7B%22coordinates%22%3A%20%5B%5B%5B%5B73.79672%2C%2018.53%5D%2C%20%5B73.79667%2C%2018.53008%5D%2C%20%5B73.79667%2C%2018.53%5D%2C%20%5B73.79672%2C%2018.53%5D%5D%5D%2C%20%5B%5B%5B73.7925%2C%2018.53667%5D%2C%20%5B73.79222%2C%2018.53705%5D%2C%20%5B73.79222%2C%2018.53667%5D%2C%20%5B73.7925%2C%2018.53667%5D%5D%5D%2C%20%5B%5B%5B73.78832%2C%2018.54333%5D%2C%20%5B73.78778%2C%2018.54407%5D%2C%20%5B73.78778%2C%2018.54362%5D%2C%20%5B73.78799%2C%2018.54333%5D%2C%20%5B73.78833%2C%2018.54278%5D%2C%20%5B73.78832%2C%2018.54333%5D%5D%5D%2C%20%5B%5B%5B73.78422%2C%2018.55%5D%2C%20%5B73.78333%2C%2018.55117%5D%2C%20%5B73.78333%2C%2018.55069%5D%2C%20%5B73.78386%2C%2018.55%5D%2C%20%5B73.78422%2C%2018.55%5D%5D%5D%2C%20%5B%5B%5B73.7815%2C%2018.55444%5D%2C%20%5B73.78111%2C%2018.55496%5D%2C%20%5B73.78111%2C%2018.55444%5D%2C%20%5B73.7815%2C%2018.55444%5D%5D%5D%2C%20%5B%5B%5B73.7779%2C%2018.56111%5D%2C%20%5B73.77667%2C%2018.56295%5D%2C%20%5B73.77667%2C%2018.56176%5D%2C%20%5B73.7771%2C%2018.56111%5D%2C%20%5B73.7779%2C%2018.56111%5D%5D%5D%2C%20%5B%5B%5B73.77582%2C%2018.56556%5D%2C%20%5B73.77502%2C%2018.57667%5D%2C%20%5B73.77498%2C%2018.58333%5D%2C%20%5B73.77522%2C%2018.58778%5D%2C%20%5B73.77572%2C%2018.59222%5D%2C%20%5B73.77692%2C%2018.60111%5D%2C%20%5B73.77696%2C%2018.60333%5D%2C%20%5B73.77685%2C%2018.60556%5D%2C%20%5B73.77667%2C%2018.60695%5D%2C%20%5B73.77656%2C%2018.60778%5D%2C%20%5B73.77604%2C%2018.61%5D%2C%20%5B73.77524%2C%2018.61222%5D%2C%20%5B73.77444%2C%2018.6139%5D%2C%20%5B73.77418%2C%2018.61444%5D%2C%20%5B73.77285%2C%2018.61667%5D%2C%20%5B73.77222%2C%2018.61754%5D%2C%20%5B73.77%2C%2018.62031%5D%2C%20%5B73.76929%2C%2018.62111%5D%2C%20%5B73.76778%2C%2018.62258%5D%2C%20%5B73.76698%2C%2018.62333%5D%2C%20%5B73.76556%2C%2018.62452%5D%2C%20%5B73.76333%2C%2018.62622%5D%2C%20%5B73.76106%2C%2018.62778%5D%2C%20%5B73.75731%2C%2018.63%5D%2C%20%5B73.75667%2C%2018.63034%5D%2C%20%5B73.75667%2C%2018.63%5D%2C%20%5B73.75667%2C%2018.62778%5D%2C%20%5B73.75667%2C%2018.62716%5D%2C%20%5B73.76111%2C%2018.62404%5D%2C%20%5B73.76201%2C%2018.62333%5D%2C%20%5B73.76333%2C%2018.62217%5D%2C%20%5B73.76556%2C%2018.62%5D%2C%20%5B73.76658%2C%2018.61889%5D%2C%20%5B73.76778%2C%2018.6174%5D%2C%20%5B73.76835%2C%2018.61667%5D%2C%20%5B73.76981%2C%2018.61444%5D%2C%20%5B73.77%2C%2018.61411%5D%2C%20%5B73.77102%2C%2018.61222%5D%2C%20%5B73.77198%2C%2018.61%5D%2C%20%5B73.77222%2C%2018.60924%5D%2C%20%5B73.77268%2C%2018.60778%5D%2C%20%5B73.77313%2C%2018.60556%5D%2C%20%5B73.77337%2C%2018.60333%5D%2C%20%5B73.77343%2C%2018.60111%5D%2C%20%5B73.77336%2C%2018.59889%5D%2C%20%5B73.77316%2C%2018.59667%5D%2C%20%5B73.77233%2C%2018.58778%5D%2C%20%5B73.7723%2C%2018.58333%5D%2C%20%5B73.77261%2C%2018.57667%5D%2C%20%5B73.77322%2C%2018.57%5D%2C%20%5B73.77393%2C%2018.56778%5D%2C%20%5B73.77406%2C%2018.56594%5D%2C%20%5B73.77444%2C%2018.56556%5D%2C%20%5B73.77582%2C%2018.56556%5D%5D%5D%2C%20%5B%5B%5B73.90333%2C%2018.57813%5D%2C%20%5B73.90556%2C%2018.57785%5D%2C%20%5B73.90778%2C%2018.57826%5D%2C%20%5B73.90893%2C%2018.57889%5D%2C%20%5B73.91%2C%2018.57965%5D%2C%20%5B73.91119%2C%2018.58111%5D%2C%20%5B73.91222%2C%2018.58286%5D%2C%20%5B73.91243%2C%2018.58333%5D%2C%20%5B73.91313%2C%2018.58556%5D%2C%20%5B73.91361%2C%2018.58778%5D%2C%20%5B73.91391%2C%2018.59%5D%2C%20%5B73.91406%2C%2018.59222%5D%2C%20%5B73.91409%2C%2018.59444%5D%2C%20%5B73.91403%2C%2018.59667%5D%2C%20%5B73.91368%2C%2018.60111%5D%2C%20%5B73.9128%2C%2018.60778%5D%2C%20%5B73.91072%2C%2018.62111%5D%2C%20%5B73.91087%2C%2018.62333%5D%2C%20%5B73.91222%2C%2018.62423%5D%2C%20%5B73.9132%2C%2018.62333%5D%2C%20%5B73.91444%2C%2018.62261%5D%2C%20%5B73.91444%2C%2018.62333%5D%2C%20%5B73.91222%2C%2018.62556%5D%2C%20%5B73.91222%2C%2018.62778%5D%2C%20%5B73.91%2C%2018.63%5D%2C%20%5B73.91%2C%2018.63222%5D%2C%20%5B73.90778%2C%2018.63444%5D%2C%20%5B73.90556%2C%2018.63667%5D%2C%20%5B73.90556%2C%2018.63889%5D%2C%20%5B73.90333%2C%2018.64111%5D%2C%20%5B73.90333%2C%2018.64333%5D%2C%20%5B73.90132%2C%2018.64535%5D%2C%20%5B73.90127%2C%2018.64333%5D%2C%20%5B73.90111%2C%2018.64274%5D%2C%20%5B73.89889%2C%2018.64258%5D%2C%20%5B73.89667%2C%2018.64174%5D%2C%20%5B73.89608%2C%2018.64111%5D%2C%20%5B73.89406%2C%2018.63889%5D%2C%20%5B73.89222%2C%2018.63594%5D%2C%20%5B73.89166%2C%2018.63444%5D%2C%20%5B73.89%2C%2018.62976%5D%2C%20%5B73.88952%2C%2018.62778%5D%2C%20%5B73.88859%2C%2018.62333%5D%2C%20%5B73.88792%2C%2018.61889%5D%2C%20%5B73.8877%2C%2018.61667%5D%2C%20%5B73.88754%2C%2018.61222%5D%2C%20%5B73.88757%2C%2018.61%5D%2C%20%5B73.88778%2C%2018.60672%5D%2C%20%5B73.88821%2C%2018.60333%5D%2C%20%5B73.88861%2C%2018.60111%5D%2C%20%5B73.8891%2C%2018.59889%5D%2C%20%5B73.89%2C%2018.59561%5D%2C%20%5B73.89122%2C%2018.59222%5D%2C%20%5B73.89222%2C%2018.58982%5D%2C%20%5B73.89329%2C%2018.58778%5D%2C%20%5B73.89453%2C%2018.58556%5D%2C%20%5B73.89667%2C%2018.58261%5D%2C%20%5B73.89819%2C%2018.58111%5D%2C%20%5B73.89889%2C%2018.58043%5D%2C%20%5B73.90111%2C%2018.57898%5D%2C%20%5B73.90333%2C%2018.57813%5D%5D%5D%2C%20%5B%5B%5B73.90111%2C%2018.64636%5D%2C%20%5B73.90111%2C%2018.64778%5D%2C%20%5B73.90083%2C%2018.64806%5D%2C%20%5B73.90111%2C%2018.64636%5D%5D%5D%5D%2C%20%22type%22%3A%20%22MultiPolygon%22%7D%2C%20%22properties%22%3A%20%7B%22fill%22%3A%20%22%23ff0000%22%2C%20%22fill-opacity%22%3A%200.5%2C%20%22stroke%22%3A%20%22%23ff0000%22%2C%20%22stroke-opacity%22%3A%201%2C%20%22stroke-width%22%3A%201%2C%20%22title%22%3A%20%22210.00-220.00%20%22%7D%2C%20%22type%22%3A%20%22Feature%22%7D%2C%20%7B%22geometry%22%3A%20%7B%22coordinates%22%3A%20%5B%5B%5B%5B73.78799%2C%2018.54333%5D%2C%20%5B73.78778%2C%2018.54362%5D%2C%20%5B73.78778%2C%2018.54333%5D%2C%20%5B73.78799%2C%2018.54333%5D%5D%5D%2C%20%5B%5B%5B73.78386%2C%2018.55%5D%2C%20%5B73.78333%2C%2018.55069%5D%2C%20%5B73.78333%2C%2018.55022%5D%2C%20%5B73.7835%2C%2018.55%5D%2C%20%5B73.78372%2C%2018.54962%5D%2C%20%5B73.78386%2C%2018.55%5D%5D%5D%2C%20%5B%5B%5B73.7771%2C%2018.56111%5D%2C%20%5B73.77667%2C%2018.56176%5D%2C%20%5B73.77667%2C%2018.56111%5D%2C%20%5B73.7771%2C%2018.56111%5D%5D%5D%2C%20%5B%5B%5B73.77393%2C%2018.56778%5D%2C%20%5B73.77322%2C%2018.57%5D%2C%20%5B73.77299%2C%2018.57222%5D%2C%20%5B73.77236%2C%2018.58111%5D%2C%20%5B73.77228%2C%2018.58556%5D%2C%20%5B73.77243%2C%2018.59%5D%2C%20%5B73.77287%2C%2018.59444%5D%2C%20%5B73.77336%2C%2018.59889%5D%2C%20%5B73.77343%2C%2018.60111%5D%2C%20%5B73.77337%2C%2018.60333%5D%2C%20%5B73.77313%2C%2018.60556%5D%2C%20%5B73.77268%2C%2018.60778%5D%2C%20%5B73.77222%2C%2018.60924%5D%2C%20%5B73.77198%2C%2018.61%5D%2C%20%5B73.77102%2C%2018.61222%5D%2C%20%5B73.77%2C%2018.61411%5D%2C%20%5B73.76981%2C%2018.61444%5D%2C%20%5B73.76835%2C%2018.61667%5D%2C%20%5B73.76778%2C%2018.6174%5D%2C%20%5B73.76556%2C%2018.62%5D%2C%20%5B73.76333%2C%2018.62217%5D%2C%20%5B73.76111%2C%2018.62404%5D%2C%20%5B73.75889%2C%2018.62569%5D%2C%20%5B73.7563%2C%2018.62741%5D%2C%20%5B73.75444%2C%2018.62556%5D%2C%20%5B73.75444%2C%2018.62534%5D%2C%20%5B73.75667%2C%2018.62377%5D%2C%20%5B73.75725%2C%2018.62333%5D%2C%20%5B73.75889%2C%2018.62199%5D%2C%20%5B73.75991%2C%2018.62111%5D%2C%20%5B73.76111%2C%2018.61995%5D%2C%20%5B73.76217%2C%2018.61889%5D%2C%20%5B73.76333%2C%2018.61755%5D%2C%20%5B73.76408%2C%2018.61667%5D%2C%20%5B73.76556%2C%2018.61462%5D%2C%20%5B73.76568%2C%2018.61444%5D%2C%20%5B73.76702%2C%2018.61222%5D%2C%20%5B73.76778%2C%2018.61067%5D%2C%20%5B73.7681%2C%2018.61%5D%2C%20%5B73.76896%2C%2018.60778%5D%2C%20%5B73.76956%2C%2018.60556%5D%2C%20%5B73.76992%2C%2018.60333%5D%2C%20%5B73.77%2C%2018.60239%5D%2C%20%5B73.77012%2C%2018.59889%5D%2C%20%5B73.77001%2C%2018.59667%5D%2C%20%5B73.76964%2C%2018.58778%5D%2C%20%5B73.7698%2C%2018.58333%5D%2C%20%5B73.77036%2C%2018.57667%5D%2C%20%5B73.77099%2C%2018.57123%5D%2C%20%5B73.77222%2C%2018.57%5D%2C%20%5B73.77222%2C%2018.56895%5D%2C%20%5B73.77286%2C%2018.56778%5D%2C%20%5B73.77291%2C%2018.56709%5D%2C%20%5B73.77393%2C%2018.56778%5D%5D%5D%5D%2C%20%22type%22%3A%20%22MultiPolygon%22%7D%2C%20%22properties%22%3A%20%7B%22fill%22%3A%20%22%23ff0000%22%2C%20%22fill-opacity%22%3A%200.5%2C%20%22stroke%22%3A%20%22%23ff0000%22%2C%20%22stroke-opacity%22%3A%201%2C%20%22stroke-width%22%3A%201%2C%20%22title%22%3A%20%22220.00-230.00%20%22%7D%2C%20%22type%22%3A%20%22Feature%22%7D%2C%20%7B%22geometry%22%3A%20%7B%22coordinates%22%3A%20%5B%5B%5B%5B73.7835%2C%2018.55%5D%2C%20%5B73.78333%2C%2018.55022%5D%2C%20%5B73.78333%2C%2018.55%5D%2C%20%5B73.7835%2C%2018.55%5D%5D%5D%2C%20%5B%5B%5B73.77286%2C%2018.56778%5D%2C%20%5B73.77222%2C%2018.56895%5D%2C%20%5B73.77222%2C%2018.56778%5D%2C%20%5B73.77286%2C%2018.56778%5D%5D%5D%2C%20%5B%5B%5B73.77088%2C%2018.57222%5D%2C%20%5B73.7698%2C%2018.58333%5D%2C%20%5B73.76963%2C%2018.59%5D%2C%20%5B73.76982%2C%2018.59444%5D%2C%20%5B73.7701%2C%2018.60111%5D%2C%20%5B73.77%2C%2018.60239%5D%2C%20%5B73.76992%2C%2018.60333%5D%2C%20%5B73.76956%2C%2018.60556%5D%2C%20%5B73.76896%2C%2018.60778%5D%2C%20%5B73.7681%2C%2018.61%5D%2C%20%5B73.76778%2C%2018.61067%5D%2C%20%5B73.76702%2C%2018.61222%5D%2C%20%5B73.76568%2C%2018.61444%5D%2C%20%5B73.76556%2C%2018.61462%5D%2C%20%5B73.76333%2C%2018.61755%5D%2C%20%5B73.76111%2C%2018.61995%5D%2C%20%5B73.75889%2C%2018.62199%5D%2C%20%5B73.75667%2C%2018.62377%5D%2C%20%5B73.75444%2C%2018.62534%5D%2C%20%5B73.75444%2C%2018.62333%5D%2C%20%5B73.75444%2C%2018.62196%5D%2C%20%5B73.7555%2C%2018.62111%5D%2C%20%5B73.75667%2C%2018.62007%5D%2C%20%5B73.75889%2C%2018.61788%5D%2C%20%5B73.76%2C%2018.61667%5D%2C%20%5B73.76111%2C%2018.61526%5D%2C%20%5B73.76174%2C%2018.61444%5D%2C%20%5B73.76319%2C%2018.61222%5D%2C%20%5B73.76333%2C%2018.61196%5D%2C%20%5B73.76537%2C%2018.60778%5D%2C%20%5B73.76556%2C%2018.60724%5D%2C%20%5B73.76612%2C%2018.60556%5D%2C%20%5B73.76663%2C%2018.60333%5D%2C%20%5B73.76692%2C%2018.60111%5D%2C%20%5B73.76704%2C%2018.59889%5D%2C%20%5B73.76701%2C%2018.59667%5D%2C%20%5B73.7671%2C%2018.58778%5D%2C%20%5B73.76768%2C%2018.58111%5D%2C%20%5B73.76824%2C%2018.57667%5D%2C%20%5B73.76893%2C%2018.57444%5D%2C%20%5B73.76905%2C%2018.57317%5D%2C%20%5B73.77%2C%2018.57222%5D%2C%20%5B73.77088%2C%2018.57222%5D%5D%5D%5D%2C%20%22type%22%3A%20%22MultiPolygon%22%7D%2C%20%22properties%22%3A%20%7B%22fill%22%3A%20%22%23ff0000%22%2C%20%22fill-opacity%22%3A%200.5%2C%20%22stroke%22%3A%20%22%23ff0000%22%2C%20%22stroke-opacity%22%3A%201%2C%20%22stroke-width%22%3A%201%2C%20%22title%22%3A%20%22230.00-240.00%20%22%7D%2C%20%22type%22%3A%20%22Feature%22%7D%2C%20%7B%22geometry%22%3A%20%7B%22coordinates%22%3A%20%5B%5B%5B%5B73.76893%2C%2018.57444%5D%2C%20%5B73.76824%2C%2018.57667%5D%2C%20%5B73.76795%2C%2018.57889%5D%2C%20%5B73.76725%2C%2018.58556%5D%2C%20%5B73.76693%2C%2018.59222%5D%2C%20%5B73.76692%2C%2018.60111%5D%2C%20%5B73.76663%2C%2018.60333%5D%2C%20%5B73.76612%2C%2018.60556%5D%2C%20%5B73.76556%2C%2018.60724%5D%2C%20%5B73.76537%2C%2018.60778%5D%2C%20%5B73.7644%2C%2018.61%5D%2C%20%5B73.76333%2C%2018.61196%5D%2C%20%5B73.76319%2C%2018.61222%5D%2C%20%5B73.76174%2C%2018.61444%5D%2C%20%5B73.76111%2C%2018.61526%5D%2C%20%5B73.75889%2C%2018.61788%5D%2C%20%5B73.75667%2C%2018.62007%5D%2C%20%5B73.75444%2C%2018.62196%5D%2C%20%5B73.75444%2C%2018.62111%5D%2C%20%5B73.75444%2C%2018.61829%5D%2C%20%5B73.75605%2C%2018.61667%5D%2C%20%5B73.75667%2C%2018.61596%5D%2C%20%5B73.75889%2C%2018.61312%5D%2C%20%5B73.75952%2C%2018.61222%5D%2C%20%5B73.76083%2C%2018.61%5D%2C%20%5B73.76111%2C%2018.60944%5D%2C%20%5B73.76279%2C%2018.60556%5D%2C%20%5B73.76333%2C%2018.60367%5D%2C%20%5B73.76343%2C%2018.60333%5D%2C%20%5B73.76384%2C%2018.60111%5D%2C%20%5B73.76406%2C%2018.59889%5D%2C%20%5B73.76412%2C%2018.59667%5D%2C%20%5B73.76446%2C%2018.59%5D%2C%20%5B73.76522%2C%2018.58333%5D%2C%20%5B73.76592%2C%2018.57852%5D%2C%20%5B73.76778%2C%2018.57667%5D%2C%20%5B73.76778%2C%2018.57444%5D%2C%20%5B73.76893%2C%2018.57444%5D%5D%5D%5D%2C%20%22type%22%3A%20%22MultiPolygon%22%7D%2C%20%22properties%22%3A%20%7B%22fill%22%3A%20%22%23ff0000%22%2C%20%22fill-opacity%22%3A%200.5%2C%20%22stroke%22%3A%20%22%23ff0000%22%2C%20%22stroke-opacity%22%3A%201%2C%20%22stroke-width%22%3A%201%2C%20%22title%22%3A%20%22240.00-250.00%20%22%7D%2C%20%22type%22%3A%20%22Feature%22%7D%2C%20%7B%22geometry%22%3A%20%7B%22coordinates%22%3A%20%5B%5B%5B%5B73.76587%2C%2018.57889%5D%2C%20%5B73.76446%2C%2018.59%5D%2C%20%5B73.76418%2C%2018.59444%5D%2C%20%5B73.76384%2C%2018.60111%5D%2C%20%5B73.76343%2C%2018.60333%5D%2C%20%5B73.76333%2C%2018.60367%5D%2C%20%5B73.76279%2C%2018.60556%5D%2C%20%5B73.76192%2C%2018.60778%5D%2C%20%5B73.76111%2C%2018.60944%5D%2C%20%5B73.76083%2C%2018.61%5D%2C%20%5B73.75952%2C%2018.61222%5D%2C%20%5B73.75889%2C%2018.61312%5D%2C%20%5B73.75794%2C%2018.61444%5D%2C%20%5B73.75667%2C%2018.61596%5D%2C%20%5B73.75605%2C%2018.61667%5D%2C%20%5B73.75444%2C%2018.61829%5D%2C%20%5B73.75444%2C%2018.61667%5D%2C%20%5B73.75444%2C%2018.61419%5D%2C%20%5B73.75667%2C%2018.61115%5D%2C%20%5B73.7574%2C%2018.61%5D%2C%20%5B73.75859%2C%2018.60778%5D%2C%20%5B73.75889%2C%2018.6071%5D%2C%20%5B73.75956%2C%2018.60556%5D%2C%20%5B73.76033%2C%2018.60333%5D%2C%20%5B73.76085%2C%2018.60111%5D%2C%20%5B73.76111%2C%2018.5993%5D%2C%20%5B73.76117%2C%2018.59889%5D%2C%20%5B73.76134%2C%2018.59667%5D%2C%20%5B73.76205%2C%2018.59%5D%2C%20%5B73.76302%2C%2018.58364%5D%2C%20%5B73.76333%2C%2018.58333%5D%2C%20%5B73.76333%2C%2018.58219%5D%2C%20%5B73.76356%2C%2018.58111%5D%2C%20%5B73.7636%2C%2018.58084%5D%2C%20%5B73.76556%2C%2018.57889%5D%2C%20%5B73.76587%2C%2018.57889%5D%5D%5D%5D%2C%20%22type%22%3A%20%22MultiPolygon%22%7D%2C%20%22properties%22%3A%20%7B%22fill%22%3A%20%22%23ff0000%22%2C%20%22fill-opacity%22%3A%200.5%2C%20%22stroke%22%3A%20%22%23ff0000%22%2C%20%22stroke-opacity%22%3A%201%2C%20%22stroke-width%22%3A%201%2C%20%22title%22%3A%20%22250.00-260.00%20%22%7D%2C%20%22type%22%3A%20%22Feature%22%7D%2C%20%7B%22geometry%22%3A%20%7B%22coordinates%22%3A%20%5B%5B%5B%5B73.76356%2C%2018.58111%5D%2C%20%5B73.76333%2C%2018.58219%5D%2C%20%5B73.76333%2C%2018.58111%5D%2C%20%5B73.76356%2C%2018.58111%5D%5D%5D%2C%20%5B%5B%5B73.76272%2C%2018.58556%5D%2C%20%5B73.76153%2C%2018.59444%5D%2C%20%5B73.76085%2C%2018.60111%5D%2C%20%5B73.76033%2C%2018.60333%5D%2C%20%5B73.75956%2C%2018.60556%5D%2C%20%5B73.75889%2C%2018.6071%5D%2C%20%5B73.75859%2C%2018.60778%5D%2C%20%5B73.7574%2C%2018.61%5D%2C%20%5B73.75667%2C%2018.61115%5D%2C%20%5B73.75596%2C%2018.61222%5D%2C%20%5B73.75444%2C%2018.61419%5D%2C%20%5B73.75434%2C%2018.61434%5D%2C%20%5B73.75238%2C%2018.61238%5D%2C%20%5B73.7525%2C%2018.61222%5D%2C%20%5B73.75444%2C%2018.60936%5D%2C%20%5B73.75537%2C%2018.60778%5D%2C%20%5B73.75643%2C%2018.60556%5D%2C%20%5B73.75667%2C%2018.60496%5D%2C%20%5B73.7573%2C%2018.60333%5D%2C%20%5B73.75795%2C%2018.60111%5D%2C%20%5B73.75837%2C%2018.59889%5D%2C%20%5B73.75866%2C%2018.59667%5D%2C%20%5B73.76016%2C%2018.58778%5D%2C%20%5B73.76044%2C%2018.58623%5D%2C%20%5B73.76111%2C%2018.58556%5D%2C%20%5B73.76272%2C%2018.58556%5D%5D%5D%5D%2C%20%22type%22%3A%20%22MultiPolygon%22%7D%2C%20%22properties%22%3A%20%7B%22fill%22%3A%20%22%23ff0000%22%2C%20%22fill-opacity%22%3A%200.5%2C%20%22stroke%22%3A%20%22%23ff0000%22%2C%20%22stroke-opacity%22%3A%201%2C%20%22stroke-width%22%3A%201%2C%20%22title%22%3A%20%22260.00-270.00%20%22%7D%2C%20%22type%22%3A%20%22Feature%22%7D%2C%20%7B%22geometry%22%3A%20%7B%22coordinates%22%3A%20%5B%5B%5B%5B73.76016%2C%2018.58778%5D%2C%20%5B73.7573%2C%2018.60333%5D%2C%20%5B73.75667%2C%2018.60496%5D%2C%20%5B73.75643%2C%2018.60556%5D%2C%20%5B73.75537%2C%2018.60778%5D%2C%20%5B73.75444%2C%2018.60936%5D%2C%20%5B73.75406%2C%2018.61%5D%2C%20%5B73.7525%2C%2018.61222%5D%2C%20%5B73.75238%2C%2018.61238%5D%2C%20%5B73.75222%2C%2018.61222%5D%2C%20%5B73.75222%2C%2018.61%5D%2C%20%5B73.75222%2C%2018.60777%5D%2C%20%5B73.7534%2C%2018.60556%5D%2C%20%5B73.75435%2C%2018.60333%5D%2C%20%5B73.75444%2C%2018.60306%5D%2C%20%5B73.75511%2C%2018.60111%5D%2C%20%5B73.75564%2C%2018.59889%5D%2C%20%5B73.75709%2C%2018.5918%5D%2C%20%5B73.75889%2C%2018.59%5D%2C%20%5B73.75889%2C%2018.58778%5D%2C%20%5B73.76016%2C%2018.58778%5D%5D%5D%5D%2C%20%22type%22%3A%20%22MultiPolygon%22%7D%2C%20%22properties%22%3A%20%7B%22fill%22%3A%20%22%23ff0000%22%2C%20%22fill-opacity%22%3A%200.5%2C%20%22stroke%22%3A%20%22%23ff0000%22%2C%20%22stroke-opacity%22%3A%201%2C%20%22stroke-width%22%3A%201%2C%20%22title%22%3A%20%22270.00-280.00%20%22%7D%2C%20%22type%22%3A%20%22Feature%22%7D%2C%20%7B%22geometry%22%3A%20%7B%22coordinates%22%3A%20%5B%5B%5B%5B73.75701%2C%2018.59222%5D%2C%20%5B73.75511%2C%2018.60111%5D%2C%20%5B73.75444%2C%2018.60306%5D%2C%20%5B73.75435%2C%2018.60333%5D%2C%20%5B73.7534%2C%2018.60556%5D%2C%20%5B73.75222%2C%2018.60777%5D%2C%20%5B73.75222%2C%2018.60556%5D%2C%20%5B73.75233%2C%2018.60111%5D%2C%20%5B73.75297%2C%2018.59889%5D%2C%20%5B73.75321%2C%2018.59791%5D%2C%20%5B73.75444%2C%2018.59667%5D%2C%20%5B73.75444%2C%2018.59444%5D%2C%20%5B73.75667%2C%2018.59222%5D%2C%20%5B73.75701%2C%2018.59222%5D%5D%5D%5D%2C%20%22type%22%3A%20%22MultiPolygon%22%7D%2C%20%22properties%22%3A%20%7B%22fill%22%3A%20%22%23ff0000%22%2C%20%22fill-opacity%22%3A%200.5%2C%20%22stroke%22%3A%20%22%23ff0000%22%2C%20%22stroke-opacity%22%3A%201%2C%20%22stroke-width%22%3A%201%2C%20%22title%22%3A%20%22280.00-290.00%20%22%7D%2C%20%22type%22%3A%20%22Feature%22%7D%2C%20%7B%22geometry%22%3A%20%7B%22coordinates%22%3A%20%5B%5B%5B%5B73.75297%2C%2018.59889%5D%2C%20%5B73.75222%2C%2018.60139%5D%2C%20%5B73.75222%2C%2018.60111%5D%2C%20%5B73.75222%2C%2018.59889%5D%2C%20%5B73.75297%2C%2018.59889%5D%5D%5D%5D%2C%20%22type%22%3A%20%22MultiPolygon%22%7D%2C%20%22properties%22%3A%20%7B%22fill%22%3A%20%22%23ff0000%22%2C%20%22fill-opacity%22%3A%200.5%2C%20%22stroke%22%3A%20%22%23ff0000%22%2C%20%22stroke-opacity%22%3A%201%2C%20%22stroke-width%22%3A%201%2C%20%22title%22%3A%20%22290.00-300.00%20%22%7D%2C%20%22type%22%3A%20%22Feature%22%7D%5D%2C%20%22type%22%3A%20%22FeatureCollection%22%7D%29%3B%0A%0A%20%20%20%20%20%20%20%20%0A%3C/script%3E onload=\"this.contentDocument.open();this.contentDocument.write(    decodeURIComponent(this.getAttribute('data-html')));this.contentDocument.close();\" allowfullscreen webkitallowfullscreen mozallowfullscreen></iframe></div></div>"
      ],
      "text/plain": [
       "<folium.folium.Map at 0x7f45114e53d0>"
      ]
     },
     "metadata": {},
     "output_type": "display_data"
    },
    {
     "data": {
      "text/html": [
       "<div style=\"width:100%;\"><div style=\"position:relative;width:100%;height:0;padding-bottom:60%;\"><span style=\"color:#565656\">Make this Notebook Trusted to load map: File -> Trust Notebook</span><iframe src=\"about:blank\" style=\"position:absolute;width:100%;height:100%;left:0;top:0;border:none !important;\" data-html=%3C%21DOCTYPE%20html%3E%0A%3Chead%3E%20%20%20%20%0A%20%20%20%20%3Cmeta%20http-equiv%3D%22content-type%22%20content%3D%22text/html%3B%20charset%3DUTF-8%22%20/%3E%0A%20%20%20%20%0A%20%20%20%20%20%20%20%20%3Cscript%3E%0A%20%20%20%20%20%20%20%20%20%20%20%20L_NO_TOUCH%20%3D%20false%3B%0A%20%20%20%20%20%20%20%20%20%20%20%20L_DISABLE_3D%20%3D%20false%3B%0A%20%20%20%20%20%20%20%20%3C/script%3E%0A%20%20%20%20%0A%20%20%20%20%3Cstyle%3Ehtml%2C%20body%20%7Bwidth%3A%20100%25%3Bheight%3A%20100%25%3Bmargin%3A%200%3Bpadding%3A%200%3B%7D%3C/style%3E%0A%20%20%20%20%3Cstyle%3E%23map%20%7Bposition%3Aabsolute%3Btop%3A0%3Bbottom%3A0%3Bright%3A0%3Bleft%3A0%3B%7D%3C/style%3E%0A%20%20%20%20%3Cscript%20src%3D%22https%3A//cdn.jsdelivr.net/npm/leaflet%401.6.0/dist/leaflet.js%22%3E%3C/script%3E%0A%20%20%20%20%3Cscript%20src%3D%22https%3A//code.jquery.com/jquery-1.12.4.min.js%22%3E%3C/script%3E%0A%20%20%20%20%3Cscript%20src%3D%22https%3A//maxcdn.bootstrapcdn.com/bootstrap/3.2.0/js/bootstrap.min.js%22%3E%3C/script%3E%0A%20%20%20%20%3Cscript%20src%3D%22https%3A//cdnjs.cloudflare.com/ajax/libs/Leaflet.awesome-markers/2.0.2/leaflet.awesome-markers.js%22%3E%3C/script%3E%0A%20%20%20%20%3Clink%20rel%3D%22stylesheet%22%20href%3D%22https%3A//cdn.jsdelivr.net/npm/leaflet%401.6.0/dist/leaflet.css%22/%3E%0A%20%20%20%20%3Clink%20rel%3D%22stylesheet%22%20href%3D%22https%3A//maxcdn.bootstrapcdn.com/bootstrap/3.2.0/css/bootstrap.min.css%22/%3E%0A%20%20%20%20%3Clink%20rel%3D%22stylesheet%22%20href%3D%22https%3A//maxcdn.bootstrapcdn.com/bootstrap/3.2.0/css/bootstrap-theme.min.css%22/%3E%0A%20%20%20%20%3Clink%20rel%3D%22stylesheet%22%20href%3D%22https%3A//maxcdn.bootstrapcdn.com/font-awesome/4.6.3/css/font-awesome.min.css%22/%3E%0A%20%20%20%20%3Clink%20rel%3D%22stylesheet%22%20href%3D%22https%3A//cdnjs.cloudflare.com/ajax/libs/Leaflet.awesome-markers/2.0.2/leaflet.awesome-markers.css%22/%3E%0A%20%20%20%20%3Clink%20rel%3D%22stylesheet%22%20href%3D%22https%3A//cdn.jsdelivr.net/gh/python-visualization/folium/folium/templates/leaflet.awesome.rotate.min.css%22/%3E%0A%20%20%20%20%0A%20%20%20%20%20%20%20%20%20%20%20%20%3Cmeta%20name%3D%22viewport%22%20content%3D%22width%3Ddevice-width%2C%0A%20%20%20%20%20%20%20%20%20%20%20%20%20%20%20%20initial-scale%3D1.0%2C%20maximum-scale%3D1.0%2C%20user-scalable%3Dno%22%20/%3E%0A%20%20%20%20%20%20%20%20%20%20%20%20%3Cstyle%3E%0A%20%20%20%20%20%20%20%20%20%20%20%20%20%20%20%20%23map_e61df42116814ffaa4fe1b89f167b24d%20%7B%0A%20%20%20%20%20%20%20%20%20%20%20%20%20%20%20%20%20%20%20%20position%3A%20relative%3B%0A%20%20%20%20%20%20%20%20%20%20%20%20%20%20%20%20%20%20%20%20width%3A%20100.0%25%3B%0A%20%20%20%20%20%20%20%20%20%20%20%20%20%20%20%20%20%20%20%20height%3A%20100.0%25%3B%0A%20%20%20%20%20%20%20%20%20%20%20%20%20%20%20%20%20%20%20%20left%3A%200.0%25%3B%0A%20%20%20%20%20%20%20%20%20%20%20%20%20%20%20%20%20%20%20%20top%3A%200.0%25%3B%0A%20%20%20%20%20%20%20%20%20%20%20%20%20%20%20%20%7D%0A%20%20%20%20%20%20%20%20%20%20%20%20%3C/style%3E%0A%20%20%20%20%20%20%20%20%0A%3C/head%3E%0A%3Cbody%3E%20%20%20%20%0A%20%20%20%20%0A%20%20%20%20%20%20%20%20%20%20%20%20%3Cdiv%20class%3D%22folium-map%22%20id%3D%22map_e61df42116814ffaa4fe1b89f167b24d%22%20%3E%3C/div%3E%0A%20%20%20%20%20%20%20%20%0A%3C/body%3E%0A%3Cscript%3E%20%20%20%20%0A%20%20%20%20%0A%20%20%20%20%20%20%20%20%20%20%20%20var%20map_e61df42116814ffaa4fe1b89f167b24d%20%3D%20L.map%28%0A%20%20%20%20%20%20%20%20%20%20%20%20%20%20%20%20%22map_e61df42116814ffaa4fe1b89f167b24d%22%2C%0A%20%20%20%20%20%20%20%20%20%20%20%20%20%20%20%20%7B%0A%20%20%20%20%20%20%20%20%20%20%20%20%20%20%20%20%20%20%20%20center%3A%20%5B18.529763375%2C%2073.86474849999999%5D%2C%0A%20%20%20%20%20%20%20%20%20%20%20%20%20%20%20%20%20%20%20%20crs%3A%20L.CRS.EPSG3857%2C%0A%20%20%20%20%20%20%20%20%20%20%20%20%20%20%20%20%20%20%20%20zoom%3A%2011%2C%0A%20%20%20%20%20%20%20%20%20%20%20%20%20%20%20%20%20%20%20%20zoomControl%3A%20true%2C%0A%20%20%20%20%20%20%20%20%20%20%20%20%20%20%20%20%20%20%20%20preferCanvas%3A%20false%2C%0A%20%20%20%20%20%20%20%20%20%20%20%20%20%20%20%20%7D%0A%20%20%20%20%20%20%20%20%20%20%20%20%29%3B%0A%0A%20%20%20%20%20%20%20%20%20%20%20%20%0A%0A%20%20%20%20%20%20%20%20%0A%20%20%20%20%0A%20%20%20%20%20%20%20%20%20%20%20%20var%20tile_layer_190835f8208d40658ef8a4ad21e84d34%20%3D%20L.tileLayer%28%0A%20%20%20%20%20%20%20%20%20%20%20%20%20%20%20%20%22https%3A//cartodb-basemaps-%7Bs%7D.global.ssl.fastly.net/light_all/%7Bz%7D/%7Bx%7D/%7By%7D.png%22%2C%0A%20%20%20%20%20%20%20%20%20%20%20%20%20%20%20%20%7B%22attribution%22%3A%20%22%5Cu0026copy%3B%20%5Cu003ca%20href%3D%5C%22http%3A//www.openstreetmap.org/copyright%5C%22%5Cu003eOpenStreetMap%5Cu003c/a%5Cu003e%20contributors%20%5Cu0026copy%3B%20%5Cu003ca%20href%3D%5C%22http%3A//cartodb.com/attributions%5C%22%5Cu003eCartoDB%5Cu003c/a%5Cu003e%2C%20CartoDB%20%5Cu003ca%20href%20%3D%5C%22http%3A//cartodb.com/attributions%5C%22%5Cu003eattributions%5Cu003c/a%5Cu003e%22%2C%20%22detectRetina%22%3A%20false%2C%20%22maxNativeZoom%22%3A%2018%2C%20%22maxZoom%22%3A%2018%2C%20%22minZoom%22%3A%200%2C%20%22noWrap%22%3A%20false%2C%20%22opacity%22%3A%201%2C%20%22subdomains%22%3A%20%22abc%22%2C%20%22tms%22%3A%20false%7D%0A%20%20%20%20%20%20%20%20%20%20%20%20%29.addTo%28map_e61df42116814ffaa4fe1b89f167b24d%29%3B%0A%20%20%20%20%20%20%20%20%0A%20%20%20%20%0A%20%20%20%20%20%20%20%20%20%20%20%20var%20marker_869ee9d684824d4abde3b953210a6b85%20%3D%20L.marker%28%0A%20%20%20%20%20%20%20%20%20%20%20%20%20%20%20%20%5B18.572774%2C%2073.836817%5D%2C%0A%20%20%20%20%20%20%20%20%20%20%20%20%20%20%20%20%7B%7D%0A%20%20%20%20%20%20%20%20%20%20%20%20%29.addTo%28map_e61df42116814ffaa4fe1b89f167b24d%29%3B%0A%20%20%20%20%20%20%20%20%0A%20%20%20%20%0A%20%20%20%20%20%20%20%20%20%20%20%20marker_869ee9d684824d4abde3b953210a6b85.bindTooltip%28%0A%20%20%20%20%20%20%20%20%20%20%20%20%20%20%20%20%60%3Cdiv%3E%0A%20%20%20%20%20%20%20%20%20%20%20%20%20%20%20%20%20%20%20%20%20AIRQUALITYINDEX%3A%2092%0A%20%20%20%20%20%20%20%20%20%20%20%20%20%20%20%20%20%3C/div%3E%60%2C%0A%20%20%20%20%20%20%20%20%20%20%20%20%20%20%20%20%7B%22sticky%22%3A%20true%7D%0A%20%20%20%20%20%20%20%20%20%20%20%20%29%3B%0A%20%20%20%20%20%20%20%20%0A%20%20%20%20%0A%20%20%20%20%20%20%20%20%20%20%20%20var%20marker_8ad3819776dc437795a69d6443c98271%20%3D%20L.marker%28%0A%20%20%20%20%20%20%20%20%20%20%20%20%20%20%20%20%5B18.572668%2C%2073.881%5D%2C%0A%20%20%20%20%20%20%20%20%20%20%20%20%20%20%20%20%7B%7D%0A%20%20%20%20%20%20%20%20%20%20%20%20%29.addTo%28map_e61df42116814ffaa4fe1b89f167b24d%29%3B%0A%20%20%20%20%20%20%20%20%0A%20%20%20%20%0A%20%20%20%20%20%20%20%20%20%20%20%20marker_8ad3819776dc437795a69d6443c98271.bindTooltip%28%0A%20%20%20%20%20%20%20%20%20%20%20%20%20%20%20%20%60%3Cdiv%3E%0A%20%20%20%20%20%20%20%20%20%20%20%20%20%20%20%20%20%20%20%20%20AIRQUALITYINDEX%3A%2083%0A%20%20%20%20%20%20%20%20%20%20%20%20%20%20%20%20%20%3C/div%3E%60%2C%0A%20%20%20%20%20%20%20%20%20%20%20%20%20%20%20%20%7B%22sticky%22%3A%20true%7D%0A%20%20%20%20%20%20%20%20%20%20%20%20%29%3B%0A%20%20%20%20%20%20%20%20%0A%20%20%20%20%0A%20%20%20%20%20%20%20%20%20%20%20%20var%20marker_0e504ae1d14840788bbd768fbe8efad6%20%3D%20L.marker%28%0A%20%20%20%20%20%20%20%20%20%20%20%20%20%20%20%20%5B18.56857%2C%2073.766392%5D%2C%0A%20%20%20%20%20%20%20%20%20%20%20%20%20%20%20%20%7B%7D%0A%20%20%20%20%20%20%20%20%20%20%20%20%29.addTo%28map_e61df42116814ffaa4fe1b89f167b24d%29%3B%0A%20%20%20%20%20%20%20%20%0A%20%20%20%20%0A%20%20%20%20%20%20%20%20%20%20%20%20marker_0e504ae1d14840788bbd768fbe8efad6.bindTooltip%28%0A%20%20%20%20%20%20%20%20%20%20%20%20%20%20%20%20%60%3Cdiv%3E%0A%20%20%20%20%20%20%20%20%20%20%20%20%20%20%20%20%20%20%20%20%20AIRQUALITYINDEX%3A%2042%0A%20%20%20%20%20%20%20%20%20%20%20%20%20%20%20%20%20%3C/div%3E%60%2C%0A%20%20%20%20%20%20%20%20%20%20%20%20%20%20%20%20%7B%22sticky%22%3A%20true%7D%0A%20%20%20%20%20%20%20%20%20%20%20%20%29%3B%0A%20%20%20%20%20%20%20%20%0A%20%20%20%20%0A%20%20%20%20%20%20%20%20%20%20%20%20var%20marker_3588a2f14b1242aba70d06df605f7ba4%20%3D%20L.marker%28%0A%20%20%20%20%20%20%20%20%20%20%20%20%20%20%20%20%5B18.500945%2C%2073.938842%5D%2C%0A%20%20%20%20%20%20%20%20%20%20%20%20%20%20%20%20%7B%7D%0A%20%20%20%20%20%20%20%20%20%20%20%20%29.addTo%28map_e61df42116814ffaa4fe1b89f167b24d%29%3B%0A%20%20%20%20%20%20%20%20%0A%20%20%20%20%0A%20%20%20%20%20%20%20%20%20%20%20%20marker_3588a2f14b1242aba70d06df605f7ba4.bindTooltip%28%0A%20%20%20%20%20%20%20%20%20%20%20%20%20%20%20%20%60%3Cdiv%3E%0A%20%20%20%20%20%20%20%20%20%20%20%20%20%20%20%20%20%20%20%20%20AIRQUALITYINDEX%3A%2072%0A%20%20%20%20%20%20%20%20%20%20%20%20%20%20%20%20%20%3C/div%3E%60%2C%0A%20%20%20%20%20%20%20%20%20%20%20%20%20%20%20%20%7B%22sticky%22%3A%20true%7D%0A%20%20%20%20%20%20%20%20%20%20%20%20%29%3B%0A%20%20%20%20%20%20%20%20%0A%20%20%20%20%0A%20%20%20%20%20%20%20%20%20%20%20%20var%20marker_8348d423cbaf4874b289d6ea55366b3b%20%3D%20L.marker%28%0A%20%20%20%20%20%20%20%20%20%20%20%20%20%20%20%20%5B18.508049%2C%2073.795248%5D%2C%0A%20%20%20%20%20%20%20%20%20%20%20%20%20%20%20%20%7B%7D%0A%20%20%20%20%20%20%20%20%20%20%20%20%29.addTo%28map_e61df42116814ffaa4fe1b89f167b24d%29%3B%0A%20%20%20%20%20%20%20%20%0A%20%20%20%20%0A%20%20%20%20%20%20%20%20%20%20%20%20marker_8348d423cbaf4874b289d6ea55366b3b.bindTooltip%28%0A%20%20%20%20%20%20%20%20%20%20%20%20%20%20%20%20%60%3Cdiv%3E%0A%20%20%20%20%20%20%20%20%20%20%20%20%20%20%20%20%20%20%20%20%20AIRQUALITYINDEX%3A%2089%0A%20%20%20%20%20%20%20%20%20%20%20%20%20%20%20%20%20%3C/div%3E%60%2C%0A%20%20%20%20%20%20%20%20%20%20%20%20%20%20%20%20%7B%22sticky%22%3A%20true%7D%0A%20%20%20%20%20%20%20%20%20%20%20%20%29%3B%0A%20%20%20%20%20%20%20%20%0A%20%20%20%20%0A%20%20%20%20%20%20%20%20%20%20%20%20var%20marker_a9e6332944774cad9281d7445a85143a%20%3D%20L.marker%28%0A%20%20%20%20%20%20%20%20%20%20%20%20%20%20%20%20%5B18.502712%2C%2073.927285%5D%2C%0A%20%20%20%20%20%20%20%20%20%20%20%20%20%20%20%20%7B%7D%0A%20%20%20%20%20%20%20%20%20%20%20%20%29.addTo%28map_e61df42116814ffaa4fe1b89f167b24d%29%3B%0A%20%20%20%20%20%20%20%20%0A%20%20%20%20%0A%20%20%20%20%20%20%20%20%20%20%20%20marker_a9e6332944774cad9281d7445a85143a.bindTooltip%28%0A%20%20%20%20%20%20%20%20%20%20%20%20%20%20%20%20%60%3Cdiv%3E%0A%20%20%20%20%20%20%20%20%20%20%20%20%20%20%20%20%20%20%20%20%20AIRQUALITYINDEX%3A%2071%0A%20%20%20%20%20%20%20%20%20%20%20%20%20%20%20%20%20%3C/div%3E%60%2C%0A%20%20%20%20%20%20%20%20%20%20%20%20%20%20%20%20%7B%22sticky%22%3A%20true%7D%0A%20%20%20%20%20%20%20%20%20%20%20%20%29%3B%0A%20%20%20%20%20%20%20%20%0A%20%20%20%20%0A%20%20%20%20%20%20%20%20%20%20%20%20var%20marker_d73e949d796647ce9175e01e4a6d7b4c%20%3D%20L.marker%28%0A%20%20%20%20%20%20%20%20%20%20%20%20%20%20%20%20%5B18.447118%2C%2073.858556%5D%2C%0A%20%20%20%20%20%20%20%20%20%20%20%20%20%20%20%20%7B%7D%0A%20%20%20%20%20%20%20%20%20%20%20%20%29.addTo%28map_e61df42116814ffaa4fe1b89f167b24d%29%3B%0A%20%20%20%20%20%20%20%20%0A%20%20%20%20%0A%20%20%20%20%20%20%20%20%20%20%20%20marker_d73e949d796647ce9175e01e4a6d7b4c.bindTooltip%28%0A%20%20%20%20%20%20%20%20%20%20%20%20%20%20%20%20%60%3Cdiv%3E%0A%20%20%20%20%20%20%20%20%20%20%20%20%20%20%20%20%20%20%20%20%20AIRQUALITYINDEX%3A%2095%0A%20%20%20%20%20%20%20%20%20%20%20%20%20%20%20%20%20%3C/div%3E%60%2C%0A%20%20%20%20%20%20%20%20%20%20%20%20%20%20%20%20%7B%22sticky%22%3A%20true%7D%0A%20%20%20%20%20%20%20%20%20%20%20%20%29%3B%0A%20%20%20%20%20%20%20%20%0A%20%20%20%20%0A%20%20%20%20%20%20%20%20%20%20%20%20var%20marker_4575ff4fc860489aad1a7a1a3c780d27%20%3D%20L.marker%28%0A%20%20%20%20%20%20%20%20%20%20%20%20%20%20%20%20%5B18.565271%2C%2073.913848%5D%2C%0A%20%20%20%20%20%20%20%20%20%20%20%20%20%20%20%20%7B%7D%0A%20%20%20%20%20%20%20%20%20%20%20%20%29.addTo%28map_e61df42116814ffaa4fe1b89f167b24d%29%3B%0A%20%20%20%20%20%20%20%20%0A%20%20%20%20%0A%20%20%20%20%20%20%20%20%20%20%20%20marker_4575ff4fc860489aad1a7a1a3c780d27.bindTooltip%28%0A%20%20%20%20%20%20%20%20%20%20%20%20%20%20%20%20%60%3Cdiv%3E%0A%20%20%20%20%20%20%20%20%20%20%20%20%20%20%20%20%20%20%20%20%20AIRQUALITYINDEX%3A%2074%0A%20%20%20%20%20%20%20%20%20%20%20%20%20%20%20%20%20%3C/div%3E%60%2C%0A%20%20%20%20%20%20%20%20%20%20%20%20%20%20%20%20%7B%22sticky%22%3A%20true%7D%0A%20%20%20%20%20%20%20%20%20%20%20%20%29%3B%0A%20%20%20%20%20%20%20%20%0A%20%20%20%20%0A%20%20%20%20%20%20%20%20function%20geo_json_7b7a901d497d41b18b0d716508e7fec8_styler%28feature%29%20%7B%0A%20%20%20%20%20%20%20%20%20%20%20%20switch%28feature.properties.fill%29%20%7B%0A%20%20%20%20%20%20%20%20%20%20%20%20%20%20%20%20case%20%22%23dedeff%22%3A%20%0A%20%20%20%20%20%20%20%20%20%20%20%20%20%20%20%20%20%20%20%20return%20%7B%22color%22%3A%20%22%23dedeff%22%2C%20%22fillColor%22%3A%20%22%23dedeff%22%2C%20%22opacity%22%3A%200.6%2C%20%22weight%22%3A%201%7D%3B%0A%20%20%20%20%20%20%20%20%20%20%20%20%20%20%20%20case%20%22%23eeeeff%22%3A%20%0A%20%20%20%20%20%20%20%20%20%20%20%20%20%20%20%20%20%20%20%20return%20%7B%22color%22%3A%20%22%23eeeeff%22%2C%20%22fillColor%22%3A%20%22%23eeeeff%22%2C%20%22opacity%22%3A%200.6%2C%20%22weight%22%3A%201%7D%3B%0A%20%20%20%20%20%20%20%20%20%20%20%20%20%20%20%20case%20%22%23fcfcff%22%3A%20%0A%20%20%20%20%20%20%20%20%20%20%20%20%20%20%20%20%20%20%20%20return%20%7B%22color%22%3A%20%22%23fcfcff%22%2C%20%22fillColor%22%3A%20%22%23fcfcff%22%2C%20%22opacity%22%3A%200.6%2C%20%22weight%22%3A%201%7D%3B%0A%20%20%20%20%20%20%20%20%20%20%20%20%20%20%20%20case%20%22%23ffe2e2%22%3A%20%0A%20%20%20%20%20%20%20%20%20%20%20%20%20%20%20%20%20%20%20%20return%20%7B%22color%22%3A%20%22%23ffe2e2%22%2C%20%22fillColor%22%3A%20%22%23ffe2e2%22%2C%20%22opacity%22%3A%200.6%2C%20%22weight%22%3A%201%7D%3B%0A%20%20%20%20%20%20%20%20%20%20%20%20%20%20%20%20case%20%22%23ffd4d4%22%3A%20%0A%20%20%20%20%20%20%20%20%20%20%20%20%20%20%20%20%20%20%20%20return%20%7B%22color%22%3A%20%22%23ffd4d4%22%2C%20%22fillColor%22%3A%20%22%23ffd4d4%22%2C%20%22opacity%22%3A%200.6%2C%20%22weight%22%3A%201%7D%3B%0A%20%20%20%20%20%20%20%20%20%20%20%20%20%20%20%20case%20%22%23ffc4c4%22%3A%20%0A%20%20%20%20%20%20%20%20%20%20%20%20%20%20%20%20%20%20%20%20return%20%7B%22color%22%3A%20%22%23ffc4c4%22%2C%20%22fillColor%22%3A%20%22%23ffc4c4%22%2C%20%22opacity%22%3A%200.6%2C%20%22weight%22%3A%201%7D%3B%0A%20%20%20%20%20%20%20%20%20%20%20%20%20%20%20%20case%20%22%23ffb4b4%22%3A%20%0A%20%20%20%20%20%20%20%20%20%20%20%20%20%20%20%20%20%20%20%20return%20%7B%22color%22%3A%20%22%23ffb4b4%22%2C%20%22fillColor%22%3A%20%22%23ffb4b4%22%2C%20%22opacity%22%3A%200.6%2C%20%22weight%22%3A%201%7D%3B%0A%20%20%20%20%20%20%20%20%20%20%20%20%20%20%20%20case%20%22%23ffa6a6%22%3A%20%0A%20%20%20%20%20%20%20%20%20%20%20%20%20%20%20%20%20%20%20%20return%20%7B%22color%22%3A%20%22%23ffa6a6%22%2C%20%22fillColor%22%3A%20%22%23ffa6a6%22%2C%20%22opacity%22%3A%200.6%2C%20%22weight%22%3A%201%7D%3B%0A%20%20%20%20%20%20%20%20%20%20%20%20%20%20%20%20case%20%22%23ff9696%22%3A%20%0A%20%20%20%20%20%20%20%20%20%20%20%20%20%20%20%20%20%20%20%20return%20%7B%22color%22%3A%20%22%23ff9696%22%2C%20%22fillColor%22%3A%20%22%23ff9696%22%2C%20%22opacity%22%3A%200.6%2C%20%22weight%22%3A%201%7D%3B%0A%20%20%20%20%20%20%20%20%20%20%20%20%20%20%20%20case%20%22%23ff8686%22%3A%20%0A%20%20%20%20%20%20%20%20%20%20%20%20%20%20%20%20%20%20%20%20return%20%7B%22color%22%3A%20%22%23ff8686%22%2C%20%22fillColor%22%3A%20%22%23ff8686%22%2C%20%22opacity%22%3A%200.6%2C%20%22weight%22%3A%201%7D%3B%0A%20%20%20%20%20%20%20%20%20%20%20%20%20%20%20%20case%20%22%23ff7878%22%3A%20%0A%20%20%20%20%20%20%20%20%20%20%20%20%20%20%20%20%20%20%20%20return%20%7B%22color%22%3A%20%22%23ff7878%22%2C%20%22fillColor%22%3A%20%22%23ff7878%22%2C%20%22opacity%22%3A%200.6%2C%20%22weight%22%3A%201%7D%3B%0A%20%20%20%20%20%20%20%20%20%20%20%20%20%20%20%20case%20%22%23ff6868%22%3A%20%0A%20%20%20%20%20%20%20%20%20%20%20%20%20%20%20%20%20%20%20%20return%20%7B%22color%22%3A%20%22%23ff6868%22%2C%20%22fillColor%22%3A%20%22%23ff6868%22%2C%20%22opacity%22%3A%200.6%2C%20%22weight%22%3A%201%7D%3B%0A%20%20%20%20%20%20%20%20%20%20%20%20%20%20%20%20case%20%22%23ff5858%22%3A%20%0A%20%20%20%20%20%20%20%20%20%20%20%20%20%20%20%20%20%20%20%20return%20%7B%22color%22%3A%20%22%23ff5858%22%2C%20%22fillColor%22%3A%20%22%23ff5858%22%2C%20%22opacity%22%3A%200.6%2C%20%22weight%22%3A%201%7D%3B%0A%20%20%20%20%20%20%20%20%20%20%20%20%20%20%20%20case%20%22%23ff4a4a%22%3A%20%0A%20%20%20%20%20%20%20%20%20%20%20%20%20%20%20%20%20%20%20%20return%20%7B%22color%22%3A%20%22%23ff4a4a%22%2C%20%22fillColor%22%3A%20%22%23ff4a4a%22%2C%20%22opacity%22%3A%200.6%2C%20%22weight%22%3A%201%7D%3B%0A%20%20%20%20%20%20%20%20%20%20%20%20%20%20%20%20case%20%22%23ff3a3a%22%3A%20%0A%20%20%20%20%20%20%20%20%20%20%20%20%20%20%20%20%20%20%20%20return%20%7B%22color%22%3A%20%22%23ff3a3a%22%2C%20%22fillColor%22%3A%20%22%23ff3a3a%22%2C%20%22opacity%22%3A%200.6%2C%20%22weight%22%3A%201%7D%3B%0A%20%20%20%20%20%20%20%20%20%20%20%20%20%20%20%20case%20%22%23ff2a2a%22%3A%20%0A%20%20%20%20%20%20%20%20%20%20%20%20%20%20%20%20%20%20%20%20return%20%7B%22color%22%3A%20%22%23ff2a2a%22%2C%20%22fillColor%22%3A%20%22%23ff2a2a%22%2C%20%22opacity%22%3A%200.6%2C%20%22weight%22%3A%201%7D%3B%0A%20%20%20%20%20%20%20%20%20%20%20%20%20%20%20%20case%20%22%23ff1c1c%22%3A%20%0A%20%20%20%20%20%20%20%20%20%20%20%20%20%20%20%20%20%20%20%20return%20%7B%22color%22%3A%20%22%23ff1c1c%22%2C%20%22fillColor%22%3A%20%22%23ff1c1c%22%2C%20%22opacity%22%3A%200.6%2C%20%22weight%22%3A%201%7D%3B%0A%20%20%20%20%20%20%20%20%20%20%20%20%20%20%20%20case%20%22%23ff0c0c%22%3A%20%0A%20%20%20%20%20%20%20%20%20%20%20%20%20%20%20%20%20%20%20%20return%20%7B%22color%22%3A%20%22%23ff0c0c%22%2C%20%22fillColor%22%3A%20%22%23ff0c0c%22%2C%20%22opacity%22%3A%200.6%2C%20%22weight%22%3A%201%7D%3B%0A%20%20%20%20%20%20%20%20%20%20%20%20%20%20%20%20default%3A%0A%20%20%20%20%20%20%20%20%20%20%20%20%20%20%20%20%20%20%20%20return%20%7B%22color%22%3A%20%22%23fff2f2%22%2C%20%22fillColor%22%3A%20%22%23fff2f2%22%2C%20%22opacity%22%3A%200.6%2C%20%22weight%22%3A%201%7D%3B%0A%20%20%20%20%20%20%20%20%20%20%20%20%7D%0A%20%20%20%20%20%20%20%20%7D%0A%0A%20%20%20%20%20%20%20%20function%20geo_json_7b7a901d497d41b18b0d716508e7fec8_onEachFeature%28feature%2C%20layer%29%20%7B%0A%20%20%20%20%20%20%20%20%20%20%20%20layer.on%28%7B%0A%20%20%20%20%20%20%20%20%20%20%20%20%7D%29%3B%0A%20%20%20%20%20%20%20%20%7D%3B%0A%20%20%20%20%20%20%20%20var%20geo_json_7b7a901d497d41b18b0d716508e7fec8%20%3D%20L.geoJson%28null%2C%20%7B%0A%20%20%20%20%20%20%20%20%20%20%20%20%20%20%20%20onEachFeature%3A%20geo_json_7b7a901d497d41b18b0d716508e7fec8_onEachFeature%2C%0A%20%20%20%20%20%20%20%20%20%20%20%20%0A%20%20%20%20%20%20%20%20%20%20%20%20%20%20%20%20style%3A%20geo_json_7b7a901d497d41b18b0d716508e7fec8_styler%2C%0A%20%20%20%20%20%20%20%20%7D%29%3B%0A%0A%20%20%20%20%20%20%20%20function%20geo_json_7b7a901d497d41b18b0d716508e7fec8_add%20%28data%29%20%7B%0A%20%20%20%20%20%20%20%20%20%20%20%20geo_json_7b7a901d497d41b18b0d716508e7fec8%0A%20%20%20%20%20%20%20%20%20%20%20%20%20%20%20%20.addData%28data%29%0A%20%20%20%20%20%20%20%20%20%20%20%20%20%20%20%20.addTo%28map_e61df42116814ffaa4fe1b89f167b24d%29%3B%0A%20%20%20%20%20%20%20%20%7D%0A%20%20%20%20%20%20%20%20%20%20%20%20geo_json_7b7a901d497d41b18b0d716508e7fec8_add%28%7B%22features%22%3A%20%5B%7B%22geometry%22%3A%20%7B%22coordinates%22%3A%20%5B%5B%5B%5B73.76839%2C%2018.56643%5D%2C%20%5B73.76893%2C%2018.5677%5D%2C%20%5B73.76813%2C%2018.5677%5D%2C%20%5B73.76813%2C%2018.56643%5D%2C%20%5B73.76839%2C%2018.56643%5D%5D%5D%5D%2C%20%22type%22%3A%20%22MultiPolygon%22%7D%2C%20%22properties%22%3A%20%7B%22fill%22%3A%20%22%23dedeff%22%2C%20%22fill-opacity%22%3A%200.5%2C%20%22stroke%22%3A%20%22%23dedeff%22%2C%20%22stroke-opacity%22%3A%201%2C%20%22stroke-width%22%3A%201%2C%20%22title%22%3A%20%2242.00-45.00%20%22%7D%2C%20%22type%22%3A%20%22Feature%22%7D%2C%20%7B%22geometry%22%3A%20%7B%22coordinates%22%3A%20%5B%5B%5B%5B73.77024%2C%2018.56389%5D%2C%20%5B73.77197%2C%2018.56796%5D%2C%20%5B73.77162%2C%2018.5677%5D%2C%20%5B73.76988%2C%2018.5677%5D%2C%20%5B73.76893%2C%2018.5677%5D%2C%20%5B73.76839%2C%2018.56643%5D%2C%20%5B73.76813%2C%2018.56587%5D%2C%20%5B73.76813%2C%2018.56516%5D%2C%20%5B73.76988%2C%2018.56389%5D%2C%20%5B73.77024%2C%2018.56389%5D%5D%5D%5D%2C%20%22type%22%3A%20%22MultiPolygon%22%7D%2C%20%22properties%22%3A%20%7B%22fill%22%3A%20%22%23eeeeff%22%2C%20%22fill-opacity%22%3A%200.5%2C%20%22stroke%22%3A%20%22%23eeeeff%22%2C%20%22stroke-opacity%22%3A%201%2C%20%22stroke-width%22%3A%201%2C%20%22title%22%3A%20%2245.00-48.00%20%22%7D%2C%20%22type%22%3A%20%22Feature%22%7D%2C%20%7B%22geometry%22%3A%20%7B%22coordinates%22%3A%20%5B%5B%5B%5B73.77162%2C%2018.56026%5D%2C%20%5B73.77433%2C%2018.56643%5D%2C%20%5B73.77532%2C%2018.56897%5D%2C%20%5B73.7751%2C%2018.56897%5D%2C%20%5B73.77336%2C%2018.56897%5D%2C%20%5B73.77197%2C%2018.56796%5D%2C%20%5B73.77187%2C%2018.5677%5D%2C%20%5B73.76988%2C%2018.5631%5D%2C%20%5B73.76988%2C%2018.56262%5D%2C%20%5B73.76988%2C%2018.56135%5D%2C%20%5B73.77162%2C%2018.56026%5D%5D%5D%5D%2C%20%22type%22%3A%20%22MultiPolygon%22%7D%2C%20%22properties%22%3A%20%7B%22fill%22%3A%20%22%23fcfcff%22%2C%20%22fill-opacity%22%3A%200.5%2C%20%22stroke%22%3A%20%22%23fcfcff%22%2C%20%22stroke-opacity%22%3A%201%2C%20%22stroke-width%22%3A%201%2C%20%22title%22%3A%20%2248.00-51.00%20%22%7D%2C%20%22type%22%3A%20%22Feature%22%7D%2C%20%7B%22geometry%22%3A%20%7B%22coordinates%22%3A%20%5B%5B%5B%5B73.77347%2C%2018.55754%5D%2C%20%5B73.7758%2C%2018.56262%5D%2C%20%5B73.7783%2C%2018.56897%5D%2C%20%5B73.77684%2C%2018.56897%5D%2C%20%5B73.77532%2C%2018.56897%5D%2C%20%5B73.7751%2C%2018.56839%5D%2C%20%5B73.77214%2C%2018.56135%5D%2C%20%5B73.77156%2C%2018.56013%5D%2C%20%5B73.77162%2C%2018.56008%5D%2C%20%5B73.77162%2C%2018.55881%5D%2C%20%5B73.77336%2C%2018.55754%5D%2C%20%5B73.77347%2C%2018.55754%5D%5D%5D%5D%2C%20%22type%22%3A%20%22MultiPolygon%22%7D%2C%20%22properties%22%3A%20%7B%22fill%22%3A%20%22%23fff2f2%22%2C%20%22fill-opacity%22%3A%200.5%2C%20%22stroke%22%3A%20%22%23fff2f2%22%2C%20%22stroke-opacity%22%3A%201%2C%20%22stroke-width%22%3A%201%2C%20%22title%22%3A%20%2251.00-54.00%20%22%7D%2C%20%22type%22%3A%20%22Feature%22%7D%2C%20%7B%22geometry%22%3A%20%7B%22coordinates%22%3A%20%5B%5B%5B%5B73.7751%2C%2018.55429%5D%2C%20%5B73.77729%2C%2018.55881%5D%2C%20%5B73.77943%2C%2018.56389%5D%2C%20%5B73.78132%2C%2018.56897%5D%2C%20%5B73.78033%2C%2018.56897%5D%2C%20%5B73.7783%2C%2018.56897%5D%2C%20%5B73.77783%2C%2018.5677%5D%2C%20%5B73.77525%2C%2018.56135%5D%2C%20%5B73.77336%2C%2018.55733%5D%2C%20%5B73.77336%2C%2018.55627%5D%2C%20%5B73.77336%2C%2018.555%5D%2C%20%5B73.7751%2C%2018.55429%5D%5D%5D%5D%2C%20%22type%22%3A%20%22MultiPolygon%22%7D%2C%20%22properties%22%3A%20%7B%22fill%22%3A%20%22%23ffe2e2%22%2C%20%22fill-opacity%22%3A%200.5%2C%20%22stroke%22%3A%20%22%23ffe2e2%22%2C%20%22stroke-opacity%22%3A%201%2C%20%22stroke-width%22%3A%201%2C%20%22title%22%3A%20%2254.00-57.00%20%22%7D%2C%20%22type%22%3A%20%22Feature%22%7D%2C%20%7B%22geometry%22%3A%20%7B%22coordinates%22%3A%20%5B%5B%5B%5B73.77684%2C%2018.55114%5D%2C%20%5B73.77881%2C%2018.555%5D%2C%20%5B73.78107%2C%2018.56008%5D%2C%20%5B73.78352%2C%2018.56643%5D%2C%20%5B73.78441%2C%2018.56897%5D%2C%20%5B73.78381%2C%2018.56897%5D%2C%20%5B73.78132%2C%2018.56897%5D%2C%20%5B73.78087%2C%2018.5677%5D%2C%20%5B73.77839%2C%2018.56135%5D%2C%20%5B73.77671%2C%2018.55754%5D%2C%20%5B73.77489%2C%2018.55389%5D%2C%20%5B73.7751%2C%2018.55374%5D%2C%20%5B73.7751%2C%2018.55247%5D%2C%20%5B73.7751%2C%2018.5512%5D%2C%20%5B73.77684%2C%2018.55114%5D%5D%5D%5D%2C%20%22type%22%3A%20%22MultiPolygon%22%7D%2C%20%22properties%22%3A%20%7B%22fill%22%3A%20%22%23ffd4d4%22%2C%20%22fill-opacity%22%3A%200.5%2C%20%22stroke%22%3A%20%22%23ffd4d4%22%2C%20%22stroke-opacity%22%3A%201%2C%20%22stroke-width%22%3A%201%2C%20%22title%22%3A%20%2257.00-60.00%20%22%7D%2C%20%22type%22%3A%20%22Feature%22%7D%2C%20%7B%22geometry%22%3A%20%7B%22coordinates%22%3A%20%5B%5B%5B%5B73.77833%2C%2018.54739%5D%2C%20%5B73.78101%2C%2018.55247%5D%2C%20%5B73.78331%2C%2018.55754%5D%2C%20%5B73.78581%2C%2018.56389%5D%2C%20%5B73.78756%2C%2018.56897%5D%2C%20%5B73.7873%2C%2018.56897%5D%2C%20%5B73.78441%2C%2018.56897%5D%2C%20%5B73.78397%2C%2018.5677%5D%2C%20%5B73.78107%2C%2018.56008%5D%2C%20%5B73.77881%2C%2018.555%5D%2C%20%5B73.77684%2C%2018.55114%5D%2C%20%5B73.77637%2C%2018.55027%5D%2C%20%5B73.77684%2C%2018.54993%5D%2C%20%5B73.77684%2C%2018.54866%5D%2C%20%5B73.77684%2C%2018.54739%5D%2C%20%5B73.77833%2C%2018.54739%5D%5D%5D%5D%2C%20%22type%22%3A%20%22MultiPolygon%22%7D%2C%20%22properties%22%3A%20%7B%22fill%22%3A%20%22%23ffc4c4%22%2C%20%22fill-opacity%22%3A%200.5%2C%20%22stroke%22%3A%20%22%23ffc4c4%22%2C%20%22stroke-opacity%22%3A%201%2C%20%22stroke-width%22%3A%201%2C%20%22title%22%3A%20%2260.00-63.00%20%22%7D%2C%20%22type%22%3A%20%22Feature%22%7D%2C%20%7B%22geometry%22%3A%20%7B%22coordinates%22%3A%20%5B%5B%5B%5B73.77985%2C%2018.54358%5D%2C%20%5B73.78207%2C%2018.54748%5D%2C%20%5B73.78454%2C%2018.55247%5D%2C%20%5B73.78672%2C%2018.55754%5D%2C%20%5B73.78957%2C%2018.56516%5D%2C%20%5B73.79081%2C%2018.56897%5D%2C%20%5B73.79078%2C%2018.56897%5D%2C%20%5B73.78756%2C%2018.56897%5D%2C%20%5B73.7873%2C%2018.56816%5D%2C%20%5B73.78435%2C%2018.56008%5D%2C%20%5B73.78207%2C%2018.55471%5D%2C%20%5B73.77973%2C%2018.54993%5D%2C%20%5B73.77789%2C%2018.54663%5D%2C%20%5B73.77859%2C%2018.54612%5D%2C%20%5B73.77859%2C%2018.54485%5D%2C%20%5B73.77859%2C%2018.54358%5D%2C%20%5B73.77985%2C%2018.54358%5D%5D%5D%5D%2C%20%22type%22%3A%20%22MultiPolygon%22%7D%2C%20%22properties%22%3A%20%7B%22fill%22%3A%20%22%23ffb4b4%22%2C%20%22fill-opacity%22%3A%200.5%2C%20%22stroke%22%3A%20%22%23ffb4b4%22%2C%20%22stroke-opacity%22%3A%201%2C%20%22stroke-width%22%3A%201%2C%20%22title%22%3A%20%2263.00-66.00%20%22%7D%2C%20%22type%22%3A%20%22Feature%22%7D%2C%20%7B%22geometry%22%3A%20%7B%22coordinates%22%3A%20%5B%5B%5B%5B73.78148%2C%2018.53977%5D%2C%20%5B73.78381%2C%2018.54367%5D%2C%20%5B73.78641%2C%2018.54866%5D%2C%20%5B73.7887%2C%2018.55374%5D%2C%20%5B73.79169%2C%2018.56135%5D%2C%20%5B73.7938%2C%2018.5677%5D%2C%20%5B73.79417%2C%2018.56897%5D%2C%20%5B73.79252%2C%2018.56897%5D%2C%20%5B73.79081%2C%2018.56897%5D%2C%20%5B73.79078%2C%2018.56887%5D%2C%20%5B73.78821%2C%2018.56135%5D%2C%20%5B73.78555%2C%2018.55475%5D%2C%20%5B73.78269%2C%2018.54866%5D%2C%20%5B73.78061%2C%2018.54485%5D%2C%20%5B73.77947%2C%2018.54294%5D%2C%20%5B73.78033%2C%2018.54231%5D%2C%20%5B73.78033%2C%2018.54104%5D%2C%20%5B73.78033%2C%2018.53977%5D%2C%20%5B73.78148%2C%2018.53977%5D%5D%5D%5D%2C%20%22type%22%3A%20%22MultiPolygon%22%7D%2C%20%22properties%22%3A%20%7B%22fill%22%3A%20%22%23ffa6a6%22%2C%20%22fill-opacity%22%3A%200.5%2C%20%22stroke%22%3A%20%22%23ffa6a6%22%2C%20%22stroke-opacity%22%3A%201%2C%20%22stroke-width%22%3A%201%2C%20%22title%22%3A%20%2266.00-69.00%20%22%7D%2C%20%22type%22%3A%20%22Feature%22%7D%2C%20%7B%22geometry%22%3A%20%7B%22coordinates%22%3A%20%5B%5B%5B%5B73.91446%2C%2018.49228%5D%2C%20%5B73.9162%2C%2018.49216%5D%2C%20%5B73.91794%2C%2018.49253%5D%2C%20%5B73.91902%2C%2018.49281%5D%2C%20%5B73.92316%2C%2018.49409%5D%2C%20%5B73.93187%2C%2018.4974%5D%2C%20%5B73.93362%2C%2018.49819%5D%2C%20%5B73.93536%2C%2018.49916%5D%2C%20%5B73.9371%2C%2018.50043%5D%2C%20%5B73.9371%2C%2018.5017%5D%2C%20%5B73.9371%2C%2018.50423%5D%2C%20%5B73.93536%2C%2018.5055%5D%2C%20%5B73.93536%2C%2018.50677%5D%2C%20%5B73.93536%2C%2018.50931%5D%2C%20%5B73.93362%2C%2018.51058%5D%2C%20%5B73.93362%2C%2018.51185%5D%2C%20%5B73.93362%2C%2018.51439%5D%2C%20%5B73.93187%2C%2018.51566%5D%2C%20%5B73.93187%2C%2018.51693%5D%2C%20%5B73.93187%2C%2018.5182%5D%2C%20%5B73.93013%2C%2018.51947%5D%2C%20%5B73.93013%2C%2018.52073%5D%2C%20%5B73.93013%2C%2018.52327%5D%2C%20%5B73.92839%2C%2018.52454%5D%2C%20%5B73.92839%2C%2018.52581%5D%2C%20%5B73.92839%2C%2018.52708%5D%2C%20%5B73.92665%2C%2018.52835%5D%2C%20%5B73.92665%2C%2018.52962%5D%2C%20%5B73.92665%2C%2018.53216%5D%2C%20%5B73.92491%2C%2018.53343%5D%2C%20%5B73.92491%2C%2018.5347%5D%2C%20%5B73.92491%2C%2018.53597%5D%2C%20%5B73.92316%2C%2018.53723%5D%2C%20%5B73.92316%2C%2018.5385%5D%2C%20%5B73.92316%2C%2018.54104%5D%2C%20%5B73.92142%2C%2018.54231%5D%2C%20%5B73.92142%2C%2018.54358%5D%2C%20%5B73.92142%2C%2018.54485%5D%2C%20%5B73.9213%2C%2018.54494%5D%2C%20%5B73.92128%2C%2018.54485%5D%2C%20%5B73.92123%2C%2018.54358%5D%2C%20%5B73.92104%2C%2018.54231%5D%2C%20%5B73.92072%2C%2018.54104%5D%2C%20%5B73.92027%2C%2018.53977%5D%2C%20%5B73.91968%2C%2018.53853%5D%2C%20%5B73.91966%2C%2018.5385%5D%2C%20%5B73.91787%2C%2018.53597%5D%2C%20%5B73.9162%2C%2018.53285%5D%2C%20%5B73.9159%2C%2018.53216%5D%2C%20%5B73.91301%2C%2018.52454%5D%2C%20%5B73.91258%2C%2018.52327%5D%2C%20%5B73.91157%2C%2018.51947%5D%2C%20%5B73.91097%2C%2018.51659%5D%2C%20%5B73.91049%2C%2018.51312%5D%2C%20%5B73.91015%2C%2018.50931%5D%2C%20%5B73.91001%2C%2018.5055%5D%2C%20%5B73.91006%2C%2018.50297%5D%2C%20%5B73.91018%2C%2018.5017%5D%2C%20%5B73.91037%2C%2018.50043%5D%2C%20%5B73.91063%2C%2018.49916%5D%2C%20%5B73.91097%2C%2018.49789%5D%2C%20%5B73.91097%2C%2018.49789%5D%2C%20%5B73.91146%2C%2018.49662%5D%2C%20%5B73.91206%2C%2018.49535%5D%2C%20%5B73.91271%2C%2018.49419%5D%2C%20%5B73.91279%2C%2018.49408%5D%2C%20%5B73.91446%2C%2018.49228%5D%5D%5D%2C%20%5B%5B%5B73.78324%2C%2018.53597%5D%2C%20%5B73.78564%2C%2018.53977%5D%2C%20%5B73.78775%2C%2018.54358%5D%2C%20%5B73.79024%2C%2018.54866%5D%2C%20%5B73.79294%2C%2018.555%5D%2C%20%5B73.79575%2C%2018.56262%5D%2C%20%5B73.79769%2C%2018.56897%5D%2C%20%5B73.79803%2C%2018.57024%5D%2C%20%5B73.79775%2C%2018.57024%5D%2C%20%5B73.796%2C%2018.57024%5D%2C%20%5B73.79426%2C%2018.56897%5D%2C%20%5B73.79417%2C%2018.56897%5D%2C%20%5B73.7938%2C%2018.5677%5D%2C%20%5B73.79169%2C%2018.56135%5D%2C%20%5B73.78904%2C%2018.55454%5D%2C%20%5B73.78641%2C%2018.54866%5D%2C%20%5B73.78446%2C%2018.54485%5D%2C%20%5B73.78227%2C%2018.54104%5D%2C%20%5B73.78111%2C%2018.5392%5D%2C%20%5B73.78207%2C%2018.5385%5D%2C%20%5B73.78207%2C%2018.53723%5D%2C%20%5B73.78207%2C%2018.53597%5D%2C%20%5B73.78324%2C%2018.53597%5D%5D%5D%5D%2C%20%22type%22%3A%20%22MultiPolygon%22%7D%2C%20%22properties%22%3A%20%7B%22fill%22%3A%20%22%23ff9696%22%2C%20%22fill-opacity%22%3A%200.5%2C%20%22stroke%22%3A%20%22%23ff9696%22%2C%20%22stroke-opacity%22%3A%201%2C%20%22stroke-width%22%3A%201%2C%20%22title%22%3A%20%2269.00-72.00%20%22%7D%2C%20%22type%22%3A%20%22Feature%22%7D%2C%20%7B%22geometry%22%3A%20%7B%22coordinates%22%3A%20%5B%5B%5B%5B73.904%2C%2018.48245%5D%2C%20%5B73.90575%2C%2018.48271%5D%2C%20%5B73.90749%2C%2018.48319%5D%2C%20%5B73.91097%2C%2018.4841%5D%2C%20%5B73.91271%2C%2018.48412%5D%2C%20%5B73.91299%2C%2018.48413%5D%2C%20%5B73.91446%2C%2018.4852%5D%2C%20%5B73.92491%2C%2018.49281%5D%2C%20%5B73.92665%2C%2018.49281%5D%2C%20%5B73.92839%2C%2018.49408%5D%2C%20%5B73.93472%2C%2018.4987%5D%2C%20%5B73.93362%2C%2018.49819%5D%2C%20%5B73.92996%2C%2018.49662%5D%2C%20%5B73.92665%2C%2018.49534%5D%2C%20%5B73.91902%2C%2018.49281%5D%2C%20%5B73.91794%2C%2018.49253%5D%2C%20%5B73.9162%2C%2018.49216%5D%2C%20%5B73.91446%2C%2018.49228%5D%2C%20%5B73.91381%2C%2018.49281%5D%2C%20%5B73.91279%2C%2018.49408%5D%2C%20%5B73.91271%2C%2018.49419%5D%2C%20%5B73.91206%2C%2018.49535%5D%2C%20%5B73.91146%2C%2018.49662%5D%2C%20%5B73.91097%2C%2018.49789%5D%2C%20%5B73.91097%2C%2018.49789%5D%2C%20%5B73.91063%2C%2018.49916%5D%2C%20%5B73.91037%2C%2018.50043%5D%2C%20%5B73.91018%2C%2018.5017%5D%2C%20%5B73.91006%2C%2018.50297%5D%2C%20%5B73.91%2C%2018.50423%5D%2C%20%5B73.91001%2C%2018.5055%5D%2C%20%5B73.91015%2C%2018.50931%5D%2C%20%5B73.91049%2C%2018.51312%5D%2C%20%5B73.91097%2C%2018.51659%5D%2C%20%5B73.91157%2C%2018.51947%5D%2C%20%5B73.91258%2C%2018.52327%5D%2C%20%5B73.91301%2C%2018.52454%5D%2C%20%5B73.9162%2C%2018.53285%5D%2C%20%5B73.9165%2C%2018.53343%5D%2C%20%5B73.91794%2C%2018.53609%5D%2C%20%5B73.91877%2C%2018.53723%5D%2C%20%5B73.91968%2C%2018.53853%5D%2C%20%5B73.92027%2C%2018.53977%5D%2C%20%5B73.92072%2C%2018.54104%5D%2C%20%5B73.92104%2C%2018.54231%5D%2C%20%5B73.92123%2C%2018.54358%5D%2C%20%5B73.92128%2C%2018.54485%5D%2C%20%5B73.9213%2C%2018.54494%5D%2C%20%5B73.91968%2C%2018.54612%5D%2C%20%5B73.91968%2C%2018.54739%5D%2C%20%5B73.91968%2C%2018.54993%5D%2C%20%5B73.91794%2C%2018.5512%5D%2C%20%5B73.91794%2C%2018.55247%5D%2C%20%5B73.91794%2C%2018.55374%5D%2C%20%5B73.9162%2C%2018.555%5D%2C%20%5B73.9162%2C%2018.55627%5D%2C%20%5B73.9162%2C%2018.55881%5D%2C%20%5B73.91446%2C%2018.56008%5D%2C%20%5B73.91446%2C%2018.56135%5D%2C%20%5B73.91446%2C%2018.56262%5D%2C%20%5B73.91271%2C%2018.56389%5D%2C%20%5B73.91097%2C%2018.56516%5D%2C%20%5B73.90976%2C%2018.56516%5D%2C%20%5B73.90956%2C%2018.56389%5D%2C%20%5B73.90923%2C%2018.56226%5D%2C%20%5B73.90835%2C%2018.55881%5D%2C%20%5B73.90749%2C%2018.55612%5D%2C%20%5B73.90575%2C%2018.55159%5D%2C%20%5B73.90226%2C%2018.54324%5D%2C%20%5B73.90115%2C%2018.53977%5D%2C%20%5B73.90044%2C%2018.53723%5D%2C%20%5B73.89931%2C%2018.53216%5D%2C%20%5B73.89845%2C%2018.52708%5D%2C%20%5B73.89759%2C%2018.51947%5D%2C%20%5B73.89707%2C%2018.51058%5D%2C%20%5B73.89704%2C%2018.50314%5D%2C%20%5B73.89728%2C%2018.49916%5D%2C%20%5B73.89757%2C%2018.49662%5D%2C%20%5B73.89799%2C%2018.49408%5D%2C%20%5B73.89857%2C%2018.49154%5D%2C%20%5B73.89893%2C%2018.49027%5D%2C%20%5B73.89936%2C%2018.489%5D%2C%20%5B73.89985%2C%2018.48773%5D%2C%20%5B73.90052%2C%2018.48624%5D%2C%20%5B73.90108%2C%2018.4852%5D%2C%20%5B73.90185%2C%2018.48393%5D%2C%20%5B73.90226%2C%2018.48333%5D%2C%20%5B73.904%2C%2018.48245%5D%5D%5D%2C%20%5B%5B%5B73.78521%2C%2018.53216%5D%2C%20%5B73.78771%2C%2018.53597%5D%2C%20%5B73.78992%2C%2018.53977%5D%2C%20%5B73.7925%2C%2018.54485%5D%2C%20%5B73.79533%2C%2018.5512%5D%2C%20%5B73.79827%2C%2018.55881%5D%2C%20%5B73.80035%2C%2018.56516%5D%2C%20%5B73.80171%2C%2018.57024%5D%2C%20%5B73.80123%2C%2018.57024%5D%2C%20%5B73.79803%2C%2018.57024%5D%2C%20%5B73.79775%2C%2018.56918%5D%2C%20%5B73.796%2C%2018.56341%5D%2C%20%5B73.79294%2C%2018.555%5D%2C%20%5B73.79024%2C%2018.54866%5D%2C%20%5B73.78775%2C%2018.54358%5D%2C%20%5B73.78555%2C%2018.53963%5D%2C%20%5B73.78286%2C%2018.53539%5D%2C%20%5B73.78381%2C%2018.5347%5D%2C%20%5B73.78381%2C%2018.53343%5D%2C%20%5B73.78381%2C%2018.53216%5D%2C%20%5B73.78521%2C%2018.53216%5D%5D%5D%5D%2C%20%22type%22%3A%20%22MultiPolygon%22%7D%2C%20%22properties%22%3A%20%7B%22fill%22%3A%20%22%23ff8686%22%2C%20%22fill-opacity%22%3A%200.5%2C%20%22stroke%22%3A%20%22%23ff8686%22%2C%20%22stroke-opacity%22%3A%201%2C%20%22stroke-width%22%3A%201%2C%20%22title%22%3A%20%2272.00-75.00%20%22%7D%2C%20%22type%22%3A%20%22Feature%22%7D%2C%20%7B%22geometry%22%3A%20%7B%22coordinates%22%3A%20%5B%5B%5B%5B73.89529%2C%2018.47587%5D%2C%20%5B73.89704%2C%2018.47599%5D%2C%20%5B73.89838%2C%2018.47631%5D%2C%20%5B73.89878%2C%2018.47641%5D%2C%20%5B73.90052%2C%2018.47667%5D%2C%20%5B73.90116%2C%2018.47678%5D%2C%20%5B73.90226%2C%2018.47758%5D%2C%20%5B73.904%2C%2018.47885%5D%2C%20%5B73.90575%2C%2018.47885%5D%2C%20%5B73.90749%2C%2018.48012%5D%2C%20%5B73.91299%2C%2018.48413%5D%2C%20%5B73.91271%2C%2018.48412%5D%2C%20%5B73.9103%2C%2018.48393%5D%2C%20%5B73.9054%2C%2018.48266%5D%2C%20%5B73.904%2C%2018.48245%5D%2C%20%5B73.90313%2C%2018.48266%5D%2C%20%5B73.90226%2C%2018.48333%5D%2C%20%5B73.90185%2C%2018.48393%5D%2C%20%5B73.90108%2C%2018.4852%5D%2C%20%5B73.90052%2C%2018.48624%5D%2C%20%5B73.90041%2C%2018.48646%5D%2C%20%5B73.89985%2C%2018.48773%5D%2C%20%5B73.89936%2C%2018.489%5D%2C%20%5B73.89878%2C%2018.49078%5D%2C%20%5B73.89826%2C%2018.49281%5D%2C%20%5B73.89776%2C%2018.49535%5D%2C%20%5B73.89741%2C%2018.49789%5D%2C%20%5B73.89718%2C%2018.50043%5D%2C%20%5B73.89704%2C%2018.50314%5D%2C%20%5B73.89704%2C%2018.50931%5D%2C%20%5B73.89748%2C%2018.5182%5D%2C%20%5B73.89828%2C%2018.52581%5D%2C%20%5B73.89907%2C%2018.53089%5D%2C%20%5B73.90013%2C%2018.53597%5D%2C%20%5B73.90115%2C%2018.53977%5D%2C%20%5B73.90226%2C%2018.54324%5D%2C%20%5B73.9034%2C%2018.54612%5D%2C%20%5B73.90754%2C%2018.55627%5D%2C%20%5B73.90871%2C%2018.56008%5D%2C%20%5B73.90923%2C%2018.56226%5D%2C%20%5B73.90976%2C%2018.56516%5D%2C%20%5B73.90923%2C%2018.56516%5D%2C%20%5B73.90749%2C%2018.56643%5D%2C%20%5B73.90575%2C%2018.56643%5D%2C%20%5B73.904%2C%2018.56643%5D%2C%20%5B73.90226%2C%2018.5677%5D%2C%20%5B73.90052%2C%2018.5677%5D%2C%20%5B73.89878%2C%2018.5677%5D%2C%20%5B73.89811%2C%2018.5677%5D%2C%20%5B73.89742%2C%2018.56516%5D%2C%20%5B73.89658%2C%2018.56262%5D%2C%20%5B73.89561%2C%2018.56008%5D%2C%20%5B73.89355%2C%2018.55476%5D%2C%20%5B73.89254%2C%2018.5512%5D%2C%20%5B73.89163%2C%2018.54739%5D%2C%20%5B73.89044%2C%2018.54104%5D%2C%20%5B73.88943%2C%2018.53343%5D%2C%20%5B73.88861%2C%2018.52327%5D%2C%20%5B73.88824%2C%2018.51058%5D%2C%20%5B73.88846%2C%2018.49916%5D%2C%20%5B73.88886%2C%2018.49408%5D%2C%20%5B73.88936%2C%2018.49027%5D%2C%20%5B73.88982%2C%2018.48773%5D%2C%20%5B73.89011%2C%2018.48646%5D%2C%20%5B73.89081%2C%2018.48393%5D%2C%20%5B73.89169%2C%2018.48139%5D%2C%20%5B73.89181%2C%2018.4811%5D%2C%20%5B73.89286%2C%2018.47885%5D%2C%20%5B73.89355%2C%2018.47757%5D%2C%20%5B73.89529%2C%2018.47587%5D%5D%5D%2C%20%5B%5B%5B73.78745%2C%2018.52835%5D%2C%20%5B73.79006%2C%2018.53216%5D%2C%20%5B73.79234%2C%2018.53597%5D%2C%20%5B73.79502%2C%2018.54104%5D%2C%20%5B73.79775%2C%2018.54693%5D%2C%20%5B73.80123%2C%2018.55554%5D%2C%20%5B73.80364%2C%2018.56262%5D%2C%20%5B73.80505%2C%2018.5677%5D%2C%20%5B73.80565%2C%2018.57024%5D%2C%20%5B73.80471%2C%2018.57024%5D%2C%20%5B73.80171%2C%2018.57024%5D%2C%20%5B73.8014%2C%2018.56897%5D%2C%20%5B73.79996%2C%2018.56389%5D%2C%20%5B73.79781%2C%2018.55754%5D%2C%20%5B73.79479%2C%2018.54993%5D%2C%20%5B73.79189%2C%2018.54358%5D%2C%20%5B73.78921%2C%2018.5385%5D%2C%20%5B73.78692%2C%2018.5347%5D%2C%20%5B73.78474%2C%2018.53148%5D%2C%20%5B73.78555%2C%2018.53089%5D%2C%20%5B73.78555%2C%2018.52962%5D%2C%20%5B73.7873%2C%2018.52835%5D%2C%20%5B73.78745%2C%2018.52835%5D%5D%5D%5D%2C%20%22type%22%3A%20%22MultiPolygon%22%7D%2C%20%22properties%22%3A%20%7B%22fill%22%3A%20%22%23ff7878%22%2C%20%22fill-opacity%22%3A%200.5%2C%20%22stroke%22%3A%20%22%23ff7878%22%2C%20%22stroke-opacity%22%3A%201%2C%20%22stroke-width%22%3A%201%2C%20%22title%22%3A%20%2275.00-78.00%20%22%7D%2C%20%22type%22%3A%20%22Feature%22%7D%2C%20%7B%22geometry%22%3A%20%7B%22coordinates%22%3A%20%5B%5B%5B%5B73.88833%2C%2018.47015%5D%2C%20%5B73.89181%2C%2018.47041%5D%2C%20%5B73.89241%2C%2018.4704%5D%2C%20%5B73.89355%2C%2018.47123%5D%2C%20%5B73.90116%2C%2018.47678%5D%2C%20%5B73.90052%2C%2018.47667%5D%2C%20%5B73.89838%2C%2018.47631%5D%2C%20%5B73.89704%2C%2018.47599%5D%2C%20%5B73.89529%2C%2018.47587%5D%2C%20%5B73.89444%2C%2018.47631%5D%2C%20%5B73.89355%2C%2018.47757%5D%2C%20%5B73.89355%2C%2018.47758%5D%2C%20%5B73.89286%2C%2018.47885%5D%2C%20%5B73.89224%2C%2018.48012%5D%2C%20%5B73.89169%2C%2018.48139%5D%2C%20%5B73.89081%2C%2018.48393%5D%2C%20%5B73.89011%2C%2018.48646%5D%2C%20%5B73.88958%2C%2018.489%5D%2C%20%5B73.889%2C%2018.49281%5D%2C%20%5B73.88862%2C%2018.49662%5D%2C%20%5B73.88833%2C%2018.50241%5D%2C%20%5B73.88831%2C%2018.51566%5D%2C%20%5B73.88886%2C%2018.52708%5D%2C%20%5B73.88988%2C%2018.53723%5D%2C%20%5B73.89088%2C%2018.54358%5D%2C%20%5B73.89191%2C%2018.54866%5D%2C%20%5B73.89324%2C%2018.55374%5D%2C%20%5B73.89363%2C%2018.555%5D%2C%20%5B73.89456%2C%2018.55754%5D%2C%20%5B73.89704%2C%2018.56394%5D%2C%20%5B73.89811%2C%2018.5677%5D%2C%20%5B73.89821%2C%2018.56811%5D%2C%20%5B73.89704%2C%2018.56897%5D%2C%20%5B73.89529%2C%2018.56897%5D%2C%20%5B73.89181%2C%2018.56897%5D%2C%20%5B73.89007%2C%2018.57024%5D%2C%20%5B73.88833%2C%2018.57024%5D%2C%20%5B73.88735%2C%2018.57024%5D%2C%20%5B73.88699%2C%2018.56897%5D%2C%20%5B73.88484%2C%2018.56129%5D%2C%20%5B73.88362%2C%2018.555%5D%2C%20%5B73.88234%2C%2018.54612%5D%2C%20%5B73.88128%2C%2018.5347%5D%2C%20%5B73.88074%2C%2018.522%5D%2C%20%5B73.88091%2C%2018.5055%5D%2C%20%5B73.88179%2C%2018.49027%5D%2C%20%5B73.88242%2C%2018.4852%5D%2C%20%5B73.8831%2C%2018.4815%5D%2C%20%5B73.88378%2C%2018.47885%5D%2C%20%5B73.88459%2C%2018.47631%5D%2C%20%5B73.88508%2C%2018.47504%5D%2C%20%5B73.88564%2C%2018.47377%5D%2C%20%5B73.88626%2C%2018.4725%5D%2C%20%5B73.88658%2C%2018.47191%5D%2C%20%5B73.88833%2C%2018.47015%5D%5D%5D%2C%20%5B%5B%5B73.78909%2C%2018.52327%5D%2C%20%5B73.79193%2C%2018.52708%5D%2C%20%5B73.7936%2C%2018.52962%5D%2C%20%5B73.79586%2C%2018.53343%5D%2C%20%5B73.79853%2C%2018.5385%5D%2C%20%5B73.80206%2C%2018.54612%5D%2C%20%5B73.80561%2C%2018.555%5D%2C%20%5B73.80734%2C%2018.56008%5D%2C%20%5B73.80879%2C%2018.56516%5D%2C%20%5B73.80967%2C%2018.56897%5D%2C%20%5B73.80992%2C%2018.57024%5D%2C%20%5B73.8082%2C%2018.57024%5D%2C%20%5B73.80565%2C%2018.57024%5D%2C%20%5B73.80536%2C%2018.56897%5D%2C%20%5B73.80402%2C%2018.56389%5D%2C%20%5B73.80241%2C%2018.55881%5D%2C%20%5B73.80006%2C%2018.55247%5D%2C%20%5B73.79683%2C%2018.54485%5D%2C%20%5B73.79426%2C%2018.53955%5D%2C%20%5B73.79161%2C%2018.5347%5D%2C%20%5B73.78923%2C%2018.53089%5D%2C%20%5B73.7873%2C%2018.52814%5D%2C%20%5B73.7873%2C%2018.52708%5D%2C%20%5B73.7873%2C%2018.52581%5D%2C%20%5B73.78904%2C%2018.52454%5D%2C%20%5B73.78904%2C%2018.52327%5D%2C%20%5B73.78909%2C%2018.52327%5D%5D%5D%5D%2C%20%22type%22%3A%20%22MultiPolygon%22%7D%2C%20%22properties%22%3A%20%7B%22fill%22%3A%20%22%23ff6868%22%2C%20%22fill-opacity%22%3A%200.5%2C%20%22stroke%22%3A%20%22%23ff6868%22%2C%20%22stroke-opacity%22%3A%201%2C%20%22stroke-width%22%3A%201%2C%20%22title%22%3A%20%2278.00-81.00%20%22%7D%2C%20%22type%22%3A%20%22Feature%22%7D%2C%20%7B%22geometry%22%3A%20%7B%22coordinates%22%3A%20%5B%5B%5B%5B73.88439%2C%2018.46455%5D%2C%20%5B73.89241%2C%2018.4704%5D%2C%20%5B73.89181%2C%2018.47041%5D%2C%20%5B73.89007%2C%2018.47034%5D%2C%20%5B73.88833%2C%2018.47015%5D%2C%20%5B73.88698%2C%2018.47123%5D%2C%20%5B73.88658%2C%2018.47191%5D%2C%20%5B73.88626%2C%2018.4725%5D%2C%20%5B73.88564%2C%2018.47377%5D%2C%20%5B73.88508%2C%2018.47504%5D%2C%20%5B73.88459%2C%2018.47631%5D%2C%20%5B73.88378%2C%2018.47885%5D%2C%20%5B73.88313%2C%2018.48139%5D%2C%20%5B73.88263%2C%2018.48393%5D%2C%20%5B73.88207%2C%2018.48773%5D%2C%20%5B73.88159%2C%2018.49281%5D%2C%20%5B73.88076%2C%2018.51058%5D%2C%20%5B73.88083%2C%2018.52581%5D%2C%20%5B73.88157%2C%2018.5385%5D%2C%20%5B73.88284%2C%2018.54993%5D%2C%20%5B73.88432%2C%2018.55881%5D%2C%20%5B73.88548%2C%2018.56389%5D%2C%20%5B73.88658%2C%2018.5677%5D%2C%20%5B73.88735%2C%2018.57024%5D%2C%20%5B73.88658%2C%2018.57024%5D%2C%20%5B73.88484%2C%2018.5715%5D%2C%20%5B73.8831%2C%2018.5715%5D%2C%20%5B73.87729%2C%2018.5715%5D%2C%20%5B73.87686%2C%2018.57024%5D%2C%20%5B73.87652%2C%2018.56897%5D%2C%20%5B73.87626%2C%2018.5677%5D%2C%20%5B73.87416%2C%2018.55627%5D%2C%20%5B73.8732%2C%2018.54866%5D%2C%20%5B73.87254%2C%2018.53977%5D%2C%20%5B73.8723%2C%2018.52962%5D%2C%20%5B73.87277%2C%2018.51566%5D%2C%20%5B73.87483%2C%2018.49154%5D%2C%20%5B73.8764%2C%2018.47885%5D%2C%20%5B73.87717%2C%2018.47504%5D%2C%20%5B73.87784%2C%2018.4725%5D%2C%20%5B73.87825%2C%2018.47123%5D%2C%20%5B73.87871%2C%2018.46996%5D%2C%20%5B73.87962%2C%2018.46783%5D%2C%20%5B73.87981%2C%2018.46743%5D%2C%20%5B73.88049%2C%2018.46616%5D%2C%20%5B73.88136%2C%2018.46504%5D%2C%20%5B73.8831%2C%2018.46502%5D%2C%20%5B73.88439%2C%2018.46455%5D%5D%5D%2C%20%5B%5B%5B73.79121%2C%2018.5182%5D%2C%20%5B73.79426%2C%2018.52197%5D%2C%20%5B73.79608%2C%2018.52454%5D%2C%20%5B73.79851%2C%2018.52835%5D%2C%20%5B73.80073%2C%2018.53216%5D%2C%20%5B73.80405%2C%2018.5385%5D%2C%20%5B73.80637%2C%2018.54358%5D%2C%20%5B73.80943%2C%2018.5512%5D%2C%20%5B73.81243%2C%2018.56008%5D%2C%20%5B73.81342%2C%2018.5638%5D%2C%20%5B73.81429%2C%2018.5677%5D%2C%20%5B73.81473%2C%2018.57024%5D%2C%20%5B73.81342%2C%2018.57024%5D%2C%20%5B73.80992%2C%2018.57024%5D%2C%20%5B73.80967%2C%2018.56897%5D%2C%20%5B73.80879%2C%2018.56516%5D%2C%20%5B73.80734%2C%2018.56008%5D%2C%20%5B73.80561%2C%2018.555%5D%2C%20%5B73.8026%2C%2018.54739%5D%2C%20%5B73.79976%2C%2018.54104%5D%2C%20%5B73.79656%2C%2018.5347%5D%2C%20%5B73.79426%2C%2018.5307%5D%2C%20%5B73.79193%2C%2018.52708%5D%2C%20%5B73.79009%2C%2018.52454%5D%2C%20%5B73.78904%2C%2018.5232%5D%2C%20%5B73.78904%2C%2018.522%5D%2C%20%5B73.79078%2C%2018.52073%5D%2C%20%5B73.79078%2C%2018.51947%5D%2C%20%5B73.79078%2C%2018.5182%5D%2C%20%5B73.79121%2C%2018.5182%5D%5D%5D%5D%2C%20%22type%22%3A%20%22MultiPolygon%22%7D%2C%20%22properties%22%3A%20%7B%22fill%22%3A%20%22%23ff5858%22%2C%20%22fill-opacity%22%3A%200.5%2C%20%22stroke%22%3A%20%22%23ff5858%22%2C%20%22stroke-opacity%22%3A%201%2C%20%22stroke-width%22%3A%201%2C%20%22title%22%3A%20%2281.00-84.00%20%22%7D%2C%20%22type%22%3A%20%22Feature%22%7D%2C%20%7B%22geometry%22%3A%20%7B%22coordinates%22%3A%20%5B%5B%5B%5B73.87613%2C%2018.45996%5D%2C%20%5B73.8763%2C%2018.45993%5D%2C%20%5B73.87787%2C%2018.46108%5D%2C%20%5B73.88136%2C%2018.46362%5D%2C%20%5B73.8831%2C%2018.46362%5D%2C%20%5B73.88439%2C%2018.46455%5D%2C%20%5B73.88367%2C%2018.46489%5D%2C%20%5B73.8831%2C%2018.46502%5D%2C%20%5B73.88136%2C%2018.46504%5D%2C%20%5B73.88049%2C%2018.46616%5D%2C%20%5B73.87981%2C%2018.46743%5D%2C%20%5B73.87962%2C%2018.46783%5D%2C%20%5B73.87871%2C%2018.46996%5D%2C%20%5B73.87825%2C%2018.47123%5D%2C%20%5B73.87784%2C%2018.4725%5D%2C%20%5B73.87717%2C%2018.47504%5D%2C%20%5B73.87663%2C%2018.47758%5D%2C%20%5B73.87613%2C%2018.48063%5D%2C%20%5B73.87359%2C%2018.50423%5D%2C%20%5B73.87242%2C%2018.52327%5D%2C%20%5B73.87235%2C%2018.5347%5D%2C%20%5B73.87286%2C%2018.54485%5D%2C%20%5B73.8738%2C%2018.55374%5D%2C%20%5B73.87523%2C%2018.56262%5D%2C%20%5B73.87652%2C%2018.56897%5D%2C%20%5B73.87686%2C%2018.57024%5D%2C%20%5B73.87729%2C%2018.5715%5D%2C%20%5B73.87613%2C%2018.5715%5D%2C%20%5B73.86749%2C%2018.5715%5D%2C%20%5B73.86742%2C%2018.5714%5D%2C%20%5B73.86087%2C%2018.56135%5D%2C%20%5B73.86022%2C%2018.56008%5D%2C%20%5B73.85971%2C%2018.55881%5D%2C%20%5B73.85938%2C%2018.55754%5D%2C%20%5B73.85933%2C%2018.55627%5D%2C%20%5B73.85949%2C%2018.555%5D%2C%20%5B73.8601%2C%2018.54866%5D%2C%20%5B73.86269%2C%2018.51693%5D%2C%20%5B73.86533%2C%2018.50043%5D%2C%20%5B73.87158%2C%2018.4687%5D%2C%20%5B73.8723%2C%2018.46616%5D%2C%20%5B73.87273%2C%2018.46489%5D%2C%20%5B73.87322%2C%2018.46362%5D%2C%20%5B73.87378%2C%2018.46235%5D%2C%20%5B73.87613%2C%2018.45996%5D%5D%5D%2C%20%5B%5B%5B73.79426%2C%2018.51319%5D%2C%20%5B73.79758%2C%2018.51693%5D%2C%20%5B73.80266%2C%2018.52327%5D%2C%20%5B73.80621%2C%2018.52835%5D%2C%20%5B73.80924%2C%2018.53343%5D%2C%20%5B73.81115%2C%2018.53723%5D%2C%20%5B73.8128%2C%2018.54104%5D%2C%20%5B73.81466%2C%2018.54612%5D%2C%20%5B73.8166%2C%2018.55247%5D%2C%20%5B73.81947%2C%2018.56389%5D%2C%20%5B73.81992%2C%2018.56643%5D%2C%20%5B73.82026%2C%2018.56897%5D%2C%20%5B73.8205%2C%2018.5715%5D%2C%20%5B73.82039%2C%2018.5715%5D%2C%20%5B73.81691%2C%2018.5715%5D%2C%20%5B73.81517%2C%2018.57024%5D%2C%20%5B73.81473%2C%2018.57024%5D%2C%20%5B73.81452%2C%2018.56897%5D%2C%20%5B73.81375%2C%2018.56516%5D%2C%20%5B73.81243%2C%2018.56008%5D%2C%20%5B73.81035%2C%2018.55374%5D%2C%20%5B73.80692%2C%2018.54485%5D%2C%20%5B73.80405%2C%2018.5385%5D%2C%20%5B73.80142%2C%2018.53343%5D%2C%20%5B73.79775%2C%2018.52714%5D%2C%20%5B73.79521%2C%2018.52327%5D%2C%20%5B73.79333%2C%2018.52073%5D%2C%20%5B73.7923%2C%2018.51947%5D%2C%20%5B73.79105%2C%2018.518%5D%2C%20%5B73.79252%2C%2018.51693%5D%2C%20%5B73.79252%2C%2018.51566%5D%2C%20%5B73.79252%2C%2018.51439%5D%2C%20%5B73.79426%2C%2018.51319%5D%5D%5D%5D%2C%20%22type%22%3A%20%22MultiPolygon%22%7D%2C%20%22properties%22%3A%20%7B%22fill%22%3A%20%22%23ff4a4a%22%2C%20%22fill-opacity%22%3A%200.5%2C%20%22stroke%22%3A%20%22%23ff4a4a%22%2C%20%22stroke-opacity%22%3A%201%2C%20%22stroke-width%22%3A%201%2C%20%22title%22%3A%20%2284.00-87.00%20%22%7D%2C%20%22type%22%3A%20%22Feature%22%7D%2C%20%7B%22geometry%22%3A%20%7B%22coordinates%22%3A%20%5B%5B%5B%5B73.86917%2C%2018.45528%5D%2C%20%5B73.86956%2C%2018.45502%5D%2C%20%5B73.87091%2C%2018.456%5D%2C%20%5B73.8763%2C%2018.45993%5D%2C%20%5B73.87613%2C%2018.45996%5D%2C%20%5B73.87441%2C%2018.46108%5D%2C%20%5B73.87439%2C%2018.46111%5D%2C%20%5B73.87378%2C%2018.46235%5D%2C%20%5B73.87322%2C%2018.46362%5D%2C%20%5B73.87265%2C%2018.46511%5D%2C%20%5B73.87192%2C%2018.46743%5D%2C%20%5B73.87128%2C%2018.46996%5D%2C%20%5B73.86487%2C%2018.50297%5D%2C%20%5B73.86237%2C%2018.51947%5D%2C%20%5B73.86098%2C%2018.53343%5D%2C%20%5B73.85938%2C%2018.55754%5D%2C%20%5B73.85971%2C%2018.55881%5D%2C%20%5B73.86022%2C%2018.56008%5D%2C%20%5B73.86046%2C%2018.56052%5D%2C%20%5B73.8622%2C%2018.56356%5D%2C%20%5B73.86749%2C%2018.5715%5D%2C%20%5B73.86742%2C%2018.5715%5D%2C%20%5B73.85664%2C%2018.5715%5D%2C%20%5B73.85529%2C%2018.57024%5D%2C%20%5B73.85098%2C%2018.56643%5D%2C%20%5B73.84617%2C%2018.56262%5D%2C%20%5B73.84239%2C%2018.56008%5D%2C%20%5B73.83955%2C%2018.5585%5D%2C%20%5B73.83781%2C%2018.55775%5D%2C%20%5B73.8371%2C%2018.55754%5D%2C%20%5B73.83607%2C%2018.55721%5D%2C%20%5B73.83433%2C%2018.55697%5D%2C%20%5B73.83258%2C%2018.55716%5D%2C%20%5B73.8318%2C%2018.55754%5D%2C%20%5B73.83084%2C%2018.5581%5D%2C%20%5B73.83023%2C%2018.55881%5D%2C%20%5B73.82939%2C%2018.56008%5D%2C%20%5B73.8291%2C%2018.56065%5D%2C%20%5B73.82888%2C%2018.56135%5D%2C%20%5B73.82859%2C%2018.56262%5D%2C%20%5B73.8284%2C%2018.56389%5D%2C%20%5B73.82828%2C%2018.56516%5D%2C%20%5B73.82822%2C%2018.56643%5D%2C%20%5B73.828%2C%2018.5715%5D%2C%20%5B73.82736%2C%2018.5715%5D%2C%20%5B73.8205%2C%2018.5715%5D%2C%20%5B73.82039%2C%2018.57024%5D%2C%20%5B73.81992%2C%2018.56643%5D%2C%20%5B73.81947%2C%2018.56389%5D%2C%20%5B73.81865%2C%2018.56039%5D%2C%20%5B73.81547%2C%2018.54866%5D%2C%20%5B73.81376%2C%2018.54358%5D%2C%20%5B73.81228%2C%2018.53977%5D%2C%20%5B73.81055%2C%2018.53597%5D%2C%20%5B73.80853%2C%2018.53216%5D%2C%20%5B73.80646%2C%2018.52877%5D%2C%20%5B73.80171%2C%2018.522%5D%2C%20%5B73.79775%2C%2018.51713%5D%2C%20%5B73.79422%2C%2018.51315%5D%2C%20%5B73.79426%2C%2018.51312%5D%2C%20%5B73.79426%2C%2018.51185%5D%2C%20%5B73.79426%2C%2018.51058%5D%2C%20%5B73.796%2C%2018.50931%5D%2C%20%5B73.796%2C%2018.50804%5D%2C%20%5B73.79766%2C%2018.50683%5D%2C%20%5B73.79775%2C%2018.5069%5D%2C%20%5B73.81047%2C%2018.51693%5D%2C%20%5B73.82039%2C%2018.52404%5D%2C%20%5B73.82388%2C%2018.5262%5D%2C%20%5B73.82562%2C%2018.52719%5D%2C%20%5B73.82736%2C%2018.52809%5D%2C%20%5B73.8291%2C%2018.5289%5D%2C%20%5B73.83084%2C%2018.52959%5D%2C%20%5B73.83093%2C%2018.52962%5D%2C%20%5B73.83433%2C%2018.53052%5D%2C%20%5B73.83607%2C%2018.53069%5D%2C%20%5B73.83781%2C%2018.53061%5D%2C%20%5B73.83955%2C%2018.53019%5D%2C%20%5B73.8408%2C%2018.52962%5D%2C%20%5B73.84129%2C%2018.52937%5D%2C%20%5B73.84264%2C%2018.52835%5D%2C%20%5B73.84304%2C%2018.52802%5D%2C%20%5B73.8439%2C%2018.52708%5D%2C%20%5B73.84478%2C%2018.52602%5D%2C%20%5B73.84492%2C%2018.52581%5D%2C%20%5B73.84649%2C%2018.52327%5D%2C%20%5B73.84652%2C%2018.52322%5D%2C%20%5B73.84712%2C%2018.522%5D%2C%20%5B73.84828%2C%2018.51947%5D%2C%20%5B73.85175%2C%2018.50985%5D%2C%20%5B73.86568%2C%2018.46408%5D%2C%20%5B73.86736%2C%2018.45854%5D%2C%20%5B73.86742%2C%2018.45838%5D%2C%20%5B73.86917%2C%2018.45528%5D%5D%5D%5D%2C%20%22type%22%3A%20%22MultiPolygon%22%7D%2C%20%22properties%22%3A%20%7B%22fill%22%3A%20%22%23ff3a3a%22%2C%20%22fill-opacity%22%3A%200.5%2C%20%22stroke%22%3A%20%22%23ff3a3a%22%2C%20%22stroke-opacity%22%3A%201%2C%20%22stroke-width%22%3A%201%2C%20%22title%22%3A%20%2287.00-90.00%20%22%7D%2C%20%22type%22%3A%20%22Feature%22%7D%2C%20%7B%22geometry%22%3A%20%7B%22coordinates%22%3A%20%5B%5B%5B%5B73.86296%2C%2018.45021%5D%2C%20%5B73.86956%2C%2018.45502%5D%2C%20%5B73.86917%2C%2018.45528%5D%2C%20%5B73.86849%2C%2018.456%5D%2C%20%5B73.86789%2C%2018.45727%5D%2C%20%5B73.86736%2C%2018.45854%5D%2C%20%5B73.8665%2C%2018.46108%5D%2C%20%5B73.84975%2C%2018.51566%5D%2C%20%5B73.84826%2C%2018.51952%5D%2C%20%5B73.84772%2C%2018.52073%5D%2C%20%5B73.84649%2C%2018.52327%5D%2C%20%5B73.84478%2C%2018.52602%5D%2C%20%5B73.8439%2C%2018.52708%5D%2C%20%5B73.84304%2C%2018.52802%5D%2C%20%5B73.84264%2C%2018.52835%5D%2C%20%5B73.84129%2C%2018.52937%5D%2C%20%5B73.8408%2C%2018.52962%5D%2C%20%5B73.83955%2C%2018.53019%5D%2C%20%5B73.83781%2C%2018.53061%5D%2C%20%5B73.83607%2C%2018.53069%5D%2C%20%5B73.83433%2C%2018.53052%5D%2C%20%5B73.83258%2C%2018.53014%5D%2C%20%5B73.83093%2C%2018.52962%5D%2C%20%5B73.83084%2C%2018.52959%5D%2C%20%5B73.8291%2C%2018.5289%5D%2C%20%5B73.82793%2C%2018.52835%5D%2C%20%5B73.82543%2C%2018.52708%5D%2C%20%5B73.81926%2C%2018.52327%5D%2C%20%5B73.81047%2C%2018.51693%5D%2C%20%5B73.79766%2C%2018.50683%5D%2C%20%5B73.79775%2C%2018.50677%5D%2C%20%5B73.79949%2C%2018.5055%5D%2C%20%5B73.79949%2C%2018.50423%5D%2C%20%5B73.80123%2C%2018.50297%5D%2C%20%5B73.80424%2C%2018.50077%5D%2C%20%5B73.80471%2C%2018.50105%5D%2C%20%5B73.8082%2C%2018.50287%5D%2C%20%5B73.81168%2C%2018.50455%5D%2C%20%5B73.81391%2C%2018.5055%5D%2C%20%5B73.81732%2C%2018.50677%5D%2C%20%5B73.82039%2C%2018.50765%5D%2C%20%5B73.82213%2C%2018.50798%5D%2C%20%5B73.82263%2C%2018.50804%5D%2C%20%5B73.82562%2C%2018.50825%5D%2C%20%5B73.82736%2C%2018.50814%5D%2C%20%5B73.82794%2C%2018.50804%5D%2C%20%5B73.8291%2C%2018.50783%5D%2C%20%5B73.83084%2C%2018.50731%5D%2C%20%5B73.83205%2C%2018.50677%5D%2C%20%5B73.83258%2C%2018.50653%5D%2C%20%5B73.83427%2C%2018.5055%5D%2C%20%5B73.83433%2C%2018.50547%5D%2C%20%5B73.83592%2C%2018.50423%5D%2C%20%5B73.83607%2C%2018.50411%5D%2C%20%5B73.83727%2C%2018.50297%5D%2C%20%5B73.83781%2C%2018.50243%5D%2C%20%5B73.83845%2C%2018.5017%5D%2C%20%5B73.83955%2C%2018.5004%5D%2C%20%5B73.84047%2C%2018.49916%5D%2C%20%5B73.84138%2C%2018.49789%5D%2C%20%5B73.84304%2C%2018.49528%5D%2C%20%5B73.84478%2C%2018.4922%5D%2C%20%5B73.84652%2C%2018.48881%5D%2C%20%5B73.85%2C%2018.48127%5D%2C%20%5B73.86046%2C%2018.456%5D%2C%20%5B73.8622%2C%2018.45159%5D%2C%20%5B73.86296%2C%2018.45021%5D%5D%5D%2C%20%5B%5B%5B73.83258%2C%2018.55716%5D%2C%20%5B73.83433%2C%2018.55697%5D%2C%20%5B73.83607%2C%2018.55721%5D%2C%20%5B73.8371%2C%2018.55754%5D%2C%20%5B73.83781%2C%2018.55775%5D%2C%20%5B73.83955%2C%2018.5585%5D%2C%20%5B73.84012%2C%2018.55881%5D%2C%20%5B73.84304%2C%2018.56045%5D%2C%20%5B73.84437%2C%2018.56135%5D%2C%20%5B73.84652%2C%2018.56286%5D%2C%20%5B73.84826%2C%2018.56419%5D%2C%20%5B73.85%2C%2018.56559%5D%2C%20%5B73.85246%2C%2018.5677%5D%2C%20%5B73.85664%2C%2018.5715%5D%2C%20%5B73.85523%2C%2018.5715%5D%2C%20%5B73.828%2C%2018.5715%5D%2C%20%5B73.8281%2C%2018.57024%5D%2C%20%5B73.82859%2C%2018.56262%5D%2C%20%5B73.82888%2C%2018.56135%5D%2C%20%5B73.8291%2C%2018.56065%5D%2C%20%5B73.82939%2C%2018.56008%5D%2C%20%5B73.83023%2C%2018.55881%5D%2C%20%5B73.83084%2C%2018.5581%5D%2C%20%5B73.83258%2C%2018.55716%5D%5D%5D%5D%2C%20%22type%22%3A%20%22MultiPolygon%22%7D%2C%20%22properties%22%3A%20%7B%22fill%22%3A%20%22%23ff2a2a%22%2C%20%22fill-opacity%22%3A%200.5%2C%20%22stroke%22%3A%20%22%23ff2a2a%22%2C%20%22stroke-opacity%22%3A%201%2C%20%22stroke-width%22%3A%201%2C%20%22title%22%3A%20%2290.00-93.00%20%22%7D%2C%20%22type%22%3A%20%22Feature%22%7D%2C%20%7B%22geometry%22%3A%20%7B%22coordinates%22%3A%20%5B%5B%5B%5B73.85871%2C%2018.44839%5D%2C%20%5B73.86046%2C%2018.44966%5D%2C%20%5B73.8622%2C%2018.44966%5D%2C%20%5B73.86296%2C%2018.45021%5D%2C%20%5B73.86253%2C%2018.45093%5D%2C%20%5B73.8622%2C%2018.45159%5D%2C%20%5B73.86194%2C%2018.4522%5D%2C%20%5B73.84642%2C%2018.489%5D%2C%20%5B73.84299%2C%2018.49535%5D%2C%20%5B73.84129%2C%2018.49801%5D%2C%20%5B73.84047%2C%2018.49916%5D%2C%20%5B73.83953%2C%2018.50043%5D%2C%20%5B73.83781%2C%2018.50243%5D%2C%20%5B73.83727%2C%2018.50297%5D%2C%20%5B73.83592%2C%2018.50423%5D%2C%20%5B73.83427%2C%2018.5055%5D%2C%20%5B73.83205%2C%2018.50677%5D%2C%20%5B73.83084%2C%2018.50731%5D%2C%20%5B73.8291%2C%2018.50783%5D%2C%20%5B73.82794%2C%2018.50804%5D%2C%20%5B73.82736%2C%2018.50814%5D%2C%20%5B73.82562%2C%2018.50825%5D%2C%20%5B73.82388%2C%2018.50819%5D%2C%20%5B73.82263%2C%2018.50804%5D%2C%20%5B73.82213%2C%2018.50798%5D%2C%20%5B73.82039%2C%2018.50765%5D%2C%20%5B73.81865%2C%2018.5072%5D%2C%20%5B73.81691%2C%2018.50665%5D%2C%20%5B73.81517%2C%2018.50602%5D%2C%20%5B73.81342%2C%2018.50531%5D%2C%20%5B73.81103%2C%2018.50423%5D%2C%20%5B73.80424%2C%2018.50077%5D%2C%20%5B73.80471%2C%2018.50043%5D%2C%20%5B73.80471%2C%2018.49916%5D%2C%20%5B73.80646%2C%2018.49789%5D%2C%20%5B73.80994%2C%2018.49535%5D%2C%20%5B73.80994%2C%2018.49408%5D%2C%20%5B73.81168%2C%2018.49281%5D%2C%20%5B73.81325%2C%2018.49167%5D%2C%20%5B73.81342%2C%2018.49169%5D%2C%20%5B73.81517%2C%2018.49181%5D%2C%20%5B73.81691%2C%2018.49183%5D%2C%20%5B73.81865%2C%2018.49174%5D%2C%20%5B73.82019%2C%2018.49154%5D%2C%20%5B73.82039%2C%2018.49152%5D%2C%20%5B73.82213%2C%2018.49116%5D%2C%20%5B73.82388%2C%2018.49064%5D%2C%20%5B73.82484%2C%2018.49027%5D%2C%20%5B73.82562%2C%2018.48996%5D%2C%20%5B73.82736%2C%2018.4891%5D%2C%20%5B73.82752%2C%2018.489%5D%2C%20%5B73.82953%2C%2018.48773%5D%2C%20%5B73.83121%2C%2018.48646%5D%2C%20%5B73.83268%2C%2018.4852%5D%2C%20%5B73.83433%2C%2018.48356%5D%2C%20%5B73.83515%2C%2018.48266%5D%2C%20%5B73.83625%2C%2018.48139%5D%2C%20%5B73.83822%2C%2018.47885%5D%2C%20%5B73.84129%2C%2018.47435%5D%2C%20%5B73.84319%2C%2018.47123%5D%2C%20%5B73.8487%2C%2018.46108%5D%2C%20%5B73.85195%2C%2018.45458%5D%2C%20%5B73.85349%2C%2018.45346%5D%2C%20%5B73.85349%2C%2018.4522%5D%2C%20%5B73.85523%2C%2018.45093%5D%2C%20%5B73.85871%2C%2018.44839%5D%5D%5D%5D%2C%20%22type%22%3A%20%22MultiPolygon%22%7D%2C%20%22properties%22%3A%20%7B%22fill%22%3A%20%22%23ff1c1c%22%2C%20%22fill-opacity%22%3A%200.5%2C%20%22stroke%22%3A%20%22%23ff1c1c%22%2C%20%22stroke-opacity%22%3A%201%2C%20%22stroke-width%22%3A%201%2C%20%22title%22%3A%20%2293.00-96.00%20%22%7D%2C%20%22type%22%3A%20%22Feature%22%7D%2C%20%7B%22geometry%22%3A%20%7B%22coordinates%22%3A%20%5B%5B%5B%5B73.85188%2C%2018.45473%5D%2C%20%5B73.84465%2C%2018.4687%5D%2C%20%5B73.84084%2C%2018.47504%5D%2C%20%5B73.83781%2C%2018.47942%5D%2C%20%5B73.83607%2C%2018.48161%5D%2C%20%5B73.83433%2C%2018.48356%5D%2C%20%5B73.83397%2C%2018.48393%5D%2C%20%5B73.83258%2C%2018.48528%5D%2C%20%5B73.83121%2C%2018.48646%5D%2C%20%5B73.83084%2C%2018.48677%5D%2C%20%5B73.82953%2C%2018.48773%5D%2C%20%5B73.8291%2C%2018.48804%5D%2C%20%5B73.82752%2C%2018.489%5D%2C%20%5B73.82736%2C%2018.4891%5D%2C%20%5B73.82562%2C%2018.48996%5D%2C%20%5B73.82484%2C%2018.49027%5D%2C%20%5B73.82388%2C%2018.49064%5D%2C%20%5B73.82213%2C%2018.49116%5D%2C%20%5B73.82039%2C%2018.49152%5D%2C%20%5B73.82019%2C%2018.49154%5D%2C%20%5B73.81691%2C%2018.49183%5D%2C%20%5B73.81517%2C%2018.49181%5D%2C%20%5B73.81342%2C%2018.49169%5D%2C%20%5B73.81325%2C%2018.49167%5D%2C%20%5B73.81342%2C%2018.49154%5D%2C%20%5B73.81517%2C%2018.49027%5D%2C%20%5B73.81517%2C%2018.489%5D%2C%20%5B73.81691%2C%2018.48773%5D%2C%20%5B73.82039%2C%2018.4852%5D%2C%20%5B73.82039%2C%2018.48393%5D%2C%20%5B73.82213%2C%2018.48266%5D%2C%20%5B73.82562%2C%2018.48012%5D%2C%20%5B73.82562%2C%2018.47885%5D%2C%20%5B73.82736%2C%2018.47758%5D%2C%20%5B73.83258%2C%2018.47377%5D%2C%20%5B73.83258%2C%2018.4725%5D%2C%20%5B73.83433%2C%2018.47123%5D%2C%20%5B73.83781%2C%2018.4687%5D%2C%20%5B73.83781%2C%2018.46743%5D%2C%20%5B73.83955%2C%2018.46616%5D%2C%20%5B73.84304%2C%2018.46362%5D%2C%20%5B73.84304%2C%2018.46235%5D%2C%20%5B73.84478%2C%2018.46108%5D%2C%20%5B73.84826%2C%2018.45854%5D%2C%20%5B73.84826%2C%2018.45727%5D%2C%20%5B73.85%2C%2018.456%5D%2C%20%5B73.85188%2C%2018.45473%5D%5D%5D%5D%2C%20%22type%22%3A%20%22MultiPolygon%22%7D%2C%20%22properties%22%3A%20%7B%22fill%22%3A%20%22%23ff0c0c%22%2C%20%22fill-opacity%22%3A%200.5%2C%20%22stroke%22%3A%20%22%23ff0c0c%22%2C%20%22stroke-opacity%22%3A%201%2C%20%22stroke-width%22%3A%201%2C%20%22title%22%3A%20%2296.00-99.00%20%22%7D%2C%20%22type%22%3A%20%22Feature%22%7D%5D%2C%20%22type%22%3A%20%22FeatureCollection%22%7D%29%3B%0A%0A%20%20%20%20%20%20%20%20%0A%3C/script%3E onload=\"this.contentDocument.open();this.contentDocument.write(    decodeURIComponent(this.getAttribute('data-html')));this.contentDocument.close();\" allowfullscreen webkitallowfullscreen mozallowfullscreen></iframe></div></div>"
      ],
      "text/plain": [
       "<folium.folium.Map at 0x7f44d8043340>"
      ]
     },
     "metadata": {},
     "output_type": "display_data"
    }
   ],
   "source": [
    "wsSpatialVis1('airQualityIndex')\n",
    "aqmSpatialVis1('airQualityIndex')"
   ]
  },
  {
   "cell_type": "markdown",
   "metadata": {},
   "source": [
    "### Calculating correlation between weather station data and AQM sensor data"
   ]
  },
  {
   "cell_type": "code",
   "execution_count": 163,
   "metadata": {
    "scrolled": true
   },
   "outputs": [
    {
     "name": "stdout",
     "output_type": "stream",
     "text": [
      "datakaveri.org/04a15c9960ffda227e9546f3f46e629e1fe4132b/rs.iudx.org.in/pune-env-weather/Shivajinagar correlation not found\n"
     ]
    }
   ],
   "source": [
    "corr_list=[]\n",
    "for w_id in sensor_map.keys():\n",
    "    single_res_data=measures.query(f'id == \"{w_id}\"')\n",
    "    single_res_data2=measures2.query(f'id == \"{sensor_map[w_id]}\"').reset_index(drop=True)\n",
    "\n",
    "    indexlist=[]\n",
    "    try:\n",
    "        for time in single_res_data['observationDateTime']:\n",
    "            indexlist.append(pd.DataFrame(single_res_data2['observationDateTime']).set_index('observationDateTime').index.get_loc(time, method='nearest'))\n",
    "        req_single_res_data2=single_res_data2.iloc[indexlist]\n",
    "\n",
    "        corr_list.append(\n",
    "            single_res_data['airQualityIndex'].corr(\n",
    "                req_single_res_data2['airQualityIndex'].astype(float)))\n",
    "    except:\n",
    "        corr_list.append(0)\n",
    "        print(f'{w_id} correlation not found')"
   ]
  },
  {
   "cell_type": "code",
   "execution_count": 164,
   "metadata": {},
   "outputs": [
    {
     "data": {
      "text/plain": [
       "[-0.9736676403347939,\n",
       " -0.2769861544056646,\n",
       " 0.21212799975977523,\n",
       " 1.0,\n",
       " -0.9999999999999999,\n",
       " -0.26041032586927804,\n",
       " -0.749903543180104,\n",
       " 0,\n",
       " -0.3278488376861446,\n",
       " 0.9473165606597677]"
      ]
     },
     "execution_count": 164,
     "metadata": {},
     "output_type": "execute_result"
    }
   ],
   "source": [
    "corr_list"
   ]
  },
  {
   "cell_type": "code",
   "execution_count": 169,
   "metadata": {
    "scrolled": false
   },
   "outputs": [
    {
     "data": {
      "application/vnd.plotly.v1+json": {
       "config": {
        "plotlyServerURL": "https://plot.ly"
       },
       "data": [
        {
         "type": "surface",
         "x": [
          73.76,
          73.97,
          73.75,
          73.89,
          73.92,
          73.84,
          73.8,
          73.84,
          73.9,
          73.85
         ],
         "y": [
          18.66,
          18.52,
          18.6,
          18.67,
          18.5,
          18.64,
          18.53,
          18.53,
          18.57,
          18.45
         ],
         "z": [
          -0.9736676403347939,
          -0.2769861544056646,
          0.21212799975977523,
          1,
          -0.9999999999999999,
          -0.26041032586927804,
          -0.749903543180104,
          0,
          -0.3278488376861446,
          0.9473165606597677
         ]
        }
       ],
       "layout": {
        "template": {
         "data": {
          "bar": [
           {
            "error_x": {
             "color": "#2a3f5f"
            },
            "error_y": {
             "color": "#2a3f5f"
            },
            "marker": {
             "line": {
              "color": "#E5ECF6",
              "width": 0.5
             }
            },
            "type": "bar"
           }
          ],
          "barpolar": [
           {
            "marker": {
             "line": {
              "color": "#E5ECF6",
              "width": 0.5
             }
            },
            "type": "barpolar"
           }
          ],
          "carpet": [
           {
            "aaxis": {
             "endlinecolor": "#2a3f5f",
             "gridcolor": "white",
             "linecolor": "white",
             "minorgridcolor": "white",
             "startlinecolor": "#2a3f5f"
            },
            "baxis": {
             "endlinecolor": "#2a3f5f",
             "gridcolor": "white",
             "linecolor": "white",
             "minorgridcolor": "white",
             "startlinecolor": "#2a3f5f"
            },
            "type": "carpet"
           }
          ],
          "choropleth": [
           {
            "colorbar": {
             "outlinewidth": 0,
             "ticks": ""
            },
            "type": "choropleth"
           }
          ],
          "contour": [
           {
            "colorbar": {
             "outlinewidth": 0,
             "ticks": ""
            },
            "colorscale": [
             [
              0,
              "#0d0887"
             ],
             [
              0.1111111111111111,
              "#46039f"
             ],
             [
              0.2222222222222222,
              "#7201a8"
             ],
             [
              0.3333333333333333,
              "#9c179e"
             ],
             [
              0.4444444444444444,
              "#bd3786"
             ],
             [
              0.5555555555555556,
              "#d8576b"
             ],
             [
              0.6666666666666666,
              "#ed7953"
             ],
             [
              0.7777777777777778,
              "#fb9f3a"
             ],
             [
              0.8888888888888888,
              "#fdca26"
             ],
             [
              1,
              "#f0f921"
             ]
            ],
            "type": "contour"
           }
          ],
          "contourcarpet": [
           {
            "colorbar": {
             "outlinewidth": 0,
             "ticks": ""
            },
            "type": "contourcarpet"
           }
          ],
          "heatmap": [
           {
            "colorbar": {
             "outlinewidth": 0,
             "ticks": ""
            },
            "colorscale": [
             [
              0,
              "#0d0887"
             ],
             [
              0.1111111111111111,
              "#46039f"
             ],
             [
              0.2222222222222222,
              "#7201a8"
             ],
             [
              0.3333333333333333,
              "#9c179e"
             ],
             [
              0.4444444444444444,
              "#bd3786"
             ],
             [
              0.5555555555555556,
              "#d8576b"
             ],
             [
              0.6666666666666666,
              "#ed7953"
             ],
             [
              0.7777777777777778,
              "#fb9f3a"
             ],
             [
              0.8888888888888888,
              "#fdca26"
             ],
             [
              1,
              "#f0f921"
             ]
            ],
            "type": "heatmap"
           }
          ],
          "heatmapgl": [
           {
            "colorbar": {
             "outlinewidth": 0,
             "ticks": ""
            },
            "colorscale": [
             [
              0,
              "#0d0887"
             ],
             [
              0.1111111111111111,
              "#46039f"
             ],
             [
              0.2222222222222222,
              "#7201a8"
             ],
             [
              0.3333333333333333,
              "#9c179e"
             ],
             [
              0.4444444444444444,
              "#bd3786"
             ],
             [
              0.5555555555555556,
              "#d8576b"
             ],
             [
              0.6666666666666666,
              "#ed7953"
             ],
             [
              0.7777777777777778,
              "#fb9f3a"
             ],
             [
              0.8888888888888888,
              "#fdca26"
             ],
             [
              1,
              "#f0f921"
             ]
            ],
            "type": "heatmapgl"
           }
          ],
          "histogram": [
           {
            "marker": {
             "colorbar": {
              "outlinewidth": 0,
              "ticks": ""
             }
            },
            "type": "histogram"
           }
          ],
          "histogram2d": [
           {
            "colorbar": {
             "outlinewidth": 0,
             "ticks": ""
            },
            "colorscale": [
             [
              0,
              "#0d0887"
             ],
             [
              0.1111111111111111,
              "#46039f"
             ],
             [
              0.2222222222222222,
              "#7201a8"
             ],
             [
              0.3333333333333333,
              "#9c179e"
             ],
             [
              0.4444444444444444,
              "#bd3786"
             ],
             [
              0.5555555555555556,
              "#d8576b"
             ],
             [
              0.6666666666666666,
              "#ed7953"
             ],
             [
              0.7777777777777778,
              "#fb9f3a"
             ],
             [
              0.8888888888888888,
              "#fdca26"
             ],
             [
              1,
              "#f0f921"
             ]
            ],
            "type": "histogram2d"
           }
          ],
          "histogram2dcontour": [
           {
            "colorbar": {
             "outlinewidth": 0,
             "ticks": ""
            },
            "colorscale": [
             [
              0,
              "#0d0887"
             ],
             [
              0.1111111111111111,
              "#46039f"
             ],
             [
              0.2222222222222222,
              "#7201a8"
             ],
             [
              0.3333333333333333,
              "#9c179e"
             ],
             [
              0.4444444444444444,
              "#bd3786"
             ],
             [
              0.5555555555555556,
              "#d8576b"
             ],
             [
              0.6666666666666666,
              "#ed7953"
             ],
             [
              0.7777777777777778,
              "#fb9f3a"
             ],
             [
              0.8888888888888888,
              "#fdca26"
             ],
             [
              1,
              "#f0f921"
             ]
            ],
            "type": "histogram2dcontour"
           }
          ],
          "mesh3d": [
           {
            "colorbar": {
             "outlinewidth": 0,
             "ticks": ""
            },
            "type": "mesh3d"
           }
          ],
          "parcoords": [
           {
            "line": {
             "colorbar": {
              "outlinewidth": 0,
              "ticks": ""
             }
            },
            "type": "parcoords"
           }
          ],
          "pie": [
           {
            "automargin": true,
            "type": "pie"
           }
          ],
          "scatter": [
           {
            "marker": {
             "colorbar": {
              "outlinewidth": 0,
              "ticks": ""
             }
            },
            "type": "scatter"
           }
          ],
          "scatter3d": [
           {
            "line": {
             "colorbar": {
              "outlinewidth": 0,
              "ticks": ""
             }
            },
            "marker": {
             "colorbar": {
              "outlinewidth": 0,
              "ticks": ""
             }
            },
            "type": "scatter3d"
           }
          ],
          "scattercarpet": [
           {
            "marker": {
             "colorbar": {
              "outlinewidth": 0,
              "ticks": ""
             }
            },
            "type": "scattercarpet"
           }
          ],
          "scattergeo": [
           {
            "marker": {
             "colorbar": {
              "outlinewidth": 0,
              "ticks": ""
             }
            },
            "type": "scattergeo"
           }
          ],
          "scattergl": [
           {
            "marker": {
             "colorbar": {
              "outlinewidth": 0,
              "ticks": ""
             }
            },
            "type": "scattergl"
           }
          ],
          "scattermapbox": [
           {
            "marker": {
             "colorbar": {
              "outlinewidth": 0,
              "ticks": ""
             }
            },
            "type": "scattermapbox"
           }
          ],
          "scatterpolar": [
           {
            "marker": {
             "colorbar": {
              "outlinewidth": 0,
              "ticks": ""
             }
            },
            "type": "scatterpolar"
           }
          ],
          "scatterpolargl": [
           {
            "marker": {
             "colorbar": {
              "outlinewidth": 0,
              "ticks": ""
             }
            },
            "type": "scatterpolargl"
           }
          ],
          "scatterternary": [
           {
            "marker": {
             "colorbar": {
              "outlinewidth": 0,
              "ticks": ""
             }
            },
            "type": "scatterternary"
           }
          ],
          "surface": [
           {
            "colorbar": {
             "outlinewidth": 0,
             "ticks": ""
            },
            "colorscale": [
             [
              0,
              "#0d0887"
             ],
             [
              0.1111111111111111,
              "#46039f"
             ],
             [
              0.2222222222222222,
              "#7201a8"
             ],
             [
              0.3333333333333333,
              "#9c179e"
             ],
             [
              0.4444444444444444,
              "#bd3786"
             ],
             [
              0.5555555555555556,
              "#d8576b"
             ],
             [
              0.6666666666666666,
              "#ed7953"
             ],
             [
              0.7777777777777778,
              "#fb9f3a"
             ],
             [
              0.8888888888888888,
              "#fdca26"
             ],
             [
              1,
              "#f0f921"
             ]
            ],
            "type": "surface"
           }
          ],
          "table": [
           {
            "cells": {
             "fill": {
              "color": "#EBF0F8"
             },
             "line": {
              "color": "white"
             }
            },
            "header": {
             "fill": {
              "color": "#C8D4E3"
             },
             "line": {
              "color": "white"
             }
            },
            "type": "table"
           }
          ]
         },
         "layout": {
          "annotationdefaults": {
           "arrowcolor": "#2a3f5f",
           "arrowhead": 0,
           "arrowwidth": 1
          },
          "autotypenumbers": "strict",
          "coloraxis": {
           "colorbar": {
            "outlinewidth": 0,
            "ticks": ""
           }
          },
          "colorscale": {
           "diverging": [
            [
             0,
             "#8e0152"
            ],
            [
             0.1,
             "#c51b7d"
            ],
            [
             0.2,
             "#de77ae"
            ],
            [
             0.3,
             "#f1b6da"
            ],
            [
             0.4,
             "#fde0ef"
            ],
            [
             0.5,
             "#f7f7f7"
            ],
            [
             0.6,
             "#e6f5d0"
            ],
            [
             0.7,
             "#b8e186"
            ],
            [
             0.8,
             "#7fbc41"
            ],
            [
             0.9,
             "#4d9221"
            ],
            [
             1,
             "#276419"
            ]
           ],
           "sequential": [
            [
             0,
             "#0d0887"
            ],
            [
             0.1111111111111111,
             "#46039f"
            ],
            [
             0.2222222222222222,
             "#7201a8"
            ],
            [
             0.3333333333333333,
             "#9c179e"
            ],
            [
             0.4444444444444444,
             "#bd3786"
            ],
            [
             0.5555555555555556,
             "#d8576b"
            ],
            [
             0.6666666666666666,
             "#ed7953"
            ],
            [
             0.7777777777777778,
             "#fb9f3a"
            ],
            [
             0.8888888888888888,
             "#fdca26"
            ],
            [
             1,
             "#f0f921"
            ]
           ],
           "sequentialminus": [
            [
             0,
             "#0d0887"
            ],
            [
             0.1111111111111111,
             "#46039f"
            ],
            [
             0.2222222222222222,
             "#7201a8"
            ],
            [
             0.3333333333333333,
             "#9c179e"
            ],
            [
             0.4444444444444444,
             "#bd3786"
            ],
            [
             0.5555555555555556,
             "#d8576b"
            ],
            [
             0.6666666666666666,
             "#ed7953"
            ],
            [
             0.7777777777777778,
             "#fb9f3a"
            ],
            [
             0.8888888888888888,
             "#fdca26"
            ],
            [
             1,
             "#f0f921"
            ]
           ]
          },
          "colorway": [
           "#636efa",
           "#EF553B",
           "#00cc96",
           "#ab63fa",
           "#FFA15A",
           "#19d3f3",
           "#FF6692",
           "#B6E880",
           "#FF97FF",
           "#FECB52"
          ],
          "font": {
           "color": "#2a3f5f"
          },
          "geo": {
           "bgcolor": "white",
           "lakecolor": "white",
           "landcolor": "#E5ECF6",
           "showlakes": true,
           "showland": true,
           "subunitcolor": "white"
          },
          "hoverlabel": {
           "align": "left"
          },
          "hovermode": "closest",
          "mapbox": {
           "style": "light"
          },
          "paper_bgcolor": "white",
          "plot_bgcolor": "#E5ECF6",
          "polar": {
           "angularaxis": {
            "gridcolor": "white",
            "linecolor": "white",
            "ticks": ""
           },
           "bgcolor": "#E5ECF6",
           "radialaxis": {
            "gridcolor": "white",
            "linecolor": "white",
            "ticks": ""
           }
          },
          "scene": {
           "xaxis": {
            "backgroundcolor": "#E5ECF6",
            "gridcolor": "white",
            "gridwidth": 2,
            "linecolor": "white",
            "showbackground": true,
            "ticks": "",
            "zerolinecolor": "white"
           },
           "yaxis": {
            "backgroundcolor": "#E5ECF6",
            "gridcolor": "white",
            "gridwidth": 2,
            "linecolor": "white",
            "showbackground": true,
            "ticks": "",
            "zerolinecolor": "white"
           },
           "zaxis": {
            "backgroundcolor": "#E5ECF6",
            "gridcolor": "white",
            "gridwidth": 2,
            "linecolor": "white",
            "showbackground": true,
            "ticks": "",
            "zerolinecolor": "white"
           }
          },
          "shapedefaults": {
           "line": {
            "color": "#2a3f5f"
           }
          },
          "ternary": {
           "aaxis": {
            "gridcolor": "white",
            "linecolor": "white",
            "ticks": ""
           },
           "baxis": {
            "gridcolor": "white",
            "linecolor": "white",
            "ticks": ""
           },
           "bgcolor": "#E5ECF6",
           "caxis": {
            "gridcolor": "white",
            "linecolor": "white",
            "ticks": ""
           }
          },
          "title": {
           "x": 0.05
          },
          "xaxis": {
           "automargin": true,
           "gridcolor": "white",
           "linecolor": "white",
           "ticks": "",
           "title": {
            "standoff": 15
           },
           "zerolinecolor": "white",
           "zerolinewidth": 2
          },
          "yaxis": {
           "automargin": true,
           "gridcolor": "white",
           "linecolor": "white",
           "ticks": "",
           "title": {
            "standoff": 15
           },
           "zerolinecolor": "white",
           "zerolinewidth": 2
          }
         }
        }
       }
      },
      "text/html": [
       "<div>                            <div id=\"cce54591-22e9-4428-a53f-8e78ad49679a\" class=\"plotly-graph-div\" style=\"height:525px; width:100%;\"></div>            <script type=\"text/javascript\">                require([\"plotly\"], function(Plotly) {                    window.PLOTLYENV=window.PLOTLYENV || {};                                    if (document.getElementById(\"cce54591-22e9-4428-a53f-8e78ad49679a\")) {                    Plotly.newPlot(                        \"cce54591-22e9-4428-a53f-8e78ad49679a\",                        [{\"type\": \"surface\", \"x\": [73.76, 73.97, 73.75, 73.89, 73.92, 73.84, 73.8, 73.84, 73.9, 73.85], \"y\": [18.66, 18.52, 18.6, 18.67, 18.5, 18.64, 18.53, 18.53, 18.57, 18.45], \"z\": [-0.9736676403347939, -0.2769861544056646, 0.21212799975977523, 1.0, -0.9999999999999999, -0.26041032586927804, -0.749903543180104, 0, -0.3278488376861446, 0.9473165606597677]}],                        {\"template\": {\"data\": {\"bar\": [{\"error_x\": {\"color\": \"#2a3f5f\"}, \"error_y\": {\"color\": \"#2a3f5f\"}, \"marker\": {\"line\": {\"color\": \"#E5ECF6\", \"width\": 0.5}}, \"type\": \"bar\"}], \"barpolar\": [{\"marker\": {\"line\": {\"color\": \"#E5ECF6\", \"width\": 0.5}}, \"type\": \"barpolar\"}], \"carpet\": [{\"aaxis\": {\"endlinecolor\": \"#2a3f5f\", \"gridcolor\": \"white\", \"linecolor\": \"white\", \"minorgridcolor\": \"white\", \"startlinecolor\": \"#2a3f5f\"}, \"baxis\": {\"endlinecolor\": \"#2a3f5f\", \"gridcolor\": \"white\", \"linecolor\": \"white\", \"minorgridcolor\": \"white\", \"startlinecolor\": \"#2a3f5f\"}, \"type\": \"carpet\"}], \"choropleth\": [{\"colorbar\": {\"outlinewidth\": 0, \"ticks\": \"\"}, \"type\": \"choropleth\"}], \"contour\": [{\"colorbar\": {\"outlinewidth\": 0, \"ticks\": \"\"}, \"colorscale\": [[0.0, \"#0d0887\"], [0.1111111111111111, \"#46039f\"], [0.2222222222222222, \"#7201a8\"], [0.3333333333333333, \"#9c179e\"], [0.4444444444444444, \"#bd3786\"], [0.5555555555555556, \"#d8576b\"], [0.6666666666666666, \"#ed7953\"], [0.7777777777777778, \"#fb9f3a\"], [0.8888888888888888, \"#fdca26\"], [1.0, \"#f0f921\"]], \"type\": \"contour\"}], \"contourcarpet\": [{\"colorbar\": {\"outlinewidth\": 0, \"ticks\": \"\"}, \"type\": \"contourcarpet\"}], \"heatmap\": [{\"colorbar\": {\"outlinewidth\": 0, \"ticks\": \"\"}, \"colorscale\": [[0.0, \"#0d0887\"], [0.1111111111111111, \"#46039f\"], [0.2222222222222222, \"#7201a8\"], [0.3333333333333333, \"#9c179e\"], [0.4444444444444444, \"#bd3786\"], [0.5555555555555556, \"#d8576b\"], [0.6666666666666666, \"#ed7953\"], [0.7777777777777778, \"#fb9f3a\"], [0.8888888888888888, \"#fdca26\"], [1.0, \"#f0f921\"]], \"type\": \"heatmap\"}], \"heatmapgl\": [{\"colorbar\": {\"outlinewidth\": 0, \"ticks\": \"\"}, \"colorscale\": [[0.0, \"#0d0887\"], [0.1111111111111111, \"#46039f\"], [0.2222222222222222, \"#7201a8\"], [0.3333333333333333, \"#9c179e\"], [0.4444444444444444, \"#bd3786\"], [0.5555555555555556, \"#d8576b\"], [0.6666666666666666, \"#ed7953\"], [0.7777777777777778, \"#fb9f3a\"], [0.8888888888888888, \"#fdca26\"], [1.0, \"#f0f921\"]], \"type\": \"heatmapgl\"}], \"histogram\": [{\"marker\": {\"colorbar\": {\"outlinewidth\": 0, \"ticks\": \"\"}}, \"type\": \"histogram\"}], \"histogram2d\": [{\"colorbar\": {\"outlinewidth\": 0, \"ticks\": \"\"}, \"colorscale\": [[0.0, \"#0d0887\"], [0.1111111111111111, \"#46039f\"], [0.2222222222222222, \"#7201a8\"], [0.3333333333333333, \"#9c179e\"], [0.4444444444444444, \"#bd3786\"], [0.5555555555555556, \"#d8576b\"], [0.6666666666666666, \"#ed7953\"], [0.7777777777777778, \"#fb9f3a\"], [0.8888888888888888, \"#fdca26\"], [1.0, \"#f0f921\"]], \"type\": \"histogram2d\"}], \"histogram2dcontour\": [{\"colorbar\": {\"outlinewidth\": 0, \"ticks\": \"\"}, \"colorscale\": [[0.0, \"#0d0887\"], [0.1111111111111111, \"#46039f\"], [0.2222222222222222, \"#7201a8\"], [0.3333333333333333, \"#9c179e\"], [0.4444444444444444, \"#bd3786\"], [0.5555555555555556, \"#d8576b\"], [0.6666666666666666, \"#ed7953\"], [0.7777777777777778, \"#fb9f3a\"], [0.8888888888888888, \"#fdca26\"], [1.0, \"#f0f921\"]], \"type\": \"histogram2dcontour\"}], \"mesh3d\": [{\"colorbar\": {\"outlinewidth\": 0, \"ticks\": \"\"}, \"type\": \"mesh3d\"}], \"parcoords\": [{\"line\": {\"colorbar\": {\"outlinewidth\": 0, \"ticks\": \"\"}}, \"type\": \"parcoords\"}], \"pie\": [{\"automargin\": true, \"type\": \"pie\"}], \"scatter\": [{\"marker\": {\"colorbar\": {\"outlinewidth\": 0, \"ticks\": \"\"}}, \"type\": \"scatter\"}], \"scatter3d\": [{\"line\": {\"colorbar\": {\"outlinewidth\": 0, \"ticks\": \"\"}}, \"marker\": {\"colorbar\": {\"outlinewidth\": 0, \"ticks\": \"\"}}, \"type\": \"scatter3d\"}], \"scattercarpet\": [{\"marker\": {\"colorbar\": {\"outlinewidth\": 0, \"ticks\": \"\"}}, \"type\": \"scattercarpet\"}], \"scattergeo\": [{\"marker\": {\"colorbar\": {\"outlinewidth\": 0, \"ticks\": \"\"}}, \"type\": \"scattergeo\"}], \"scattergl\": [{\"marker\": {\"colorbar\": {\"outlinewidth\": 0, \"ticks\": \"\"}}, \"type\": \"scattergl\"}], \"scattermapbox\": [{\"marker\": {\"colorbar\": {\"outlinewidth\": 0, \"ticks\": \"\"}}, \"type\": \"scattermapbox\"}], \"scatterpolar\": [{\"marker\": {\"colorbar\": {\"outlinewidth\": 0, \"ticks\": \"\"}}, \"type\": \"scatterpolar\"}], \"scatterpolargl\": [{\"marker\": {\"colorbar\": {\"outlinewidth\": 0, \"ticks\": \"\"}}, \"type\": \"scatterpolargl\"}], \"scatterternary\": [{\"marker\": {\"colorbar\": {\"outlinewidth\": 0, \"ticks\": \"\"}}, \"type\": \"scatterternary\"}], \"surface\": [{\"colorbar\": {\"outlinewidth\": 0, \"ticks\": \"\"}, \"colorscale\": [[0.0, \"#0d0887\"], [0.1111111111111111, \"#46039f\"], [0.2222222222222222, \"#7201a8\"], [0.3333333333333333, \"#9c179e\"], [0.4444444444444444, \"#bd3786\"], [0.5555555555555556, \"#d8576b\"], [0.6666666666666666, \"#ed7953\"], [0.7777777777777778, \"#fb9f3a\"], [0.8888888888888888, \"#fdca26\"], [1.0, \"#f0f921\"]], \"type\": \"surface\"}], \"table\": [{\"cells\": {\"fill\": {\"color\": \"#EBF0F8\"}, \"line\": {\"color\": \"white\"}}, \"header\": {\"fill\": {\"color\": \"#C8D4E3\"}, \"line\": {\"color\": \"white\"}}, \"type\": \"table\"}]}, \"layout\": {\"annotationdefaults\": {\"arrowcolor\": \"#2a3f5f\", \"arrowhead\": 0, \"arrowwidth\": 1}, \"autotypenumbers\": \"strict\", \"coloraxis\": {\"colorbar\": {\"outlinewidth\": 0, \"ticks\": \"\"}}, \"colorscale\": {\"diverging\": [[0, \"#8e0152\"], [0.1, \"#c51b7d\"], [0.2, \"#de77ae\"], [0.3, \"#f1b6da\"], [0.4, \"#fde0ef\"], [0.5, \"#f7f7f7\"], [0.6, \"#e6f5d0\"], [0.7, \"#b8e186\"], [0.8, \"#7fbc41\"], [0.9, \"#4d9221\"], [1, \"#276419\"]], \"sequential\": [[0.0, \"#0d0887\"], [0.1111111111111111, \"#46039f\"], [0.2222222222222222, \"#7201a8\"], [0.3333333333333333, \"#9c179e\"], [0.4444444444444444, \"#bd3786\"], [0.5555555555555556, \"#d8576b\"], [0.6666666666666666, \"#ed7953\"], [0.7777777777777778, \"#fb9f3a\"], [0.8888888888888888, \"#fdca26\"], [1.0, \"#f0f921\"]], \"sequentialminus\": [[0.0, \"#0d0887\"], [0.1111111111111111, \"#46039f\"], [0.2222222222222222, \"#7201a8\"], [0.3333333333333333, \"#9c179e\"], [0.4444444444444444, \"#bd3786\"], [0.5555555555555556, \"#d8576b\"], [0.6666666666666666, \"#ed7953\"], [0.7777777777777778, \"#fb9f3a\"], [0.8888888888888888, \"#fdca26\"], [1.0, \"#f0f921\"]]}, \"colorway\": [\"#636efa\", \"#EF553B\", \"#00cc96\", \"#ab63fa\", \"#FFA15A\", \"#19d3f3\", \"#FF6692\", \"#B6E880\", \"#FF97FF\", \"#FECB52\"], \"font\": {\"color\": \"#2a3f5f\"}, \"geo\": {\"bgcolor\": \"white\", \"lakecolor\": \"white\", \"landcolor\": \"#E5ECF6\", \"showlakes\": true, \"showland\": true, \"subunitcolor\": \"white\"}, \"hoverlabel\": {\"align\": \"left\"}, \"hovermode\": \"closest\", \"mapbox\": {\"style\": \"light\"}, \"paper_bgcolor\": \"white\", \"plot_bgcolor\": \"#E5ECF6\", \"polar\": {\"angularaxis\": {\"gridcolor\": \"white\", \"linecolor\": \"white\", \"ticks\": \"\"}, \"bgcolor\": \"#E5ECF6\", \"radialaxis\": {\"gridcolor\": \"white\", \"linecolor\": \"white\", \"ticks\": \"\"}}, \"scene\": {\"xaxis\": {\"backgroundcolor\": \"#E5ECF6\", \"gridcolor\": \"white\", \"gridwidth\": 2, \"linecolor\": \"white\", \"showbackground\": true, \"ticks\": \"\", \"zerolinecolor\": \"white\"}, \"yaxis\": {\"backgroundcolor\": \"#E5ECF6\", \"gridcolor\": \"white\", \"gridwidth\": 2, \"linecolor\": \"white\", \"showbackground\": true, \"ticks\": \"\", \"zerolinecolor\": \"white\"}, \"zaxis\": {\"backgroundcolor\": \"#E5ECF6\", \"gridcolor\": \"white\", \"gridwidth\": 2, \"linecolor\": \"white\", \"showbackground\": true, \"ticks\": \"\", \"zerolinecolor\": \"white\"}}, \"shapedefaults\": {\"line\": {\"color\": \"#2a3f5f\"}}, \"ternary\": {\"aaxis\": {\"gridcolor\": \"white\", \"linecolor\": \"white\", \"ticks\": \"\"}, \"baxis\": {\"gridcolor\": \"white\", \"linecolor\": \"white\", \"ticks\": \"\"}, \"bgcolor\": \"#E5ECF6\", \"caxis\": {\"gridcolor\": \"white\", \"linecolor\": \"white\", \"ticks\": \"\"}}, \"title\": {\"x\": 0.05}, \"xaxis\": {\"automargin\": true, \"gridcolor\": \"white\", \"linecolor\": \"white\", \"ticks\": \"\", \"title\": {\"standoff\": 15}, \"zerolinecolor\": \"white\", \"zerolinewidth\": 2}, \"yaxis\": {\"automargin\": true, \"gridcolor\": \"white\", \"linecolor\": \"white\", \"ticks\": \"\", \"title\": {\"standoff\": 15}, \"zerolinecolor\": \"white\", \"zerolinewidth\": 2}}}},                        {\"responsive\": true}                    ).then(function(){\n",
       "                            \n",
       "var gd = document.getElementById('cce54591-22e9-4428-a53f-8e78ad49679a');\n",
       "var x = new MutationObserver(function (mutations, observer) {{\n",
       "        var display = window.getComputedStyle(gd).display;\n",
       "        if (!display || display === 'none') {{\n",
       "            console.log([gd, 'removed!']);\n",
       "            Plotly.purge(gd);\n",
       "            observer.disconnect();\n",
       "        }}\n",
       "}});\n",
       "\n",
       "// Listen for the removal of the full notebook cells\n",
       "var notebookContainer = gd.closest('#notebook-container');\n",
       "if (notebookContainer) {{\n",
       "    x.observe(notebookContainer, {childList: true});\n",
       "}}\n",
       "\n",
       "// Listen for the clearing of the current output cell\n",
       "var outputEl = gd.closest('.output');\n",
       "if (outputEl) {{\n",
       "    x.observe(outputEl, {childList: true});\n",
       "}}\n",
       "\n",
       "                        })                };                });            </script>        </div>"
      ]
     },
     "metadata": {},
     "output_type": "display_data"
    }
   ],
   "source": [
    "#visualizing the correlation\n",
    "fig = go.Figure(data=[go.Surface(z=corr_list,\n",
    "                                 x=[x['location']['geometry']['coordinates'][0] for x in entity.resources],\n",
    "                                 y=[x['location']['geometry']['coordinates'][1] for x in entity.resources])])\n",
    "fig.show()"
   ]
  },
  {
   "cell_type": "code",
   "execution_count": null,
   "metadata": {},
   "outputs": [],
   "source": []
  }
 ],
 "metadata": {
  "kernelspec": {
   "display_name": "Python 3",
   "language": "python",
   "name": "python3"
  },
  "language_info": {
   "codemirror_mode": {
    "name": "ipython",
    "version": 3
   },
   "file_extension": ".py",
   "mimetype": "text/x-python",
   "name": "python",
   "nbconvert_exporter": "python",
   "pygments_lexer": "ipython3",
   "version": "3.8.5"
  }
 },
 "nbformat": 4,
 "nbformat_minor": 4
}
