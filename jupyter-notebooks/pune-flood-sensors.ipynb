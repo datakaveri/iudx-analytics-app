{
 "cells": [
  {
   "cell_type": "markdown",
   "metadata": {},
   "source": [
    "# Pune Flood Sensors"
   ]
  },
  {
   "cell_type": "markdown",
   "metadata": {},
   "source": [
    "##  Import necessary packages"
   ]
  },
  {
   "cell_type": "code",
   "execution_count": 10,
   "metadata": {},
   "outputs": [],
   "source": [
    "from iudx.entity.Entity import Entity\n",
    "\n",
    "import pandas as pd\n",
    "import numpy as np\n",
    "import json\n",
    "from datetime import date, datetime, timedelta\n",
    "\n",
    "import matplotlib.pyplot as plt\n",
    "import plotly.express as px\n",
    "import plotly.graph_objects as go\n",
    "import folium\n",
    "from folium import plugins\n",
    "from scipy.interpolate import griddata\n",
    "import geojsoncontour\n",
    "\n",
    "import ipywidgets as widgets\n",
    "from ipywidgets import Layout\n",
    "\n",
    "import warnings"
   ]
  },
  {
   "cell_type": "markdown",
   "metadata": {},
   "source": [
    "## Defining variables and widgets"
   ]
  },
  {
   "cell_type": "code",
   "execution_count": 11,
   "metadata": {},
   "outputs": [],
   "source": [
    "# ids of each resource group\n",
    "group_id=\"datakaveri.org/04a15c9960ffda227e9546f3f46e629e1fe4132b/rs.iudx.org.in/pune-env-flood\"\n",
    "\n",
    "# widgets for interaction\n",
    "prompt1=widgets.HTML(value=\"\")\n",
    "prompt2=widgets.HTML(value=\"\")\n",
    "gif_address = 'https://www.uttf.com.ua/assets/images/loader2.gif'\n",
    "select_ndays=widgets.IntSlider(\n",
    "    value=1,\n",
    "    min=1,\n",
    "    max=30,\n",
    "    step=1,\n",
    "    description='Days: ',\n",
    "    disabled=False,\n",
    "    continuous_update=False,\n",
    "    orientation='horizontal',\n",
    "    readout=True,\n",
    "    readout_format='d'\n",
    ")\n",
    "select_col=widgets.Dropdown(\n",
    "    options=['currentLevel','measuredDistance','referenceLevel'],\n",
    "    value='currentLevel',\n",
    "    description='Property:',\n",
    "    disabled=False,\n",
    ")\n",
    "mywidgets=[select_ndays,select_col]\n",
    "ui=widgets.VBox([select_ndays,prompt1,select_col,prompt2])"
   ]
  },
  {
   "cell_type": "markdown",
   "metadata": {},
   "source": [
    "## Functions to fetch, prepare and visualize data"
   ]
  },
  {
   "cell_type": "markdown",
   "metadata": {},
   "source": [
    "#### *Fetch data*"
   ]
  },
  {
   "cell_type": "code",
   "execution_count": 13,
   "metadata": {},
   "outputs": [],
   "source": [
    "# fetch latest data in the past n days for a city and add/modify required columns\n",
    "def get_data(ndays):\n",
    "    for widget in mywidgets:\n",
    "        widget.disabled=True\n",
    "    prompt1.value=f'<img src=\"{gif_address}\" height=150 width=150> Fetching data'\n",
    "    global entity,measures,latest_measures,start_time,end_time,city\n",
    "    city='Pune'\n",
    "    entity=Entity(entity_id=group_id)\n",
    "    latest_measures=entity.latest().reset_index(drop=True)\n",
    "    end_time = latest_measures['observationDateTime'].sort_values(ascending=False).reset_index(drop=True)[0]\n",
    "    start_time = (end_time - timedelta(days=ndays,hours=6))\n",
    "    measures = entity.during_search(\n",
    "        start_time=start_time.strftime(\"%Y-%m-%dT%H:%M:%SZ\"),\n",
    "        end_time=end_time.strftime(\"%Y-%m-%dT%H:%M:%SZ\"),\n",
    "    )\n",
    "    measures['observationDateTime']=measures['observationDateTime'].apply(lambda x:x.tz_localize(None))\n",
    "    latest_measures['observationDateTime']=latest_measures['observationDateTime'].apply(lambda x:x.tz_localize(None))\n",
    "    rs_coordinates={}\n",
    "    rs_label={}\n",
    "    for res in entity.resources:\n",
    "        rs_coordinates[res['id']]=res['location']['geometry']['coordinates']\n",
    "        rs_label[res['id']]=res['name']\n",
    "    latest_measures['x_co']=latest_measures['id'].apply(lambda id:rs_coordinates[id][0])\n",
    "    latest_measures['y_co']=latest_measures['id'].apply(lambda id:rs_coordinates[id][1])\n",
    "    measures['x_co']=measures['id'].apply(lambda id:rs_coordinates[id][0])\n",
    "    measures['y_co']=measures['id'].apply(lambda id:rs_coordinates[id][1])\n",
    "    measures['label']=measures['id'].apply(lambda id:rs_label[id])\n",
    "    latest_measures['label']=measures['id'].apply(lambda id:rs_label[id])\n",
    "    for widget in mywidgets:\n",
    "        widget.disabled=False\n",
    "    prompt1.value=f'Fetched {measures.shape[0]} records from {len(entity.resources)} resources'"
   ]
  },
  {
   "cell_type": "markdown",
   "metadata": {},
   "source": [
    "#### *Temporal Visualization*"
   ]
  },
  {
   "cell_type": "code",
   "execution_count": 15,
   "metadata": {},
   "outputs": [],
   "source": [
    "# plot the measures of a proprty over ndays for the resource with the latest recording\n",
    "def timeSeriesVis1(column_name, ndays):\n",
    "    global units\n",
    "    prop_desc=entity._data_descriptor[column_name]\n",
    "    units=prop_desc[\"unitText\"]\n",
    "    prompt2.value=f'{prop_desc[\"description\"]}<br> Unit: {units}'\n",
    "    sensor_id = measures.sort_values(by='observationDateTime',ascending=False).reset_index(drop=True)['id'][0]\n",
    "    single_resource_data = measures.query(f\"id == '{sensor_id}'\")\n",
    "    sensor_coordinates=[]\n",
    "    for res in entity.resources:\n",
    "        if res['id']==sensor_id:\n",
    "            sensor_coordinates=res['location']['geometry']['coordinates']\n",
    "    fig = px.line(\n",
    "        single_resource_data, \n",
    "        x=\"observationDateTime\", \n",
    "        y=column_name\n",
    "    )\n",
    "    display(widgets.HTML(f'<center style=\"font-size:14px\">Temporal sensor reading for \\n {column_name.upper()} from {start_time.date()} to {end_time.date()} for resource at {sensor_coordinates}<center>'))\n",
    "    fig.update_layout(\n",
    "        xaxis_title=\"Observed Timestamp\",\n",
    "        yaxis_title=\"Sensor reading for \"+column_name.upper()+\" (\"+units+\")\",\n",
    "        font=dict(\n",
    "            size=12\n",
    "        )\n",
    "    )\n",
    "    fig.update_xaxes(rangeslider_visible=True)\n",
    "    fig.show()\n",
    "\n"
   ]
  },
  {
   "cell_type": "code",
   "execution_count": 21,
   "metadata": {},
   "outputs": [],
   "source": [
    "# plot the measures of a proprty over ndays for all resources\n",
    "def timeSeriesVis2(col, ndays):\n",
    "    column_name=col\n",
    "    fig = px.line(\n",
    "        measures, \n",
    "        x=\"observationDateTime\", \n",
    "        y=column_name,\n",
    "        color='label'\n",
    "    )\n",
    "    display(widgets.HTML(f'<center style=\"font-size:14px\">Temporal sensor reading for {col.upper()} from {start_time.date()} to {end_time.date()} of all sensors<center>'))\n",
    "    fig.update_layout(\n",
    "        xaxis_title=\"Observed Timestamp\",\n",
    "        yaxis_title=\"Sensor reading for \"+col.upper()+\" (\"+units+\")\",\n",
    "        font=dict(\n",
    "            size=12\n",
    "        )\n",
    "    )\n",
    "    fig.update_xaxes(rangeslider_visible=True)\n",
    "    fig.show()\n",
    "\n"
   ]
  },
  {
   "cell_type": "code",
   "execution_count": 36,
   "metadata": {},
   "outputs": [],
   "source": [
    "def timeSeriesVis3(ndays):\n",
    "    sensor_id = measures.sort_values(by='observationDateTime',ascending=False).reset_index(drop=True)['id'][0]\n",
    "    single_resource_data = measures.query(f\"id == '{sensor_id}'\")\n",
    "    sensor_coordinates=[]\n",
    "    for res in entity.resources:\n",
    "        if res['id']==sensor_id:\n",
    "            sensor_coordinates=res['location']['geometry']['coordinates']\n",
    "\n",
    "    fig=go.Figure()\n",
    "    fig.add_trace(go.Scatter(x=single_resource_data['observationDateTime'],\n",
    "                            y=single_resource_data['measuredDistance'],\n",
    "                            name='Measured Distance',\n",
    "                            line=dict(color='firebrick')))\n",
    "    fig.add_trace(go.Scatter(x=single_resource_data['observationDateTime'],\n",
    "                            y=single_resource_data['referenceLevel'],\n",
    "                            name='Reference Level',\n",
    "                            line=dict(color='royalblue',dash='dot')))\n",
    "    fig.update_layout(title='Measured distance and Reference level over time',\n",
    "                     xaxis_title='Timestamp',\n",
    "                     yaxis_title='Distance (meters)')\n",
    "    fig.update_xaxes(rangeslider_visible=True)\n",
    "    fig.show()"
   ]
  },
  {
   "cell_type": "markdown",
   "metadata": {},
   "source": [
    "#### *Basic Visualization*"
   ]
  },
  {
   "cell_type": "code",
   "execution_count": 23,
   "metadata": {},
   "outputs": [],
   "source": [
    "# plot a bar chart for the latest measures of a property at all active resources\n",
    "def simpleVis1(col):\n",
    "    column_name=col\n",
    "    display(widgets.HTML(f'<center style=\"font-size:14px\">Latest temporal sensor reading for {col.upper()} of all sensors<center>'))\n",
    "    fig = px.bar(latest_measures, x='label', y=column_name)\n",
    "    fig.update_layout(\n",
    "        xaxis_title=\"Sensor Id\",\n",
    "        yaxis_title=\"Sensor reading for \"+col.upper()+\" (\"+units+\")\",\n",
    "        font=dict(\n",
    "            size=12\n",
    "        )\n",
    "    )\n",
    "    fig.show()\n",
    "\n"
   ]
  },
  {
   "cell_type": "code",
   "execution_count": 38,
   "metadata": {
    "scrolled": false
   },
   "outputs": [],
   "source": [
    "def simpleVis2(ndays):\n",
    "    fig=go.Figure()\n",
    "    fig.add_trace(go.Scatter(x=latest_measures['referenceLevel'],\n",
    "                            y=latest_measures['label'],\n",
    "                            marker=dict(color='royalblue'),\n",
    "                            mode='markers',\n",
    "                            name='Reference Level'))\n",
    "    fig.add_trace(go.Scatter(x=latest_measures['measuredDistance'],\n",
    "                            y=latest_measures['label'],\n",
    "                            marker=dict(color='firebrick'),\n",
    "                            mode='markers',\n",
    "                            name='Measured Distance'))\n",
    "    fig.update_layout(title='Measured distance and Reference level at different locations',\n",
    "                     yaxis_title='Device Name',\n",
    "                     xaxis_title='Distance (meters)')\n",
    "    fig.show()"
   ]
  },
  {
   "cell_type": "markdown",
   "metadata": {},
   "source": [
    "#### *Spatial Visualization*"
   ]
  },
  {
   "cell_type": "code",
   "execution_count": 27,
   "metadata": {},
   "outputs": [],
   "source": [
    "def spatialVis1(column_name):\n",
    "    maxval=max(list(filter(None,latest_measures[column_name])))\n",
    "    minval=min(list(filter(None,latest_measures[column_name])))\n",
    "    geomap2 = folium.Map([latest_measures['y_co'].mean(), latest_measures['x_co'].mean()], zoom_start=12, tiles=\"cartodbpositron\")\n",
    "    for res in entity.resources:\n",
    "        entity_id = res[\"id\"]\n",
    "        try:\n",
    "            val=latest_measures[latest_measures['id']==entity_id]['currentLevel'].values[0]\n",
    "            if val is not None and val>0:\n",
    "                folium.Circle(\n",
    "                  [res[\"location\"][\"geometry\"][\"coordinates\"][1], res[\"location\"][\"geometry\"][\"coordinates\"][0]],\n",
    "                  radius=2000*(val-minval)/(maxval-minval),\n",
    "                  popup = f'{column_name}: {str(val)}',\n",
    "                  color='b',\n",
    "                  fill_color=('red' if ((val-minval)/(maxval-minval))>0.6 else 'blue'),\n",
    "                  fill=True,\n",
    "                  fill_opacity=0.4\n",
    "                  ).add_to(geomap2)\n",
    "        except:\n",
    "            pass\n",
    "    display(geomap2)"
   ]
  },
  {
   "cell_type": "markdown",
   "metadata": {},
   "source": [
    "## Interactive Outputs"
   ]
  },
  {
   "cell_type": "code",
   "execution_count": 12,
   "metadata": {
    "scrolled": true
   },
   "outputs": [
    {
     "data": {
      "application/vnd.jupyter.widget-view+json": {
       "model_id": "8669a720cd9e40f68e9224f54514c226",
       "version_major": 2,
       "version_minor": 0
      },
      "text/plain": [
       "VBox(children=(IntSlider(value=1, continuous_update=False, description='Days: ', max=30, min=1), HTML(value=''…"
      ]
     },
     "metadata": {},
     "output_type": "display_data"
    }
   ],
   "source": [
    "ui"
   ]
  },
  {
   "cell_type": "code",
   "execution_count": 29,
   "metadata": {},
   "outputs": [
    {
     "data": {
      "application/vnd.jupyter.widget-view+json": {
       "model_id": "e25b8ddf97b4466c8a0f4f74d6e5cb23",
       "version_major": 2,
       "version_minor": 0
      },
      "text/plain": [
       "Output()"
      ]
     },
     "metadata": {},
     "output_type": "display_data"
    }
   ],
   "source": [
    "widgets.interactive_output(get_data,{'ndays':select_ndays})"
   ]
  },
  {
   "cell_type": "code",
   "execution_count": 30,
   "metadata": {},
   "outputs": [
    {
     "data": {
      "application/vnd.jupyter.widget-view+json": {
       "model_id": "5b105b5138794d138df0637a2416e175",
       "version_major": 2,
       "version_minor": 0
      },
      "text/plain": [
       "Output()"
      ]
     },
     "metadata": {},
     "output_type": "display_data"
    }
   ],
   "source": [
    "widgets.interactive_output(spatialVis1,{'column_name':select_col})"
   ]
  },
  {
   "cell_type": "code",
   "execution_count": 32,
   "metadata": {},
   "outputs": [
    {
     "data": {
      "application/vnd.jupyter.widget-view+json": {
       "model_id": "802fcfb82b98429983aea88522c2c3bc",
       "version_major": 2,
       "version_minor": 0
      },
      "text/plain": [
       "Output()"
      ]
     },
     "metadata": {},
     "output_type": "display_data"
    }
   ],
   "source": [
    "widgets.interactive_output(timeSeriesVis1,{'column_name':select_col, 'ndays':select_ndays})"
   ]
  },
  {
   "cell_type": "code",
   "execution_count": 34,
   "metadata": {},
   "outputs": [
    {
     "data": {
      "application/vnd.jupyter.widget-view+json": {
       "model_id": "5d79f334d47745579e9a3cfe880e57e8",
       "version_major": 2,
       "version_minor": 0
      },
      "text/plain": [
       "Output()"
      ]
     },
     "metadata": {},
     "output_type": "display_data"
    }
   ],
   "source": [
    "widgets.interactive_output(timeSeriesVis2,{'col':select_col, 'ndays':select_ndays})"
   ]
  },
  {
   "cell_type": "code",
   "execution_count": 35,
   "metadata": {},
   "outputs": [
    {
     "data": {
      "application/vnd.jupyter.widget-view+json": {
       "model_id": "7f1c7a2c586a4674b5b473712b307fc6",
       "version_major": 2,
       "version_minor": 0
      },
      "text/plain": [
       "Output()"
      ]
     },
     "metadata": {},
     "output_type": "display_data"
    }
   ],
   "source": [
    "widgets.interactive_output(simpleVis1,{'col':select_col})"
   ]
  },
  {
   "cell_type": "code",
   "execution_count": 37,
   "metadata": {},
   "outputs": [
    {
     "data": {
      "application/vnd.jupyter.widget-view+json": {
       "model_id": "1fd5fc1f4bed4d129979491a67036bce",
       "version_major": 2,
       "version_minor": 0
      },
      "text/plain": [
       "Output()"
      ]
     },
     "metadata": {},
     "output_type": "display_data"
    }
   ],
   "source": [
    "widgets.interactive_output(timeSeriesVis3,{'ndays':select_ndays})"
   ]
  },
  {
   "cell_type": "code",
   "execution_count": 39,
   "metadata": {
    "scrolled": false
   },
   "outputs": [
    {
     "data": {
      "application/vnd.jupyter.widget-view+json": {
       "model_id": "cc6d7412848c498aa9e36fb398d4e12e",
       "version_major": 2,
       "version_minor": 0
      },
      "text/plain": [
       "Output()"
      ]
     },
     "metadata": {},
     "output_type": "display_data"
    }
   ],
   "source": [
    "widgets.interactive_output(simpleVis2,{'ndays':select_ndays})"
   ]
  },
  {
   "cell_type": "code",
   "execution_count": null,
   "metadata": {},
   "outputs": [],
   "source": []
  }
 ],
 "metadata": {
  "kernelspec": {
   "display_name": "Python 3",
   "language": "python",
   "name": "python3"
  },
  "language_info": {
   "codemirror_mode": {
    "name": "ipython",
    "version": 3
   },
   "file_extension": ".py",
   "mimetype": "text/x-python",
   "name": "python",
   "nbconvert_exporter": "python",
   "pygments_lexer": "ipython3",
   "version": "3.8.5"
  }
 },
 "nbformat": 4,
 "nbformat_minor": 4
}
