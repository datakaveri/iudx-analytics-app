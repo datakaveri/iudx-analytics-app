{
 "cells": [
  {
   "cell_type": "markdown",
   "metadata": {},
   "source": [
    "# Air Quality Monitoring"
   ]
  },
  {
   "cell_type": "markdown",
   "metadata": {},
   "source": [
    "### Import/Install packages"
   ]
  },
  {
   "cell_type": "code",
   "execution_count": 1,
   "metadata": {
    "extensions": {
     "jupyter_dashboards": {
      "version": 1,
      "views": {
       "default_view": {
        "hidden": true
       }
      }
     }
    }
   },
   "outputs": [],
   "source": [
    "#!pip install git+https://github.com/datakaveri/iudx-python-sdk\n",
    "#!pip install geojsoncontour\n",
    "#!pip install voila\n",
    "#!pip install voila-gridstack\n",
    "\n",
    "# After running all the cells use \n",
    "# !voila airQualityMonitoring.ipynb --enable_nbextensions=True --template=gridstack\n",
    "# to launch dashboard or use jupyter notebook extensions\n",
    "\n",
    "from iudx.entity.Entity import Entity\n",
    "\n",
    "import pandas as pd\n",
    "import numpy as np\n",
    "import json\n",
    "from datetime import date, datetime, timedelta\n",
    "\n",
    "import matplotlib.pyplot as plt\n",
    "import plotly.express as px\n",
    "import plotly.graph_objects as go\n",
    "import folium\n",
    "from folium import plugins\n",
    "from scipy.interpolate import griddata\n",
    "import geojsoncontour\n",
    "\n",
    "import ipywidgets as widgets\n",
    "from ipywidgets import Layout\n",
    "\n",
    "import warnings"
   ]
  },
  {
   "cell_type": "markdown",
   "metadata": {},
   "source": [
    "### Defining variables and widgets for interaction"
   ]
  },
  {
   "cell_type": "code",
   "execution_count": 3,
   "metadata": {
    "extensions": {
     "jupyter_dashboards": {
      "version": 1,
      "views": {
       "default_view": {
        "hidden": true
       }
      }
     }
    }
   },
   "outputs": [],
   "source": [
    "# ids of each resource group\n",
    "city_ids={\n",
    "    \"vadodara\": \"vmc.gov.in/ae95ac0975a80bd4fd4127c68d3a5b6f141a3436/rs.iudx.org.in/vadodara-env-aqm\",\n",
    "    \"varanasi\": \"varanasismartcity.gov.in/62d1f729edd3d2a1a090cb1c6c89356296963d55/rs.iudx.org.in/varanasi-env-aqm\",\n",
    "    \"pune\": \"datakaveri.org/04a15c9960ffda227e9546f3f46e629e1fe4132b/rs.iudx.org.in/pune-env-aqm\"\n",
    "}\n",
    "# types of values measured in each city - instantaneous or average\n",
    "value_type={\n",
    "    'vadodara': 'instValue',\n",
    "    'varanasi': 'avgOverTime',\n",
    "    'pune':'avgOverTime'\n",
    "}\n",
    "# list of properties common to all cities\n",
    "column_choice=['ambientNoise','so2','uv','co','co2','illuminance','no2','o3','pm10','pm2p5','relativeHumidity']\n",
    "\n",
    "# widgets for interaction\n",
    "prompt1=widgets.HTML(value=\"\")\n",
    "prompt2=widgets.HTML(value=\"\")\n",
    "gif_address = 'https://www.uttf.com.ua/assets/images/loader2.gif'\n",
    "select_ndays=widgets.IntSlider(\n",
    "    value=1,\n",
    "    min=1,\n",
    "    max=14,\n",
    "    step=1,\n",
    "    description='Days: ',\n",
    "    disabled=False,\n",
    "    continuous_update=False,\n",
    "    orientation='horizontal',\n",
    "    readout=True,\n",
    "    readout_format='d'\n",
    ")\n",
    "select_city=widgets.Dropdown(\n",
    "    options=city_ids.keys(),\n",
    "    value='pune',\n",
    "    description='City:',\n",
    "    disabled=False,\n",
    ")\n",
    "select_col=widgets.Dropdown(\n",
    "    options=column_choice,\n",
    "    value='pm10',\n",
    "    description='Property:',\n",
    "    disabled=False,\n",
    ")\n",
    "mywidgets=[select_city,select_ndays,select_col]\n",
    "ui=widgets.VBox([select_city,select_ndays,prompt1,select_col,prompt2])"
   ]
  },
  {
   "cell_type": "markdown",
   "metadata": {},
   "source": [
    "### Functions to fetch, prepare and visualize data"
   ]
  },
  {
   "cell_type": "markdown",
   "metadata": {},
   "source": [
    "##### Fetch data"
   ]
  },
  {
   "cell_type": "code",
   "execution_count": 4,
   "metadata": {
    "extensions": {
     "jupyter_dashboards": {
      "version": 1,
      "views": {
       "default_view": {
        "hidden": true
       }
      }
     }
    }
   },
   "outputs": [],
   "source": [
    "# fetch latest data in the past n days for a city and add/modify required columns\n",
    "def get_data(selected_city,ndays):\n",
    "    for widget in mywidgets:\n",
    "        widget.disabled=True\n",
    "    prompt1.value=f'<img src=\"{gif_address}\" height=150 width=150> Fetching data'\n",
    "    global entity,measures,latest_measures,start_time,end_time,city\n",
    "    city=selected_city\n",
    "    entity=Entity(entity_id=city_ids[city])\n",
    "    latest_measures=entity.latest().reset_index(drop=True)\n",
    "    end_time = latest_measures['observationDateTime'].sort_values(ascending=False).reset_index(drop=True)[0]\n",
    "    start_time = (end_time - timedelta(days=ndays,hours=6))\n",
    "    measures = entity.during_search(\n",
    "        start_time=start_time.strftime(\"%Y-%m-%dT%H:%M:%SZ\"),\n",
    "        end_time=end_time.strftime(\"%Y-%m-%dT%H:%M:%SZ\"),\n",
    "    )\n",
    "    measures['observationDateTime']=measures['observationDateTime'].apply(lambda x:x.tz_localize(None))\n",
    "    latest_measures['observationDateTime']=latest_measures['observationDateTime'].apply(lambda x:x.tz_localize(None))\n",
    "    rs_coordinates={}\n",
    "    rs_label={}\n",
    "    for res in entity.resources:\n",
    "        rs_coordinates[res['id']]=res['location']['geometry']['coordinates']\n",
    "        rs_label[res['id']]=res['name']\n",
    "    latest_measures['x_co']=latest_measures['id'].apply(lambda id:rs_coordinates[id][0])\n",
    "    latest_measures['y_co']=latest_measures['id'].apply(lambda id:rs_coordinates[id][1])\n",
    "    measures['x_co']=measures['id'].apply(lambda id:rs_coordinates[id][0])\n",
    "    measures['y_co']=measures['id'].apply(lambda id:rs_coordinates[id][1])\n",
    "    measures['label']=measures['id'].apply(lambda id:rs_label[id])\n",
    "    latest_measures['label']=measures['id'].apply(lambda id:rs_label[id])\n",
    "    for widget in mywidgets:\n",
    "        widget.disabled=False\n",
    "    prompt1.value=f'Fetched {measures.shape[0]} records from {len(entity.resources)} resources'"
   ]
  },
  {
   "cell_type": "markdown",
   "metadata": {},
   "source": [
    "##### Spatial Visualization"
   ]
  },
  {
   "cell_type": "code",
   "execution_count": 5,
   "metadata": {
    "extensions": {
     "jupyter_dashboards": {
      "version": 1,
      "views": {
       "default_view": {
        "hidden": true
       }
      }
     }
    }
   },
   "outputs": [],
   "source": [
    "# plot contours over a map for a given property\n",
    "def spatialVis1(selected_city, col):\n",
    "    global city,units\n",
    "    prop_desc=entity._data_descriptor[col][value_type[city]]\n",
    "    units=prop_desc[\"unitText\"]\n",
    "    prompt2.value=f'{prop_desc[\"description\"]}<br> Unit: {units}'\n",
    "    city=selected_city\n",
    "    column_name=col+\".\"+value_type[city]\n",
    "    x_orig = []\n",
    "    y_orig = []\n",
    "    zs = []\n",
    "    for res in entity.resources:\n",
    "        try:\n",
    "            val = latest_measures[latest_measures[\"id\"] == res[\"id\"]][column_name].values[0]\n",
    "            if val is not None and val>0:\n",
    "                zs.append(val)\n",
    "                x_orig.append(res[\"location\"][\"geometry\"][\"coordinates\"][0])\n",
    "                y_orig.append(res[\"location\"][\"geometry\"][\"coordinates\"][1])\n",
    "        except:\n",
    "            pass\n",
    "    x_orig = np.array(x_orig)\n",
    "    y_orig = np.array(y_orig)\n",
    "    zs = np.array(zs)\n",
    "    # Initialize the map\n",
    "    geomap1 = folium.Map([y_orig.mean(), x_orig.mean()], zoom_start=11, tiles=\"cartodbpositron\")\n",
    "    for res in entity.resources:\n",
    "        entity_id = res[\"id\"]\n",
    "        try:\n",
    "          val=latest_measures[latest_measures['id']==entity_id][column_name].values[0]\n",
    "          if val is not None and val>0:\n",
    "            folium.Marker([res[\"location\"][\"geometry\"][\"coordinates\"][1], res[\"location\"][\"geometry\"][\"coordinates\"][0]],\n",
    "                          tooltip=f'{col.upper()}: {str(val)}').add_to(geomap1)\n",
    "        except:\n",
    "          pass\n",
    "    # Make lat and lon linspace\n",
    "    y_arr = np.linspace(np.min(y_orig), np.max(y_orig), 100)\n",
    "    x_arr = np.linspace(np.min(x_orig), np.max(x_orig), 100)\n",
    "    # Make mesh grid\n",
    "    x_mesh, y_mesh = np.meshgrid(x_arr, y_arr)\n",
    "    # Perform cubic interpolation\n",
    "    z_mesh = griddata((x_orig, y_orig), zs, (x_mesh, y_mesh), method='cubic')\n",
    "    # Number of levels of colors\n",
    "    levels = 20\n",
    "    contourf=plt.contourf(x_mesh, y_mesh, z_mesh, levels, alpha=0.5, \n",
    "                              cmap=\"bwr\", linestyles='None', vmin=0, vmax=100)\n",
    "    plt.close()\n",
    "    # Convert matplotlib contourf to geojson\n",
    "    geojson = geojsoncontour.contourf_to_geojson(\n",
    "        contourf=contourf,\n",
    "        min_angle_deg=3.0,\n",
    "        ndigits=5,\n",
    "        stroke_width=1,\n",
    "        fill_opacity=0.5)\n",
    "    # Plot the contour plot on folium\n",
    "    folium.GeoJson(\n",
    "        geojson,\n",
    "        style_function=lambda x: {\n",
    "            'color':     x['properties']['stroke'],\n",
    "            'weight':    x['properties']['stroke-width'],\n",
    "            'fillColor': x['properties']['fill'],\n",
    "            'opacity':   0.6,\n",
    "        }).add_to(geomap1)\n",
    "    # Show map\n",
    "    display(geomap1)"
   ]
  },
  {
   "cell_type": "code",
   "execution_count": 6,
   "metadata": {
    "extensions": {
     "jupyter_dashboards": {
      "version": 1,
      "views": {
       "default_view": {
        "hidden": true
       }
      }
     }
    }
   },
   "outputs": [],
   "source": [
    "# plot bubbles over a map for a given property\n",
    "def spatialVis2(selected_city, col):\n",
    "    city=selected_city\n",
    "    column_name=col+\".\"+value_type[city]\n",
    "    maxval=max(list(filter(None,latest_measures[column_name])))\n",
    "    minval=min(list(filter(None,latest_measures[column_name])))\n",
    "    geomap2 = folium.Map([latest_measures['y_co'].mean(), latest_measures['x_co'].mean()], zoom_start=12, tiles=\"cartodbpositron\")\n",
    "    for res in entity.resources:\n",
    "        entity_id = res[\"id\"]\n",
    "        try:\n",
    "          val=latest_measures[latest_measures['id']==entity_id][column_name].values[0]\n",
    "          if val is not None and val>0:\n",
    "            folium.Circle(\n",
    "              [res[\"location\"][\"geometry\"][\"coordinates\"][1], res[\"location\"][\"geometry\"][\"coordinates\"][0]],\n",
    "              radius=2000*(val-minval)/(maxval-minval),\n",
    "              popup = f'{col.upper()}: {str(val)}',\n",
    "              color='b',\n",
    "              fill_color=('red' if ((val-minval)/(maxval-minval))>0.6 else 'blue'),\n",
    "              fill=True,\n",
    "              fill_opacity=0.4\n",
    "              ).add_to(geomap2)\n",
    "        except:\n",
    "          pass\n",
    "    display(geomap2)"
   ]
  },
  {
   "cell_type": "markdown",
   "metadata": {},
   "source": [
    "##### Time Series Visualization"
   ]
  },
  {
   "cell_type": "code",
   "execution_count": 7,
   "metadata": {
    "extensions": {
     "jupyter_dashboards": {
      "version": 1,
      "views": {
       "default_view": {
        "hidden": true
       }
      }
     }
    }
   },
   "outputs": [],
   "source": [
    "# plot the measures of a proprty over ndays for the resource with the latest recording\n",
    "def timeSeriesVis1(selected_city, col, ndays):\n",
    "    column_name=col+\".\"+value_type[city]\n",
    "    sensor_id = measures.sort_values(by='observationDateTime',ascending=False).reset_index(drop=True)['id'][0]\n",
    "    single_resource_data = measures.query(f\"id == '{sensor_id}'\")\n",
    "    sensor_coordinates=[]\n",
    "    for res in entity.resources:\n",
    "      if res['id']==sensor_id:\n",
    "        sensor_coordinates=res['location']['geometry']['coordinates']\n",
    "    fig = px.line(\n",
    "        single_resource_data, \n",
    "        x=\"observationDateTime\", \n",
    "        y=column_name\n",
    "    )\n",
    "    display(widgets.HTML(f'<center style=\"font-size:14px\">Temporal sensor reading for \\n {col.upper()} from {start_time.date()} to {end_time.date()} for resource at {sensor_coordinates}<center>'))\n",
    "    fig.update_layout(\n",
    "        xaxis_title=\"Observed Timestamp\",\n",
    "        yaxis_title=\"Sensor reading for \"+col.upper()+\" (\"+units+\")\",\n",
    "        font=dict(\n",
    "            size=12\n",
    "        )\n",
    "    )\n",
    "    fig.update_xaxes(rangeslider_visible=True)\n",
    "    fig.show()"
   ]
  },
  {
   "cell_type": "code",
   "execution_count": 8,
   "metadata": {
    "extensions": {
     "jupyter_dashboards": {
      "version": 1,
      "views": {
       "default_view": {
        "hidden": true
       }
      }
     }
    }
   },
   "outputs": [],
   "source": [
    "# plot the measures of a proprty over ndays for all resources\n",
    "def timeSeriesVis2(selected_city, col, ndays):\n",
    "    column_name=col+\".\"+value_type[city]\n",
    "    fig = px.line(\n",
    "        measures, \n",
    "        x=\"observationDateTime\", \n",
    "        y=column_name,\n",
    "        color='label'\n",
    "    )\n",
    "    display(widgets.HTML(f'<center style=\"font-size:14px\">Temporal sensor reading for {col.upper()} from {start_time.date()} to {end_time.date()} of all sensors<center>'))\n",
    "    fig.update_layout(\n",
    "        xaxis_title=\"Observed Timestamp\",\n",
    "        yaxis_title=\"Sensor reading for \"+col.upper()+\" (\"+units+\")\",\n",
    "        font=dict(\n",
    "            size=12\n",
    "        )\n",
    "    )\n",
    "    fig.update_xaxes(rangeslider_visible=True)\n",
    "    fig.show()"
   ]
  },
  {
   "cell_type": "code",
   "execution_count": 9,
   "metadata": {
    "extensions": {
     "jupyter_dashboards": {
      "version": 1,
      "views": {
       "default_view": {
        "hidden": true
       }
      }
     }
    }
   },
   "outputs": [],
   "source": [
    "# plot a box plot over each day of the week for the resource with the latest recording\n",
    "def timeSeriesVis3(selected_city, col, ndays):\n",
    "    column_name=col+\".\"+value_type[city]\n",
    "    sensor_id = measures.sort_values(by='observationDateTime',ascending=False).reset_index(drop=True)['id'][0]\n",
    "    single_resource_data = measures.query(f\"id == '{sensor_id}'\")\n",
    "    warnings.filterwarnings('ignore')\n",
    "    sensor_coordinates=[]\n",
    "    single_resource_data['day']=single_resource_data['observationDateTime'].apply(lambda x:x.strftime('%A'))\n",
    "    for res in entity.resources:\n",
    "      if res['id']==sensor_id:\n",
    "        sensor_coordinates=res['location']['geometry']['coordinates']\n",
    "    fig = px.box(\n",
    "        single_resource_data, \n",
    "        x=\"day\", \n",
    "        y=column_name,\n",
    "        points=\"all\"\n",
    "    )\n",
    "    display(widgets.HTML(f'<center style=\"font-size:14px\">Box plots for \\n {col.upper()} from {start_time.date()} to {end_time.date()} for resource at {sensor_coordinates}<center>'))\n",
    "    fig.update_layout(\n",
    "        #title=f'',\n",
    "        xaxis_title=\"Day\",\n",
    "        yaxis_title=\"Sensor reading for \"+col.upper()+\" (\"+units+\")\",\n",
    "        font=dict(\n",
    "            size=12\n",
    "        )\n",
    "    )\n",
    "    fig.show()"
   ]
  },
  {
   "cell_type": "code",
   "execution_count": 10,
   "metadata": {
    "extensions": {
     "jupyter_dashboards": {
      "version": 1,
      "views": {
       "default_view": {
        "hidden": true
       }
      }
     }
    }
   },
   "outputs": [],
   "source": [
    "# plot a histogram showing the average measurements over observed time for the resource with the latest recording\n",
    "def timeSeriesVis4(selected_city, col, ndays):\n",
    "    column_name=col+\".\"+value_type[city]\n",
    "    sensor_id = measures.sort_values(by='observationDateTime',ascending=False).reset_index(drop=True)['id'][0]\n",
    "    single_resource_data = measures.query(f\"id == '{sensor_id}'\")\n",
    "    warnings.filterwarnings('ignore')\n",
    "    sensor_coordinates=[]\n",
    "    single_resource_data['day']=single_resource_data['observationDateTime'].apply(lambda x:x.strftime('%A'))\n",
    "    for res in entity.resources:\n",
    "      if res['id']==sensor_id:\n",
    "        sensor_coordinates=res['location']['geometry']['coordinates']\n",
    "    fig = px.histogram(\n",
    "        single_resource_data, \n",
    "        x=\"observationDateTime\", \n",
    "        y=column_name,\n",
    "        histfunc=\"avg\"\n",
    "    )\n",
    "    display(widgets.HTML(f'<center style=\"font-size:14px\">Histogram for \\n {col.upper()} from {start_time.date()} to {end_time.date()} for resource at {sensor_coordinates}<center>'))\n",
    "    fig.update_layout(\n",
    "        #title=f'',\n",
    "        xaxis_title=\"Day\",\n",
    "        yaxis_title=\"Sensor reading for \"+col.upper()+\" (\"+units+\")\",\n",
    "        font=dict(\n",
    "            size=12\n",
    "        )\n",
    "    )\n",
    "    fig.show()"
   ]
  },
  {
   "cell_type": "markdown",
   "metadata": {},
   "source": [
    "##### Basic Visualization"
   ]
  },
  {
   "cell_type": "code",
   "execution_count": 11,
   "metadata": {
    "extensions": {
     "jupyter_dashboards": {
      "version": 1,
      "views": {
       "default_view": {
        "hidden": true
       }
      }
     }
    }
   },
   "outputs": [],
   "source": [
    "# plot a bar chart for the latest measures of a property at all active resources\n",
    "def simpleVis1(selected_city, col):\n",
    "    column_name=col+\".\"+value_type[city]\n",
    "    display(widgets.HTML(f'<center style=\"font-size:14px\">Latest temporal sensor reading for {col.upper()} of all sensors<center>'))\n",
    "    fig = px.bar(latest_measures, x='label', y=column_name)\n",
    "    fig.update_layout(\n",
    "        xaxis_title=\"Sensor Id\",\n",
    "        yaxis_title=\"Sensor reading for \"+col.upper()+\" (\"+units+\")\",\n",
    "        font=dict(\n",
    "            size=12\n",
    "        )\n",
    "    )\n",
    "    fig.show()"
   ]
  },
  {
   "cell_type": "markdown",
   "metadata": {},
   "source": [
    "### Interactive outputs for dashboard"
   ]
  },
  {
   "cell_type": "code",
   "execution_count": 22,
   "metadata": {
    "extensions": {
     "jupyter_dashboards": {
      "version": 1,
      "views": {
       "default_view": {
        "col": 0,
        "height": 7,
        "row": 0,
        "width": 4
       }
      }
     }
    },
    "scrolled": false
   },
   "outputs": [
    {
     "data": {
      "application/vnd.jupyter.widget-view+json": {
       "model_id": "65da81f8b56e48b887a69c26b01ddcac",
       "version_major": 2,
       "version_minor": 0
      },
      "text/plain": [
       "VBox(children=(Dropdown(description='City:', disabled=True, index=2, options=('vadodara', 'varanasi', 'pune'),…"
      ]
     },
     "metadata": {},
     "output_type": "display_data"
    }
   ],
   "source": [
    "# display the widgets\n",
    "ui"
   ]
  },
  {
   "cell_type": "code",
   "execution_count": 23,
   "metadata": {
    "extensions": {
     "jupyter_dashboards": {
      "version": 1,
      "views": {
       "default_view": {
        "col": 0,
        "height": 1,
        "row": 65,
        "width": 12
       }
      }
     }
    }
   },
   "outputs": [
    {
     "data": {
      "application/vnd.jupyter.widget-view+json": {
       "model_id": "eb616703844a4aec8ac15e980307b723",
       "version_major": 2,
       "version_minor": 0
      },
      "text/plain": [
       "Output()"
      ]
     },
     "metadata": {},
     "output_type": "display_data"
    }
   ],
   "source": [
    "# fetch data\n",
    "widgets.interactive_output(get_data,{'selected_city':select_city,'ndays':select_ndays})"
   ]
  },
  {
   "cell_type": "code",
   "execution_count": 24,
   "metadata": {
    "extensions": {
     "jupyter_dashboards": {
      "version": 1,
      "views": {
       "default_view": {
        "col": 0,
        "height": 8,
        "row": 7,
        "width": 4
       }
      }
     }
    },
    "scrolled": false
   },
   "outputs": [
    {
     "data": {
      "application/vnd.jupyter.widget-view+json": {
       "model_id": "92ea82688b6c43ada5e7ee680b18d0eb",
       "version_major": 2,
       "version_minor": 0
      },
      "text/plain": [
       "Output()"
      ]
     },
     "metadata": {},
     "output_type": "display_data"
    }
   ],
   "source": [
    "# contour map\n",
    "widgets.interactive_output(spatialVis1,{'selected_city':select_city, 'col':select_col})"
   ]
  },
  {
   "cell_type": "code",
   "execution_count": 25,
   "metadata": {
    "extensions": {
     "jupyter_dashboards": {
      "version": 1,
      "views": {
       "default_view": {
        "col": 0,
        "height": 17,
        "row": 15,
        "width": 7
       }
      }
     }
    },
    "scrolled": false
   },
   "outputs": [
    {
     "data": {
      "application/vnd.jupyter.widget-view+json": {
       "model_id": "b1f8c8d63e81435896b78e5204bb72a5",
       "version_major": 2,
       "version_minor": 0
      },
      "text/plain": [
       "Output()"
      ]
     },
     "metadata": {},
     "output_type": "display_data"
    }
   ],
   "source": [
    "# time series (single resource)\n",
    "widgets.interactive_output(timeSeriesVis1,{'selected_city':select_city, 'col':select_col, 'ndays':select_ndays})"
   ]
  },
  {
   "cell_type": "code",
   "execution_count": 26,
   "metadata": {
    "extensions": {
     "jupyter_dashboards": {
      "version": 1,
      "views": {
       "default_view": {
        "col": 4,
        "height": 15,
        "row": 0,
        "width": 8
       }
      }
     }
    },
    "scrolled": false
   },
   "outputs": [
    {
     "data": {
      "application/vnd.jupyter.widget-view+json": {
       "model_id": "fb996069642d4e2797250d7eb3efd63e",
       "version_major": 2,
       "version_minor": 0
      },
      "text/plain": [
       "Output()"
      ]
     },
     "metadata": {},
     "output_type": "display_data"
    }
   ],
   "source": [
    "# bubble map\n",
    "widgets.interactive_output(spatialVis2,{'selected_city':select_city, 'col':select_col})"
   ]
  },
  {
   "cell_type": "code",
   "execution_count": 27,
   "metadata": {
    "extensions": {
     "jupyter_dashboards": {
      "version": 1,
      "views": {
       "default_view": {
        "col": 0,
        "height": 16,
        "row": 32,
        "width": 12
       }
      }
     }
    },
    "scrolled": false
   },
   "outputs": [
    {
     "data": {
      "application/vnd.jupyter.widget-view+json": {
       "model_id": "6824b31597c647839ce45b94612f4a6b",
       "version_major": 2,
       "version_minor": 0
      },
      "text/plain": [
       "Output()"
      ]
     },
     "metadata": {},
     "output_type": "display_data"
    }
   ],
   "source": [
    "# time series (for all resources)\n",
    "widgets.interactive_output(timeSeriesVis2,{'selected_city':select_city, 'col':select_col, 'ndays':select_ndays})"
   ]
  },
  {
   "cell_type": "code",
   "execution_count": 28,
   "metadata": {
    "extensions": {
     "jupyter_dashboards": {
      "version": 1,
      "views": {
       "default_view": {
        "col": 7,
        "height": 17,
        "row": 15,
        "width": 5
       }
      }
     }
    },
    "scrolled": false
   },
   "outputs": [
    {
     "data": {
      "application/vnd.jupyter.widget-view+json": {
       "model_id": "78a60e1249b142728c7adcdf4bdc5955",
       "version_major": 2,
       "version_minor": 0
      },
      "text/plain": [
       "Output()"
      ]
     },
     "metadata": {},
     "output_type": "display_data"
    }
   ],
   "source": [
    "# bar chart\n",
    "widgets.interactive_output(simpleVis1,{'selected_city':select_city, 'col':select_col})"
   ]
  },
  {
   "cell_type": "code",
   "execution_count": 29,
   "metadata": {
    "extensions": {
     "jupyter_dashboards": {
      "version": 1,
      "views": {
       "default_view": {
        "col": 5,
        "height": 17,
        "row": 48,
        "width": 7
       }
      }
     }
    }
   },
   "outputs": [
    {
     "data": {
      "application/vnd.jupyter.widget-view+json": {
       "model_id": "c8f1d001622f47db93ec3058f2f90825",
       "version_major": 2,
       "version_minor": 0
      },
      "text/plain": [
       "Output()"
      ]
     },
     "metadata": {},
     "output_type": "display_data"
    }
   ],
   "source": [
    "# box plots\n",
    "widgets.interactive_output(timeSeriesVis3,{'selected_city':select_city, 'col':select_col, 'ndays':select_ndays})"
   ]
  },
  {
   "cell_type": "code",
   "execution_count": 30,
   "metadata": {
    "extensions": {
     "jupyter_dashboards": {
      "version": 1,
      "views": {
       "default_view": {
        "col": 0,
        "height": 17,
        "row": 48,
        "width": 5
       }
      }
     }
    },
    "scrolled": false
   },
   "outputs": [
    {
     "data": {
      "application/vnd.jupyter.widget-view+json": {
       "model_id": "af70791c435044fe95ce2d1e916af98a",
       "version_major": 2,
       "version_minor": 0
      },
      "text/plain": [
       "Output()"
      ]
     },
     "metadata": {},
     "output_type": "display_data"
    }
   ],
   "source": [
    "# histogram\n",
    "widgets.interactive_output(timeSeriesVis4,{'selected_city':select_city, 'col':select_col, 'ndays':select_ndays})"
   ]
  },
  {
   "cell_type": "code",
   "execution_count": 31,
   "metadata": {},
   "outputs": [
    {
     "data": {
      "application/vnd.jupyter.widget-view+json": {
       "model_id": "cc7d222f909940f5813b1f1d22a5005c",
       "version_major": 2,
       "version_minor": 0
      },
      "text/plain": [
       "HTML(value='<center style=\"font-size:14px\">Histogram for \\n CO from 2021-03-28 to 2021-03-29 for resource at […"
      ]
     },
     "metadata": {},
     "output_type": "display_data"
    },
    {
     "data": {
      "application/vnd.plotly.v1+json": {
       "config": {
        "plotlyServerURL": "https://plot.ly"
       },
       "data": [
        {
         "alignmentgroup": "True",
         "bingroup": "x",
         "histfunc": "avg",
         "hovertemplate": "observationDateTime=%{x}<br>avg of co.avgOverTime=%{y}<extra></extra>",
         "legendgroup": "",
         "marker": {
          "color": "#636efa"
         },
         "name": "",
         "offsetgroup": "",
         "orientation": "v",
         "showlegend": false,
         "type": "histogram",
         "x": [
          "2021-03-28T15:30:25",
          "2021-03-28T15:45:12",
          "2021-03-28T16:00:32",
          "2021-03-28T16:30:11",
          "2021-03-28T16:45:12",
          "2021-03-28T17:00:22",
          "2021-03-28T17:30:20",
          "2021-03-28T17:45:24",
          "2021-03-28T18:00:30",
          "2021-03-28T18:30:14",
          "2021-03-28T18:45:12",
          "2021-03-28T19:00:16",
          "2021-03-28T19:30:25",
          "2021-03-28T19:45:27",
          "2021-03-28T20:00:30",
          "2021-03-28T20:30:33",
          "2021-03-28T20:45:34",
          "2021-03-28T21:00:43",
          "2021-03-28T21:30:32",
          "2021-03-28T21:45:34",
          "2021-03-28T22:00:44",
          "2021-03-28T22:30:32",
          "2021-03-28T22:45:34",
          "2021-03-28T23:00:42",
          "2021-03-28T23:30:31",
          "2021-03-28T23:45:40",
          "2021-03-29T00:00:43",
          "2021-03-29T00:30:35",
          "2021-03-29T00:45:33",
          "2021-03-29T01:00:42",
          "2021-03-29T01:30:28",
          "2021-03-29T01:45:33",
          "2021-03-29T02:00:44",
          "2021-03-29T02:30:37",
          "2021-03-29T02:45:30",
          "2021-03-29T03:00:45",
          "2021-03-29T03:30:34",
          "2021-03-29T03:45:31",
          "2021-03-29T04:00:45",
          "2021-03-29T04:30:32",
          "2021-03-29T04:45:31",
          "2021-03-29T05:00:46",
          "2021-03-29T05:30:43",
          "2021-03-29T05:45:31",
          "2021-03-29T06:00:47",
          "2021-03-29T06:30:29",
          "2021-03-29T06:45:32",
          "2021-03-29T07:00:42",
          "2021-03-29T07:30:37",
          "2021-03-29T07:45:33",
          "2021-03-29T08:00:46",
          "2021-03-29T08:30:32",
          "2021-03-29T08:45:41",
          "2021-03-29T09:00:49",
          "2021-03-29T09:30:33",
          "2021-03-29T09:45:37",
          "2021-03-29T10:00:50",
          "2021-03-29T10:30:33",
          "2021-03-29T10:45:33",
          "2021-03-29T11:00:49",
          "2021-03-29T11:30:29",
          "2021-03-29T11:45:26",
          "2021-03-29T12:00:47",
          "2021-03-29T12:30:41",
          "2021-03-29T12:45:40",
          "2021-03-29T13:00:43",
          "2021-03-29T13:30:31",
          "2021-03-29T13:45:30",
          "2021-03-29T14:00:36",
          "2021-03-29T14:30:30",
          "2021-03-29T14:45:34",
          "2021-03-29T15:00:42",
          "2021-03-29T15:30:32"
         ],
         "xaxis": "x",
         "y": [
          0.83,
          null,
          0.67,
          0.88,
          0.78,
          0.82,
          0.87,
          1.17,
          1.31,
          2.54,
          2.92,
          2.72,
          1.91,
          1.89,
          1.94,
          2.08,
          2.39,
          3.21,
          2.57,
          2.06,
          1.58,
          1.04,
          0.92,
          0.95,
          0.74,
          0.64,
          0.59,
          0.53,
          0.5,
          0.48,
          0.49,
          0.49,
          0.48,
          0.48,
          0.47,
          0.46,
          0.45,
          0.46,
          0.47,
          0.48,
          0.49,
          0.48,
          0.51,
          0.54,
          0.56,
          0.61,
          0.67,
          0.85,
          1.01,
          1.05,
          1.02,
          1.33,
          1.42,
          1.35,
          1.52,
          1.98,
          2.04,
          1.37,
          1.4,
          1.42,
          1.14,
          1.13,
          1.2,
          1.26,
          1.24,
          1.16,
          0.92,
          0.9,
          0.64,
          0.72,
          0.76,
          0.72,
          0.73
         ],
         "yaxis": "y"
        }
       ],
       "layout": {
        "barmode": "relative",
        "font": {
         "size": 12
        },
        "legend": {
         "tracegroupgap": 0
        },
        "margin": {
         "t": 60
        },
        "template": {
         "data": {
          "bar": [
           {
            "error_x": {
             "color": "#2a3f5f"
            },
            "error_y": {
             "color": "#2a3f5f"
            },
            "marker": {
             "line": {
              "color": "#E5ECF6",
              "width": 0.5
             }
            },
            "type": "bar"
           }
          ],
          "barpolar": [
           {
            "marker": {
             "line": {
              "color": "#E5ECF6",
              "width": 0.5
             }
            },
            "type": "barpolar"
           }
          ],
          "carpet": [
           {
            "aaxis": {
             "endlinecolor": "#2a3f5f",
             "gridcolor": "white",
             "linecolor": "white",
             "minorgridcolor": "white",
             "startlinecolor": "#2a3f5f"
            },
            "baxis": {
             "endlinecolor": "#2a3f5f",
             "gridcolor": "white",
             "linecolor": "white",
             "minorgridcolor": "white",
             "startlinecolor": "#2a3f5f"
            },
            "type": "carpet"
           }
          ],
          "choropleth": [
           {
            "colorbar": {
             "outlinewidth": 0,
             "ticks": ""
            },
            "type": "choropleth"
           }
          ],
          "contour": [
           {
            "colorbar": {
             "outlinewidth": 0,
             "ticks": ""
            },
            "colorscale": [
             [
              0,
              "#0d0887"
             ],
             [
              0.1111111111111111,
              "#46039f"
             ],
             [
              0.2222222222222222,
              "#7201a8"
             ],
             [
              0.3333333333333333,
              "#9c179e"
             ],
             [
              0.4444444444444444,
              "#bd3786"
             ],
             [
              0.5555555555555556,
              "#d8576b"
             ],
             [
              0.6666666666666666,
              "#ed7953"
             ],
             [
              0.7777777777777778,
              "#fb9f3a"
             ],
             [
              0.8888888888888888,
              "#fdca26"
             ],
             [
              1,
              "#f0f921"
             ]
            ],
            "type": "contour"
           }
          ],
          "contourcarpet": [
           {
            "colorbar": {
             "outlinewidth": 0,
             "ticks": ""
            },
            "type": "contourcarpet"
           }
          ],
          "heatmap": [
           {
            "colorbar": {
             "outlinewidth": 0,
             "ticks": ""
            },
            "colorscale": [
             [
              0,
              "#0d0887"
             ],
             [
              0.1111111111111111,
              "#46039f"
             ],
             [
              0.2222222222222222,
              "#7201a8"
             ],
             [
              0.3333333333333333,
              "#9c179e"
             ],
             [
              0.4444444444444444,
              "#bd3786"
             ],
             [
              0.5555555555555556,
              "#d8576b"
             ],
             [
              0.6666666666666666,
              "#ed7953"
             ],
             [
              0.7777777777777778,
              "#fb9f3a"
             ],
             [
              0.8888888888888888,
              "#fdca26"
             ],
             [
              1,
              "#f0f921"
             ]
            ],
            "type": "heatmap"
           }
          ],
          "heatmapgl": [
           {
            "colorbar": {
             "outlinewidth": 0,
             "ticks": ""
            },
            "colorscale": [
             [
              0,
              "#0d0887"
             ],
             [
              0.1111111111111111,
              "#46039f"
             ],
             [
              0.2222222222222222,
              "#7201a8"
             ],
             [
              0.3333333333333333,
              "#9c179e"
             ],
             [
              0.4444444444444444,
              "#bd3786"
             ],
             [
              0.5555555555555556,
              "#d8576b"
             ],
             [
              0.6666666666666666,
              "#ed7953"
             ],
             [
              0.7777777777777778,
              "#fb9f3a"
             ],
             [
              0.8888888888888888,
              "#fdca26"
             ],
             [
              1,
              "#f0f921"
             ]
            ],
            "type": "heatmapgl"
           }
          ],
          "histogram": [
           {
            "marker": {
             "colorbar": {
              "outlinewidth": 0,
              "ticks": ""
             }
            },
            "type": "histogram"
           }
          ],
          "histogram2d": [
           {
            "colorbar": {
             "outlinewidth": 0,
             "ticks": ""
            },
            "colorscale": [
             [
              0,
              "#0d0887"
             ],
             [
              0.1111111111111111,
              "#46039f"
             ],
             [
              0.2222222222222222,
              "#7201a8"
             ],
             [
              0.3333333333333333,
              "#9c179e"
             ],
             [
              0.4444444444444444,
              "#bd3786"
             ],
             [
              0.5555555555555556,
              "#d8576b"
             ],
             [
              0.6666666666666666,
              "#ed7953"
             ],
             [
              0.7777777777777778,
              "#fb9f3a"
             ],
             [
              0.8888888888888888,
              "#fdca26"
             ],
             [
              1,
              "#f0f921"
             ]
            ],
            "type": "histogram2d"
           }
          ],
          "histogram2dcontour": [
           {
            "colorbar": {
             "outlinewidth": 0,
             "ticks": ""
            },
            "colorscale": [
             [
              0,
              "#0d0887"
             ],
             [
              0.1111111111111111,
              "#46039f"
             ],
             [
              0.2222222222222222,
              "#7201a8"
             ],
             [
              0.3333333333333333,
              "#9c179e"
             ],
             [
              0.4444444444444444,
              "#bd3786"
             ],
             [
              0.5555555555555556,
              "#d8576b"
             ],
             [
              0.6666666666666666,
              "#ed7953"
             ],
             [
              0.7777777777777778,
              "#fb9f3a"
             ],
             [
              0.8888888888888888,
              "#fdca26"
             ],
             [
              1,
              "#f0f921"
             ]
            ],
            "type": "histogram2dcontour"
           }
          ],
          "mesh3d": [
           {
            "colorbar": {
             "outlinewidth": 0,
             "ticks": ""
            },
            "type": "mesh3d"
           }
          ],
          "parcoords": [
           {
            "line": {
             "colorbar": {
              "outlinewidth": 0,
              "ticks": ""
             }
            },
            "type": "parcoords"
           }
          ],
          "pie": [
           {
            "automargin": true,
            "type": "pie"
           }
          ],
          "scatter": [
           {
            "marker": {
             "colorbar": {
              "outlinewidth": 0,
              "ticks": ""
             }
            },
            "type": "scatter"
           }
          ],
          "scatter3d": [
           {
            "line": {
             "colorbar": {
              "outlinewidth": 0,
              "ticks": ""
             }
            },
            "marker": {
             "colorbar": {
              "outlinewidth": 0,
              "ticks": ""
             }
            },
            "type": "scatter3d"
           }
          ],
          "scattercarpet": [
           {
            "marker": {
             "colorbar": {
              "outlinewidth": 0,
              "ticks": ""
             }
            },
            "type": "scattercarpet"
           }
          ],
          "scattergeo": [
           {
            "marker": {
             "colorbar": {
              "outlinewidth": 0,
              "ticks": ""
             }
            },
            "type": "scattergeo"
           }
          ],
          "scattergl": [
           {
            "marker": {
             "colorbar": {
              "outlinewidth": 0,
              "ticks": ""
             }
            },
            "type": "scattergl"
           }
          ],
          "scattermapbox": [
           {
            "marker": {
             "colorbar": {
              "outlinewidth": 0,
              "ticks": ""
             }
            },
            "type": "scattermapbox"
           }
          ],
          "scatterpolar": [
           {
            "marker": {
             "colorbar": {
              "outlinewidth": 0,
              "ticks": ""
             }
            },
            "type": "scatterpolar"
           }
          ],
          "scatterpolargl": [
           {
            "marker": {
             "colorbar": {
              "outlinewidth": 0,
              "ticks": ""
             }
            },
            "type": "scatterpolargl"
           }
          ],
          "scatterternary": [
           {
            "marker": {
             "colorbar": {
              "outlinewidth": 0,
              "ticks": ""
             }
            },
            "type": "scatterternary"
           }
          ],
          "surface": [
           {
            "colorbar": {
             "outlinewidth": 0,
             "ticks": ""
            },
            "colorscale": [
             [
              0,
              "#0d0887"
             ],
             [
              0.1111111111111111,
              "#46039f"
             ],
             [
              0.2222222222222222,
              "#7201a8"
             ],
             [
              0.3333333333333333,
              "#9c179e"
             ],
             [
              0.4444444444444444,
              "#bd3786"
             ],
             [
              0.5555555555555556,
              "#d8576b"
             ],
             [
              0.6666666666666666,
              "#ed7953"
             ],
             [
              0.7777777777777778,
              "#fb9f3a"
             ],
             [
              0.8888888888888888,
              "#fdca26"
             ],
             [
              1,
              "#f0f921"
             ]
            ],
            "type": "surface"
           }
          ],
          "table": [
           {
            "cells": {
             "fill": {
              "color": "#EBF0F8"
             },
             "line": {
              "color": "white"
             }
            },
            "header": {
             "fill": {
              "color": "#C8D4E3"
             },
             "line": {
              "color": "white"
             }
            },
            "type": "table"
           }
          ]
         },
         "layout": {
          "annotationdefaults": {
           "arrowcolor": "#2a3f5f",
           "arrowhead": 0,
           "arrowwidth": 1
          },
          "autotypenumbers": "strict",
          "coloraxis": {
           "colorbar": {
            "outlinewidth": 0,
            "ticks": ""
           }
          },
          "colorscale": {
           "diverging": [
            [
             0,
             "#8e0152"
            ],
            [
             0.1,
             "#c51b7d"
            ],
            [
             0.2,
             "#de77ae"
            ],
            [
             0.3,
             "#f1b6da"
            ],
            [
             0.4,
             "#fde0ef"
            ],
            [
             0.5,
             "#f7f7f7"
            ],
            [
             0.6,
             "#e6f5d0"
            ],
            [
             0.7,
             "#b8e186"
            ],
            [
             0.8,
             "#7fbc41"
            ],
            [
             0.9,
             "#4d9221"
            ],
            [
             1,
             "#276419"
            ]
           ],
           "sequential": [
            [
             0,
             "#0d0887"
            ],
            [
             0.1111111111111111,
             "#46039f"
            ],
            [
             0.2222222222222222,
             "#7201a8"
            ],
            [
             0.3333333333333333,
             "#9c179e"
            ],
            [
             0.4444444444444444,
             "#bd3786"
            ],
            [
             0.5555555555555556,
             "#d8576b"
            ],
            [
             0.6666666666666666,
             "#ed7953"
            ],
            [
             0.7777777777777778,
             "#fb9f3a"
            ],
            [
             0.8888888888888888,
             "#fdca26"
            ],
            [
             1,
             "#f0f921"
            ]
           ],
           "sequentialminus": [
            [
             0,
             "#0d0887"
            ],
            [
             0.1111111111111111,
             "#46039f"
            ],
            [
             0.2222222222222222,
             "#7201a8"
            ],
            [
             0.3333333333333333,
             "#9c179e"
            ],
            [
             0.4444444444444444,
             "#bd3786"
            ],
            [
             0.5555555555555556,
             "#d8576b"
            ],
            [
             0.6666666666666666,
             "#ed7953"
            ],
            [
             0.7777777777777778,
             "#fb9f3a"
            ],
            [
             0.8888888888888888,
             "#fdca26"
            ],
            [
             1,
             "#f0f921"
            ]
           ]
          },
          "colorway": [
           "#636efa",
           "#EF553B",
           "#00cc96",
           "#ab63fa",
           "#FFA15A",
           "#19d3f3",
           "#FF6692",
           "#B6E880",
           "#FF97FF",
           "#FECB52"
          ],
          "font": {
           "color": "#2a3f5f"
          },
          "geo": {
           "bgcolor": "white",
           "lakecolor": "white",
           "landcolor": "#E5ECF6",
           "showlakes": true,
           "showland": true,
           "subunitcolor": "white"
          },
          "hoverlabel": {
           "align": "left"
          },
          "hovermode": "closest",
          "mapbox": {
           "style": "light"
          },
          "paper_bgcolor": "white",
          "plot_bgcolor": "#E5ECF6",
          "polar": {
           "angularaxis": {
            "gridcolor": "white",
            "linecolor": "white",
            "ticks": ""
           },
           "bgcolor": "#E5ECF6",
           "radialaxis": {
            "gridcolor": "white",
            "linecolor": "white",
            "ticks": ""
           }
          },
          "scene": {
           "xaxis": {
            "backgroundcolor": "#E5ECF6",
            "gridcolor": "white",
            "gridwidth": 2,
            "linecolor": "white",
            "showbackground": true,
            "ticks": "",
            "zerolinecolor": "white"
           },
           "yaxis": {
            "backgroundcolor": "#E5ECF6",
            "gridcolor": "white",
            "gridwidth": 2,
            "linecolor": "white",
            "showbackground": true,
            "ticks": "",
            "zerolinecolor": "white"
           },
           "zaxis": {
            "backgroundcolor": "#E5ECF6",
            "gridcolor": "white",
            "gridwidth": 2,
            "linecolor": "white",
            "showbackground": true,
            "ticks": "",
            "zerolinecolor": "white"
           }
          },
          "shapedefaults": {
           "line": {
            "color": "#2a3f5f"
           }
          },
          "ternary": {
           "aaxis": {
            "gridcolor": "white",
            "linecolor": "white",
            "ticks": ""
           },
           "baxis": {
            "gridcolor": "white",
            "linecolor": "white",
            "ticks": ""
           },
           "bgcolor": "#E5ECF6",
           "caxis": {
            "gridcolor": "white",
            "linecolor": "white",
            "ticks": ""
           }
          },
          "title": {
           "x": 0.05
          },
          "xaxis": {
           "automargin": true,
           "gridcolor": "white",
           "linecolor": "white",
           "ticks": "",
           "title": {
            "standoff": 15
           },
           "zerolinecolor": "white",
           "zerolinewidth": 2
          },
          "yaxis": {
           "automargin": true,
           "gridcolor": "white",
           "linecolor": "white",
           "ticks": "",
           "title": {
            "standoff": 15
           },
           "zerolinecolor": "white",
           "zerolinewidth": 2
          }
         }
        },
        "xaxis": {
         "anchor": "y",
         "domain": [
          0,
          1
         ],
         "title": {
          "text": "Day"
         }
        },
        "yaxis": {
         "anchor": "x",
         "domain": [
          0,
          1
         ],
         "title": {
          "text": "Sensor reading for CO (micro gram per cubic metre (ug/m3))"
         }
        }
       }
      },
      "text/html": [
       "<div>                            <div id=\"9d9a5dab-b5e0-4b90-9352-09e64d5cffc7\" class=\"plotly-graph-div\" style=\"height:525px; width:100%;\"></div>            <script type=\"text/javascript\">                require([\"plotly\"], function(Plotly) {                    window.PLOTLYENV=window.PLOTLYENV || {};                                    if (document.getElementById(\"9d9a5dab-b5e0-4b90-9352-09e64d5cffc7\")) {                    Plotly.newPlot(                        \"9d9a5dab-b5e0-4b90-9352-09e64d5cffc7\",                        [{\"alignmentgroup\": \"True\", \"bingroup\": \"x\", \"histfunc\": \"avg\", \"hovertemplate\": \"observationDateTime=%{x}<br>avg of co.avgOverTime=%{y}<extra></extra>\", \"legendgroup\": \"\", \"marker\": {\"color\": \"#636efa\"}, \"name\": \"\", \"offsetgroup\": \"\", \"orientation\": \"v\", \"showlegend\": false, \"type\": \"histogram\", \"x\": [\"2021-03-28T15:30:25\", \"2021-03-28T15:45:12\", \"2021-03-28T16:00:32\", \"2021-03-28T16:30:11\", \"2021-03-28T16:45:12\", \"2021-03-28T17:00:22\", \"2021-03-28T17:30:20\", \"2021-03-28T17:45:24\", \"2021-03-28T18:00:30\", \"2021-03-28T18:30:14\", \"2021-03-28T18:45:12\", \"2021-03-28T19:00:16\", \"2021-03-28T19:30:25\", \"2021-03-28T19:45:27\", \"2021-03-28T20:00:30\", \"2021-03-28T20:30:33\", \"2021-03-28T20:45:34\", \"2021-03-28T21:00:43\", \"2021-03-28T21:30:32\", \"2021-03-28T21:45:34\", \"2021-03-28T22:00:44\", \"2021-03-28T22:30:32\", \"2021-03-28T22:45:34\", \"2021-03-28T23:00:42\", \"2021-03-28T23:30:31\", \"2021-03-28T23:45:40\", \"2021-03-29T00:00:43\", \"2021-03-29T00:30:35\", \"2021-03-29T00:45:33\", \"2021-03-29T01:00:42\", \"2021-03-29T01:30:28\", \"2021-03-29T01:45:33\", \"2021-03-29T02:00:44\", \"2021-03-29T02:30:37\", \"2021-03-29T02:45:30\", \"2021-03-29T03:00:45\", \"2021-03-29T03:30:34\", \"2021-03-29T03:45:31\", \"2021-03-29T04:00:45\", \"2021-03-29T04:30:32\", \"2021-03-29T04:45:31\", \"2021-03-29T05:00:46\", \"2021-03-29T05:30:43\", \"2021-03-29T05:45:31\", \"2021-03-29T06:00:47\", \"2021-03-29T06:30:29\", \"2021-03-29T06:45:32\", \"2021-03-29T07:00:42\", \"2021-03-29T07:30:37\", \"2021-03-29T07:45:33\", \"2021-03-29T08:00:46\", \"2021-03-29T08:30:32\", \"2021-03-29T08:45:41\", \"2021-03-29T09:00:49\", \"2021-03-29T09:30:33\", \"2021-03-29T09:45:37\", \"2021-03-29T10:00:50\", \"2021-03-29T10:30:33\", \"2021-03-29T10:45:33\", \"2021-03-29T11:00:49\", \"2021-03-29T11:30:29\", \"2021-03-29T11:45:26\", \"2021-03-29T12:00:47\", \"2021-03-29T12:30:41\", \"2021-03-29T12:45:40\", \"2021-03-29T13:00:43\", \"2021-03-29T13:30:31\", \"2021-03-29T13:45:30\", \"2021-03-29T14:00:36\", \"2021-03-29T14:30:30\", \"2021-03-29T14:45:34\", \"2021-03-29T15:00:42\", \"2021-03-29T15:30:32\"], \"xaxis\": \"x\", \"y\": [0.83, null, 0.67, 0.88, 0.78, 0.82, 0.87, 1.17, 1.31, 2.54, 2.92, 2.72, 1.91, 1.89, 1.94, 2.08, 2.39, 3.21, 2.57, 2.06, 1.58, 1.04, 0.92, 0.95, 0.74, 0.64, 0.59, 0.53, 0.5, 0.48, 0.49, 0.49, 0.48, 0.48, 0.47, 0.46, 0.45, 0.46, 0.47, 0.48, 0.49, 0.48, 0.51, 0.54, 0.56, 0.61, 0.67, 0.85, 1.01, 1.05, 1.02, 1.33, 1.42, 1.35, 1.52, 1.98, 2.04, 1.37, 1.4, 1.42, 1.14, 1.13, 1.2, 1.26, 1.24, 1.16, 0.92, 0.9, 0.64, 0.72, 0.76, 0.72, 0.73], \"yaxis\": \"y\"}],                        {\"barmode\": \"relative\", \"font\": {\"size\": 12}, \"legend\": {\"tracegroupgap\": 0}, \"margin\": {\"t\": 60}, \"template\": {\"data\": {\"bar\": [{\"error_x\": {\"color\": \"#2a3f5f\"}, \"error_y\": {\"color\": \"#2a3f5f\"}, \"marker\": {\"line\": {\"color\": \"#E5ECF6\", \"width\": 0.5}}, \"type\": \"bar\"}], \"barpolar\": [{\"marker\": {\"line\": {\"color\": \"#E5ECF6\", \"width\": 0.5}}, \"type\": \"barpolar\"}], \"carpet\": [{\"aaxis\": {\"endlinecolor\": \"#2a3f5f\", \"gridcolor\": \"white\", \"linecolor\": \"white\", \"minorgridcolor\": \"white\", \"startlinecolor\": \"#2a3f5f\"}, \"baxis\": {\"endlinecolor\": \"#2a3f5f\", \"gridcolor\": \"white\", \"linecolor\": \"white\", \"minorgridcolor\": \"white\", \"startlinecolor\": \"#2a3f5f\"}, \"type\": \"carpet\"}], \"choropleth\": [{\"colorbar\": {\"outlinewidth\": 0, \"ticks\": \"\"}, \"type\": \"choropleth\"}], \"contour\": [{\"colorbar\": {\"outlinewidth\": 0, \"ticks\": \"\"}, \"colorscale\": [[0.0, \"#0d0887\"], [0.1111111111111111, \"#46039f\"], [0.2222222222222222, \"#7201a8\"], [0.3333333333333333, \"#9c179e\"], [0.4444444444444444, \"#bd3786\"], [0.5555555555555556, \"#d8576b\"], [0.6666666666666666, \"#ed7953\"], [0.7777777777777778, \"#fb9f3a\"], [0.8888888888888888, \"#fdca26\"], [1.0, \"#f0f921\"]], \"type\": \"contour\"}], \"contourcarpet\": [{\"colorbar\": {\"outlinewidth\": 0, \"ticks\": \"\"}, \"type\": \"contourcarpet\"}], \"heatmap\": [{\"colorbar\": {\"outlinewidth\": 0, \"ticks\": \"\"}, \"colorscale\": [[0.0, \"#0d0887\"], [0.1111111111111111, \"#46039f\"], [0.2222222222222222, \"#7201a8\"], [0.3333333333333333, \"#9c179e\"], [0.4444444444444444, \"#bd3786\"], [0.5555555555555556, \"#d8576b\"], [0.6666666666666666, \"#ed7953\"], [0.7777777777777778, \"#fb9f3a\"], [0.8888888888888888, \"#fdca26\"], [1.0, \"#f0f921\"]], \"type\": \"heatmap\"}], \"heatmapgl\": [{\"colorbar\": {\"outlinewidth\": 0, \"ticks\": \"\"}, \"colorscale\": [[0.0, \"#0d0887\"], [0.1111111111111111, \"#46039f\"], [0.2222222222222222, \"#7201a8\"], [0.3333333333333333, \"#9c179e\"], [0.4444444444444444, \"#bd3786\"], [0.5555555555555556, \"#d8576b\"], [0.6666666666666666, \"#ed7953\"], [0.7777777777777778, \"#fb9f3a\"], [0.8888888888888888, \"#fdca26\"], [1.0, \"#f0f921\"]], \"type\": \"heatmapgl\"}], \"histogram\": [{\"marker\": {\"colorbar\": {\"outlinewidth\": 0, \"ticks\": \"\"}}, \"type\": \"histogram\"}], \"histogram2d\": [{\"colorbar\": {\"outlinewidth\": 0, \"ticks\": \"\"}, \"colorscale\": [[0.0, \"#0d0887\"], [0.1111111111111111, \"#46039f\"], [0.2222222222222222, \"#7201a8\"], [0.3333333333333333, \"#9c179e\"], [0.4444444444444444, \"#bd3786\"], [0.5555555555555556, \"#d8576b\"], [0.6666666666666666, \"#ed7953\"], [0.7777777777777778, \"#fb9f3a\"], [0.8888888888888888, \"#fdca26\"], [1.0, \"#f0f921\"]], \"type\": \"histogram2d\"}], \"histogram2dcontour\": [{\"colorbar\": {\"outlinewidth\": 0, \"ticks\": \"\"}, \"colorscale\": [[0.0, \"#0d0887\"], [0.1111111111111111, \"#46039f\"], [0.2222222222222222, \"#7201a8\"], [0.3333333333333333, \"#9c179e\"], [0.4444444444444444, \"#bd3786\"], [0.5555555555555556, \"#d8576b\"], [0.6666666666666666, \"#ed7953\"], [0.7777777777777778, \"#fb9f3a\"], [0.8888888888888888, \"#fdca26\"], [1.0, \"#f0f921\"]], \"type\": \"histogram2dcontour\"}], \"mesh3d\": [{\"colorbar\": {\"outlinewidth\": 0, \"ticks\": \"\"}, \"type\": \"mesh3d\"}], \"parcoords\": [{\"line\": {\"colorbar\": {\"outlinewidth\": 0, \"ticks\": \"\"}}, \"type\": \"parcoords\"}], \"pie\": [{\"automargin\": true, \"type\": \"pie\"}], \"scatter\": [{\"marker\": {\"colorbar\": {\"outlinewidth\": 0, \"ticks\": \"\"}}, \"type\": \"scatter\"}], \"scatter3d\": [{\"line\": {\"colorbar\": {\"outlinewidth\": 0, \"ticks\": \"\"}}, \"marker\": {\"colorbar\": {\"outlinewidth\": 0, \"ticks\": \"\"}}, \"type\": \"scatter3d\"}], \"scattercarpet\": [{\"marker\": {\"colorbar\": {\"outlinewidth\": 0, \"ticks\": \"\"}}, \"type\": \"scattercarpet\"}], \"scattergeo\": [{\"marker\": {\"colorbar\": {\"outlinewidth\": 0, \"ticks\": \"\"}}, \"type\": \"scattergeo\"}], \"scattergl\": [{\"marker\": {\"colorbar\": {\"outlinewidth\": 0, \"ticks\": \"\"}}, \"type\": \"scattergl\"}], \"scattermapbox\": [{\"marker\": {\"colorbar\": {\"outlinewidth\": 0, \"ticks\": \"\"}}, \"type\": \"scattermapbox\"}], \"scatterpolar\": [{\"marker\": {\"colorbar\": {\"outlinewidth\": 0, \"ticks\": \"\"}}, \"type\": \"scatterpolar\"}], \"scatterpolargl\": [{\"marker\": {\"colorbar\": {\"outlinewidth\": 0, \"ticks\": \"\"}}, \"type\": \"scatterpolargl\"}], \"scatterternary\": [{\"marker\": {\"colorbar\": {\"outlinewidth\": 0, \"ticks\": \"\"}}, \"type\": \"scatterternary\"}], \"surface\": [{\"colorbar\": {\"outlinewidth\": 0, \"ticks\": \"\"}, \"colorscale\": [[0.0, \"#0d0887\"], [0.1111111111111111, \"#46039f\"], [0.2222222222222222, \"#7201a8\"], [0.3333333333333333, \"#9c179e\"], [0.4444444444444444, \"#bd3786\"], [0.5555555555555556, \"#d8576b\"], [0.6666666666666666, \"#ed7953\"], [0.7777777777777778, \"#fb9f3a\"], [0.8888888888888888, \"#fdca26\"], [1.0, \"#f0f921\"]], \"type\": \"surface\"}], \"table\": [{\"cells\": {\"fill\": {\"color\": \"#EBF0F8\"}, \"line\": {\"color\": \"white\"}}, \"header\": {\"fill\": {\"color\": \"#C8D4E3\"}, \"line\": {\"color\": \"white\"}}, \"type\": \"table\"}]}, \"layout\": {\"annotationdefaults\": {\"arrowcolor\": \"#2a3f5f\", \"arrowhead\": 0, \"arrowwidth\": 1}, \"autotypenumbers\": \"strict\", \"coloraxis\": {\"colorbar\": {\"outlinewidth\": 0, \"ticks\": \"\"}}, \"colorscale\": {\"diverging\": [[0, \"#8e0152\"], [0.1, \"#c51b7d\"], [0.2, \"#de77ae\"], [0.3, \"#f1b6da\"], [0.4, \"#fde0ef\"], [0.5, \"#f7f7f7\"], [0.6, \"#e6f5d0\"], [0.7, \"#b8e186\"], [0.8, \"#7fbc41\"], [0.9, \"#4d9221\"], [1, \"#276419\"]], \"sequential\": [[0.0, \"#0d0887\"], [0.1111111111111111, \"#46039f\"], [0.2222222222222222, \"#7201a8\"], [0.3333333333333333, \"#9c179e\"], [0.4444444444444444, \"#bd3786\"], [0.5555555555555556, \"#d8576b\"], [0.6666666666666666, \"#ed7953\"], [0.7777777777777778, \"#fb9f3a\"], [0.8888888888888888, \"#fdca26\"], [1.0, \"#f0f921\"]], \"sequentialminus\": [[0.0, \"#0d0887\"], [0.1111111111111111, \"#46039f\"], [0.2222222222222222, \"#7201a8\"], [0.3333333333333333, \"#9c179e\"], [0.4444444444444444, \"#bd3786\"], [0.5555555555555556, \"#d8576b\"], [0.6666666666666666, \"#ed7953\"], [0.7777777777777778, \"#fb9f3a\"], [0.8888888888888888, \"#fdca26\"], [1.0, \"#f0f921\"]]}, \"colorway\": [\"#636efa\", \"#EF553B\", \"#00cc96\", \"#ab63fa\", \"#FFA15A\", \"#19d3f3\", \"#FF6692\", \"#B6E880\", \"#FF97FF\", \"#FECB52\"], \"font\": {\"color\": \"#2a3f5f\"}, \"geo\": {\"bgcolor\": \"white\", \"lakecolor\": \"white\", \"landcolor\": \"#E5ECF6\", \"showlakes\": true, \"showland\": true, \"subunitcolor\": \"white\"}, \"hoverlabel\": {\"align\": \"left\"}, \"hovermode\": \"closest\", \"mapbox\": {\"style\": \"light\"}, \"paper_bgcolor\": \"white\", \"plot_bgcolor\": \"#E5ECF6\", \"polar\": {\"angularaxis\": {\"gridcolor\": \"white\", \"linecolor\": \"white\", \"ticks\": \"\"}, \"bgcolor\": \"#E5ECF6\", \"radialaxis\": {\"gridcolor\": \"white\", \"linecolor\": \"white\", \"ticks\": \"\"}}, \"scene\": {\"xaxis\": {\"backgroundcolor\": \"#E5ECF6\", \"gridcolor\": \"white\", \"gridwidth\": 2, \"linecolor\": \"white\", \"showbackground\": true, \"ticks\": \"\", \"zerolinecolor\": \"white\"}, \"yaxis\": {\"backgroundcolor\": \"#E5ECF6\", \"gridcolor\": \"white\", \"gridwidth\": 2, \"linecolor\": \"white\", \"showbackground\": true, \"ticks\": \"\", \"zerolinecolor\": \"white\"}, \"zaxis\": {\"backgroundcolor\": \"#E5ECF6\", \"gridcolor\": \"white\", \"gridwidth\": 2, \"linecolor\": \"white\", \"showbackground\": true, \"ticks\": \"\", \"zerolinecolor\": \"white\"}}, \"shapedefaults\": {\"line\": {\"color\": \"#2a3f5f\"}}, \"ternary\": {\"aaxis\": {\"gridcolor\": \"white\", \"linecolor\": \"white\", \"ticks\": \"\"}, \"baxis\": {\"gridcolor\": \"white\", \"linecolor\": \"white\", \"ticks\": \"\"}, \"bgcolor\": \"#E5ECF6\", \"caxis\": {\"gridcolor\": \"white\", \"linecolor\": \"white\", \"ticks\": \"\"}}, \"title\": {\"x\": 0.05}, \"xaxis\": {\"automargin\": true, \"gridcolor\": \"white\", \"linecolor\": \"white\", \"ticks\": \"\", \"title\": {\"standoff\": 15}, \"zerolinecolor\": \"white\", \"zerolinewidth\": 2}, \"yaxis\": {\"automargin\": true, \"gridcolor\": \"white\", \"linecolor\": \"white\", \"ticks\": \"\", \"title\": {\"standoff\": 15}, \"zerolinecolor\": \"white\", \"zerolinewidth\": 2}}}, \"xaxis\": {\"anchor\": \"y\", \"domain\": [0.0, 1.0], \"title\": {\"text\": \"Day\"}}, \"yaxis\": {\"anchor\": \"x\", \"domain\": [0.0, 1.0], \"title\": {\"text\": \"Sensor reading for CO (micro gram per cubic metre (ug/m3))\"}}},                        {\"responsive\": true}                    ).then(function(){\n",
       "                            \n",
       "var gd = document.getElementById('9d9a5dab-b5e0-4b90-9352-09e64d5cffc7');\n",
       "var x = new MutationObserver(function (mutations, observer) {{\n",
       "        var display = window.getComputedStyle(gd).display;\n",
       "        if (!display || display === 'none') {{\n",
       "            console.log([gd, 'removed!']);\n",
       "            Plotly.purge(gd);\n",
       "            observer.disconnect();\n",
       "        }}\n",
       "}});\n",
       "\n",
       "// Listen for the removal of the full notebook cells\n",
       "var notebookContainer = gd.closest('#notebook-container');\n",
       "if (notebookContainer) {{\n",
       "    x.observe(notebookContainer, {childList: true});\n",
       "}}\n",
       "\n",
       "// Listen for the clearing of the current output cell\n",
       "var outputEl = gd.closest('.output');\n",
       "if (outputEl) {{\n",
       "    x.observe(outputEl, {childList: true});\n",
       "}}\n",
       "\n",
       "                        })                };                });            </script>        </div>"
      ]
     },
     "metadata": {},
     "output_type": "display_data"
    }
   ],
   "source": [
    "timeSeriesVis4('pune','co',2)"
   ]
  },
  {
   "cell_type": "code",
   "execution_count": null,
   "metadata": {},
   "outputs": [],
   "source": []
  }
 ],
 "metadata": {
  "extensions": {
   "jupyter_dashboards": {
    "activeView": "default_view",
    "version": 1,
    "views": {
     "default_view": {
      "cellMargin": 10,
      "defaultCellHeight": 40,
      "maxColumns": 12,
      "name": "active_view",
      "type": "grid"
     }
    }
   }
  },
  "kernelspec": {
   "display_name": "Python 3",
   "language": "python",
   "name": "python3"
  },
  "language_info": {
   "codemirror_mode": {
    "name": "ipython",
    "version": 3
   },
   "file_extension": ".py",
   "mimetype": "text/x-python",
   "name": "python",
   "nbconvert_exporter": "python",
   "pygments_lexer": "ipython3",
   "version": "3.8.5"
  }
 },
 "nbformat": 4,
 "nbformat_minor": 5
}
